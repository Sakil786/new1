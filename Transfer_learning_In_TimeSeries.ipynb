{
  "nbformat": 4,
  "nbformat_minor": 0,
  "metadata": {
    "colab": {
      "name": "Transfer_learning_In_TimeSeries.ipynb",
      "provenance": []
    },
    "kernelspec": {
      "name": "python3",
      "display_name": "Python 3"
    },
    "language_info": {
      "name": "python"
    },
    "accelerator": "GPU",
    "widgets": {
      "application/vnd.jupyter.widget-state+json": {
        "f933a8043c97447f8419ce8d1f17eb32": {
          "model_module": "@jupyter-widgets/controls",
          "model_name": "VBoxModel",
          "model_module_version": "1.5.0",
          "state": {
            "_view_name": "VBoxView",
            "_dom_classes": [],
            "_model_name": "VBoxModel",
            "_view_module": "@jupyter-widgets/controls",
            "_model_module_version": "1.5.0",
            "_view_count": null,
            "_view_module_version": "1.5.0",
            "box_style": "",
            "layout": "IPY_MODEL_91c75795bf68457cba3e0a59e69b563b",
            "_model_module": "@jupyter-widgets/controls",
            "children": [
              "IPY_MODEL_fbd4944cb3004d78a3904f41f058055d",
              "IPY_MODEL_86d516a9c0fe41a9830eeb65e55ff8fd"
            ]
          }
        },
        "91c75795bf68457cba3e0a59e69b563b": {
          "model_module": "@jupyter-widgets/base",
          "model_name": "LayoutModel",
          "model_module_version": "1.2.0",
          "state": {
            "_view_name": "LayoutView",
            "grid_template_rows": null,
            "right": null,
            "justify_content": null,
            "_view_module": "@jupyter-widgets/base",
            "overflow": null,
            "_model_module_version": "1.2.0",
            "_view_count": null,
            "flex_flow": null,
            "width": null,
            "min_width": null,
            "border": null,
            "align_items": null,
            "bottom": null,
            "_model_module": "@jupyter-widgets/base",
            "top": null,
            "grid_column": null,
            "overflow_y": null,
            "overflow_x": null,
            "grid_auto_flow": null,
            "grid_area": null,
            "grid_template_columns": null,
            "flex": null,
            "_model_name": "LayoutModel",
            "justify_items": null,
            "grid_row": null,
            "max_height": null,
            "align_content": null,
            "visibility": null,
            "align_self": null,
            "height": null,
            "min_height": null,
            "padding": null,
            "grid_auto_rows": null,
            "grid_gap": null,
            "max_width": null,
            "order": null,
            "_view_module_version": "1.2.0",
            "grid_template_areas": null,
            "object_position": null,
            "object_fit": null,
            "grid_auto_columns": null,
            "margin": null,
            "display": null,
            "left": null
          }
        },
        "fbd4944cb3004d78a3904f41f058055d": {
          "model_module": "@jupyter-widgets/controls",
          "model_name": "LabelModel",
          "model_module_version": "1.5.0",
          "state": {
            "_view_name": "LabelView",
            "style": "IPY_MODEL_26d12e8845ef41638d1d94f7d6a37ca2",
            "_dom_classes": [],
            "description": "",
            "_model_name": "LabelModel",
            "placeholder": "​",
            "_view_module": "@jupyter-widgets/controls",
            "_model_module_version": "1.5.0",
            "value": " 0.14MB of 0.14MB uploaded (0.00MB deduped)\r",
            "_view_count": null,
            "_view_module_version": "1.5.0",
            "description_tooltip": null,
            "_model_module": "@jupyter-widgets/controls",
            "layout": "IPY_MODEL_88afae044714459bae287bd48d10f241"
          }
        },
        "86d516a9c0fe41a9830eeb65e55ff8fd": {
          "model_module": "@jupyter-widgets/controls",
          "model_name": "FloatProgressModel",
          "model_module_version": "1.5.0",
          "state": {
            "_view_name": "ProgressView",
            "style": "IPY_MODEL_485fdebea3b440c5a7bd79715fb65938",
            "_dom_classes": [],
            "description": "",
            "_model_name": "FloatProgressModel",
            "bar_style": "",
            "max": 1,
            "_view_module": "@jupyter-widgets/controls",
            "_model_module_version": "1.5.0",
            "value": 1,
            "_view_count": null,
            "_view_module_version": "1.5.0",
            "orientation": "horizontal",
            "min": 0,
            "description_tooltip": null,
            "_model_module": "@jupyter-widgets/controls",
            "layout": "IPY_MODEL_6790232ef2694c50ba217ff541c38f1e"
          }
        },
        "26d12e8845ef41638d1d94f7d6a37ca2": {
          "model_module": "@jupyter-widgets/controls",
          "model_name": "DescriptionStyleModel",
          "model_module_version": "1.5.0",
          "state": {
            "_view_name": "StyleView",
            "_model_name": "DescriptionStyleModel",
            "description_width": "",
            "_view_module": "@jupyter-widgets/base",
            "_model_module_version": "1.5.0",
            "_view_count": null,
            "_view_module_version": "1.2.0",
            "_model_module": "@jupyter-widgets/controls"
          }
        },
        "88afae044714459bae287bd48d10f241": {
          "model_module": "@jupyter-widgets/base",
          "model_name": "LayoutModel",
          "model_module_version": "1.2.0",
          "state": {
            "_view_name": "LayoutView",
            "grid_template_rows": null,
            "right": null,
            "justify_content": null,
            "_view_module": "@jupyter-widgets/base",
            "overflow": null,
            "_model_module_version": "1.2.0",
            "_view_count": null,
            "flex_flow": null,
            "width": null,
            "min_width": null,
            "border": null,
            "align_items": null,
            "bottom": null,
            "_model_module": "@jupyter-widgets/base",
            "top": null,
            "grid_column": null,
            "overflow_y": null,
            "overflow_x": null,
            "grid_auto_flow": null,
            "grid_area": null,
            "grid_template_columns": null,
            "flex": null,
            "_model_name": "LayoutModel",
            "justify_items": null,
            "grid_row": null,
            "max_height": null,
            "align_content": null,
            "visibility": null,
            "align_self": null,
            "height": null,
            "min_height": null,
            "padding": null,
            "grid_auto_rows": null,
            "grid_gap": null,
            "max_width": null,
            "order": null,
            "_view_module_version": "1.2.0",
            "grid_template_areas": null,
            "object_position": null,
            "object_fit": null,
            "grid_auto_columns": null,
            "margin": null,
            "display": null,
            "left": null
          }
        },
        "485fdebea3b440c5a7bd79715fb65938": {
          "model_module": "@jupyter-widgets/controls",
          "model_name": "ProgressStyleModel",
          "model_module_version": "1.5.0",
          "state": {
            "_view_name": "StyleView",
            "_model_name": "ProgressStyleModel",
            "description_width": "",
            "_view_module": "@jupyter-widgets/base",
            "_model_module_version": "1.5.0",
            "_view_count": null,
            "_view_module_version": "1.2.0",
            "bar_color": null,
            "_model_module": "@jupyter-widgets/controls"
          }
        },
        "6790232ef2694c50ba217ff541c38f1e": {
          "model_module": "@jupyter-widgets/base",
          "model_name": "LayoutModel",
          "model_module_version": "1.2.0",
          "state": {
            "_view_name": "LayoutView",
            "grid_template_rows": null,
            "right": null,
            "justify_content": null,
            "_view_module": "@jupyter-widgets/base",
            "overflow": null,
            "_model_module_version": "1.2.0",
            "_view_count": null,
            "flex_flow": null,
            "width": null,
            "min_width": null,
            "border": null,
            "align_items": null,
            "bottom": null,
            "_model_module": "@jupyter-widgets/base",
            "top": null,
            "grid_column": null,
            "overflow_y": null,
            "overflow_x": null,
            "grid_auto_flow": null,
            "grid_area": null,
            "grid_template_columns": null,
            "flex": null,
            "_model_name": "LayoutModel",
            "justify_items": null,
            "grid_row": null,
            "max_height": null,
            "align_content": null,
            "visibility": null,
            "align_self": null,
            "height": null,
            "min_height": null,
            "padding": null,
            "grid_auto_rows": null,
            "grid_gap": null,
            "max_width": null,
            "order": null,
            "_view_module_version": "1.2.0",
            "grid_template_areas": null,
            "object_position": null,
            "object_fit": null,
            "grid_auto_columns": null,
            "margin": null,
            "display": null,
            "left": null
          }
        },
        "0355f32459d64205b89750cd68e97db2": {
          "model_module": "@jupyter-widgets/controls",
          "model_name": "VBoxModel",
          "model_module_version": "1.5.0",
          "state": {
            "_view_name": "VBoxView",
            "_dom_classes": [],
            "_model_name": "VBoxModel",
            "_view_module": "@jupyter-widgets/controls",
            "_model_module_version": "1.5.0",
            "_view_count": null,
            "_view_module_version": "1.5.0",
            "box_style": "",
            "layout": "IPY_MODEL_d3895159bb0d4c949905398ef8fe5d7c",
            "_model_module": "@jupyter-widgets/controls",
            "children": [
              "IPY_MODEL_7602bf172e88411aa91123c6f650ab28",
              "IPY_MODEL_aa8d1722e2c54d46956908dfab3aefba"
            ]
          }
        },
        "d3895159bb0d4c949905398ef8fe5d7c": {
          "model_module": "@jupyter-widgets/base",
          "model_name": "LayoutModel",
          "model_module_version": "1.2.0",
          "state": {
            "_view_name": "LayoutView",
            "grid_template_rows": null,
            "right": null,
            "justify_content": null,
            "_view_module": "@jupyter-widgets/base",
            "overflow": null,
            "_model_module_version": "1.2.0",
            "_view_count": null,
            "flex_flow": null,
            "width": null,
            "min_width": null,
            "border": null,
            "align_items": null,
            "bottom": null,
            "_model_module": "@jupyter-widgets/base",
            "top": null,
            "grid_column": null,
            "overflow_y": null,
            "overflow_x": null,
            "grid_auto_flow": null,
            "grid_area": null,
            "grid_template_columns": null,
            "flex": null,
            "_model_name": "LayoutModel",
            "justify_items": null,
            "grid_row": null,
            "max_height": null,
            "align_content": null,
            "visibility": null,
            "align_self": null,
            "height": null,
            "min_height": null,
            "padding": null,
            "grid_auto_rows": null,
            "grid_gap": null,
            "max_width": null,
            "order": null,
            "_view_module_version": "1.2.0",
            "grid_template_areas": null,
            "object_position": null,
            "object_fit": null,
            "grid_auto_columns": null,
            "margin": null,
            "display": null,
            "left": null
          }
        },
        "7602bf172e88411aa91123c6f650ab28": {
          "model_module": "@jupyter-widgets/controls",
          "model_name": "LabelModel",
          "model_module_version": "1.5.0",
          "state": {
            "_view_name": "LabelView",
            "style": "IPY_MODEL_bbd74f2eb1db48f1a86c13efa1d39570",
            "_dom_classes": [],
            "description": "",
            "_model_name": "LabelModel",
            "placeholder": "​",
            "_view_module": "@jupyter-widgets/controls",
            "_model_module_version": "1.5.0",
            "value": " 0.14MB of 0.14MB uploaded (0.00MB deduped)\r",
            "_view_count": null,
            "_view_module_version": "1.5.0",
            "description_tooltip": null,
            "_model_module": "@jupyter-widgets/controls",
            "layout": "IPY_MODEL_401585ea1f4a4f53afbac788a6a11fd8"
          }
        },
        "aa8d1722e2c54d46956908dfab3aefba": {
          "model_module": "@jupyter-widgets/controls",
          "model_name": "FloatProgressModel",
          "model_module_version": "1.5.0",
          "state": {
            "_view_name": "ProgressView",
            "style": "IPY_MODEL_9f04db06470f48bf9036e175e0421730",
            "_dom_classes": [],
            "description": "",
            "_model_name": "FloatProgressModel",
            "bar_style": "",
            "max": 1,
            "_view_module": "@jupyter-widgets/controls",
            "_model_module_version": "1.5.0",
            "value": 1,
            "_view_count": null,
            "_view_module_version": "1.5.0",
            "orientation": "horizontal",
            "min": 0,
            "description_tooltip": null,
            "_model_module": "@jupyter-widgets/controls",
            "layout": "IPY_MODEL_2da79cd63a7449c2acc4350bdb5ef6f7"
          }
        },
        "bbd74f2eb1db48f1a86c13efa1d39570": {
          "model_module": "@jupyter-widgets/controls",
          "model_name": "DescriptionStyleModel",
          "model_module_version": "1.5.0",
          "state": {
            "_view_name": "StyleView",
            "_model_name": "DescriptionStyleModel",
            "description_width": "",
            "_view_module": "@jupyter-widgets/base",
            "_model_module_version": "1.5.0",
            "_view_count": null,
            "_view_module_version": "1.2.0",
            "_model_module": "@jupyter-widgets/controls"
          }
        },
        "401585ea1f4a4f53afbac788a6a11fd8": {
          "model_module": "@jupyter-widgets/base",
          "model_name": "LayoutModel",
          "model_module_version": "1.2.0",
          "state": {
            "_view_name": "LayoutView",
            "grid_template_rows": null,
            "right": null,
            "justify_content": null,
            "_view_module": "@jupyter-widgets/base",
            "overflow": null,
            "_model_module_version": "1.2.0",
            "_view_count": null,
            "flex_flow": null,
            "width": null,
            "min_width": null,
            "border": null,
            "align_items": null,
            "bottom": null,
            "_model_module": "@jupyter-widgets/base",
            "top": null,
            "grid_column": null,
            "overflow_y": null,
            "overflow_x": null,
            "grid_auto_flow": null,
            "grid_area": null,
            "grid_template_columns": null,
            "flex": null,
            "_model_name": "LayoutModel",
            "justify_items": null,
            "grid_row": null,
            "max_height": null,
            "align_content": null,
            "visibility": null,
            "align_self": null,
            "height": null,
            "min_height": null,
            "padding": null,
            "grid_auto_rows": null,
            "grid_gap": null,
            "max_width": null,
            "order": null,
            "_view_module_version": "1.2.0",
            "grid_template_areas": null,
            "object_position": null,
            "object_fit": null,
            "grid_auto_columns": null,
            "margin": null,
            "display": null,
            "left": null
          }
        },
        "9f04db06470f48bf9036e175e0421730": {
          "model_module": "@jupyter-widgets/controls",
          "model_name": "ProgressStyleModel",
          "model_module_version": "1.5.0",
          "state": {
            "_view_name": "StyleView",
            "_model_name": "ProgressStyleModel",
            "description_width": "",
            "_view_module": "@jupyter-widgets/base",
            "_model_module_version": "1.5.0",
            "_view_count": null,
            "_view_module_version": "1.2.0",
            "bar_color": null,
            "_model_module": "@jupyter-widgets/controls"
          }
        },
        "2da79cd63a7449c2acc4350bdb5ef6f7": {
          "model_module": "@jupyter-widgets/base",
          "model_name": "LayoutModel",
          "model_module_version": "1.2.0",
          "state": {
            "_view_name": "LayoutView",
            "grid_template_rows": null,
            "right": null,
            "justify_content": null,
            "_view_module": "@jupyter-widgets/base",
            "overflow": null,
            "_model_module_version": "1.2.0",
            "_view_count": null,
            "flex_flow": null,
            "width": null,
            "min_width": null,
            "border": null,
            "align_items": null,
            "bottom": null,
            "_model_module": "@jupyter-widgets/base",
            "top": null,
            "grid_column": null,
            "overflow_y": null,
            "overflow_x": null,
            "grid_auto_flow": null,
            "grid_area": null,
            "grid_template_columns": null,
            "flex": null,
            "_model_name": "LayoutModel",
            "justify_items": null,
            "grid_row": null,
            "max_height": null,
            "align_content": null,
            "visibility": null,
            "align_self": null,
            "height": null,
            "min_height": null,
            "padding": null,
            "grid_auto_rows": null,
            "grid_gap": null,
            "max_width": null,
            "order": null,
            "_view_module_version": "1.2.0",
            "grid_template_areas": null,
            "object_position": null,
            "object_fit": null,
            "grid_auto_columns": null,
            "margin": null,
            "display": null,
            "left": null
          }
        },
        "85e08d0fb7d94d5f9ae5177837d9b169": {
          "model_module": "@jupyter-widgets/controls",
          "model_name": "VBoxModel",
          "model_module_version": "1.5.0",
          "state": {
            "_view_name": "VBoxView",
            "_dom_classes": [],
            "_model_name": "VBoxModel",
            "_view_module": "@jupyter-widgets/controls",
            "_model_module_version": "1.5.0",
            "_view_count": null,
            "_view_module_version": "1.5.0",
            "box_style": "",
            "layout": "IPY_MODEL_7fbac16eb5df4483ade3aee7cf4d5571",
            "_model_module": "@jupyter-widgets/controls",
            "children": [
              "IPY_MODEL_edd2c608fe6540f3b1602c8bc54b7337",
              "IPY_MODEL_d16d2760f4fc4d3f8db8661e0fc38323"
            ]
          }
        },
        "7fbac16eb5df4483ade3aee7cf4d5571": {
          "model_module": "@jupyter-widgets/base",
          "model_name": "LayoutModel",
          "model_module_version": "1.2.0",
          "state": {
            "_view_name": "LayoutView",
            "grid_template_rows": null,
            "right": null,
            "justify_content": null,
            "_view_module": "@jupyter-widgets/base",
            "overflow": null,
            "_model_module_version": "1.2.0",
            "_view_count": null,
            "flex_flow": null,
            "width": null,
            "min_width": null,
            "border": null,
            "align_items": null,
            "bottom": null,
            "_model_module": "@jupyter-widgets/base",
            "top": null,
            "grid_column": null,
            "overflow_y": null,
            "overflow_x": null,
            "grid_auto_flow": null,
            "grid_area": null,
            "grid_template_columns": null,
            "flex": null,
            "_model_name": "LayoutModel",
            "justify_items": null,
            "grid_row": null,
            "max_height": null,
            "align_content": null,
            "visibility": null,
            "align_self": null,
            "height": null,
            "min_height": null,
            "padding": null,
            "grid_auto_rows": null,
            "grid_gap": null,
            "max_width": null,
            "order": null,
            "_view_module_version": "1.2.0",
            "grid_template_areas": null,
            "object_position": null,
            "object_fit": null,
            "grid_auto_columns": null,
            "margin": null,
            "display": null,
            "left": null
          }
        },
        "edd2c608fe6540f3b1602c8bc54b7337": {
          "model_module": "@jupyter-widgets/controls",
          "model_name": "LabelModel",
          "model_module_version": "1.5.0",
          "state": {
            "_view_name": "LabelView",
            "style": "IPY_MODEL_d44975ee141e4c5fba830ae3600a51e4",
            "_dom_classes": [],
            "description": "",
            "_model_name": "LabelModel",
            "placeholder": "​",
            "_view_module": "@jupyter-widgets/controls",
            "_model_module_version": "1.5.0",
            "value": " 0.14MB of 0.14MB uploaded (0.00MB deduped)\r",
            "_view_count": null,
            "_view_module_version": "1.5.0",
            "description_tooltip": null,
            "_model_module": "@jupyter-widgets/controls",
            "layout": "IPY_MODEL_0f61f4e5120740fb82a8e93fa603d9ca"
          }
        },
        "d16d2760f4fc4d3f8db8661e0fc38323": {
          "model_module": "@jupyter-widgets/controls",
          "model_name": "FloatProgressModel",
          "model_module_version": "1.5.0",
          "state": {
            "_view_name": "ProgressView",
            "style": "IPY_MODEL_03c8a5072aff4f3ba30579506dddf31f",
            "_dom_classes": [],
            "description": "",
            "_model_name": "FloatProgressModel",
            "bar_style": "",
            "max": 1,
            "_view_module": "@jupyter-widgets/controls",
            "_model_module_version": "1.5.0",
            "value": 1,
            "_view_count": null,
            "_view_module_version": "1.5.0",
            "orientation": "horizontal",
            "min": 0,
            "description_tooltip": null,
            "_model_module": "@jupyter-widgets/controls",
            "layout": "IPY_MODEL_4ac523f06f534a64afdeacd56c613998"
          }
        },
        "d44975ee141e4c5fba830ae3600a51e4": {
          "model_module": "@jupyter-widgets/controls",
          "model_name": "DescriptionStyleModel",
          "model_module_version": "1.5.0",
          "state": {
            "_view_name": "StyleView",
            "_model_name": "DescriptionStyleModel",
            "description_width": "",
            "_view_module": "@jupyter-widgets/base",
            "_model_module_version": "1.5.0",
            "_view_count": null,
            "_view_module_version": "1.2.0",
            "_model_module": "@jupyter-widgets/controls"
          }
        },
        "0f61f4e5120740fb82a8e93fa603d9ca": {
          "model_module": "@jupyter-widgets/base",
          "model_name": "LayoutModel",
          "model_module_version": "1.2.0",
          "state": {
            "_view_name": "LayoutView",
            "grid_template_rows": null,
            "right": null,
            "justify_content": null,
            "_view_module": "@jupyter-widgets/base",
            "overflow": null,
            "_model_module_version": "1.2.0",
            "_view_count": null,
            "flex_flow": null,
            "width": null,
            "min_width": null,
            "border": null,
            "align_items": null,
            "bottom": null,
            "_model_module": "@jupyter-widgets/base",
            "top": null,
            "grid_column": null,
            "overflow_y": null,
            "overflow_x": null,
            "grid_auto_flow": null,
            "grid_area": null,
            "grid_template_columns": null,
            "flex": null,
            "_model_name": "LayoutModel",
            "justify_items": null,
            "grid_row": null,
            "max_height": null,
            "align_content": null,
            "visibility": null,
            "align_self": null,
            "height": null,
            "min_height": null,
            "padding": null,
            "grid_auto_rows": null,
            "grid_gap": null,
            "max_width": null,
            "order": null,
            "_view_module_version": "1.2.0",
            "grid_template_areas": null,
            "object_position": null,
            "object_fit": null,
            "grid_auto_columns": null,
            "margin": null,
            "display": null,
            "left": null
          }
        },
        "03c8a5072aff4f3ba30579506dddf31f": {
          "model_module": "@jupyter-widgets/controls",
          "model_name": "ProgressStyleModel",
          "model_module_version": "1.5.0",
          "state": {
            "_view_name": "StyleView",
            "_model_name": "ProgressStyleModel",
            "description_width": "",
            "_view_module": "@jupyter-widgets/base",
            "_model_module_version": "1.5.0",
            "_view_count": null,
            "_view_module_version": "1.2.0",
            "bar_color": null,
            "_model_module": "@jupyter-widgets/controls"
          }
        },
        "4ac523f06f534a64afdeacd56c613998": {
          "model_module": "@jupyter-widgets/base",
          "model_name": "LayoutModel",
          "model_module_version": "1.2.0",
          "state": {
            "_view_name": "LayoutView",
            "grid_template_rows": null,
            "right": null,
            "justify_content": null,
            "_view_module": "@jupyter-widgets/base",
            "overflow": null,
            "_model_module_version": "1.2.0",
            "_view_count": null,
            "flex_flow": null,
            "width": null,
            "min_width": null,
            "border": null,
            "align_items": null,
            "bottom": null,
            "_model_module": "@jupyter-widgets/base",
            "top": null,
            "grid_column": null,
            "overflow_y": null,
            "overflow_x": null,
            "grid_auto_flow": null,
            "grid_area": null,
            "grid_template_columns": null,
            "flex": null,
            "_model_name": "LayoutModel",
            "justify_items": null,
            "grid_row": null,
            "max_height": null,
            "align_content": null,
            "visibility": null,
            "align_self": null,
            "height": null,
            "min_height": null,
            "padding": null,
            "grid_auto_rows": null,
            "grid_gap": null,
            "max_width": null,
            "order": null,
            "_view_module_version": "1.2.0",
            "grid_template_areas": null,
            "object_position": null,
            "object_fit": null,
            "grid_auto_columns": null,
            "margin": null,
            "display": null,
            "left": null
          }
        },
        "45c20b7293324f29b9fa5b9a05e63f14": {
          "model_module": "@jupyter-widgets/controls",
          "model_name": "VBoxModel",
          "model_module_version": "1.5.0",
          "state": {
            "_view_name": "VBoxView",
            "_dom_classes": [],
            "_model_name": "VBoxModel",
            "_view_module": "@jupyter-widgets/controls",
            "_model_module_version": "1.5.0",
            "_view_count": null,
            "_view_module_version": "1.5.0",
            "box_style": "",
            "layout": "IPY_MODEL_3bd998849de34274a5f948921effa58e",
            "_model_module": "@jupyter-widgets/controls",
            "children": [
              "IPY_MODEL_efdd14cb232144f496ca41e91866b994",
              "IPY_MODEL_54f8c4220c2e4931b21c78800176c4f1"
            ]
          }
        },
        "3bd998849de34274a5f948921effa58e": {
          "model_module": "@jupyter-widgets/base",
          "model_name": "LayoutModel",
          "model_module_version": "1.2.0",
          "state": {
            "_view_name": "LayoutView",
            "grid_template_rows": null,
            "right": null,
            "justify_content": null,
            "_view_module": "@jupyter-widgets/base",
            "overflow": null,
            "_model_module_version": "1.2.0",
            "_view_count": null,
            "flex_flow": null,
            "width": null,
            "min_width": null,
            "border": null,
            "align_items": null,
            "bottom": null,
            "_model_module": "@jupyter-widgets/base",
            "top": null,
            "grid_column": null,
            "overflow_y": null,
            "overflow_x": null,
            "grid_auto_flow": null,
            "grid_area": null,
            "grid_template_columns": null,
            "flex": null,
            "_model_name": "LayoutModel",
            "justify_items": null,
            "grid_row": null,
            "max_height": null,
            "align_content": null,
            "visibility": null,
            "align_self": null,
            "height": null,
            "min_height": null,
            "padding": null,
            "grid_auto_rows": null,
            "grid_gap": null,
            "max_width": null,
            "order": null,
            "_view_module_version": "1.2.0",
            "grid_template_areas": null,
            "object_position": null,
            "object_fit": null,
            "grid_auto_columns": null,
            "margin": null,
            "display": null,
            "left": null
          }
        },
        "efdd14cb232144f496ca41e91866b994": {
          "model_module": "@jupyter-widgets/controls",
          "model_name": "LabelModel",
          "model_module_version": "1.5.0",
          "state": {
            "_view_name": "LabelView",
            "style": "IPY_MODEL_cba648ac394a4e00bd9fc7261396cebb",
            "_dom_classes": [],
            "description": "",
            "_model_name": "LabelModel",
            "placeholder": "​",
            "_view_module": "@jupyter-widgets/controls",
            "_model_module_version": "1.5.0",
            "value": " 0.14MB of 0.14MB uploaded (0.00MB deduped)\r",
            "_view_count": null,
            "_view_module_version": "1.5.0",
            "description_tooltip": null,
            "_model_module": "@jupyter-widgets/controls",
            "layout": "IPY_MODEL_c9abfdc765224d919b2c3a318e28b7f9"
          }
        },
        "54f8c4220c2e4931b21c78800176c4f1": {
          "model_module": "@jupyter-widgets/controls",
          "model_name": "FloatProgressModel",
          "model_module_version": "1.5.0",
          "state": {
            "_view_name": "ProgressView",
            "style": "IPY_MODEL_b7cec4fd3f084b2a8b7a1819cb5c0d92",
            "_dom_classes": [],
            "description": "",
            "_model_name": "FloatProgressModel",
            "bar_style": "",
            "max": 1,
            "_view_module": "@jupyter-widgets/controls",
            "_model_module_version": "1.5.0",
            "value": 1,
            "_view_count": null,
            "_view_module_version": "1.5.0",
            "orientation": "horizontal",
            "min": 0,
            "description_tooltip": null,
            "_model_module": "@jupyter-widgets/controls",
            "layout": "IPY_MODEL_7c1a55079a794edaa8c68cb511cc5534"
          }
        },
        "cba648ac394a4e00bd9fc7261396cebb": {
          "model_module": "@jupyter-widgets/controls",
          "model_name": "DescriptionStyleModel",
          "model_module_version": "1.5.0",
          "state": {
            "_view_name": "StyleView",
            "_model_name": "DescriptionStyleModel",
            "description_width": "",
            "_view_module": "@jupyter-widgets/base",
            "_model_module_version": "1.5.0",
            "_view_count": null,
            "_view_module_version": "1.2.0",
            "_model_module": "@jupyter-widgets/controls"
          }
        },
        "c9abfdc765224d919b2c3a318e28b7f9": {
          "model_module": "@jupyter-widgets/base",
          "model_name": "LayoutModel",
          "model_module_version": "1.2.0",
          "state": {
            "_view_name": "LayoutView",
            "grid_template_rows": null,
            "right": null,
            "justify_content": null,
            "_view_module": "@jupyter-widgets/base",
            "overflow": null,
            "_model_module_version": "1.2.0",
            "_view_count": null,
            "flex_flow": null,
            "width": null,
            "min_width": null,
            "border": null,
            "align_items": null,
            "bottom": null,
            "_model_module": "@jupyter-widgets/base",
            "top": null,
            "grid_column": null,
            "overflow_y": null,
            "overflow_x": null,
            "grid_auto_flow": null,
            "grid_area": null,
            "grid_template_columns": null,
            "flex": null,
            "_model_name": "LayoutModel",
            "justify_items": null,
            "grid_row": null,
            "max_height": null,
            "align_content": null,
            "visibility": null,
            "align_self": null,
            "height": null,
            "min_height": null,
            "padding": null,
            "grid_auto_rows": null,
            "grid_gap": null,
            "max_width": null,
            "order": null,
            "_view_module_version": "1.2.0",
            "grid_template_areas": null,
            "object_position": null,
            "object_fit": null,
            "grid_auto_columns": null,
            "margin": null,
            "display": null,
            "left": null
          }
        },
        "b7cec4fd3f084b2a8b7a1819cb5c0d92": {
          "model_module": "@jupyter-widgets/controls",
          "model_name": "ProgressStyleModel",
          "model_module_version": "1.5.0",
          "state": {
            "_view_name": "StyleView",
            "_model_name": "ProgressStyleModel",
            "description_width": "",
            "_view_module": "@jupyter-widgets/base",
            "_model_module_version": "1.5.0",
            "_view_count": null,
            "_view_module_version": "1.2.0",
            "bar_color": null,
            "_model_module": "@jupyter-widgets/controls"
          }
        },
        "7c1a55079a794edaa8c68cb511cc5534": {
          "model_module": "@jupyter-widgets/base",
          "model_name": "LayoutModel",
          "model_module_version": "1.2.0",
          "state": {
            "_view_name": "LayoutView",
            "grid_template_rows": null,
            "right": null,
            "justify_content": null,
            "_view_module": "@jupyter-widgets/base",
            "overflow": null,
            "_model_module_version": "1.2.0",
            "_view_count": null,
            "flex_flow": null,
            "width": null,
            "min_width": null,
            "border": null,
            "align_items": null,
            "bottom": null,
            "_model_module": "@jupyter-widgets/base",
            "top": null,
            "grid_column": null,
            "overflow_y": null,
            "overflow_x": null,
            "grid_auto_flow": null,
            "grid_area": null,
            "grid_template_columns": null,
            "flex": null,
            "_model_name": "LayoutModel",
            "justify_items": null,
            "grid_row": null,
            "max_height": null,
            "align_content": null,
            "visibility": null,
            "align_self": null,
            "height": null,
            "min_height": null,
            "padding": null,
            "grid_auto_rows": null,
            "grid_gap": null,
            "max_width": null,
            "order": null,
            "_view_module_version": "1.2.0",
            "grid_template_areas": null,
            "object_position": null,
            "object_fit": null,
            "grid_auto_columns": null,
            "margin": null,
            "display": null,
            "left": null
          }
        },
        "35381cd28be54193887ea7ed3ca012ee": {
          "model_module": "@jupyter-widgets/controls",
          "model_name": "VBoxModel",
          "model_module_version": "1.5.0",
          "state": {
            "_view_name": "VBoxView",
            "_dom_classes": [],
            "_model_name": "VBoxModel",
            "_view_module": "@jupyter-widgets/controls",
            "_model_module_version": "1.5.0",
            "_view_count": null,
            "_view_module_version": "1.5.0",
            "box_style": "",
            "layout": "IPY_MODEL_01e32187df1347f1b20ca65c48f681f9",
            "_model_module": "@jupyter-widgets/controls",
            "children": [
              "IPY_MODEL_22426bff4a2244788c0d2550d254fb20",
              "IPY_MODEL_59405ac5adf64bfea9d453187c9a6fcd"
            ]
          }
        },
        "01e32187df1347f1b20ca65c48f681f9": {
          "model_module": "@jupyter-widgets/base",
          "model_name": "LayoutModel",
          "model_module_version": "1.2.0",
          "state": {
            "_view_name": "LayoutView",
            "grid_template_rows": null,
            "right": null,
            "justify_content": null,
            "_view_module": "@jupyter-widgets/base",
            "overflow": null,
            "_model_module_version": "1.2.0",
            "_view_count": null,
            "flex_flow": null,
            "width": null,
            "min_width": null,
            "border": null,
            "align_items": null,
            "bottom": null,
            "_model_module": "@jupyter-widgets/base",
            "top": null,
            "grid_column": null,
            "overflow_y": null,
            "overflow_x": null,
            "grid_auto_flow": null,
            "grid_area": null,
            "grid_template_columns": null,
            "flex": null,
            "_model_name": "LayoutModel",
            "justify_items": null,
            "grid_row": null,
            "max_height": null,
            "align_content": null,
            "visibility": null,
            "align_self": null,
            "height": null,
            "min_height": null,
            "padding": null,
            "grid_auto_rows": null,
            "grid_gap": null,
            "max_width": null,
            "order": null,
            "_view_module_version": "1.2.0",
            "grid_template_areas": null,
            "object_position": null,
            "object_fit": null,
            "grid_auto_columns": null,
            "margin": null,
            "display": null,
            "left": null
          }
        },
        "22426bff4a2244788c0d2550d254fb20": {
          "model_module": "@jupyter-widgets/controls",
          "model_name": "LabelModel",
          "model_module_version": "1.5.0",
          "state": {
            "_view_name": "LabelView",
            "style": "IPY_MODEL_2cbb457c810b49188e1799fe421e07e5",
            "_dom_classes": [],
            "description": "",
            "_model_name": "LabelModel",
            "placeholder": "​",
            "_view_module": "@jupyter-widgets/controls",
            "_model_module_version": "1.5.0",
            "value": " 0.01MB of 0.01MB uploaded (0.00MB deduped)\r",
            "_view_count": null,
            "_view_module_version": "1.5.0",
            "description_tooltip": null,
            "_model_module": "@jupyter-widgets/controls",
            "layout": "IPY_MODEL_51756477d8944981bb88ec8a6e11d131"
          }
        },
        "59405ac5adf64bfea9d453187c9a6fcd": {
          "model_module": "@jupyter-widgets/controls",
          "model_name": "FloatProgressModel",
          "model_module_version": "1.5.0",
          "state": {
            "_view_name": "ProgressView",
            "style": "IPY_MODEL_df9da782abaa471490eab26a6891ded7",
            "_dom_classes": [],
            "description": "",
            "_model_name": "FloatProgressModel",
            "bar_style": "",
            "max": 1,
            "_view_module": "@jupyter-widgets/controls",
            "_model_module_version": "1.5.0",
            "value": 1,
            "_view_count": null,
            "_view_module_version": "1.5.0",
            "orientation": "horizontal",
            "min": 0,
            "description_tooltip": null,
            "_model_module": "@jupyter-widgets/controls",
            "layout": "IPY_MODEL_767ca05ab2df436ca9141533464654ac"
          }
        },
        "2cbb457c810b49188e1799fe421e07e5": {
          "model_module": "@jupyter-widgets/controls",
          "model_name": "DescriptionStyleModel",
          "model_module_version": "1.5.0",
          "state": {
            "_view_name": "StyleView",
            "_model_name": "DescriptionStyleModel",
            "description_width": "",
            "_view_module": "@jupyter-widgets/base",
            "_model_module_version": "1.5.0",
            "_view_count": null,
            "_view_module_version": "1.2.0",
            "_model_module": "@jupyter-widgets/controls"
          }
        },
        "51756477d8944981bb88ec8a6e11d131": {
          "model_module": "@jupyter-widgets/base",
          "model_name": "LayoutModel",
          "model_module_version": "1.2.0",
          "state": {
            "_view_name": "LayoutView",
            "grid_template_rows": null,
            "right": null,
            "justify_content": null,
            "_view_module": "@jupyter-widgets/base",
            "overflow": null,
            "_model_module_version": "1.2.0",
            "_view_count": null,
            "flex_flow": null,
            "width": null,
            "min_width": null,
            "border": null,
            "align_items": null,
            "bottom": null,
            "_model_module": "@jupyter-widgets/base",
            "top": null,
            "grid_column": null,
            "overflow_y": null,
            "overflow_x": null,
            "grid_auto_flow": null,
            "grid_area": null,
            "grid_template_columns": null,
            "flex": null,
            "_model_name": "LayoutModel",
            "justify_items": null,
            "grid_row": null,
            "max_height": null,
            "align_content": null,
            "visibility": null,
            "align_self": null,
            "height": null,
            "min_height": null,
            "padding": null,
            "grid_auto_rows": null,
            "grid_gap": null,
            "max_width": null,
            "order": null,
            "_view_module_version": "1.2.0",
            "grid_template_areas": null,
            "object_position": null,
            "object_fit": null,
            "grid_auto_columns": null,
            "margin": null,
            "display": null,
            "left": null
          }
        },
        "df9da782abaa471490eab26a6891ded7": {
          "model_module": "@jupyter-widgets/controls",
          "model_name": "ProgressStyleModel",
          "model_module_version": "1.5.0",
          "state": {
            "_view_name": "StyleView",
            "_model_name": "ProgressStyleModel",
            "description_width": "",
            "_view_module": "@jupyter-widgets/base",
            "_model_module_version": "1.5.0",
            "_view_count": null,
            "_view_module_version": "1.2.0",
            "bar_color": null,
            "_model_module": "@jupyter-widgets/controls"
          }
        },
        "767ca05ab2df436ca9141533464654ac": {
          "model_module": "@jupyter-widgets/base",
          "model_name": "LayoutModel",
          "model_module_version": "1.2.0",
          "state": {
            "_view_name": "LayoutView",
            "grid_template_rows": null,
            "right": null,
            "justify_content": null,
            "_view_module": "@jupyter-widgets/base",
            "overflow": null,
            "_model_module_version": "1.2.0",
            "_view_count": null,
            "flex_flow": null,
            "width": null,
            "min_width": null,
            "border": null,
            "align_items": null,
            "bottom": null,
            "_model_module": "@jupyter-widgets/base",
            "top": null,
            "grid_column": null,
            "overflow_y": null,
            "overflow_x": null,
            "grid_auto_flow": null,
            "grid_area": null,
            "grid_template_columns": null,
            "flex": null,
            "_model_name": "LayoutModel",
            "justify_items": null,
            "grid_row": null,
            "max_height": null,
            "align_content": null,
            "visibility": null,
            "align_self": null,
            "height": null,
            "min_height": null,
            "padding": null,
            "grid_auto_rows": null,
            "grid_gap": null,
            "max_width": null,
            "order": null,
            "_view_module_version": "1.2.0",
            "grid_template_areas": null,
            "object_position": null,
            "object_fit": null,
            "grid_auto_columns": null,
            "margin": null,
            "display": null,
            "left": null
          }
        },
        "9177fa8e865345fabfe61260582ded47": {
          "model_module": "@jupyter-widgets/controls",
          "model_name": "VBoxModel",
          "model_module_version": "1.5.0",
          "state": {
            "_view_name": "VBoxView",
            "_dom_classes": [],
            "_model_name": "VBoxModel",
            "_view_module": "@jupyter-widgets/controls",
            "_model_module_version": "1.5.0",
            "_view_count": null,
            "_view_module_version": "1.5.0",
            "box_style": "",
            "layout": "IPY_MODEL_829f19ee47844a9c88f58448d1600545",
            "_model_module": "@jupyter-widgets/controls",
            "children": [
              "IPY_MODEL_cde3917a2de14e0bb0b8ca644e70839a",
              "IPY_MODEL_6b07732284d64ae983c6d698547b92e7"
            ]
          }
        },
        "829f19ee47844a9c88f58448d1600545": {
          "model_module": "@jupyter-widgets/base",
          "model_name": "LayoutModel",
          "model_module_version": "1.2.0",
          "state": {
            "_view_name": "LayoutView",
            "grid_template_rows": null,
            "right": null,
            "justify_content": null,
            "_view_module": "@jupyter-widgets/base",
            "overflow": null,
            "_model_module_version": "1.2.0",
            "_view_count": null,
            "flex_flow": null,
            "width": null,
            "min_width": null,
            "border": null,
            "align_items": null,
            "bottom": null,
            "_model_module": "@jupyter-widgets/base",
            "top": null,
            "grid_column": null,
            "overflow_y": null,
            "overflow_x": null,
            "grid_auto_flow": null,
            "grid_area": null,
            "grid_template_columns": null,
            "flex": null,
            "_model_name": "LayoutModel",
            "justify_items": null,
            "grid_row": null,
            "max_height": null,
            "align_content": null,
            "visibility": null,
            "align_self": null,
            "height": null,
            "min_height": null,
            "padding": null,
            "grid_auto_rows": null,
            "grid_gap": null,
            "max_width": null,
            "order": null,
            "_view_module_version": "1.2.0",
            "grid_template_areas": null,
            "object_position": null,
            "object_fit": null,
            "grid_auto_columns": null,
            "margin": null,
            "display": null,
            "left": null
          }
        },
        "cde3917a2de14e0bb0b8ca644e70839a": {
          "model_module": "@jupyter-widgets/controls",
          "model_name": "LabelModel",
          "model_module_version": "1.5.0",
          "state": {
            "_view_name": "LabelView",
            "style": "IPY_MODEL_582b76d1348748f6b8e87eeffb86f2b8",
            "_dom_classes": [],
            "description": "",
            "_model_name": "LabelModel",
            "placeholder": "​",
            "_view_module": "@jupyter-widgets/controls",
            "_model_module_version": "1.5.0",
            "value": " 0.01MB of 0.01MB uploaded (0.00MB deduped)\r",
            "_view_count": null,
            "_view_module_version": "1.5.0",
            "description_tooltip": null,
            "_model_module": "@jupyter-widgets/controls",
            "layout": "IPY_MODEL_9c45dd19197b4324941e6c260ffedc74"
          }
        },
        "6b07732284d64ae983c6d698547b92e7": {
          "model_module": "@jupyter-widgets/controls",
          "model_name": "FloatProgressModel",
          "model_module_version": "1.5.0",
          "state": {
            "_view_name": "ProgressView",
            "style": "IPY_MODEL_98361db6855d42b0975af41f0fb0fb9d",
            "_dom_classes": [],
            "description": "",
            "_model_name": "FloatProgressModel",
            "bar_style": "",
            "max": 1,
            "_view_module": "@jupyter-widgets/controls",
            "_model_module_version": "1.5.0",
            "value": 1,
            "_view_count": null,
            "_view_module_version": "1.5.0",
            "orientation": "horizontal",
            "min": 0,
            "description_tooltip": null,
            "_model_module": "@jupyter-widgets/controls",
            "layout": "IPY_MODEL_3cd8eb2bfa26444f9416e5e576279514"
          }
        },
        "582b76d1348748f6b8e87eeffb86f2b8": {
          "model_module": "@jupyter-widgets/controls",
          "model_name": "DescriptionStyleModel",
          "model_module_version": "1.5.0",
          "state": {
            "_view_name": "StyleView",
            "_model_name": "DescriptionStyleModel",
            "description_width": "",
            "_view_module": "@jupyter-widgets/base",
            "_model_module_version": "1.5.0",
            "_view_count": null,
            "_view_module_version": "1.2.0",
            "_model_module": "@jupyter-widgets/controls"
          }
        },
        "9c45dd19197b4324941e6c260ffedc74": {
          "model_module": "@jupyter-widgets/base",
          "model_name": "LayoutModel",
          "model_module_version": "1.2.0",
          "state": {
            "_view_name": "LayoutView",
            "grid_template_rows": null,
            "right": null,
            "justify_content": null,
            "_view_module": "@jupyter-widgets/base",
            "overflow": null,
            "_model_module_version": "1.2.0",
            "_view_count": null,
            "flex_flow": null,
            "width": null,
            "min_width": null,
            "border": null,
            "align_items": null,
            "bottom": null,
            "_model_module": "@jupyter-widgets/base",
            "top": null,
            "grid_column": null,
            "overflow_y": null,
            "overflow_x": null,
            "grid_auto_flow": null,
            "grid_area": null,
            "grid_template_columns": null,
            "flex": null,
            "_model_name": "LayoutModel",
            "justify_items": null,
            "grid_row": null,
            "max_height": null,
            "align_content": null,
            "visibility": null,
            "align_self": null,
            "height": null,
            "min_height": null,
            "padding": null,
            "grid_auto_rows": null,
            "grid_gap": null,
            "max_width": null,
            "order": null,
            "_view_module_version": "1.2.0",
            "grid_template_areas": null,
            "object_position": null,
            "object_fit": null,
            "grid_auto_columns": null,
            "margin": null,
            "display": null,
            "left": null
          }
        },
        "98361db6855d42b0975af41f0fb0fb9d": {
          "model_module": "@jupyter-widgets/controls",
          "model_name": "ProgressStyleModel",
          "model_module_version": "1.5.0",
          "state": {
            "_view_name": "StyleView",
            "_model_name": "ProgressStyleModel",
            "description_width": "",
            "_view_module": "@jupyter-widgets/base",
            "_model_module_version": "1.5.0",
            "_view_count": null,
            "_view_module_version": "1.2.0",
            "bar_color": null,
            "_model_module": "@jupyter-widgets/controls"
          }
        },
        "3cd8eb2bfa26444f9416e5e576279514": {
          "model_module": "@jupyter-widgets/base",
          "model_name": "LayoutModel",
          "model_module_version": "1.2.0",
          "state": {
            "_view_name": "LayoutView",
            "grid_template_rows": null,
            "right": null,
            "justify_content": null,
            "_view_module": "@jupyter-widgets/base",
            "overflow": null,
            "_model_module_version": "1.2.0",
            "_view_count": null,
            "flex_flow": null,
            "width": null,
            "min_width": null,
            "border": null,
            "align_items": null,
            "bottom": null,
            "_model_module": "@jupyter-widgets/base",
            "top": null,
            "grid_column": null,
            "overflow_y": null,
            "overflow_x": null,
            "grid_auto_flow": null,
            "grid_area": null,
            "grid_template_columns": null,
            "flex": null,
            "_model_name": "LayoutModel",
            "justify_items": null,
            "grid_row": null,
            "max_height": null,
            "align_content": null,
            "visibility": null,
            "align_self": null,
            "height": null,
            "min_height": null,
            "padding": null,
            "grid_auto_rows": null,
            "grid_gap": null,
            "max_width": null,
            "order": null,
            "_view_module_version": "1.2.0",
            "grid_template_areas": null,
            "object_position": null,
            "object_fit": null,
            "grid_auto_columns": null,
            "margin": null,
            "display": null,
            "left": null
          }
        },
        "ac281ff3fec743768aeeabaade415ab8": {
          "model_module": "@jupyter-widgets/controls",
          "model_name": "VBoxModel",
          "model_module_version": "1.5.0",
          "state": {
            "_view_name": "VBoxView",
            "_dom_classes": [],
            "_model_name": "VBoxModel",
            "_view_module": "@jupyter-widgets/controls",
            "_model_module_version": "1.5.0",
            "_view_count": null,
            "_view_module_version": "1.5.0",
            "box_style": "",
            "layout": "IPY_MODEL_3ca09bbee2d7485d8d939647af6213ba",
            "_model_module": "@jupyter-widgets/controls",
            "children": [
              "IPY_MODEL_fa8c01d11e054f1a9796b8736bdb4fdf",
              "IPY_MODEL_0a7058f141dc49e3822de78ad5ad0af9"
            ]
          }
        },
        "3ca09bbee2d7485d8d939647af6213ba": {
          "model_module": "@jupyter-widgets/base",
          "model_name": "LayoutModel",
          "model_module_version": "1.2.0",
          "state": {
            "_view_name": "LayoutView",
            "grid_template_rows": null,
            "right": null,
            "justify_content": null,
            "_view_module": "@jupyter-widgets/base",
            "overflow": null,
            "_model_module_version": "1.2.0",
            "_view_count": null,
            "flex_flow": null,
            "width": null,
            "min_width": null,
            "border": null,
            "align_items": null,
            "bottom": null,
            "_model_module": "@jupyter-widgets/base",
            "top": null,
            "grid_column": null,
            "overflow_y": null,
            "overflow_x": null,
            "grid_auto_flow": null,
            "grid_area": null,
            "grid_template_columns": null,
            "flex": null,
            "_model_name": "LayoutModel",
            "justify_items": null,
            "grid_row": null,
            "max_height": null,
            "align_content": null,
            "visibility": null,
            "align_self": null,
            "height": null,
            "min_height": null,
            "padding": null,
            "grid_auto_rows": null,
            "grid_gap": null,
            "max_width": null,
            "order": null,
            "_view_module_version": "1.2.0",
            "grid_template_areas": null,
            "object_position": null,
            "object_fit": null,
            "grid_auto_columns": null,
            "margin": null,
            "display": null,
            "left": null
          }
        },
        "fa8c01d11e054f1a9796b8736bdb4fdf": {
          "model_module": "@jupyter-widgets/controls",
          "model_name": "LabelModel",
          "model_module_version": "1.5.0",
          "state": {
            "_view_name": "LabelView",
            "style": "IPY_MODEL_f969ebb178cd4ca783aad39484cf7c47",
            "_dom_classes": [],
            "description": "",
            "_model_name": "LabelModel",
            "placeholder": "​",
            "_view_module": "@jupyter-widgets/controls",
            "_model_module_version": "1.5.0",
            "value": " 0.01MB of 0.01MB uploaded (0.00MB deduped)\r",
            "_view_count": null,
            "_view_module_version": "1.5.0",
            "description_tooltip": null,
            "_model_module": "@jupyter-widgets/controls",
            "layout": "IPY_MODEL_8cf18973a1974e6c940ecd2b78dd0cc9"
          }
        },
        "0a7058f141dc49e3822de78ad5ad0af9": {
          "model_module": "@jupyter-widgets/controls",
          "model_name": "FloatProgressModel",
          "model_module_version": "1.5.0",
          "state": {
            "_view_name": "ProgressView",
            "style": "IPY_MODEL_5c5dc3ab8baa4f8eb4074c735cfc5b74",
            "_dom_classes": [],
            "description": "",
            "_model_name": "FloatProgressModel",
            "bar_style": "",
            "max": 1,
            "_view_module": "@jupyter-widgets/controls",
            "_model_module_version": "1.5.0",
            "value": 1,
            "_view_count": null,
            "_view_module_version": "1.5.0",
            "orientation": "horizontal",
            "min": 0,
            "description_tooltip": null,
            "_model_module": "@jupyter-widgets/controls",
            "layout": "IPY_MODEL_6f0c32d912914175853357e13a2c6644"
          }
        },
        "f969ebb178cd4ca783aad39484cf7c47": {
          "model_module": "@jupyter-widgets/controls",
          "model_name": "DescriptionStyleModel",
          "model_module_version": "1.5.0",
          "state": {
            "_view_name": "StyleView",
            "_model_name": "DescriptionStyleModel",
            "description_width": "",
            "_view_module": "@jupyter-widgets/base",
            "_model_module_version": "1.5.0",
            "_view_count": null,
            "_view_module_version": "1.2.0",
            "_model_module": "@jupyter-widgets/controls"
          }
        },
        "8cf18973a1974e6c940ecd2b78dd0cc9": {
          "model_module": "@jupyter-widgets/base",
          "model_name": "LayoutModel",
          "model_module_version": "1.2.0",
          "state": {
            "_view_name": "LayoutView",
            "grid_template_rows": null,
            "right": null,
            "justify_content": null,
            "_view_module": "@jupyter-widgets/base",
            "overflow": null,
            "_model_module_version": "1.2.0",
            "_view_count": null,
            "flex_flow": null,
            "width": null,
            "min_width": null,
            "border": null,
            "align_items": null,
            "bottom": null,
            "_model_module": "@jupyter-widgets/base",
            "top": null,
            "grid_column": null,
            "overflow_y": null,
            "overflow_x": null,
            "grid_auto_flow": null,
            "grid_area": null,
            "grid_template_columns": null,
            "flex": null,
            "_model_name": "LayoutModel",
            "justify_items": null,
            "grid_row": null,
            "max_height": null,
            "align_content": null,
            "visibility": null,
            "align_self": null,
            "height": null,
            "min_height": null,
            "padding": null,
            "grid_auto_rows": null,
            "grid_gap": null,
            "max_width": null,
            "order": null,
            "_view_module_version": "1.2.0",
            "grid_template_areas": null,
            "object_position": null,
            "object_fit": null,
            "grid_auto_columns": null,
            "margin": null,
            "display": null,
            "left": null
          }
        },
        "5c5dc3ab8baa4f8eb4074c735cfc5b74": {
          "model_module": "@jupyter-widgets/controls",
          "model_name": "ProgressStyleModel",
          "model_module_version": "1.5.0",
          "state": {
            "_view_name": "StyleView",
            "_model_name": "ProgressStyleModel",
            "description_width": "",
            "_view_module": "@jupyter-widgets/base",
            "_model_module_version": "1.5.0",
            "_view_count": null,
            "_view_module_version": "1.2.0",
            "bar_color": null,
            "_model_module": "@jupyter-widgets/controls"
          }
        },
        "6f0c32d912914175853357e13a2c6644": {
          "model_module": "@jupyter-widgets/base",
          "model_name": "LayoutModel",
          "model_module_version": "1.2.0",
          "state": {
            "_view_name": "LayoutView",
            "grid_template_rows": null,
            "right": null,
            "justify_content": null,
            "_view_module": "@jupyter-widgets/base",
            "overflow": null,
            "_model_module_version": "1.2.0",
            "_view_count": null,
            "flex_flow": null,
            "width": null,
            "min_width": null,
            "border": null,
            "align_items": null,
            "bottom": null,
            "_model_module": "@jupyter-widgets/base",
            "top": null,
            "grid_column": null,
            "overflow_y": null,
            "overflow_x": null,
            "grid_auto_flow": null,
            "grid_area": null,
            "grid_template_columns": null,
            "flex": null,
            "_model_name": "LayoutModel",
            "justify_items": null,
            "grid_row": null,
            "max_height": null,
            "align_content": null,
            "visibility": null,
            "align_self": null,
            "height": null,
            "min_height": null,
            "padding": null,
            "grid_auto_rows": null,
            "grid_gap": null,
            "max_width": null,
            "order": null,
            "_view_module_version": "1.2.0",
            "grid_template_areas": null,
            "object_position": null,
            "object_fit": null,
            "grid_auto_columns": null,
            "margin": null,
            "display": null,
            "left": null
          }
        },
        "9ed8d920ed75415cb879596d137197ae": {
          "model_module": "@jupyter-widgets/controls",
          "model_name": "VBoxModel",
          "model_module_version": "1.5.0",
          "state": {
            "_view_name": "VBoxView",
            "_dom_classes": [],
            "_model_name": "VBoxModel",
            "_view_module": "@jupyter-widgets/controls",
            "_model_module_version": "1.5.0",
            "_view_count": null,
            "_view_module_version": "1.5.0",
            "box_style": "",
            "layout": "IPY_MODEL_19ac6e4954744645b71baa873a14375e",
            "_model_module": "@jupyter-widgets/controls",
            "children": [
              "IPY_MODEL_3d5eb7e197bc472e8da6cb8bf4d77a3c",
              "IPY_MODEL_e9f0cef6296c48809df9050f8faa2fdf"
            ]
          }
        },
        "19ac6e4954744645b71baa873a14375e": {
          "model_module": "@jupyter-widgets/base",
          "model_name": "LayoutModel",
          "model_module_version": "1.2.0",
          "state": {
            "_view_name": "LayoutView",
            "grid_template_rows": null,
            "right": null,
            "justify_content": null,
            "_view_module": "@jupyter-widgets/base",
            "overflow": null,
            "_model_module_version": "1.2.0",
            "_view_count": null,
            "flex_flow": null,
            "width": null,
            "min_width": null,
            "border": null,
            "align_items": null,
            "bottom": null,
            "_model_module": "@jupyter-widgets/base",
            "top": null,
            "grid_column": null,
            "overflow_y": null,
            "overflow_x": null,
            "grid_auto_flow": null,
            "grid_area": null,
            "grid_template_columns": null,
            "flex": null,
            "_model_name": "LayoutModel",
            "justify_items": null,
            "grid_row": null,
            "max_height": null,
            "align_content": null,
            "visibility": null,
            "align_self": null,
            "height": null,
            "min_height": null,
            "padding": null,
            "grid_auto_rows": null,
            "grid_gap": null,
            "max_width": null,
            "order": null,
            "_view_module_version": "1.2.0",
            "grid_template_areas": null,
            "object_position": null,
            "object_fit": null,
            "grid_auto_columns": null,
            "margin": null,
            "display": null,
            "left": null
          }
        },
        "3d5eb7e197bc472e8da6cb8bf4d77a3c": {
          "model_module": "@jupyter-widgets/controls",
          "model_name": "LabelModel",
          "model_module_version": "1.5.0",
          "state": {
            "_view_name": "LabelView",
            "style": "IPY_MODEL_f06e7cb235ca49ef91c9c5fbc3c92d8e",
            "_dom_classes": [],
            "description": "",
            "_model_name": "LabelModel",
            "placeholder": "​",
            "_view_module": "@jupyter-widgets/controls",
            "_model_module_version": "1.5.0",
            "value": " 0.03MB of 0.03MB uploaded (0.00MB deduped)\r",
            "_view_count": null,
            "_view_module_version": "1.5.0",
            "description_tooltip": null,
            "_model_module": "@jupyter-widgets/controls",
            "layout": "IPY_MODEL_f09a9790f9244c138656948e5c72b01a"
          }
        },
        "e9f0cef6296c48809df9050f8faa2fdf": {
          "model_module": "@jupyter-widgets/controls",
          "model_name": "FloatProgressModel",
          "model_module_version": "1.5.0",
          "state": {
            "_view_name": "ProgressView",
            "style": "IPY_MODEL_cac6a12319ee4404988d0cf2089c3c1a",
            "_dom_classes": [],
            "description": "",
            "_model_name": "FloatProgressModel",
            "bar_style": "",
            "max": 1,
            "_view_module": "@jupyter-widgets/controls",
            "_model_module_version": "1.5.0",
            "value": 1,
            "_view_count": null,
            "_view_module_version": "1.5.0",
            "orientation": "horizontal",
            "min": 0,
            "description_tooltip": null,
            "_model_module": "@jupyter-widgets/controls",
            "layout": "IPY_MODEL_89d6e4266bf44d36a456bc3a55d4f786"
          }
        },
        "f06e7cb235ca49ef91c9c5fbc3c92d8e": {
          "model_module": "@jupyter-widgets/controls",
          "model_name": "DescriptionStyleModel",
          "model_module_version": "1.5.0",
          "state": {
            "_view_name": "StyleView",
            "_model_name": "DescriptionStyleModel",
            "description_width": "",
            "_view_module": "@jupyter-widgets/base",
            "_model_module_version": "1.5.0",
            "_view_count": null,
            "_view_module_version": "1.2.0",
            "_model_module": "@jupyter-widgets/controls"
          }
        },
        "f09a9790f9244c138656948e5c72b01a": {
          "model_module": "@jupyter-widgets/base",
          "model_name": "LayoutModel",
          "model_module_version": "1.2.0",
          "state": {
            "_view_name": "LayoutView",
            "grid_template_rows": null,
            "right": null,
            "justify_content": null,
            "_view_module": "@jupyter-widgets/base",
            "overflow": null,
            "_model_module_version": "1.2.0",
            "_view_count": null,
            "flex_flow": null,
            "width": null,
            "min_width": null,
            "border": null,
            "align_items": null,
            "bottom": null,
            "_model_module": "@jupyter-widgets/base",
            "top": null,
            "grid_column": null,
            "overflow_y": null,
            "overflow_x": null,
            "grid_auto_flow": null,
            "grid_area": null,
            "grid_template_columns": null,
            "flex": null,
            "_model_name": "LayoutModel",
            "justify_items": null,
            "grid_row": null,
            "max_height": null,
            "align_content": null,
            "visibility": null,
            "align_self": null,
            "height": null,
            "min_height": null,
            "padding": null,
            "grid_auto_rows": null,
            "grid_gap": null,
            "max_width": null,
            "order": null,
            "_view_module_version": "1.2.0",
            "grid_template_areas": null,
            "object_position": null,
            "object_fit": null,
            "grid_auto_columns": null,
            "margin": null,
            "display": null,
            "left": null
          }
        },
        "cac6a12319ee4404988d0cf2089c3c1a": {
          "model_module": "@jupyter-widgets/controls",
          "model_name": "ProgressStyleModel",
          "model_module_version": "1.5.0",
          "state": {
            "_view_name": "StyleView",
            "_model_name": "ProgressStyleModel",
            "description_width": "",
            "_view_module": "@jupyter-widgets/base",
            "_model_module_version": "1.5.0",
            "_view_count": null,
            "_view_module_version": "1.2.0",
            "bar_color": null,
            "_model_module": "@jupyter-widgets/controls"
          }
        },
        "89d6e4266bf44d36a456bc3a55d4f786": {
          "model_module": "@jupyter-widgets/base",
          "model_name": "LayoutModel",
          "model_module_version": "1.2.0",
          "state": {
            "_view_name": "LayoutView",
            "grid_template_rows": null,
            "right": null,
            "justify_content": null,
            "_view_module": "@jupyter-widgets/base",
            "overflow": null,
            "_model_module_version": "1.2.0",
            "_view_count": null,
            "flex_flow": null,
            "width": null,
            "min_width": null,
            "border": null,
            "align_items": null,
            "bottom": null,
            "_model_module": "@jupyter-widgets/base",
            "top": null,
            "grid_column": null,
            "overflow_y": null,
            "overflow_x": null,
            "grid_auto_flow": null,
            "grid_area": null,
            "grid_template_columns": null,
            "flex": null,
            "_model_name": "LayoutModel",
            "justify_items": null,
            "grid_row": null,
            "max_height": null,
            "align_content": null,
            "visibility": null,
            "align_self": null,
            "height": null,
            "min_height": null,
            "padding": null,
            "grid_auto_rows": null,
            "grid_gap": null,
            "max_width": null,
            "order": null,
            "_view_module_version": "1.2.0",
            "grid_template_areas": null,
            "object_position": null,
            "object_fit": null,
            "grid_auto_columns": null,
            "margin": null,
            "display": null,
            "left": null
          }
        },
        "bc2190a188a84979992251c7db72780d": {
          "model_module": "@jupyter-widgets/controls",
          "model_name": "VBoxModel",
          "model_module_version": "1.5.0",
          "state": {
            "_view_name": "VBoxView",
            "_dom_classes": [],
            "_model_name": "VBoxModel",
            "_view_module": "@jupyter-widgets/controls",
            "_model_module_version": "1.5.0",
            "_view_count": null,
            "_view_module_version": "1.5.0",
            "box_style": "",
            "layout": "IPY_MODEL_faecfa97d55c43599dcd79d163224583",
            "_model_module": "@jupyter-widgets/controls",
            "children": [
              "IPY_MODEL_1b5fba855a174ce88a8ab4bb8fbb8e74",
              "IPY_MODEL_e6fa2fbb32204d70957f746c372c9660"
            ]
          }
        },
        "faecfa97d55c43599dcd79d163224583": {
          "model_module": "@jupyter-widgets/base",
          "model_name": "LayoutModel",
          "model_module_version": "1.2.0",
          "state": {
            "_view_name": "LayoutView",
            "grid_template_rows": null,
            "right": null,
            "justify_content": null,
            "_view_module": "@jupyter-widgets/base",
            "overflow": null,
            "_model_module_version": "1.2.0",
            "_view_count": null,
            "flex_flow": null,
            "width": null,
            "min_width": null,
            "border": null,
            "align_items": null,
            "bottom": null,
            "_model_module": "@jupyter-widgets/base",
            "top": null,
            "grid_column": null,
            "overflow_y": null,
            "overflow_x": null,
            "grid_auto_flow": null,
            "grid_area": null,
            "grid_template_columns": null,
            "flex": null,
            "_model_name": "LayoutModel",
            "justify_items": null,
            "grid_row": null,
            "max_height": null,
            "align_content": null,
            "visibility": null,
            "align_self": null,
            "height": null,
            "min_height": null,
            "padding": null,
            "grid_auto_rows": null,
            "grid_gap": null,
            "max_width": null,
            "order": null,
            "_view_module_version": "1.2.0",
            "grid_template_areas": null,
            "object_position": null,
            "object_fit": null,
            "grid_auto_columns": null,
            "margin": null,
            "display": null,
            "left": null
          }
        },
        "1b5fba855a174ce88a8ab4bb8fbb8e74": {
          "model_module": "@jupyter-widgets/controls",
          "model_name": "LabelModel",
          "model_module_version": "1.5.0",
          "state": {
            "_view_name": "LabelView",
            "style": "IPY_MODEL_dd8fc2d042c143ffa0e4a470640813be",
            "_dom_classes": [],
            "description": "",
            "_model_name": "LabelModel",
            "placeholder": "​",
            "_view_module": "@jupyter-widgets/controls",
            "_model_module_version": "1.5.0",
            "value": " 0.03MB of 0.03MB uploaded (0.00MB deduped)\r",
            "_view_count": null,
            "_view_module_version": "1.5.0",
            "description_tooltip": null,
            "_model_module": "@jupyter-widgets/controls",
            "layout": "IPY_MODEL_26a9ca0efc414f4c8169510af59671dc"
          }
        },
        "e6fa2fbb32204d70957f746c372c9660": {
          "model_module": "@jupyter-widgets/controls",
          "model_name": "FloatProgressModel",
          "model_module_version": "1.5.0",
          "state": {
            "_view_name": "ProgressView",
            "style": "IPY_MODEL_143324d88a3f4fbb9cf821f997d3555a",
            "_dom_classes": [],
            "description": "",
            "_model_name": "FloatProgressModel",
            "bar_style": "",
            "max": 1,
            "_view_module": "@jupyter-widgets/controls",
            "_model_module_version": "1.5.0",
            "value": 1,
            "_view_count": null,
            "_view_module_version": "1.5.0",
            "orientation": "horizontal",
            "min": 0,
            "description_tooltip": null,
            "_model_module": "@jupyter-widgets/controls",
            "layout": "IPY_MODEL_61a57078fa6d4b8a8ec7a150c9749e72"
          }
        },
        "dd8fc2d042c143ffa0e4a470640813be": {
          "model_module": "@jupyter-widgets/controls",
          "model_name": "DescriptionStyleModel",
          "model_module_version": "1.5.0",
          "state": {
            "_view_name": "StyleView",
            "_model_name": "DescriptionStyleModel",
            "description_width": "",
            "_view_module": "@jupyter-widgets/base",
            "_model_module_version": "1.5.0",
            "_view_count": null,
            "_view_module_version": "1.2.0",
            "_model_module": "@jupyter-widgets/controls"
          }
        },
        "26a9ca0efc414f4c8169510af59671dc": {
          "model_module": "@jupyter-widgets/base",
          "model_name": "LayoutModel",
          "model_module_version": "1.2.0",
          "state": {
            "_view_name": "LayoutView",
            "grid_template_rows": null,
            "right": null,
            "justify_content": null,
            "_view_module": "@jupyter-widgets/base",
            "overflow": null,
            "_model_module_version": "1.2.0",
            "_view_count": null,
            "flex_flow": null,
            "width": null,
            "min_width": null,
            "border": null,
            "align_items": null,
            "bottom": null,
            "_model_module": "@jupyter-widgets/base",
            "top": null,
            "grid_column": null,
            "overflow_y": null,
            "overflow_x": null,
            "grid_auto_flow": null,
            "grid_area": null,
            "grid_template_columns": null,
            "flex": null,
            "_model_name": "LayoutModel",
            "justify_items": null,
            "grid_row": null,
            "max_height": null,
            "align_content": null,
            "visibility": null,
            "align_self": null,
            "height": null,
            "min_height": null,
            "padding": null,
            "grid_auto_rows": null,
            "grid_gap": null,
            "max_width": null,
            "order": null,
            "_view_module_version": "1.2.0",
            "grid_template_areas": null,
            "object_position": null,
            "object_fit": null,
            "grid_auto_columns": null,
            "margin": null,
            "display": null,
            "left": null
          }
        },
        "143324d88a3f4fbb9cf821f997d3555a": {
          "model_module": "@jupyter-widgets/controls",
          "model_name": "ProgressStyleModel",
          "model_module_version": "1.5.0",
          "state": {
            "_view_name": "StyleView",
            "_model_name": "ProgressStyleModel",
            "description_width": "",
            "_view_module": "@jupyter-widgets/base",
            "_model_module_version": "1.5.0",
            "_view_count": null,
            "_view_module_version": "1.2.0",
            "bar_color": null,
            "_model_module": "@jupyter-widgets/controls"
          }
        },
        "61a57078fa6d4b8a8ec7a150c9749e72": {
          "model_module": "@jupyter-widgets/base",
          "model_name": "LayoutModel",
          "model_module_version": "1.2.0",
          "state": {
            "_view_name": "LayoutView",
            "grid_template_rows": null,
            "right": null,
            "justify_content": null,
            "_view_module": "@jupyter-widgets/base",
            "overflow": null,
            "_model_module_version": "1.2.0",
            "_view_count": null,
            "flex_flow": null,
            "width": null,
            "min_width": null,
            "border": null,
            "align_items": null,
            "bottom": null,
            "_model_module": "@jupyter-widgets/base",
            "top": null,
            "grid_column": null,
            "overflow_y": null,
            "overflow_x": null,
            "grid_auto_flow": null,
            "grid_area": null,
            "grid_template_columns": null,
            "flex": null,
            "_model_name": "LayoutModel",
            "justify_items": null,
            "grid_row": null,
            "max_height": null,
            "align_content": null,
            "visibility": null,
            "align_self": null,
            "height": null,
            "min_height": null,
            "padding": null,
            "grid_auto_rows": null,
            "grid_gap": null,
            "max_width": null,
            "order": null,
            "_view_module_version": "1.2.0",
            "grid_template_areas": null,
            "object_position": null,
            "object_fit": null,
            "grid_auto_columns": null,
            "margin": null,
            "display": null,
            "left": null
          }
        },
        "41c85d7275fd4d3eb72859ea7e28fa91": {
          "model_module": "@jupyter-widgets/controls",
          "model_name": "VBoxModel",
          "model_module_version": "1.5.0",
          "state": {
            "_view_name": "VBoxView",
            "_dom_classes": [],
            "_model_name": "VBoxModel",
            "_view_module": "@jupyter-widgets/controls",
            "_model_module_version": "1.5.0",
            "_view_count": null,
            "_view_module_version": "1.5.0",
            "box_style": "",
            "layout": "IPY_MODEL_c0261c3648484e89b7201e756745b1a9",
            "_model_module": "@jupyter-widgets/controls",
            "children": [
              "IPY_MODEL_c3db4ced8211465983ecf261142e9335",
              "IPY_MODEL_f6b8247b4f354732a10112333d3af5a7"
            ]
          }
        },
        "c0261c3648484e89b7201e756745b1a9": {
          "model_module": "@jupyter-widgets/base",
          "model_name": "LayoutModel",
          "model_module_version": "1.2.0",
          "state": {
            "_view_name": "LayoutView",
            "grid_template_rows": null,
            "right": null,
            "justify_content": null,
            "_view_module": "@jupyter-widgets/base",
            "overflow": null,
            "_model_module_version": "1.2.0",
            "_view_count": null,
            "flex_flow": null,
            "width": null,
            "min_width": null,
            "border": null,
            "align_items": null,
            "bottom": null,
            "_model_module": "@jupyter-widgets/base",
            "top": null,
            "grid_column": null,
            "overflow_y": null,
            "overflow_x": null,
            "grid_auto_flow": null,
            "grid_area": null,
            "grid_template_columns": null,
            "flex": null,
            "_model_name": "LayoutModel",
            "justify_items": null,
            "grid_row": null,
            "max_height": null,
            "align_content": null,
            "visibility": null,
            "align_self": null,
            "height": null,
            "min_height": null,
            "padding": null,
            "grid_auto_rows": null,
            "grid_gap": null,
            "max_width": null,
            "order": null,
            "_view_module_version": "1.2.0",
            "grid_template_areas": null,
            "object_position": null,
            "object_fit": null,
            "grid_auto_columns": null,
            "margin": null,
            "display": null,
            "left": null
          }
        },
        "c3db4ced8211465983ecf261142e9335": {
          "model_module": "@jupyter-widgets/controls",
          "model_name": "LabelModel",
          "model_module_version": "1.5.0",
          "state": {
            "_view_name": "LabelView",
            "style": "IPY_MODEL_b037ff517d954540849eed6e5dcbda8c",
            "_dom_classes": [],
            "description": "",
            "_model_name": "LabelModel",
            "placeholder": "​",
            "_view_module": "@jupyter-widgets/controls",
            "_model_module_version": "1.5.0",
            "value": " 0.03MB of 0.03MB uploaded (0.00MB deduped)\r",
            "_view_count": null,
            "_view_module_version": "1.5.0",
            "description_tooltip": null,
            "_model_module": "@jupyter-widgets/controls",
            "layout": "IPY_MODEL_f5ffb65f95dd4195bbd82a7b4069b55e"
          }
        },
        "f6b8247b4f354732a10112333d3af5a7": {
          "model_module": "@jupyter-widgets/controls",
          "model_name": "FloatProgressModel",
          "model_module_version": "1.5.0",
          "state": {
            "_view_name": "ProgressView",
            "style": "IPY_MODEL_f33cedbb14694670b7f94d54f5b435ef",
            "_dom_classes": [],
            "description": "",
            "_model_name": "FloatProgressModel",
            "bar_style": "",
            "max": 1,
            "_view_module": "@jupyter-widgets/controls",
            "_model_module_version": "1.5.0",
            "value": 1,
            "_view_count": null,
            "_view_module_version": "1.5.0",
            "orientation": "horizontal",
            "min": 0,
            "description_tooltip": null,
            "_model_module": "@jupyter-widgets/controls",
            "layout": "IPY_MODEL_89b23f276b11412fa18c9ea1fd1822a9"
          }
        },
        "b037ff517d954540849eed6e5dcbda8c": {
          "model_module": "@jupyter-widgets/controls",
          "model_name": "DescriptionStyleModel",
          "model_module_version": "1.5.0",
          "state": {
            "_view_name": "StyleView",
            "_model_name": "DescriptionStyleModel",
            "description_width": "",
            "_view_module": "@jupyter-widgets/base",
            "_model_module_version": "1.5.0",
            "_view_count": null,
            "_view_module_version": "1.2.0",
            "_model_module": "@jupyter-widgets/controls"
          }
        },
        "f5ffb65f95dd4195bbd82a7b4069b55e": {
          "model_module": "@jupyter-widgets/base",
          "model_name": "LayoutModel",
          "model_module_version": "1.2.0",
          "state": {
            "_view_name": "LayoutView",
            "grid_template_rows": null,
            "right": null,
            "justify_content": null,
            "_view_module": "@jupyter-widgets/base",
            "overflow": null,
            "_model_module_version": "1.2.0",
            "_view_count": null,
            "flex_flow": null,
            "width": null,
            "min_width": null,
            "border": null,
            "align_items": null,
            "bottom": null,
            "_model_module": "@jupyter-widgets/base",
            "top": null,
            "grid_column": null,
            "overflow_y": null,
            "overflow_x": null,
            "grid_auto_flow": null,
            "grid_area": null,
            "grid_template_columns": null,
            "flex": null,
            "_model_name": "LayoutModel",
            "justify_items": null,
            "grid_row": null,
            "max_height": null,
            "align_content": null,
            "visibility": null,
            "align_self": null,
            "height": null,
            "min_height": null,
            "padding": null,
            "grid_auto_rows": null,
            "grid_gap": null,
            "max_width": null,
            "order": null,
            "_view_module_version": "1.2.0",
            "grid_template_areas": null,
            "object_position": null,
            "object_fit": null,
            "grid_auto_columns": null,
            "margin": null,
            "display": null,
            "left": null
          }
        },
        "f33cedbb14694670b7f94d54f5b435ef": {
          "model_module": "@jupyter-widgets/controls",
          "model_name": "ProgressStyleModel",
          "model_module_version": "1.5.0",
          "state": {
            "_view_name": "StyleView",
            "_model_name": "ProgressStyleModel",
            "description_width": "",
            "_view_module": "@jupyter-widgets/base",
            "_model_module_version": "1.5.0",
            "_view_count": null,
            "_view_module_version": "1.2.0",
            "bar_color": null,
            "_model_module": "@jupyter-widgets/controls"
          }
        },
        "89b23f276b11412fa18c9ea1fd1822a9": {
          "model_module": "@jupyter-widgets/base",
          "model_name": "LayoutModel",
          "model_module_version": "1.2.0",
          "state": {
            "_view_name": "LayoutView",
            "grid_template_rows": null,
            "right": null,
            "justify_content": null,
            "_view_module": "@jupyter-widgets/base",
            "overflow": null,
            "_model_module_version": "1.2.0",
            "_view_count": null,
            "flex_flow": null,
            "width": null,
            "min_width": null,
            "border": null,
            "align_items": null,
            "bottom": null,
            "_model_module": "@jupyter-widgets/base",
            "top": null,
            "grid_column": null,
            "overflow_y": null,
            "overflow_x": null,
            "grid_auto_flow": null,
            "grid_area": null,
            "grid_template_columns": null,
            "flex": null,
            "_model_name": "LayoutModel",
            "justify_items": null,
            "grid_row": null,
            "max_height": null,
            "align_content": null,
            "visibility": null,
            "align_self": null,
            "height": null,
            "min_height": null,
            "padding": null,
            "grid_auto_rows": null,
            "grid_gap": null,
            "max_width": null,
            "order": null,
            "_view_module_version": "1.2.0",
            "grid_template_areas": null,
            "object_position": null,
            "object_fit": null,
            "grid_auto_columns": null,
            "margin": null,
            "display": null,
            "left": null
          }
        },
        "08adc3695ebd4c5f8c88b5eaab02d80e": {
          "model_module": "@jupyter-widgets/controls",
          "model_name": "VBoxModel",
          "model_module_version": "1.5.0",
          "state": {
            "_view_name": "VBoxView",
            "_dom_classes": [],
            "_model_name": "VBoxModel",
            "_view_module": "@jupyter-widgets/controls",
            "_model_module_version": "1.5.0",
            "_view_count": null,
            "_view_module_version": "1.5.0",
            "box_style": "",
            "layout": "IPY_MODEL_49da82f32f6340e1b123db823ddaa738",
            "_model_module": "@jupyter-widgets/controls",
            "children": [
              "IPY_MODEL_6e79671bec7c4315805459af3828636f",
              "IPY_MODEL_6bb37057e5644b32a9b8e2e9a9648bc6"
            ]
          }
        },
        "49da82f32f6340e1b123db823ddaa738": {
          "model_module": "@jupyter-widgets/base",
          "model_name": "LayoutModel",
          "model_module_version": "1.2.0",
          "state": {
            "_view_name": "LayoutView",
            "grid_template_rows": null,
            "right": null,
            "justify_content": null,
            "_view_module": "@jupyter-widgets/base",
            "overflow": null,
            "_model_module_version": "1.2.0",
            "_view_count": null,
            "flex_flow": null,
            "width": null,
            "min_width": null,
            "border": null,
            "align_items": null,
            "bottom": null,
            "_model_module": "@jupyter-widgets/base",
            "top": null,
            "grid_column": null,
            "overflow_y": null,
            "overflow_x": null,
            "grid_auto_flow": null,
            "grid_area": null,
            "grid_template_columns": null,
            "flex": null,
            "_model_name": "LayoutModel",
            "justify_items": null,
            "grid_row": null,
            "max_height": null,
            "align_content": null,
            "visibility": null,
            "align_self": null,
            "height": null,
            "min_height": null,
            "padding": null,
            "grid_auto_rows": null,
            "grid_gap": null,
            "max_width": null,
            "order": null,
            "_view_module_version": "1.2.0",
            "grid_template_areas": null,
            "object_position": null,
            "object_fit": null,
            "grid_auto_columns": null,
            "margin": null,
            "display": null,
            "left": null
          }
        },
        "6e79671bec7c4315805459af3828636f": {
          "model_module": "@jupyter-widgets/controls",
          "model_name": "LabelModel",
          "model_module_version": "1.5.0",
          "state": {
            "_view_name": "LabelView",
            "style": "IPY_MODEL_339756a1374843eab9616c204dc08aee",
            "_dom_classes": [],
            "description": "",
            "_model_name": "LabelModel",
            "placeholder": "​",
            "_view_module": "@jupyter-widgets/controls",
            "_model_module_version": "1.5.0",
            "value": " 0.03MB of 0.03MB uploaded (0.00MB deduped)\r",
            "_view_count": null,
            "_view_module_version": "1.5.0",
            "description_tooltip": null,
            "_model_module": "@jupyter-widgets/controls",
            "layout": "IPY_MODEL_f59074385f944a8ea434b192a7ce2f47"
          }
        },
        "6bb37057e5644b32a9b8e2e9a9648bc6": {
          "model_module": "@jupyter-widgets/controls",
          "model_name": "FloatProgressModel",
          "model_module_version": "1.5.0",
          "state": {
            "_view_name": "ProgressView",
            "style": "IPY_MODEL_7206a4d2e6eb4032924eff6b294ac494",
            "_dom_classes": [],
            "description": "",
            "_model_name": "FloatProgressModel",
            "bar_style": "",
            "max": 1,
            "_view_module": "@jupyter-widgets/controls",
            "_model_module_version": "1.5.0",
            "value": 1,
            "_view_count": null,
            "_view_module_version": "1.5.0",
            "orientation": "horizontal",
            "min": 0,
            "description_tooltip": null,
            "_model_module": "@jupyter-widgets/controls",
            "layout": "IPY_MODEL_49ec8cdc621240018c8aab6ab86221dc"
          }
        },
        "339756a1374843eab9616c204dc08aee": {
          "model_module": "@jupyter-widgets/controls",
          "model_name": "DescriptionStyleModel",
          "model_module_version": "1.5.0",
          "state": {
            "_view_name": "StyleView",
            "_model_name": "DescriptionStyleModel",
            "description_width": "",
            "_view_module": "@jupyter-widgets/base",
            "_model_module_version": "1.5.0",
            "_view_count": null,
            "_view_module_version": "1.2.0",
            "_model_module": "@jupyter-widgets/controls"
          }
        },
        "f59074385f944a8ea434b192a7ce2f47": {
          "model_module": "@jupyter-widgets/base",
          "model_name": "LayoutModel",
          "model_module_version": "1.2.0",
          "state": {
            "_view_name": "LayoutView",
            "grid_template_rows": null,
            "right": null,
            "justify_content": null,
            "_view_module": "@jupyter-widgets/base",
            "overflow": null,
            "_model_module_version": "1.2.0",
            "_view_count": null,
            "flex_flow": null,
            "width": null,
            "min_width": null,
            "border": null,
            "align_items": null,
            "bottom": null,
            "_model_module": "@jupyter-widgets/base",
            "top": null,
            "grid_column": null,
            "overflow_y": null,
            "overflow_x": null,
            "grid_auto_flow": null,
            "grid_area": null,
            "grid_template_columns": null,
            "flex": null,
            "_model_name": "LayoutModel",
            "justify_items": null,
            "grid_row": null,
            "max_height": null,
            "align_content": null,
            "visibility": null,
            "align_self": null,
            "height": null,
            "min_height": null,
            "padding": null,
            "grid_auto_rows": null,
            "grid_gap": null,
            "max_width": null,
            "order": null,
            "_view_module_version": "1.2.0",
            "grid_template_areas": null,
            "object_position": null,
            "object_fit": null,
            "grid_auto_columns": null,
            "margin": null,
            "display": null,
            "left": null
          }
        },
        "7206a4d2e6eb4032924eff6b294ac494": {
          "model_module": "@jupyter-widgets/controls",
          "model_name": "ProgressStyleModel",
          "model_module_version": "1.5.0",
          "state": {
            "_view_name": "StyleView",
            "_model_name": "ProgressStyleModel",
            "description_width": "",
            "_view_module": "@jupyter-widgets/base",
            "_model_module_version": "1.5.0",
            "_view_count": null,
            "_view_module_version": "1.2.0",
            "bar_color": null,
            "_model_module": "@jupyter-widgets/controls"
          }
        },
        "49ec8cdc621240018c8aab6ab86221dc": {
          "model_module": "@jupyter-widgets/base",
          "model_name": "LayoutModel",
          "model_module_version": "1.2.0",
          "state": {
            "_view_name": "LayoutView",
            "grid_template_rows": null,
            "right": null,
            "justify_content": null,
            "_view_module": "@jupyter-widgets/base",
            "overflow": null,
            "_model_module_version": "1.2.0",
            "_view_count": null,
            "flex_flow": null,
            "width": null,
            "min_width": null,
            "border": null,
            "align_items": null,
            "bottom": null,
            "_model_module": "@jupyter-widgets/base",
            "top": null,
            "grid_column": null,
            "overflow_y": null,
            "overflow_x": null,
            "grid_auto_flow": null,
            "grid_area": null,
            "grid_template_columns": null,
            "flex": null,
            "_model_name": "LayoutModel",
            "justify_items": null,
            "grid_row": null,
            "max_height": null,
            "align_content": null,
            "visibility": null,
            "align_self": null,
            "height": null,
            "min_height": null,
            "padding": null,
            "grid_auto_rows": null,
            "grid_gap": null,
            "max_width": null,
            "order": null,
            "_view_module_version": "1.2.0",
            "grid_template_areas": null,
            "object_position": null,
            "object_fit": null,
            "grid_auto_columns": null,
            "margin": null,
            "display": null,
            "left": null
          }
        },
        "f191e1bc34c746d1aa8b97ce721a2b92": {
          "model_module": "@jupyter-widgets/controls",
          "model_name": "VBoxModel",
          "model_module_version": "1.5.0",
          "state": {
            "_view_name": "VBoxView",
            "_dom_classes": [],
            "_model_name": "VBoxModel",
            "_view_module": "@jupyter-widgets/controls",
            "_model_module_version": "1.5.0",
            "_view_count": null,
            "_view_module_version": "1.5.0",
            "box_style": "",
            "layout": "IPY_MODEL_46415462166e4cd1af3ae1850ec5e822",
            "_model_module": "@jupyter-widgets/controls",
            "children": [
              "IPY_MODEL_c4660e4dfbb84ca4b3139e7dd4b11da1",
              "IPY_MODEL_e0cc6e20dcfb48e7b8ae0dbb31cb70ef"
            ]
          }
        },
        "46415462166e4cd1af3ae1850ec5e822": {
          "model_module": "@jupyter-widgets/base",
          "model_name": "LayoutModel",
          "model_module_version": "1.2.0",
          "state": {
            "_view_name": "LayoutView",
            "grid_template_rows": null,
            "right": null,
            "justify_content": null,
            "_view_module": "@jupyter-widgets/base",
            "overflow": null,
            "_model_module_version": "1.2.0",
            "_view_count": null,
            "flex_flow": null,
            "width": null,
            "min_width": null,
            "border": null,
            "align_items": null,
            "bottom": null,
            "_model_module": "@jupyter-widgets/base",
            "top": null,
            "grid_column": null,
            "overflow_y": null,
            "overflow_x": null,
            "grid_auto_flow": null,
            "grid_area": null,
            "grid_template_columns": null,
            "flex": null,
            "_model_name": "LayoutModel",
            "justify_items": null,
            "grid_row": null,
            "max_height": null,
            "align_content": null,
            "visibility": null,
            "align_self": null,
            "height": null,
            "min_height": null,
            "padding": null,
            "grid_auto_rows": null,
            "grid_gap": null,
            "max_width": null,
            "order": null,
            "_view_module_version": "1.2.0",
            "grid_template_areas": null,
            "object_position": null,
            "object_fit": null,
            "grid_auto_columns": null,
            "margin": null,
            "display": null,
            "left": null
          }
        },
        "c4660e4dfbb84ca4b3139e7dd4b11da1": {
          "model_module": "@jupyter-widgets/controls",
          "model_name": "LabelModel",
          "model_module_version": "1.5.0",
          "state": {
            "_view_name": "LabelView",
            "style": "IPY_MODEL_6f8c0b4c0d5b4afca611af59152d7c33",
            "_dom_classes": [],
            "description": "",
            "_model_name": "LabelModel",
            "placeholder": "​",
            "_view_module": "@jupyter-widgets/controls",
            "_model_module_version": "1.5.0",
            "value": " 0.03MB of 0.03MB uploaded (0.00MB deduped)\r",
            "_view_count": null,
            "_view_module_version": "1.5.0",
            "description_tooltip": null,
            "_model_module": "@jupyter-widgets/controls",
            "layout": "IPY_MODEL_3baea8e6352245be856ad5a4b31048cd"
          }
        },
        "e0cc6e20dcfb48e7b8ae0dbb31cb70ef": {
          "model_module": "@jupyter-widgets/controls",
          "model_name": "FloatProgressModel",
          "model_module_version": "1.5.0",
          "state": {
            "_view_name": "ProgressView",
            "style": "IPY_MODEL_3962561cb8a44070889ce49240f7f4a8",
            "_dom_classes": [],
            "description": "",
            "_model_name": "FloatProgressModel",
            "bar_style": "",
            "max": 1,
            "_view_module": "@jupyter-widgets/controls",
            "_model_module_version": "1.5.0",
            "value": 1,
            "_view_count": null,
            "_view_module_version": "1.5.0",
            "orientation": "horizontal",
            "min": 0,
            "description_tooltip": null,
            "_model_module": "@jupyter-widgets/controls",
            "layout": "IPY_MODEL_ca7e7020e1434f65905490cbcfcd55f3"
          }
        },
        "6f8c0b4c0d5b4afca611af59152d7c33": {
          "model_module": "@jupyter-widgets/controls",
          "model_name": "DescriptionStyleModel",
          "model_module_version": "1.5.0",
          "state": {
            "_view_name": "StyleView",
            "_model_name": "DescriptionStyleModel",
            "description_width": "",
            "_view_module": "@jupyter-widgets/base",
            "_model_module_version": "1.5.0",
            "_view_count": null,
            "_view_module_version": "1.2.0",
            "_model_module": "@jupyter-widgets/controls"
          }
        },
        "3baea8e6352245be856ad5a4b31048cd": {
          "model_module": "@jupyter-widgets/base",
          "model_name": "LayoutModel",
          "model_module_version": "1.2.0",
          "state": {
            "_view_name": "LayoutView",
            "grid_template_rows": null,
            "right": null,
            "justify_content": null,
            "_view_module": "@jupyter-widgets/base",
            "overflow": null,
            "_model_module_version": "1.2.0",
            "_view_count": null,
            "flex_flow": null,
            "width": null,
            "min_width": null,
            "border": null,
            "align_items": null,
            "bottom": null,
            "_model_module": "@jupyter-widgets/base",
            "top": null,
            "grid_column": null,
            "overflow_y": null,
            "overflow_x": null,
            "grid_auto_flow": null,
            "grid_area": null,
            "grid_template_columns": null,
            "flex": null,
            "_model_name": "LayoutModel",
            "justify_items": null,
            "grid_row": null,
            "max_height": null,
            "align_content": null,
            "visibility": null,
            "align_self": null,
            "height": null,
            "min_height": null,
            "padding": null,
            "grid_auto_rows": null,
            "grid_gap": null,
            "max_width": null,
            "order": null,
            "_view_module_version": "1.2.0",
            "grid_template_areas": null,
            "object_position": null,
            "object_fit": null,
            "grid_auto_columns": null,
            "margin": null,
            "display": null,
            "left": null
          }
        },
        "3962561cb8a44070889ce49240f7f4a8": {
          "model_module": "@jupyter-widgets/controls",
          "model_name": "ProgressStyleModel",
          "model_module_version": "1.5.0",
          "state": {
            "_view_name": "StyleView",
            "_model_name": "ProgressStyleModel",
            "description_width": "",
            "_view_module": "@jupyter-widgets/base",
            "_model_module_version": "1.5.0",
            "_view_count": null,
            "_view_module_version": "1.2.0",
            "bar_color": null,
            "_model_module": "@jupyter-widgets/controls"
          }
        },
        "ca7e7020e1434f65905490cbcfcd55f3": {
          "model_module": "@jupyter-widgets/base",
          "model_name": "LayoutModel",
          "model_module_version": "1.2.0",
          "state": {
            "_view_name": "LayoutView",
            "grid_template_rows": null,
            "right": null,
            "justify_content": null,
            "_view_module": "@jupyter-widgets/base",
            "overflow": null,
            "_model_module_version": "1.2.0",
            "_view_count": null,
            "flex_flow": null,
            "width": null,
            "min_width": null,
            "border": null,
            "align_items": null,
            "bottom": null,
            "_model_module": "@jupyter-widgets/base",
            "top": null,
            "grid_column": null,
            "overflow_y": null,
            "overflow_x": null,
            "grid_auto_flow": null,
            "grid_area": null,
            "grid_template_columns": null,
            "flex": null,
            "_model_name": "LayoutModel",
            "justify_items": null,
            "grid_row": null,
            "max_height": null,
            "align_content": null,
            "visibility": null,
            "align_self": null,
            "height": null,
            "min_height": null,
            "padding": null,
            "grid_auto_rows": null,
            "grid_gap": null,
            "max_width": null,
            "order": null,
            "_view_module_version": "1.2.0",
            "grid_template_areas": null,
            "object_position": null,
            "object_fit": null,
            "grid_auto_columns": null,
            "margin": null,
            "display": null,
            "left": null
          }
        },
        "f66c7f5147834176a5f92aa69e5dee07": {
          "model_module": "@jupyter-widgets/controls",
          "model_name": "VBoxModel",
          "model_module_version": "1.5.0",
          "state": {
            "_view_name": "VBoxView",
            "_dom_classes": [],
            "_model_name": "VBoxModel",
            "_view_module": "@jupyter-widgets/controls",
            "_model_module_version": "1.5.0",
            "_view_count": null,
            "_view_module_version": "1.5.0",
            "box_style": "",
            "layout": "IPY_MODEL_9b378d18b5464b6f8201831c2321a19f",
            "_model_module": "@jupyter-widgets/controls",
            "children": [
              "IPY_MODEL_7ae0daf23b0142528ff1d3c13daa1253",
              "IPY_MODEL_ff612819007e467995a3fada915ca7dd"
            ]
          }
        },
        "9b378d18b5464b6f8201831c2321a19f": {
          "model_module": "@jupyter-widgets/base",
          "model_name": "LayoutModel",
          "model_module_version": "1.2.0",
          "state": {
            "_view_name": "LayoutView",
            "grid_template_rows": null,
            "right": null,
            "justify_content": null,
            "_view_module": "@jupyter-widgets/base",
            "overflow": null,
            "_model_module_version": "1.2.0",
            "_view_count": null,
            "flex_flow": null,
            "width": null,
            "min_width": null,
            "border": null,
            "align_items": null,
            "bottom": null,
            "_model_module": "@jupyter-widgets/base",
            "top": null,
            "grid_column": null,
            "overflow_y": null,
            "overflow_x": null,
            "grid_auto_flow": null,
            "grid_area": null,
            "grid_template_columns": null,
            "flex": null,
            "_model_name": "LayoutModel",
            "justify_items": null,
            "grid_row": null,
            "max_height": null,
            "align_content": null,
            "visibility": null,
            "align_self": null,
            "height": null,
            "min_height": null,
            "padding": null,
            "grid_auto_rows": null,
            "grid_gap": null,
            "max_width": null,
            "order": null,
            "_view_module_version": "1.2.0",
            "grid_template_areas": null,
            "object_position": null,
            "object_fit": null,
            "grid_auto_columns": null,
            "margin": null,
            "display": null,
            "left": null
          }
        },
        "7ae0daf23b0142528ff1d3c13daa1253": {
          "model_module": "@jupyter-widgets/controls",
          "model_name": "LabelModel",
          "model_module_version": "1.5.0",
          "state": {
            "_view_name": "LabelView",
            "style": "IPY_MODEL_84d18bd409ef46809107845672b75cdb",
            "_dom_classes": [],
            "description": "",
            "_model_name": "LabelModel",
            "placeholder": "​",
            "_view_module": "@jupyter-widgets/controls",
            "_model_module_version": "1.5.0",
            "value": " 0.03MB of 0.03MB uploaded (0.00MB deduped)\r",
            "_view_count": null,
            "_view_module_version": "1.5.0",
            "description_tooltip": null,
            "_model_module": "@jupyter-widgets/controls",
            "layout": "IPY_MODEL_586cf9c340314961a5cd37b07ec8076d"
          }
        },
        "ff612819007e467995a3fada915ca7dd": {
          "model_module": "@jupyter-widgets/controls",
          "model_name": "FloatProgressModel",
          "model_module_version": "1.5.0",
          "state": {
            "_view_name": "ProgressView",
            "style": "IPY_MODEL_2f90e8f793b6404f9d7b48349f492c6a",
            "_dom_classes": [],
            "description": "",
            "_model_name": "FloatProgressModel",
            "bar_style": "",
            "max": 1,
            "_view_module": "@jupyter-widgets/controls",
            "_model_module_version": "1.5.0",
            "value": 1,
            "_view_count": null,
            "_view_module_version": "1.5.0",
            "orientation": "horizontal",
            "min": 0,
            "description_tooltip": null,
            "_model_module": "@jupyter-widgets/controls",
            "layout": "IPY_MODEL_6370d503130b4fa7b08ad99350f3d740"
          }
        },
        "84d18bd409ef46809107845672b75cdb": {
          "model_module": "@jupyter-widgets/controls",
          "model_name": "DescriptionStyleModel",
          "model_module_version": "1.5.0",
          "state": {
            "_view_name": "StyleView",
            "_model_name": "DescriptionStyleModel",
            "description_width": "",
            "_view_module": "@jupyter-widgets/base",
            "_model_module_version": "1.5.0",
            "_view_count": null,
            "_view_module_version": "1.2.0",
            "_model_module": "@jupyter-widgets/controls"
          }
        },
        "586cf9c340314961a5cd37b07ec8076d": {
          "model_module": "@jupyter-widgets/base",
          "model_name": "LayoutModel",
          "model_module_version": "1.2.0",
          "state": {
            "_view_name": "LayoutView",
            "grid_template_rows": null,
            "right": null,
            "justify_content": null,
            "_view_module": "@jupyter-widgets/base",
            "overflow": null,
            "_model_module_version": "1.2.0",
            "_view_count": null,
            "flex_flow": null,
            "width": null,
            "min_width": null,
            "border": null,
            "align_items": null,
            "bottom": null,
            "_model_module": "@jupyter-widgets/base",
            "top": null,
            "grid_column": null,
            "overflow_y": null,
            "overflow_x": null,
            "grid_auto_flow": null,
            "grid_area": null,
            "grid_template_columns": null,
            "flex": null,
            "_model_name": "LayoutModel",
            "justify_items": null,
            "grid_row": null,
            "max_height": null,
            "align_content": null,
            "visibility": null,
            "align_self": null,
            "height": null,
            "min_height": null,
            "padding": null,
            "grid_auto_rows": null,
            "grid_gap": null,
            "max_width": null,
            "order": null,
            "_view_module_version": "1.2.0",
            "grid_template_areas": null,
            "object_position": null,
            "object_fit": null,
            "grid_auto_columns": null,
            "margin": null,
            "display": null,
            "left": null
          }
        },
        "2f90e8f793b6404f9d7b48349f492c6a": {
          "model_module": "@jupyter-widgets/controls",
          "model_name": "ProgressStyleModel",
          "model_module_version": "1.5.0",
          "state": {
            "_view_name": "StyleView",
            "_model_name": "ProgressStyleModel",
            "description_width": "",
            "_view_module": "@jupyter-widgets/base",
            "_model_module_version": "1.5.0",
            "_view_count": null,
            "_view_module_version": "1.2.0",
            "bar_color": null,
            "_model_module": "@jupyter-widgets/controls"
          }
        },
        "6370d503130b4fa7b08ad99350f3d740": {
          "model_module": "@jupyter-widgets/base",
          "model_name": "LayoutModel",
          "model_module_version": "1.2.0",
          "state": {
            "_view_name": "LayoutView",
            "grid_template_rows": null,
            "right": null,
            "justify_content": null,
            "_view_module": "@jupyter-widgets/base",
            "overflow": null,
            "_model_module_version": "1.2.0",
            "_view_count": null,
            "flex_flow": null,
            "width": null,
            "min_width": null,
            "border": null,
            "align_items": null,
            "bottom": null,
            "_model_module": "@jupyter-widgets/base",
            "top": null,
            "grid_column": null,
            "overflow_y": null,
            "overflow_x": null,
            "grid_auto_flow": null,
            "grid_area": null,
            "grid_template_columns": null,
            "flex": null,
            "_model_name": "LayoutModel",
            "justify_items": null,
            "grid_row": null,
            "max_height": null,
            "align_content": null,
            "visibility": null,
            "align_self": null,
            "height": null,
            "min_height": null,
            "padding": null,
            "grid_auto_rows": null,
            "grid_gap": null,
            "max_width": null,
            "order": null,
            "_view_module_version": "1.2.0",
            "grid_template_areas": null,
            "object_position": null,
            "object_fit": null,
            "grid_auto_columns": null,
            "margin": null,
            "display": null,
            "left": null
          }
        }
      }
    }
  },
  "cells": [
    {
      "cell_type": "code",
      "metadata": {
        "id": "XSylZ1vvxbXW"
      },
      "source": [
        "import os\n",
        "import pandas as pd\n",
        "from google.colab import auth\n",
        "from datetime import datetime"
      ],
      "execution_count": 1,
      "outputs": []
    },
    {
      "cell_type": "code",
      "metadata": {
        "id": "WSDb_oulxl6v"
      },
      "source": [
        "auth.authenticate_user()"
      ],
      "execution_count": 2,
      "outputs": []
    },
    {
      "cell_type": "code",
      "metadata": {
        "colab": {
          "base_uri": "https://localhost:8080/"
        },
        "id": "K5OXFTxwxypa",
        "outputId": "6021f3f8-404d-44e7-a533-785f3998d7fe"
      },
      "source": [
        "!unzip /content/flow-forecast.zip"
      ],
      "execution_count": 3,
      "outputs": [
        {
          "output_type": "stream",
          "text": [
            "Archive:  /content/flow-forecast.zip\n",
            "d37ed04c27cc14b7dc5a66af001255b1a1bb99c7\n",
            "   creating: flow-forecast-master/\n",
            "   creating: flow-forecast-master/.circleci/\n",
            "  inflating: flow-forecast-master/.circleci/config.yml  \n",
            " extracting: flow-forecast-master/.flake8  \n",
            "   creating: flow-forecast-master/.github/\n",
            "  inflating: flow-forecast-master/.github/dependabot.yml  \n",
            "   creating: flow-forecast-master/.github/workflows/\n",
            "  inflating: flow-forecast-master/.github/workflows/python-publish.yml  \n",
            "  inflating: flow-forecast-master/.gitignore  \n",
            "  inflating: flow-forecast-master/LICENSE  \n",
            "  inflating: flow-forecast-master/README.md  \n",
            "   creating: flow-forecast-master/docs/\n",
            "  inflating: flow-forecast-master/docs/Makefile  \n",
            "  inflating: flow-forecast-master/docs/make.bat  \n",
            "  inflating: flow-forecast-master/docs/requirements.txt  \n",
            "   creating: flow-forecast-master/docs/source/\n",
            "  inflating: flow-forecast-master/docs/source/basic_ae.rst  \n",
            "  inflating: flow-forecast-master/docs/source/basic_utils.rst  \n",
            "  inflating: flow-forecast-master/docs/source/buil_dataset.rst  \n",
            "  inflating: flow-forecast-master/docs/source/closest_station.rst  \n",
            "  inflating: flow-forecast-master/docs/source/conf.py  \n",
            "  inflating: flow-forecast-master/docs/source/custom_opt.rst  \n",
            "  inflating: flow-forecast-master/docs/source/custom_types.rst  \n",
            "  inflating: flow-forecast-master/docs/source/data_converter.rst  \n",
            " extracting: flow-forecast-master/docs/source/deployment.rst  \n",
            "  inflating: flow-forecast-master/docs/source/dummy_torch.rst  \n",
            "  inflating: flow-forecast-master/docs/source/evaluator.rst  \n",
            "  inflating: flow-forecast-master/docs/source/explain_model_output.rst  \n",
            "  inflating: flow-forecast-master/docs/source/index.rst  \n",
            "  inflating: flow-forecast-master/docs/source/inference.rst  \n",
            "  inflating: flow-forecast-master/docs/source/informer.rst  \n",
            "  inflating: flow-forecast-master/docs/source/interpolate_preprocess.rst  \n",
            "  inflating: flow-forecast-master/docs/source/long_train.rst  \n",
            "  inflating: flow-forecast-master/docs/source/lower_upper_config.rst  \n",
            "  inflating: flow-forecast-master/docs/source/meta_models.rst  \n",
            "  inflating: flow-forecast-master/docs/source/model.rst  \n",
            "  inflating: flow-forecast-master/docs/source/model_dict_function.rst  \n",
            "  inflating: flow-forecast-master/docs/source/modules.rst  \n",
            "  inflating: flow-forecast-master/docs/source/multi_head_base.rst  \n",
            "  inflating: flow-forecast-master/docs/source/pre_dict.rst  \n",
            "  inflating: flow-forecast-master/docs/source/preprocess_da_rnn.rst  \n",
            "  inflating: flow-forecast-master/docs/source/preprocess_metadata.rst  \n",
            "  inflating: flow-forecast-master/docs/source/process_usgs.rst  \n",
            "  inflating: flow-forecast-master/docs/source/pytorch_loaders.rst  \n",
            "  inflating: flow-forecast-master/docs/source/pytorch_training.rst  \n",
            "  inflating: flow-forecast-master/docs/source/temporal_feats.rst  \n",
            "  inflating: flow-forecast-master/docs/source/time_model.rst  \n",
            "  inflating: flow-forecast-master/docs/source/train_da.rst  \n",
            "  inflating: flow-forecast-master/docs/source/trainer.rst  \n",
            "  inflating: flow-forecast-master/docs/source/training_utils.rst  \n",
            "  inflating: flow-forecast-master/docs/source/transformer_basic.rst  \n",
            "  inflating: flow-forecast-master/docs/source/transformer_bottleneck.rst  \n",
            "  inflating: flow-forecast-master/docs/source/transformer_xl.rst  \n",
            "  inflating: flow-forecast-master/docs/source/utils.rst  \n",
            "  inflating: flow-forecast-master/docs/source/utils_da.rst  \n",
            "   creating: flow-forecast-master/flood_forecast/\n",
            "  inflating: flow-forecast-master/flood_forecast/README.md  \n",
            "   creating: flow-forecast-master/flood_forecast/basic/\n",
            "  inflating: flow-forecast-master/flood_forecast/basic/base_line_methods.py  \n",
            "  inflating: flow-forecast-master/flood_forecast/basic/linear_regression.py  \n",
            "  inflating: flow-forecast-master/flood_forecast/basic/lstm_vanilla.py  \n",
            " extracting: flow-forecast-master/flood_forecast/basic/readme.md  \n",
            "   creating: flow-forecast-master/flood_forecast/custom/\n",
            "  inflating: flow-forecast-master/flood_forecast/custom/custom_activation.py  \n",
            "  inflating: flow-forecast-master/flood_forecast/custom/custom_opt.py  \n",
            "  inflating: flow-forecast-master/flood_forecast/custom/dilate_loss.py  \n",
            "   creating: flow-forecast-master/flood_forecast/da_rnn/\n",
            "  inflating: flow-forecast-master/flood_forecast/da_rnn/README.md  \n",
            "   creating: flow-forecast-master/flood_forecast/da_rnn/checkpoint/\n",
            " extracting: flow-forecast-master/flood_forecast/da_rnn/checkpoint/.gitkeep  \n",
            "  inflating: flow-forecast-master/flood_forecast/da_rnn/checkpoint/decoder.pth  \n",
            "  inflating: flow-forecast-master/flood_forecast/da_rnn/checkpoint/encoder.pth  \n",
            "   creating: flow-forecast-master/flood_forecast/da_rnn/config/\n",
            "  inflating: flow-forecast-master/flood_forecast/da_rnn/config/dec_kwargs.json  \n",
            "  inflating: flow-forecast-master/flood_forecast/da_rnn/config/enc_kwargs.json  \n",
            "  inflating: flow-forecast-master/flood_forecast/da_rnn/constants.py  \n",
            "  inflating: flow-forecast-master/flood_forecast/da_rnn/custom_types.py  \n",
            "  inflating: flow-forecast-master/flood_forecast/da_rnn/main_predict.py  \n",
            "  inflating: flow-forecast-master/flood_forecast/da_rnn/model.py  \n",
            "  inflating: flow-forecast-master/flood_forecast/da_rnn/modules.py  \n",
            "  inflating: flow-forecast-master/flood_forecast/da_rnn/train_da.py  \n",
            "  inflating: flow-forecast-master/flood_forecast/da_rnn/utils.py  \n",
            "   creating: flow-forecast-master/flood_forecast/data_analysis/\n",
            "  inflating: flow-forecast-master/flood_forecast/data_analysis/Flood Severity Info.ipynb  \n",
            "   creating: flow-forecast-master/flood_forecast/deployment/\n",
            "  inflating: flow-forecast-master/flood_forecast/deployment/inference.py  \n",
            "  inflating: flow-forecast-master/flood_forecast/evaluator.py  \n",
            "  inflating: flow-forecast-master/flood_forecast/explain_model_output.py  \n",
            "   creating: flow-forecast-master/flood_forecast/gcp_integration/\n",
            "  inflating: flow-forecast-master/flood_forecast/gcp_integration/basic_utils.py  \n",
            "  inflating: flow-forecast-master/flood_forecast/long_train.py  \n",
            "   creating: flow-forecast-master/flood_forecast/meta_models/\n",
            "  inflating: flow-forecast-master/flood_forecast/meta_models/basic_ae.py  \n",
            "  inflating: flow-forecast-master/flood_forecast/meta_models/merging_model.py  \n",
            "  inflating: flow-forecast-master/flood_forecast/meta_train.py  \n",
            "  inflating: flow-forecast-master/flood_forecast/model_dict_function.py  \n",
            "  inflating: flow-forecast-master/flood_forecast/plot_functions.py  \n",
            "  inflating: flow-forecast-master/flood_forecast/pre_dict.py  \n",
            "   creating: flow-forecast-master/flood_forecast/preprocessing/\n",
            "  inflating: flow-forecast-master/flood_forecast/preprocessing/buil_dataset.py  \n",
            "  inflating: flow-forecast-master/flood_forecast/preprocessing/closest_station.py  \n",
            "  inflating: flow-forecast-master/flood_forecast/preprocessing/data_converter.py  \n",
            "  inflating: flow-forecast-master/flood_forecast/preprocessing/eco_gage_set.py  \n",
            "  inflating: flow-forecast-master/flood_forecast/preprocessing/interpolate_preprocess.py  \n",
            "  inflating: flow-forecast-master/flood_forecast/preprocessing/preprocess_da_rnn.py  \n",
            "  inflating: flow-forecast-master/flood_forecast/preprocessing/preprocess_metadata.py  \n",
            "  inflating: flow-forecast-master/flood_forecast/preprocessing/process_usgs.py  \n",
            "  inflating: flow-forecast-master/flood_forecast/preprocessing/pytorch_loaders.py  \n",
            "  inflating: flow-forecast-master/flood_forecast/preprocessing/temporal_feats.py  \n",
            "   creating: flow-forecast-master/flood_forecast/preprocessing/virus_dataset/\n",
            " extracting: flow-forecast-master/flood_forecast/preprocessing/virus_dataset/.gitkeep  \n",
            "  inflating: flow-forecast-master/flood_forecast/pytorch_training.py  \n",
            "  inflating: flow-forecast-master/flood_forecast/series_id_helper.py  \n",
            "  inflating: flow-forecast-master/flood_forecast/temporal_decoding.py  \n",
            "  inflating: flow-forecast-master/flood_forecast/time_model.py  \n",
            "  inflating: flow-forecast-master/flood_forecast/trainer.py  \n",
            "  inflating: flow-forecast-master/flood_forecast/training_utils.py  \n",
            "   creating: flow-forecast-master/flood_forecast/transformer_xl/\n",
            "  inflating: flow-forecast-master/flood_forecast/transformer_xl/attn.py  \n",
            "  inflating: flow-forecast-master/flood_forecast/transformer_xl/data_embedding.py  \n",
            "  inflating: flow-forecast-master/flood_forecast/transformer_xl/dummy_torch.py  \n",
            "  inflating: flow-forecast-master/flood_forecast/transformer_xl/informer.py  \n",
            "  inflating: flow-forecast-master/flood_forecast/transformer_xl/lower_upper_config.py  \n",
            "  inflating: flow-forecast-master/flood_forecast/transformer_xl/masks.py  \n",
            "  inflating: flow-forecast-master/flood_forecast/transformer_xl/multi_head_base.py  \n",
            "  inflating: flow-forecast-master/flood_forecast/transformer_xl/transformer_basic.py  \n",
            "  inflating: flow-forecast-master/flood_forecast/transformer_xl/transformer_bottleneck.py  \n",
            "  inflating: flow-forecast-master/flood_forecast/transformer_xl/transformer_xl.py  \n",
            "  inflating: flow-forecast-master/flood_forecast/utils.py  \n",
            "  inflating: flow-forecast-master/requirements.txt  \n",
            "  inflating: flow-forecast-master/setup.py  \n",
            "  inflating: flow-forecast-master/site_metadata.json  \n",
            "   creating: flow-forecast-master/tests/\n",
            " extracting: flow-forecast-master/tests/__init__.py  \n",
            "  inflating: flow-forecast-master/tests/auto_encoder.json  \n",
            "  inflating: flow-forecast-master/tests/config.json  \n",
            "  inflating: flow-forecast-master/tests/custom_encode.json  \n",
            "  inflating: flow-forecast-master/tests/da_meta.json  \n",
            "  inflating: flow-forecast-master/tests/da_rnn.json  \n",
            "  inflating: flow-forecast-master/tests/da_rnn_probabilistic.json  \n",
            "  inflating: flow-forecast-master/tests/data_format_tests.py  \n",
            "  inflating: flow-forecast-master/tests/data_loader_tests.py  \n",
            "  inflating: flow-forecast-master/tests/decoder_test.json  \n",
            "  inflating: flow-forecast-master/tests/full_transformer.json  \n",
            "  inflating: flow-forecast-master/tests/lstm_probabilistic_test.json  \n",
            "  inflating: flow-forecast-master/tests/lstm_test.json  \n",
            "  inflating: flow-forecast-master/tests/meta_data_test.json  \n",
            "  inflating: flow-forecast-master/tests/meta_data_tests.py  \n",
            "  inflating: flow-forecast-master/tests/model_config_tests.py  \n",
            "  inflating: flow-forecast-master/tests/multi_config.json  \n",
            "  inflating: flow-forecast-master/tests/multi_decoder_test.json  \n",
            "  inflating: flow-forecast-master/tests/multi_test.json  \n",
            "  inflating: flow-forecast-master/tests/multitask_decoder.json  \n",
            "  inflating: flow-forecast-master/tests/probabilistic_linear_regression_test.json  \n",
            "  inflating: flow-forecast-master/tests/pytorc_train_tests.py  \n",
            "  inflating: flow-forecast-master/tests/test2.csv  \n",
            "  inflating: flow-forecast-master/tests/test_attn.py  \n",
            "  inflating: flow-forecast-master/tests/test_da_rnn.py  \n",
            "   creating: flow-forecast-master/tests/test_data/\n",
            "  inflating: flow-forecast-master/tests/test_data/asos-12N.csv  \n",
            "  inflating: flow-forecast-master/tests/test_data/asos-12N_small.csv  \n",
            "  inflating: flow-forecast-master/tests/test_data/asos_process.json  \n",
            "  inflating: flow-forecast-master/tests/test_data/asos_raw.csv  \n",
            "  inflating: flow-forecast-master/tests/test_data/big_black_md.json  \n",
            "  inflating: flow-forecast-master/tests/test_data/big_black_test_small.csv  \n",
            "  inflating: flow-forecast-master/tests/test_data/fake_test_small.csv  \n",
            "  inflating: flow-forecast-master/tests/test_data/farm_ex.csv  \n",
            "  inflating: flow-forecast-master/tests/test_data/full_out.json  \n",
            "  inflating: flow-forecast-master/tests/test_data/imputation_test.csv  \n",
            "  inflating: flow-forecast-master/tests/test_data/keag_small.csv  \n",
            "  inflating: flow-forecast-master/tests/test_data/river_test.csv  \n",
            "  inflating: flow-forecast-master/tests/test_data/river_test_sm.csv  \n",
            "  inflating: flow-forecast-master/tests/test_data/small_test.csv  \n",
            "  inflating: flow-forecast-master/tests/test_data/test2.csv  \n",
            "  inflating: flow-forecast-master/tests/test_data/test_asos_raw.csv  \n",
            "  inflating: flow-forecast-master/tests/test_data/test_format_data.csv  \n",
            "   creating: flow-forecast-master/tests/test_data2/\n",
            "  inflating: flow-forecast-master/tests/test_data2/keag_small.csv  \n",
            "  inflating: flow-forecast-master/tests/test_decoder.py  \n",
            "  inflating: flow-forecast-master/tests/test_deployment.py  \n",
            "  inflating: flow-forecast-master/tests/test_evaluation.py  \n",
            "  inflating: flow-forecast-master/tests/test_explain_model_output.py  \n",
            "  inflating: flow-forecast-master/tests/test_inf_single.json  \n",
            "  inflating: flow-forecast-master/tests/test_informer.json  \n",
            "  inflating: flow-forecast-master/tests/test_informer.py  \n",
            "   creating: flow-forecast-master/tests/test_init/\n",
            "  inflating: flow-forecast-master/tests/test_init/chick_final.csv  \n",
            "  inflating: flow-forecast-master/tests/test_init/keag_small.csv  \n",
            "  inflating: flow-forecast-master/tests/test_join.py  \n",
            "  inflating: flow-forecast-master/tests/test_loss.py  \n",
            "  inflating: flow-forecast-master/tests/test_merging_models.py  \n",
            "  inflating: flow-forecast-master/tests/test_meta_pr.py  \n",
            "  inflating: flow-forecast-master/tests/test_multitask_decoder.py  \n",
            "  inflating: flow-forecast-master/tests/test_plot.py  \n",
            "  inflating: flow-forecast-master/tests/test_preprocessing.py  \n",
            "  inflating: flow-forecast-master/tests/test_preprocessing_ae.py  \n",
            "  inflating: flow-forecast-master/tests/test_series_id.py  \n",
            "  inflating: flow-forecast-master/tests/test_squashed.py  \n",
            "  inflating: flow-forecast-master/tests/time_model_test.py  \n",
            "  inflating: flow-forecast-master/tests/transformer_bottleneck.json  \n",
            "  inflating: flow-forecast-master/tests/transformer_gaussian.json  \n",
            "  inflating: flow-forecast-master/tests/usgs_tests.py  \n"
          ],
          "name": "stdout"
        }
      ]
    },
    {
      "cell_type": "code",
      "metadata": {
        "id": "cNccdZ58yW5n"
      },
      "source": [
        "os.chdir('/content/github_aistream-peelout_flow-forecast')"
      ],
      "execution_count": 3,
      "outputs": []
    },
    {
      "cell_type": "code",
      "metadata": {
        "colab": {
          "base_uri": "https://localhost:8080/"
        },
        "id": "bIakrFMMyfu2",
        "outputId": "894ff8c0-f4f9-4a71-99f8-89e39b89eb37"
      },
      "source": [
        "!pip install -r requirements.txt"
      ],
      "execution_count": 4,
      "outputs": [
        {
          "output_type": "stream",
          "text": [
            "Requirement already satisfied: shap==0.39.0 in /usr/local/lib/python3.7/dist-packages (from -r requirements.txt (line 1)) (0.39.0)\n",
            "Requirement already satisfied: scikit-learn>=0.23.0 in /usr/local/lib/python3.7/dist-packages (from -r requirements.txt (line 2)) (0.24.2)\n",
            "Requirement already satisfied: pandas in /usr/local/lib/python3.7/dist-packages (from -r requirements.txt (line 3)) (1.1.5)\n",
            "Requirement already satisfied: torch in /usr/local/lib/python3.7/dist-packages (from -r requirements.txt (line 4)) (1.9.0+cu102)\n",
            "Requirement already satisfied: tb-nightly in /usr/local/lib/python3.7/dist-packages (from -r requirements.txt (line 5)) (2.7.0a20210816)\n",
            "Requirement already satisfied: seaborn in /usr/local/lib/python3.7/dist-packages (from -r requirements.txt (line 6)) (0.11.1)\n",
            "Requirement already satisfied: future in /usr/local/lib/python3.7/dist-packages (from -r requirements.txt (line 7)) (0.16.0)\n",
            "Requirement already satisfied: h5py in /usr/local/lib/python3.7/dist-packages (from -r requirements.txt (line 8)) (3.1.0)\n",
            "Requirement already satisfied: wandb==0.11.0 in /usr/local/lib/python3.7/dist-packages (from -r requirements.txt (line 9)) (0.11.0)\n",
            "Requirement already satisfied: google-cloud in /usr/local/lib/python3.7/dist-packages (from -r requirements.txt (line 10)) (0.34.0)\n",
            "Requirement already satisfied: google-cloud-storage in /usr/local/lib/python3.7/dist-packages (from -r requirements.txt (line 11)) (1.18.1)\n",
            "Requirement already satisfied: pyyaml in /usr/local/lib/python3.7/dist-packages (from -r requirements.txt (line 12)) (5.4.1)\n",
            "Requirement already satisfied: plotly~=5.0.0 in /usr/local/lib/python3.7/dist-packages (from -r requirements.txt (line 13)) (5.0.0)\n",
            "Requirement already satisfied: pytz~=2021.1 in /usr/local/lib/python3.7/dist-packages (from -r requirements.txt (line 14)) (2021.1)\n",
            "Requirement already satisfied: setuptools~=57.4.0 in /usr/local/lib/python3.7/dist-packages (from -r requirements.txt (line 15)) (57.4.0)\n",
            "Requirement already satisfied: numpy in /usr/local/lib/python3.7/dist-packages (from -r requirements.txt (line 16)) (1.19.5)\n",
            "Requirement already satisfied: requests in /usr/local/lib/python3.7/dist-packages (from -r requirements.txt (line 17)) (2.26.0)\n",
            "Requirement already satisfied: torchvision>=0.6.0 in /usr/local/lib/python3.7/dist-packages (from -r requirements.txt (line 18)) (0.10.0+cu102)\n",
            "Requirement already satisfied: mpld3~=0.5 in /usr/local/lib/python3.7/dist-packages (from -r requirements.txt (line 19)) (0.5.5)\n",
            "Requirement already satisfied: numba>=0.50 in /usr/local/lib/python3.7/dist-packages (from -r requirements.txt (line 20)) (0.51.2)\n",
            "Requirement already satisfied: sphinx in /usr/local/lib/python3.7/dist-packages (from -r requirements.txt (line 21)) (4.1.2)\n",
            "Requirement already satisfied: sphinx-rtd-theme in /usr/local/lib/python3.7/dist-packages (from -r requirements.txt (line 22)) (0.5.2)\n",
            "Requirement already satisfied: sphinx-autodoc-typehints in /usr/local/lib/python3.7/dist-packages (from -r requirements.txt (line 23)) (1.12.0)\n",
            "Requirement already satisfied: cloudpickle in /usr/local/lib/python3.7/dist-packages (from shap==0.39.0->-r requirements.txt (line 1)) (1.3.0)\n",
            "Requirement already satisfied: slicer==0.0.7 in /usr/local/lib/python3.7/dist-packages (from shap==0.39.0->-r requirements.txt (line 1)) (0.0.7)\n",
            "Requirement already satisfied: tqdm>4.25.0 in /usr/local/lib/python3.7/dist-packages (from shap==0.39.0->-r requirements.txt (line 1)) (4.62.0)\n",
            "Requirement already satisfied: scipy in /usr/local/lib/python3.7/dist-packages (from shap==0.39.0->-r requirements.txt (line 1)) (1.4.1)\n",
            "Requirement already satisfied: shortuuid>=0.5.0 in /usr/local/lib/python3.7/dist-packages (from wandb==0.11.0->-r requirements.txt (line 9)) (1.0.1)\n",
            "Requirement already satisfied: configparser>=3.8.1 in /usr/local/lib/python3.7/dist-packages (from wandb==0.11.0->-r requirements.txt (line 9)) (5.0.2)\n",
            "Requirement already satisfied: protobuf>=3.12.0 in /usr/local/lib/python3.7/dist-packages (from wandb==0.11.0->-r requirements.txt (line 9)) (3.17.3)\n",
            "Requirement already satisfied: subprocess32>=3.5.3 in /usr/local/lib/python3.7/dist-packages (from wandb==0.11.0->-r requirements.txt (line 9)) (3.5.4)\n",
            "Requirement already satisfied: pathtools in /usr/local/lib/python3.7/dist-packages (from wandb==0.11.0->-r requirements.txt (line 9)) (0.1.2)\n",
            "Requirement already satisfied: promise<3,>=2.0 in /usr/local/lib/python3.7/dist-packages (from wandb==0.11.0->-r requirements.txt (line 9)) (2.3)\n",
            "Requirement already satisfied: docker-pycreds>=0.4.0 in /usr/local/lib/python3.7/dist-packages (from wandb==0.11.0->-r requirements.txt (line 9)) (0.4.0)\n",
            "Requirement already satisfied: sentry-sdk>=0.4.0 in /usr/local/lib/python3.7/dist-packages (from wandb==0.11.0->-r requirements.txt (line 9)) (1.3.1)\n",
            "Requirement already satisfied: python-dateutil>=2.6.1 in /usr/local/lib/python3.7/dist-packages (from wandb==0.11.0->-r requirements.txt (line 9)) (2.8.2)\n",
            "Requirement already satisfied: Click!=8.0.0,>=7.0 in /usr/local/lib/python3.7/dist-packages (from wandb==0.11.0->-r requirements.txt (line 9)) (7.1.2)\n",
            "Requirement already satisfied: urllib3>=1.26.5 in /usr/local/lib/python3.7/dist-packages (from wandb==0.11.0->-r requirements.txt (line 9)) (1.26.6)\n",
            "Requirement already satisfied: psutil>=5.0.0 in /usr/local/lib/python3.7/dist-packages (from wandb==0.11.0->-r requirements.txt (line 9)) (5.4.8)\n",
            "Requirement already satisfied: GitPython>=1.0.0 in /usr/local/lib/python3.7/dist-packages (from wandb==0.11.0->-r requirements.txt (line 9)) (3.1.18)\n",
            "Requirement already satisfied: six>=1.13.0 in /usr/local/lib/python3.7/dist-packages (from wandb==0.11.0->-r requirements.txt (line 9)) (1.16.0)\n",
            "Requirement already satisfied: joblib>=0.11 in /usr/local/lib/python3.7/dist-packages (from scikit-learn>=0.23.0->-r requirements.txt (line 2)) (1.0.1)\n",
            "Requirement already satisfied: threadpoolctl>=2.0.0 in /usr/local/lib/python3.7/dist-packages (from scikit-learn>=0.23.0->-r requirements.txt (line 2)) (2.2.0)\n",
            "Requirement already satisfied: tenacity>=6.2.0 in /usr/local/lib/python3.7/dist-packages (from plotly~=5.0.0->-r requirements.txt (line 13)) (8.0.1)\n",
            "Requirement already satisfied: idna<4,>=2.5 in /usr/local/lib/python3.7/dist-packages (from requests->-r requirements.txt (line 17)) (2.10)\n",
            "Requirement already satisfied: certifi>=2017.4.17 in /usr/local/lib/python3.7/dist-packages (from requests->-r requirements.txt (line 17)) (2021.5.30)\n",
            "Requirement already satisfied: charset-normalizer~=2.0.0 in /usr/local/lib/python3.7/dist-packages (from requests->-r requirements.txt (line 17)) (2.0.4)\n",
            "Requirement already satisfied: pillow>=5.3.0 in /usr/local/lib/python3.7/dist-packages (from torchvision>=0.6.0->-r requirements.txt (line 18)) (7.1.2)\n",
            "Requirement already satisfied: typing-extensions in /usr/local/lib/python3.7/dist-packages (from torch->-r requirements.txt (line 4)) (3.7.4.3)\n",
            "Requirement already satisfied: matplotlib in /usr/local/lib/python3.7/dist-packages (from mpld3~=0.5->-r requirements.txt (line 19)) (3.2.2)\n",
            "Requirement already satisfied: jinja2 in /usr/local/lib/python3.7/dist-packages (from mpld3~=0.5->-r requirements.txt (line 19)) (2.11.3)\n",
            "Requirement already satisfied: llvmlite<0.35,>=0.34.0.dev0 in /usr/local/lib/python3.7/dist-packages (from numba>=0.50->-r requirements.txt (line 20)) (0.34.0)\n",
            "Requirement already satisfied: gitdb<5,>=4.0.1 in /usr/local/lib/python3.7/dist-packages (from GitPython>=1.0.0->wandb==0.11.0->-r requirements.txt (line 9)) (4.0.7)\n",
            "Requirement already satisfied: smmap<5,>=3.0.1 in /usr/local/lib/python3.7/dist-packages (from gitdb<5,>=4.0.1->GitPython>=1.0.0->wandb==0.11.0->-r requirements.txt (line 9)) (4.0.0)\n",
            "Requirement already satisfied: grpcio>=1.24.3 in /usr/local/lib/python3.7/dist-packages (from tb-nightly->-r requirements.txt (line 5)) (1.34.1)\n",
            "Requirement already satisfied: google-auth<2,>=1.6.3 in /usr/local/lib/python3.7/dist-packages (from tb-nightly->-r requirements.txt (line 5)) (1.34.0)\n",
            "Requirement already satisfied: wheel>=0.26 in /usr/local/lib/python3.7/dist-packages (from tb-nightly->-r requirements.txt (line 5)) (0.37.0)\n",
            "Requirement already satisfied: tensorboard-plugin-wit>=1.6.0 in /usr/local/lib/python3.7/dist-packages (from tb-nightly->-r requirements.txt (line 5)) (1.8.0)\n",
            "Requirement already satisfied: markdown>=2.6.8 in /usr/local/lib/python3.7/dist-packages (from tb-nightly->-r requirements.txt (line 5)) (3.3.4)\n",
            "Requirement already satisfied: absl-py>=0.4 in /usr/local/lib/python3.7/dist-packages (from tb-nightly->-r requirements.txt (line 5)) (0.12.0)\n",
            "Requirement already satisfied: werkzeug>=0.11.15 in /usr/local/lib/python3.7/dist-packages (from tb-nightly->-r requirements.txt (line 5)) (1.0.1)\n",
            "Requirement already satisfied: google-auth-oauthlib<0.5,>=0.4.1 in /usr/local/lib/python3.7/dist-packages (from tb-nightly->-r requirements.txt (line 5)) (0.4.5)\n",
            "Requirement already satisfied: tensorboard-data-server<0.7.0,>=0.6.0 in /usr/local/lib/python3.7/dist-packages (from tb-nightly->-r requirements.txt (line 5)) (0.6.1)\n",
            "Requirement already satisfied: rsa<5,>=3.1.4 in /usr/local/lib/python3.7/dist-packages (from google-auth<2,>=1.6.3->tb-nightly->-r requirements.txt (line 5)) (4.7.2)\n",
            "Requirement already satisfied: cachetools<5.0,>=2.0.0 in /usr/local/lib/python3.7/dist-packages (from google-auth<2,>=1.6.3->tb-nightly->-r requirements.txt (line 5)) (4.2.2)\n",
            "Requirement already satisfied: pyasn1-modules>=0.2.1 in /usr/local/lib/python3.7/dist-packages (from google-auth<2,>=1.6.3->tb-nightly->-r requirements.txt (line 5)) (0.2.8)\n",
            "Requirement already satisfied: requests-oauthlib>=0.7.0 in /usr/local/lib/python3.7/dist-packages (from google-auth-oauthlib<0.5,>=0.4.1->tb-nightly->-r requirements.txt (line 5)) (1.3.0)\n",
            "Requirement already satisfied: importlib-metadata in /usr/local/lib/python3.7/dist-packages (from markdown>=2.6.8->tb-nightly->-r requirements.txt (line 5)) (4.6.3)\n",
            "Requirement already satisfied: pyasn1<0.5.0,>=0.4.6 in /usr/local/lib/python3.7/dist-packages (from pyasn1-modules>=0.2.1->google-auth<2,>=1.6.3->tb-nightly->-r requirements.txt (line 5)) (0.4.8)\n",
            "Requirement already satisfied: oauthlib>=3.0.0 in /usr/local/lib/python3.7/dist-packages (from requests-oauthlib>=0.7.0->google-auth-oauthlib<0.5,>=0.4.1->tb-nightly->-r requirements.txt (line 5)) (3.1.1)\n",
            "Requirement already satisfied: kiwisolver>=1.0.1 in /usr/local/lib/python3.7/dist-packages (from matplotlib->mpld3~=0.5->-r requirements.txt (line 19)) (1.3.1)\n",
            "Requirement already satisfied: pyparsing!=2.0.4,!=2.1.2,!=2.1.6,>=2.0.1 in /usr/local/lib/python3.7/dist-packages (from matplotlib->mpld3~=0.5->-r requirements.txt (line 19)) (2.4.7)\n",
            "Requirement already satisfied: cycler>=0.10 in /usr/local/lib/python3.7/dist-packages (from matplotlib->mpld3~=0.5->-r requirements.txt (line 19)) (0.10.0)\n",
            "Requirement already satisfied: cached-property in /usr/local/lib/python3.7/dist-packages (from h5py->-r requirements.txt (line 8)) (1.5.2)\n",
            "Requirement already satisfied: google-cloud-core<2.0dev,>=1.0.0 in /usr/local/lib/python3.7/dist-packages (from google-cloud-storage->-r requirements.txt (line 11)) (1.0.3)\n",
            "Requirement already satisfied: google-resumable-media<0.5.0dev,>=0.3.1 in /usr/local/lib/python3.7/dist-packages (from google-cloud-storage->-r requirements.txt (line 11)) (0.4.1)\n",
            "Requirement already satisfied: google-api-core<2.0.0dev,>=1.14.0 in /usr/local/lib/python3.7/dist-packages (from google-cloud-core<2.0dev,>=1.0.0->google-cloud-storage->-r requirements.txt (line 11)) (1.26.3)\n",
            "Requirement already satisfied: googleapis-common-protos<2.0dev,>=1.6.0 in /usr/local/lib/python3.7/dist-packages (from google-api-core<2.0.0dev,>=1.14.0->google-cloud-core<2.0dev,>=1.0.0->google-cloud-storage->-r requirements.txt (line 11)) (1.53.0)\n",
            "Requirement already satisfied: packaging>=14.3 in /usr/local/lib/python3.7/dist-packages (from google-api-core<2.0.0dev,>=1.14.0->google-cloud-core<2.0dev,>=1.0.0->google-cloud-storage->-r requirements.txt (line 11)) (21.0)\n",
            "Requirement already satisfied: sphinxcontrib-devhelp in /usr/local/lib/python3.7/dist-packages (from sphinx->-r requirements.txt (line 21)) (1.0.2)\n",
            "Requirement already satisfied: babel>=1.3 in /usr/local/lib/python3.7/dist-packages (from sphinx->-r requirements.txt (line 21)) (2.9.1)\n",
            "Requirement already satisfied: sphinxcontrib-qthelp in /usr/local/lib/python3.7/dist-packages (from sphinx->-r requirements.txt (line 21)) (1.0.3)\n",
            "Requirement already satisfied: alabaster<0.8,>=0.7 in /usr/local/lib/python3.7/dist-packages (from sphinx->-r requirements.txt (line 21)) (0.7.12)\n",
            "Requirement already satisfied: Pygments>=2.0 in /usr/local/lib/python3.7/dist-packages (from sphinx->-r requirements.txt (line 21)) (2.6.1)\n",
            "Requirement already satisfied: docutils<0.18,>=0.14 in /usr/local/lib/python3.7/dist-packages (from sphinx->-r requirements.txt (line 21)) (0.16)\n",
            "Requirement already satisfied: sphinxcontrib-jsmath in /usr/local/lib/python3.7/dist-packages (from sphinx->-r requirements.txt (line 21)) (1.0.1)\n",
            "Requirement already satisfied: sphinxcontrib-htmlhelp>=2.0.0 in /usr/local/lib/python3.7/dist-packages (from sphinx->-r requirements.txt (line 21)) (2.0.0)\n",
            "Requirement already satisfied: snowballstemmer>=1.1 in /usr/local/lib/python3.7/dist-packages (from sphinx->-r requirements.txt (line 21)) (2.1.0)\n",
            "Requirement already satisfied: imagesize in /usr/local/lib/python3.7/dist-packages (from sphinx->-r requirements.txt (line 21)) (1.2.0)\n",
            "Requirement already satisfied: sphinxcontrib-applehelp in /usr/local/lib/python3.7/dist-packages (from sphinx->-r requirements.txt (line 21)) (1.0.2)\n",
            "Requirement already satisfied: sphinxcontrib-serializinghtml>=1.1.5 in /usr/local/lib/python3.7/dist-packages (from sphinx->-r requirements.txt (line 21)) (1.1.5)\n",
            "Requirement already satisfied: MarkupSafe>=0.23 in /usr/local/lib/python3.7/dist-packages (from jinja2->mpld3~=0.5->-r requirements.txt (line 19)) (2.0.1)\n",
            "Requirement already satisfied: zipp>=0.5 in /usr/local/lib/python3.7/dist-packages (from importlib-metadata->markdown>=2.6.8->tb-nightly->-r requirements.txt (line 5)) (3.5.0)\n"
          ],
          "name": "stdout"
        }
      ]
    },
    {
      "cell_type": "code",
      "metadata": {
        "colab": {
          "base_uri": "https://localhost:8080/"
        },
        "id": "Gfads9MKy7Ls",
        "outputId": "fdcb182b-f5ea-4c62-c70b-4e602598a954"
      },
      "source": [
        "!pip install git+https://github.com/CoronaWhy/task-geo.git"
      ],
      "execution_count": 5,
      "outputs": [
        {
          "output_type": "stream",
          "text": [
            "Collecting git+https://github.com/CoronaWhy/task-geo.git\n",
            "  Cloning https://github.com/CoronaWhy/task-geo.git to /tmp/pip-req-build-pmzyxatz\n",
            "  Running command git clone -q https://github.com/CoronaWhy/task-geo.git /tmp/pip-req-build-pmzyxatz\n",
            "Requirement already satisfied: pandas in /usr/local/lib/python3.7/dist-packages (from task-geo==0.1.0.dev0) (1.1.5)\n",
            "Requirement already satisfied: requests in /usr/local/lib/python3.7/dist-packages (from task-geo==0.1.0.dev0) (2.26.0)\n",
            "Requirement already satisfied: jupyter in /usr/local/lib/python3.7/dist-packages (from task-geo==0.1.0.dev0) (1.0.0)\n",
            "Requirement already satisfied: hdx-python-api in /usr/local/lib/python3.7/dist-packages (from task-geo==0.1.0.dev0) (5.2.4)\n",
            "Requirement already satisfied: quantulum3>=0.7.7 in /usr/local/lib/python3.7/dist-packages (from hdx-python-api->task-geo==0.1.0.dev0) (0.7.7)\n",
            "Requirement already satisfied: ckanapi>=4.6 in /usr/local/lib/python3.7/dist-packages (from hdx-python-api->task-geo==0.1.0.dev0) (4.6)\n",
            "Requirement already satisfied: pyasn1 in /usr/local/lib/python3.7/dist-packages (from hdx-python-api->task-geo==0.1.0.dev0) (0.4.8)\n",
            "Requirement already satisfied: hdx-python-country>=2.9.5 in /usr/local/lib/python3.7/dist-packages (from hdx-python-api->task-geo==0.1.0.dev0) (2.9.5)\n",
            "Requirement already satisfied: ndg-httpsclient in /usr/local/lib/python3.7/dist-packages (from hdx-python-api->task-geo==0.1.0.dev0) (0.5.1)\n",
            "Requirement already satisfied: pyOpenSSL in /usr/local/lib/python3.7/dist-packages (from hdx-python-api->task-geo==0.1.0.dev0) (20.0.1)\n",
            "Requirement already satisfied: six<2.0,>=1.9 in /usr/local/lib/python3.7/dist-packages (from ckanapi>=4.6->hdx-python-api->task-geo==0.1.0.dev0) (1.16.0)\n",
            "Requirement already satisfied: python-slugify>=1.0 in /usr/local/lib/python3.7/dist-packages (from ckanapi>=4.6->hdx-python-api->task-geo==0.1.0.dev0) (5.0.2)\n",
            "Requirement already satisfied: docopt in /usr/local/lib/python3.7/dist-packages (from ckanapi>=4.6->hdx-python-api->task-geo==0.1.0.dev0) (0.6.2)\n",
            "Requirement already satisfied: setuptools in /usr/local/lib/python3.7/dist-packages (from ckanapi>=4.6->hdx-python-api->task-geo==0.1.0.dev0) (57.4.0)\n",
            "Requirement already satisfied: hdx-python-utilities>=2.6.9 in /usr/local/lib/python3.7/dist-packages (from hdx-python-country>=2.9.5->hdx-python-api->task-geo==0.1.0.dev0) (2.6.9)\n",
            "Requirement already satisfied: libhxl>=4.24.1 in /usr/local/lib/python3.7/dist-packages (from hdx-python-country>=2.9.5->hdx-python-api->task-geo==0.1.0.dev0) (4.24.1)\n",
            "Requirement already satisfied: exchangerates in /usr/local/lib/python3.7/dist-packages (from hdx-python-country>=2.9.5->hdx-python-api->task-geo==0.1.0.dev0) (0.3.4)\n",
            "Requirement already satisfied: pyphonetics in /usr/local/lib/python3.7/dist-packages (from hdx-python-country>=2.9.5->hdx-python-api->task-geo==0.1.0.dev0) (0.5.3)\n",
            "Requirement already satisfied: python-dateutil==2.8.2 in /usr/local/lib/python3.7/dist-packages (from hdx-python-utilities>=2.6.9->hdx-python-country>=2.9.5->hdx-python-api->task-geo==0.1.0.dev0) (2.8.2)\n",
            "Requirement already satisfied: tabulator[cchardet]>=1.53.5 in /usr/local/lib/python3.7/dist-packages (from hdx-python-utilities>=2.6.9->hdx-python-country>=2.9.5->hdx-python-api->task-geo==0.1.0.dev0) (1.53.5)\n",
            "Requirement already satisfied: colorlog in /usr/local/lib/python3.7/dist-packages (from hdx-python-utilities>=2.6.9->hdx-python-country>=2.9.5->hdx-python-api->task-geo==0.1.0.dev0) (5.0.1)\n",
            "Requirement already satisfied: basicauth in /usr/local/lib/python3.7/dist-packages (from hdx-python-utilities>=2.6.9->hdx-python-country>=2.9.5->hdx-python-api->task-geo==0.1.0.dev0) (0.4.1)\n",
            "Requirement already satisfied: beautifulsoup4 in /usr/local/lib/python3.7/dist-packages (from hdx-python-utilities>=2.6.9->hdx-python-country>=2.9.5->hdx-python-api->task-geo==0.1.0.dev0) (4.6.3)\n",
            "Requirement already satisfied: email-validator in /usr/local/lib/python3.7/dist-packages (from hdx-python-utilities>=2.6.9->hdx-python-country>=2.9.5->hdx-python-api->task-geo==0.1.0.dev0) (1.1.3)\n",
            "Requirement already satisfied: ratelimit in /usr/local/lib/python3.7/dist-packages (from hdx-python-utilities>=2.6.9->hdx-python-country>=2.9.5->hdx-python-api->task-geo==0.1.0.dev0) (2.2.1)\n",
            "Requirement already satisfied: requests-file in /usr/local/lib/python3.7/dist-packages (from hdx-python-utilities>=2.6.9->hdx-python-country>=2.9.5->hdx-python-api->task-geo==0.1.0.dev0) (1.5.1)\n",
            "Requirement already satisfied: html5lib in /usr/local/lib/python3.7/dist-packages (from hdx-python-utilities>=2.6.9->hdx-python-country>=2.9.5->hdx-python-api->task-geo==0.1.0.dev0) (1.0.1)\n",
            "Requirement already satisfied: ruamel.yaml>=0.17.10 in /usr/local/lib/python3.7/dist-packages (from hdx-python-utilities>=2.6.9->hdx-python-country>=2.9.5->hdx-python-api->task-geo==0.1.0.dev0) (0.17.10)\n",
            "Requirement already satisfied: jsonpath-ng in /usr/local/lib/python3.7/dist-packages (from libhxl>=4.24.1->hdx-python-country>=2.9.5->hdx-python-api->task-geo==0.1.0.dev0) (1.5.3)\n",
            "Requirement already satisfied: unidecode in /usr/local/lib/python3.7/dist-packages (from libhxl>=4.24.1->hdx-python-country>=2.9.5->hdx-python-api->task-geo==0.1.0.dev0) (1.2.0)\n",
            "Requirement already satisfied: wheel in /usr/local/lib/python3.7/dist-packages (from libhxl>=4.24.1->hdx-python-country>=2.9.5->hdx-python-api->task-geo==0.1.0.dev0) (0.37.0)\n",
            "Requirement already satisfied: requests-cache in /usr/local/lib/python3.7/dist-packages (from libhxl>=4.24.1->hdx-python-country>=2.9.5->hdx-python-api->task-geo==0.1.0.dev0) (0.7.3)\n",
            "Requirement already satisfied: python-io-wrapper>=0.2 in /usr/local/lib/python3.7/dist-packages (from libhxl>=4.24.1->hdx-python-country>=2.9.5->hdx-python-api->task-geo==0.1.0.dev0) (0.2)\n",
            "Requirement already satisfied: ply in /usr/local/lib/python3.7/dist-packages (from libhxl>=4.24.1->hdx-python-country>=2.9.5->hdx-python-api->task-geo==0.1.0.dev0) (3.11)\n",
            "Requirement already satisfied: xlrd3 in /usr/local/lib/python3.7/dist-packages (from libhxl>=4.24.1->hdx-python-country>=2.9.5->hdx-python-api->task-geo==0.1.0.dev0) (1.1.0)\n",
            "Requirement already satisfied: text-unidecode>=1.3 in /usr/local/lib/python3.7/dist-packages (from python-slugify>=1.0->ckanapi>=4.6->hdx-python-api->task-geo==0.1.0.dev0) (1.3)\n",
            "Requirement already satisfied: inflect in /usr/local/lib/python3.7/dist-packages (from quantulum3>=0.7.7->hdx-python-api->task-geo==0.1.0.dev0) (2.1.0)\n",
            "Requirement already satisfied: num2words in /usr/local/lib/python3.7/dist-packages (from quantulum3>=0.7.7->hdx-python-api->task-geo==0.1.0.dev0) (0.5.10)\n",
            "Requirement already satisfied: urllib3<1.27,>=1.21.1 in /usr/local/lib/python3.7/dist-packages (from requests->task-geo==0.1.0.dev0) (1.26.6)\n",
            "Requirement already satisfied: charset-normalizer~=2.0.0 in /usr/local/lib/python3.7/dist-packages (from requests->task-geo==0.1.0.dev0) (2.0.4)\n",
            "Requirement already satisfied: certifi>=2017.4.17 in /usr/local/lib/python3.7/dist-packages (from requests->task-geo==0.1.0.dev0) (2021.5.30)\n",
            "Requirement already satisfied: idna<4,>=2.5 in /usr/local/lib/python3.7/dist-packages (from requests->task-geo==0.1.0.dev0) (2.10)\n",
            "Requirement already satisfied: ruamel.yaml.clib>=0.1.2 in /usr/local/lib/python3.7/dist-packages (from ruamel.yaml>=0.17.10->hdx-python-utilities>=2.6.9->hdx-python-country>=2.9.5->hdx-python-api->task-geo==0.1.0.dev0) (0.2.6)\n",
            "Requirement already satisfied: jsonlines>=1.1 in /usr/local/lib/python3.7/dist-packages (from tabulator[cchardet]>=1.53.5->hdx-python-utilities>=2.6.9->hdx-python-country>=2.9.5->hdx-python-api->task-geo==0.1.0.dev0) (2.0.0)\n",
            "Requirement already satisfied: ijson>=3.0.3 in /usr/local/lib/python3.7/dist-packages (from tabulator[cchardet]>=1.53.5->hdx-python-utilities>=2.6.9->hdx-python-country>=2.9.5->hdx-python-api->task-geo==0.1.0.dev0) (3.1.4)\n",
            "Requirement already satisfied: xlrd>=1.0 in /usr/local/lib/python3.7/dist-packages (from tabulator[cchardet]>=1.53.5->hdx-python-utilities>=2.6.9->hdx-python-country>=2.9.5->hdx-python-api->task-geo==0.1.0.dev0) (1.1.0)\n",
            "Requirement already satisfied: chardet>=3.0 in /usr/local/lib/python3.7/dist-packages (from tabulator[cchardet]>=1.53.5->hdx-python-utilities>=2.6.9->hdx-python-country>=2.9.5->hdx-python-api->task-geo==0.1.0.dev0) (3.0.4)\n",
            "Requirement already satisfied: sqlalchemy>=0.9.6 in /usr/local/lib/python3.7/dist-packages (from tabulator[cchardet]>=1.53.5->hdx-python-utilities>=2.6.9->hdx-python-country>=2.9.5->hdx-python-api->task-geo==0.1.0.dev0) (1.4.22)\n",
            "Requirement already satisfied: openpyxl>=2.6 in /usr/local/lib/python3.7/dist-packages (from tabulator[cchardet]>=1.53.5->hdx-python-utilities>=2.6.9->hdx-python-country>=2.9.5->hdx-python-api->task-geo==0.1.0.dev0) (3.0.7)\n",
            "Requirement already satisfied: boto3>=1.9 in /usr/local/lib/python3.7/dist-packages (from tabulator[cchardet]>=1.53.5->hdx-python-utilities>=2.6.9->hdx-python-country>=2.9.5->hdx-python-api->task-geo==0.1.0.dev0) (1.18.21)\n",
            "Requirement already satisfied: unicodecsv>=0.14 in /usr/local/lib/python3.7/dist-packages (from tabulator[cchardet]>=1.53.5->hdx-python-utilities>=2.6.9->hdx-python-country>=2.9.5->hdx-python-api->task-geo==0.1.0.dev0) (0.14.1)\n",
            "Requirement already satisfied: linear-tsv>=1.0 in /usr/local/lib/python3.7/dist-packages (from tabulator[cchardet]>=1.53.5->hdx-python-utilities>=2.6.9->hdx-python-country>=2.9.5->hdx-python-api->task-geo==0.1.0.dev0) (1.1.0)\n",
            "Requirement already satisfied: click>=6.0 in /usr/local/lib/python3.7/dist-packages (from tabulator[cchardet]>=1.53.5->hdx-python-utilities>=2.6.9->hdx-python-country>=2.9.5->hdx-python-api->task-geo==0.1.0.dev0) (7.1.2)\n",
            "Requirement already satisfied: cchardet>=2.0 in /usr/local/lib/python3.7/dist-packages (from tabulator[cchardet]>=1.53.5->hdx-python-utilities>=2.6.9->hdx-python-country>=2.9.5->hdx-python-api->task-geo==0.1.0.dev0) (2.1.7)\n",
            "Requirement already satisfied: botocore<1.22.0,>=1.21.21 in /usr/local/lib/python3.7/dist-packages (from boto3>=1.9->tabulator[cchardet]>=1.53.5->hdx-python-utilities>=2.6.9->hdx-python-country>=2.9.5->hdx-python-api->task-geo==0.1.0.dev0) (1.21.21)\n",
            "Requirement already satisfied: s3transfer<0.6.0,>=0.5.0 in /usr/local/lib/python3.7/dist-packages (from boto3>=1.9->tabulator[cchardet]>=1.53.5->hdx-python-utilities>=2.6.9->hdx-python-country>=2.9.5->hdx-python-api->task-geo==0.1.0.dev0) (0.5.0)\n",
            "Requirement already satisfied: jmespath<1.0.0,>=0.7.1 in /usr/local/lib/python3.7/dist-packages (from boto3>=1.9->tabulator[cchardet]>=1.53.5->hdx-python-utilities>=2.6.9->hdx-python-country>=2.9.5->hdx-python-api->task-geo==0.1.0.dev0) (0.10.0)\n",
            "Requirement already satisfied: et-xmlfile in /usr/local/lib/python3.7/dist-packages (from openpyxl>=2.6->tabulator[cchardet]>=1.53.5->hdx-python-utilities>=2.6.9->hdx-python-country>=2.9.5->hdx-python-api->task-geo==0.1.0.dev0) (1.1.0)\n",
            "Requirement already satisfied: importlib-metadata in /usr/local/lib/python3.7/dist-packages (from sqlalchemy>=0.9.6->tabulator[cchardet]>=1.53.5->hdx-python-utilities>=2.6.9->hdx-python-country>=2.9.5->hdx-python-api->task-geo==0.1.0.dev0) (4.6.3)\n",
            "Requirement already satisfied: greenlet!=0.4.17 in /usr/local/lib/python3.7/dist-packages (from sqlalchemy>=0.9.6->tabulator[cchardet]>=1.53.5->hdx-python-utilities>=2.6.9->hdx-python-country>=2.9.5->hdx-python-api->task-geo==0.1.0.dev0) (1.1.1)\n",
            "Requirement already satisfied: dnspython>=1.15.0 in /usr/local/lib/python3.7/dist-packages (from email-validator->hdx-python-utilities>=2.6.9->hdx-python-country>=2.9.5->hdx-python-api->task-geo==0.1.0.dev0) (2.1.0)\n",
            "Requirement already satisfied: lxml>=4.3.0 in /usr/local/lib/python3.7/dist-packages (from exchangerates->hdx-python-country>=2.9.5->hdx-python-api->task-geo==0.1.0.dev0) (4.6.3)\n",
            "Requirement already satisfied: webencodings in /usr/local/lib/python3.7/dist-packages (from html5lib->hdx-python-utilities>=2.6.9->hdx-python-country>=2.9.5->hdx-python-api->task-geo==0.1.0.dev0) (0.5.1)\n",
            "Requirement already satisfied: zipp>=0.5 in /usr/local/lib/python3.7/dist-packages (from importlib-metadata->sqlalchemy>=0.9.6->tabulator[cchardet]>=1.53.5->hdx-python-utilities>=2.6.9->hdx-python-country>=2.9.5->hdx-python-api->task-geo==0.1.0.dev0) (3.5.0)\n",
            "Requirement already satisfied: typing-extensions>=3.6.4 in /usr/local/lib/python3.7/dist-packages (from importlib-metadata->sqlalchemy>=0.9.6->tabulator[cchardet]>=1.53.5->hdx-python-utilities>=2.6.9->hdx-python-country>=2.9.5->hdx-python-api->task-geo==0.1.0.dev0) (3.7.4.3)\n",
            "Requirement already satisfied: decorator in /usr/local/lib/python3.7/dist-packages (from jsonpath-ng->libhxl>=4.24.1->hdx-python-country>=2.9.5->hdx-python-api->task-geo==0.1.0.dev0) (4.4.2)\n",
            "Requirement already satisfied: ipywidgets in /usr/local/lib/python3.7/dist-packages (from jupyter->task-geo==0.1.0.dev0) (7.6.3)\n",
            "Requirement already satisfied: notebook in /usr/local/lib/python3.7/dist-packages (from jupyter->task-geo==0.1.0.dev0) (5.3.1)\n",
            "Requirement already satisfied: jupyter-console in /usr/local/lib/python3.7/dist-packages (from jupyter->task-geo==0.1.0.dev0) (5.2.0)\n",
            "Requirement already satisfied: nbconvert in /usr/local/lib/python3.7/dist-packages (from jupyter->task-geo==0.1.0.dev0) (5.6.1)\n",
            "Requirement already satisfied: ipykernel in /usr/local/lib/python3.7/dist-packages (from jupyter->task-geo==0.1.0.dev0) (4.10.1)\n",
            "Requirement already satisfied: qtconsole in /usr/local/lib/python3.7/dist-packages (from jupyter->task-geo==0.1.0.dev0) (5.1.1)\n",
            "Requirement already satisfied: tornado>=4.0 in /usr/local/lib/python3.7/dist-packages (from ipykernel->jupyter->task-geo==0.1.0.dev0) (5.1.1)\n",
            "Requirement already satisfied: traitlets>=4.1.0 in /usr/local/lib/python3.7/dist-packages (from ipykernel->jupyter->task-geo==0.1.0.dev0) (5.0.5)\n",
            "Requirement already satisfied: jupyter-client in /usr/local/lib/python3.7/dist-packages (from ipykernel->jupyter->task-geo==0.1.0.dev0) (5.3.5)\n",
            "Requirement already satisfied: ipython>=4.0.0 in /usr/local/lib/python3.7/dist-packages (from ipykernel->jupyter->task-geo==0.1.0.dev0) (5.5.0)\n",
            "Requirement already satisfied: pexpect in /usr/local/lib/python3.7/dist-packages (from ipython>=4.0.0->ipykernel->jupyter->task-geo==0.1.0.dev0) (4.8.0)\n",
            "Requirement already satisfied: pygments in /usr/local/lib/python3.7/dist-packages (from ipython>=4.0.0->ipykernel->jupyter->task-geo==0.1.0.dev0) (2.6.1)\n",
            "Requirement already satisfied: pickleshare in /usr/local/lib/python3.7/dist-packages (from ipython>=4.0.0->ipykernel->jupyter->task-geo==0.1.0.dev0) (0.7.5)\n",
            "Requirement already satisfied: simplegeneric>0.8 in /usr/local/lib/python3.7/dist-packages (from ipython>=4.0.0->ipykernel->jupyter->task-geo==0.1.0.dev0) (0.8.1)\n",
            "Requirement already satisfied: prompt-toolkit<2.0.0,>=1.0.4 in /usr/local/lib/python3.7/dist-packages (from ipython>=4.0.0->ipykernel->jupyter->task-geo==0.1.0.dev0) (1.0.18)\n",
            "Requirement already satisfied: wcwidth in /usr/local/lib/python3.7/dist-packages (from prompt-toolkit<2.0.0,>=1.0.4->ipython>=4.0.0->ipykernel->jupyter->task-geo==0.1.0.dev0) (0.2.5)\n",
            "Requirement already satisfied: ipython-genutils in /usr/local/lib/python3.7/dist-packages (from traitlets>=4.1.0->ipykernel->jupyter->task-geo==0.1.0.dev0) (0.2.0)\n",
            "Requirement already satisfied: widgetsnbextension~=3.5.0 in /usr/local/lib/python3.7/dist-packages (from ipywidgets->jupyter->task-geo==0.1.0.dev0) (3.5.1)\n",
            "Requirement already satisfied: nbformat>=4.2.0 in /usr/local/lib/python3.7/dist-packages (from ipywidgets->jupyter->task-geo==0.1.0.dev0) (5.1.3)\n",
            "Requirement already satisfied: jupyterlab-widgets>=1.0.0 in /usr/local/lib/python3.7/dist-packages (from ipywidgets->jupyter->task-geo==0.1.0.dev0) (1.0.0)\n",
            "Requirement already satisfied: jsonschema!=2.5.0,>=2.4 in /usr/local/lib/python3.7/dist-packages (from nbformat>=4.2.0->ipywidgets->jupyter->task-geo==0.1.0.dev0) (2.6.0)\n",
            "Requirement already satisfied: jupyter-core in /usr/local/lib/python3.7/dist-packages (from nbformat>=4.2.0->ipywidgets->jupyter->task-geo==0.1.0.dev0) (4.7.1)\n",
            "Requirement already satisfied: jinja2 in /usr/local/lib/python3.7/dist-packages (from notebook->jupyter->task-geo==0.1.0.dev0) (2.11.3)\n",
            "Requirement already satisfied: Send2Trash in /usr/local/lib/python3.7/dist-packages (from notebook->jupyter->task-geo==0.1.0.dev0) (1.8.0)\n",
            "Requirement already satisfied: terminado>=0.8.1 in /usr/local/lib/python3.7/dist-packages (from notebook->jupyter->task-geo==0.1.0.dev0) (0.10.1)\n",
            "Requirement already satisfied: pyzmq>=13 in /usr/local/lib/python3.7/dist-packages (from jupyter-client->ipykernel->jupyter->task-geo==0.1.0.dev0) (22.2.1)\n",
            "Requirement already satisfied: ptyprocess in /usr/local/lib/python3.7/dist-packages (from terminado>=0.8.1->notebook->jupyter->task-geo==0.1.0.dev0) (0.7.0)\n",
            "Requirement already satisfied: MarkupSafe>=0.23 in /usr/local/lib/python3.7/dist-packages (from jinja2->notebook->jupyter->task-geo==0.1.0.dev0) (2.0.1)\n",
            "Requirement already satisfied: defusedxml in /usr/local/lib/python3.7/dist-packages (from nbconvert->jupyter->task-geo==0.1.0.dev0) (0.7.1)\n",
            "Requirement already satisfied: mistune<2,>=0.8.1 in /usr/local/lib/python3.7/dist-packages (from nbconvert->jupyter->task-geo==0.1.0.dev0) (0.8.4)\n",
            "Requirement already satisfied: bleach in /usr/local/lib/python3.7/dist-packages (from nbconvert->jupyter->task-geo==0.1.0.dev0) (4.0.0)\n",
            "Requirement already satisfied: entrypoints>=0.2.2 in /usr/local/lib/python3.7/dist-packages (from nbconvert->jupyter->task-geo==0.1.0.dev0) (0.3)\n",
            "Requirement already satisfied: pandocfilters>=1.4.1 in /usr/local/lib/python3.7/dist-packages (from nbconvert->jupyter->task-geo==0.1.0.dev0) (1.4.3)\n",
            "Requirement already satisfied: testpath in /usr/local/lib/python3.7/dist-packages (from nbconvert->jupyter->task-geo==0.1.0.dev0) (0.5.0)\n",
            "Requirement already satisfied: packaging in /usr/local/lib/python3.7/dist-packages (from bleach->nbconvert->jupyter->task-geo==0.1.0.dev0) (21.0)\n",
            "Requirement already satisfied: pyparsing>=2.0.2 in /usr/local/lib/python3.7/dist-packages (from packaging->bleach->nbconvert->jupyter->task-geo==0.1.0.dev0) (2.4.7)\n",
            "Requirement already satisfied: pytz>=2017.2 in /usr/local/lib/python3.7/dist-packages (from pandas->task-geo==0.1.0.dev0) (2021.1)\n",
            "Requirement already satisfied: numpy>=1.15.4 in /usr/local/lib/python3.7/dist-packages (from pandas->task-geo==0.1.0.dev0) (1.19.5)\n",
            "Requirement already satisfied: cryptography>=3.2 in /usr/local/lib/python3.7/dist-packages (from pyOpenSSL->hdx-python-api->task-geo==0.1.0.dev0) (3.4.7)\n",
            "Requirement already satisfied: cffi>=1.12 in /usr/local/lib/python3.7/dist-packages (from cryptography>=3.2->pyOpenSSL->hdx-python-api->task-geo==0.1.0.dev0) (1.14.6)\n",
            "Requirement already satisfied: pycparser in /usr/local/lib/python3.7/dist-packages (from cffi>=1.12->cryptography>=3.2->pyOpenSSL->hdx-python-api->task-geo==0.1.0.dev0) (2.20)\n",
            "Requirement already satisfied: qtpy in /usr/local/lib/python3.7/dist-packages (from qtconsole->jupyter->task-geo==0.1.0.dev0) (1.9.0)\n",
            "Requirement already satisfied: itsdangerous>=2.0.1 in /usr/local/lib/python3.7/dist-packages (from requests-cache->libhxl>=4.24.1->hdx-python-country>=2.9.5->hdx-python-api->task-geo==0.1.0.dev0) (2.0.1)\n",
            "Requirement already satisfied: attrs<22.0,>=21.2 in /usr/local/lib/python3.7/dist-packages (from requests-cache->libhxl>=4.24.1->hdx-python-country>=2.9.5->hdx-python-api->task-geo==0.1.0.dev0) (21.2.0)\n",
            "Requirement already satisfied: pyyaml>=5.4 in /usr/local/lib/python3.7/dist-packages (from requests-cache->libhxl>=4.24.1->hdx-python-country>=2.9.5->hdx-python-api->task-geo==0.1.0.dev0) (5.4.1)\n",
            "Requirement already satisfied: url-normalize<2.0,>=1.4 in /usr/local/lib/python3.7/dist-packages (from requests-cache->libhxl>=4.24.1->hdx-python-country>=2.9.5->hdx-python-api->task-geo==0.1.0.dev0) (1.4.3)\n"
          ],
          "name": "stdout"
        }
      ]
    },
    {
      "cell_type": "code",
      "metadata": {
        "colab": {
          "base_uri": "https://localhost:8080/"
        },
        "id": "EvgMkRcUzj9w",
        "outputId": "d8ad00d7-5be3-45b3-bf31-d9268949338b"
      },
      "source": [
        "!mkdir data"
      ],
      "execution_count": 6,
      "outputs": [
        {
          "output_type": "stream",
          "text": [
            "mkdir: cannot create directory ‘data’: File exists\n"
          ],
          "name": "stdout"
        }
      ]
    },
    {
      "cell_type": "code",
      "metadata": {
        "colab": {
          "base_uri": "https://localhost:8080/"
        },
        "id": "pWqOPFo1zqa4",
        "outputId": "9ee89c24-f03d-4dd1-8913-b3b0bb752a16"
      },
      "source": [
        "from flood_forecast.trainer import train_function"
      ],
      "execution_count": 7,
      "outputs": [
        {
          "output_type": "stream",
          "text": [
            "calling yaml.load() without Loader=... is deprecated, as the default Loader is unsafe. Please read https://msg.pyyaml.org/load for full details.\n"
          ],
          "name": "stderr"
        }
      ]
    },
    {
      "cell_type": "code",
      "metadata": {
        "colab": {
          "base_uri": "https://localhost:8080/"
        },
        "id": "jbGkzhkSzw55",
        "outputId": "d1e6ceb5-7da6-4913-976f-80b86d157006"
      },
      "source": [
        "!pip install wandb"
      ],
      "execution_count": 8,
      "outputs": [
        {
          "output_type": "stream",
          "text": [
            "Requirement already satisfied: wandb in /usr/local/lib/python3.7/dist-packages (0.11.0)\n",
            "Requirement already satisfied: docker-pycreds>=0.4.0 in /usr/local/lib/python3.7/dist-packages (from wandb) (0.4.0)\n",
            "Requirement already satisfied: subprocess32>=3.5.3 in /usr/local/lib/python3.7/dist-packages (from wandb) (3.5.4)\n",
            "Requirement already satisfied: python-dateutil>=2.6.1 in /usr/local/lib/python3.7/dist-packages (from wandb) (2.8.2)\n",
            "Requirement already satisfied: urllib3>=1.26.5 in /usr/local/lib/python3.7/dist-packages (from wandb) (1.26.6)\n",
            "Requirement already satisfied: Click!=8.0.0,>=7.0 in /usr/local/lib/python3.7/dist-packages (from wandb) (7.1.2)\n",
            "Requirement already satisfied: pathtools in /usr/local/lib/python3.7/dist-packages (from wandb) (0.1.2)\n",
            "Requirement already satisfied: sentry-sdk>=0.4.0 in /usr/local/lib/python3.7/dist-packages (from wandb) (1.3.1)\n",
            "Requirement already satisfied: psutil>=5.0.0 in /usr/local/lib/python3.7/dist-packages (from wandb) (5.4.8)\n",
            "Requirement already satisfied: GitPython>=1.0.0 in /usr/local/lib/python3.7/dist-packages (from wandb) (3.1.18)\n",
            "Requirement already satisfied: six>=1.13.0 in /usr/local/lib/python3.7/dist-packages (from wandb) (1.16.0)\n",
            "Requirement already satisfied: configparser>=3.8.1 in /usr/local/lib/python3.7/dist-packages (from wandb) (5.0.2)\n",
            "Requirement already satisfied: PyYAML in /usr/local/lib/python3.7/dist-packages (from wandb) (5.4.1)\n",
            "Requirement already satisfied: protobuf>=3.12.0 in /usr/local/lib/python3.7/dist-packages (from wandb) (3.17.3)\n",
            "Requirement already satisfied: requests<3,>=2.0.0 in /usr/local/lib/python3.7/dist-packages (from wandb) (2.26.0)\n",
            "Requirement already satisfied: shortuuid>=0.5.0 in /usr/local/lib/python3.7/dist-packages (from wandb) (1.0.1)\n",
            "Requirement already satisfied: promise<3,>=2.0 in /usr/local/lib/python3.7/dist-packages (from wandb) (2.3)\n",
            "Requirement already satisfied: gitdb<5,>=4.0.1 in /usr/local/lib/python3.7/dist-packages (from GitPython>=1.0.0->wandb) (4.0.7)\n",
            "Requirement already satisfied: typing-extensions>=3.7.4.0 in /usr/local/lib/python3.7/dist-packages (from GitPython>=1.0.0->wandb) (3.7.4.3)\n",
            "Requirement already satisfied: smmap<5,>=3.0.1 in /usr/local/lib/python3.7/dist-packages (from gitdb<5,>=4.0.1->GitPython>=1.0.0->wandb) (4.0.0)\n",
            "Requirement already satisfied: idna<4,>=2.5 in /usr/local/lib/python3.7/dist-packages (from requests<3,>=2.0.0->wandb) (2.10)\n",
            "Requirement already satisfied: certifi>=2017.4.17 in /usr/local/lib/python3.7/dist-packages (from requests<3,>=2.0.0->wandb) (2021.5.30)\n",
            "Requirement already satisfied: charset-normalizer~=2.0.0 in /usr/local/lib/python3.7/dist-packages (from requests<3,>=2.0.0->wandb) (2.0.4)\n"
          ],
          "name": "stdout"
        }
      ]
    },
    {
      "cell_type": "code",
      "metadata": {
        "colab": {
          "base_uri": "https://localhost:8080/"
        },
        "id": "tGVZEC4Bz3nV",
        "outputId": "b87b09bf-568c-4aa9-9496-6fcbd34a1059"
      },
      "source": [
        "!wandb login"
      ],
      "execution_count": 9,
      "outputs": [
        {
          "output_type": "stream",
          "text": [
            "\u001b[34m\u001b[1mwandb\u001b[0m: Currently logged in as: \u001b[33msakil786\u001b[0m (use `wandb login --relogin` to force relogin)\n"
          ],
          "name": "stdout"
        }
      ]
    },
    {
      "cell_type": "code",
      "metadata": {
        "colab": {
          "base_uri": "https://localhost:8080/"
        },
        "id": "pDcsLk2n0C1Z",
        "outputId": "9bee0a85-8d0b-4bb2-98ea-7eb7f29ab6fc"
      },
      "source": [
        "# Get wind data\n",
        "!wget https://storage.googleapis.com/coronaviruspublicdata/forecast_2/wind.csv\n",
        "!wget https://storage.googleapis.com/coronaviruspublicdata/forecast_2/solar.csv"
      ],
      "execution_count": 10,
      "outputs": [
        {
          "output_type": "stream",
          "text": [
            "--2021-08-16 17:51:21--  https://storage.googleapis.com/coronaviruspublicdata/forecast_2/wind.csv\n",
            "Resolving storage.googleapis.com (storage.googleapis.com)... 142.250.141.128, 142.251.2.128, 2607:f8b0:4023:c0b::80, ...\n",
            "Connecting to storage.googleapis.com (storage.googleapis.com)|142.250.141.128|:443... connected.\n",
            "HTTP request sent, awaiting response... 200 OK\n",
            "Length: 4936771 (4.7M) [text/csv]\n",
            "Saving to: ‘wind.csv.1’\n",
            "\n",
            "\rwind.csv.1            0%[                    ]       0  --.-KB/s               \rwind.csv.1          100%[===================>]   4.71M  --.-KB/s    in 0.03s   \n",
            "\n",
            "2021-08-16 17:51:21 (178 MB/s) - ‘wind.csv.1’ saved [4936771/4936771]\n",
            "\n",
            "--2021-08-16 17:51:21--  https://storage.googleapis.com/coronaviruspublicdata/forecast_2/solar.csv\n",
            "Resolving storage.googleapis.com (storage.googleapis.com)... 142.250.141.128, 142.251.2.128, 2607:f8b0:4023:c0b::80, ...\n",
            "Connecting to storage.googleapis.com (storage.googleapis.com)|142.250.141.128|:443... connected.\n",
            "HTTP request sent, awaiting response... 200 OK\n",
            "Length: 6156494 (5.9M) [text/csv]\n",
            "Saving to: ‘solar.csv.1’\n",
            "\n",
            "solar.csv.1         100%[===================>]   5.87M  --.-KB/s    in 0.02s   \n",
            "\n",
            "2021-08-16 17:51:21 (248 MB/s) - ‘solar.csv.1’ saved [6156494/6156494]\n",
            "\n"
          ],
          "name": "stdout"
        }
      ]
    },
    {
      "cell_type": "code",
      "metadata": {
        "id": "Ba3PAo9B0M4P"
      },
      "source": [
        "wind1 = pd.read_csv('wind.csv')"
      ],
      "execution_count": 11,
      "outputs": []
    },
    {
      "cell_type": "code",
      "metadata": {
        "colab": {
          "base_uri": "https://localhost:8080/",
          "height": 384
        },
        "id": "MdtaNnSB0TaZ",
        "outputId": "d248bd3a-962f-4e1d-8cc9-06a1a5676893"
      },
      "source": [
        "wind1.head()"
      ],
      "execution_count": 12,
      "outputs": [
        {
          "output_type": "execute_result",
          "data": {
            "text/html": [
              "<div>\n",
              "<style scoped>\n",
              "    .dataframe tbody tr th:only-of-type {\n",
              "        vertical-align: middle;\n",
              "    }\n",
              "\n",
              "    .dataframe tbody tr th {\n",
              "        vertical-align: top;\n",
              "    }\n",
              "\n",
              "    .dataframe thead th {\n",
              "        text-align: right;\n",
              "    }\n",
              "</style>\n",
              "<table border=\"1\" class=\"dataframe\">\n",
              "  <thead>\n",
              "    <tr style=\"text-align: right;\">\n",
              "      <th></th>\n",
              "      <th>time</th>\n",
              "      <th>AT</th>\n",
              "      <th>BE</th>\n",
              "      <th>BG</th>\n",
              "      <th>CH</th>\n",
              "      <th>CZ</th>\n",
              "      <th>DE</th>\n",
              "      <th>DK</th>\n",
              "      <th>EE</th>\n",
              "      <th>ES</th>\n",
              "      <th>FI</th>\n",
              "      <th>FR</th>\n",
              "      <th>EL</th>\n",
              "      <th>HR</th>\n",
              "      <th>HU</th>\n",
              "      <th>IE</th>\n",
              "      <th>IT</th>\n",
              "      <th>LT</th>\n",
              "      <th>LU</th>\n",
              "      <th>LV</th>\n",
              "      <th>NL</th>\n",
              "      <th>NO</th>\n",
              "      <th>PL</th>\n",
              "      <th>PT</th>\n",
              "      <th>RO</th>\n",
              "      <th>SI</th>\n",
              "      <th>SK</th>\n",
              "      <th>SE</th>\n",
              "      <th>UK</th>\n",
              "    </tr>\n",
              "  </thead>\n",
              "  <tbody>\n",
              "    <tr>\n",
              "      <th>0</th>\n",
              "      <td>1986-01-01 00:00:00</td>\n",
              "      <td>0.047786</td>\n",
              "      <td>0.023020</td>\n",
              "      <td>0.048940</td>\n",
              "      <td>0.065907</td>\n",
              "      <td>0.041685</td>\n",
              "      <td>0.031583</td>\n",
              "      <td>0.017365</td>\n",
              "      <td>0.014149</td>\n",
              "      <td>0.079043</td>\n",
              "      <td>0.005800</td>\n",
              "      <td>0.049822</td>\n",
              "      <td>0.051933</td>\n",
              "      <td>0.030507</td>\n",
              "      <td>0.025005</td>\n",
              "      <td>0.011889</td>\n",
              "      <td>0.046250</td>\n",
              "      <td>0.035880</td>\n",
              "      <td>0.014839</td>\n",
              "      <td>0.019004</td>\n",
              "      <td>0.014293</td>\n",
              "      <td>0.010351</td>\n",
              "      <td>0.029919</td>\n",
              "      <td>0.076675</td>\n",
              "      <td>0.029107</td>\n",
              "      <td>0.015193</td>\n",
              "      <td>0.054001</td>\n",
              "      <td>0.017463</td>\n",
              "      <td>0.030419</td>\n",
              "    </tr>\n",
              "    <tr>\n",
              "      <th>1</th>\n",
              "      <td>1986-01-02 00:00:00</td>\n",
              "      <td>0.045921</td>\n",
              "      <td>0.036297</td>\n",
              "      <td>0.067995</td>\n",
              "      <td>0.077502</td>\n",
              "      <td>0.026427</td>\n",
              "      <td>0.023506</td>\n",
              "      <td>0.014981</td>\n",
              "      <td>0.015682</td>\n",
              "      <td>0.119019</td>\n",
              "      <td>0.007176</td>\n",
              "      <td>0.063090</td>\n",
              "      <td>0.115133</td>\n",
              "      <td>0.035716</td>\n",
              "      <td>0.039431</td>\n",
              "      <td>0.016575</td>\n",
              "      <td>0.051848</td>\n",
              "      <td>0.016988</td>\n",
              "      <td>0.019510</td>\n",
              "      <td>0.013771</td>\n",
              "      <td>0.020373</td>\n",
              "      <td>0.006469</td>\n",
              "      <td>0.031359</td>\n",
              "      <td>0.106900</td>\n",
              "      <td>0.044379</td>\n",
              "      <td>0.024623</td>\n",
              "      <td>0.034362</td>\n",
              "      <td>0.008086</td>\n",
              "      <td>0.022146</td>\n",
              "    </tr>\n",
              "    <tr>\n",
              "      <th>2</th>\n",
              "      <td>1986-01-03 00:00:00</td>\n",
              "      <td>0.067308</td>\n",
              "      <td>0.021352</td>\n",
              "      <td>0.101287</td>\n",
              "      <td>0.103680</td>\n",
              "      <td>0.057274</td>\n",
              "      <td>0.046181</td>\n",
              "      <td>0.023478</td>\n",
              "      <td>0.009570</td>\n",
              "      <td>0.106574</td>\n",
              "      <td>0.004687</td>\n",
              "      <td>0.048678</td>\n",
              "      <td>0.123855</td>\n",
              "      <td>0.051901</td>\n",
              "      <td>0.029249</td>\n",
              "      <td>0.054734</td>\n",
              "      <td>0.062773</td>\n",
              "      <td>0.017350</td>\n",
              "      <td>0.056217</td>\n",
              "      <td>0.011871</td>\n",
              "      <td>0.010782</td>\n",
              "      <td>0.007217</td>\n",
              "      <td>0.027554</td>\n",
              "      <td>0.160308</td>\n",
              "      <td>0.047235</td>\n",
              "      <td>0.032093</td>\n",
              "      <td>0.023788</td>\n",
              "      <td>0.010004</td>\n",
              "      <td>0.060345</td>\n",
              "    </tr>\n",
              "    <tr>\n",
              "      <th>3</th>\n",
              "      <td>1986-01-04 00:00:00</td>\n",
              "      <td>0.043833</td>\n",
              "      <td>0.050756</td>\n",
              "      <td>0.039337</td>\n",
              "      <td>0.075418</td>\n",
              "      <td>0.025843</td>\n",
              "      <td>0.025011</td>\n",
              "      <td>0.020003</td>\n",
              "      <td>0.008595</td>\n",
              "      <td>0.135060</td>\n",
              "      <td>0.004102</td>\n",
              "      <td>0.092991</td>\n",
              "      <td>0.089767</td>\n",
              "      <td>0.055547</td>\n",
              "      <td>0.044340</td>\n",
              "      <td>0.016779</td>\n",
              "      <td>0.055305</td>\n",
              "      <td>0.019638</td>\n",
              "      <td>0.055925</td>\n",
              "      <td>0.013604</td>\n",
              "      <td>0.030366</td>\n",
              "      <td>0.007998</td>\n",
              "      <td>0.025986</td>\n",
              "      <td>0.208236</td>\n",
              "      <td>0.037510</td>\n",
              "      <td>0.028663</td>\n",
              "      <td>0.018115</td>\n",
              "      <td>0.009546</td>\n",
              "      <td>0.030981</td>\n",
              "    </tr>\n",
              "    <tr>\n",
              "      <th>4</th>\n",
              "      <td>1986-01-05 00:00:00</td>\n",
              "      <td>0.082394</td>\n",
              "      <td>0.014302</td>\n",
              "      <td>0.033055</td>\n",
              "      <td>0.090867</td>\n",
              "      <td>0.065186</td>\n",
              "      <td>0.028168</td>\n",
              "      <td>0.016261</td>\n",
              "      <td>0.009780</td>\n",
              "      <td>0.095232</td>\n",
              "      <td>0.005172</td>\n",
              "      <td>0.045049</td>\n",
              "      <td>0.074312</td>\n",
              "      <td>0.081576</td>\n",
              "      <td>0.082401</td>\n",
              "      <td>0.038972</td>\n",
              "      <td>0.102499</td>\n",
              "      <td>0.020079</td>\n",
              "      <td>0.018873</td>\n",
              "      <td>0.013913</td>\n",
              "      <td>0.012728</td>\n",
              "      <td>0.007241</td>\n",
              "      <td>0.047764</td>\n",
              "      <td>0.115451</td>\n",
              "      <td>0.037254</td>\n",
              "      <td>0.057101</td>\n",
              "      <td>0.072843</td>\n",
              "      <td>0.013872</td>\n",
              "      <td>0.023346</td>\n",
              "    </tr>\n",
              "  </tbody>\n",
              "</table>\n",
              "</div>"
            ],
            "text/plain": [
              "                  time        AT        BE  ...        SK        SE        UK\n",
              "0  1986-01-01 00:00:00  0.047786  0.023020  ...  0.054001  0.017463  0.030419\n",
              "1  1986-01-02 00:00:00  0.045921  0.036297  ...  0.034362  0.008086  0.022146\n",
              "2  1986-01-03 00:00:00  0.067308  0.021352  ...  0.023788  0.010004  0.060345\n",
              "3  1986-01-04 00:00:00  0.043833  0.050756  ...  0.018115  0.009546  0.030981\n",
              "4  1986-01-05 00:00:00  0.082394  0.014302  ...  0.072843  0.013872  0.023346\n",
              "\n",
              "[5 rows x 29 columns]"
            ]
          },
          "metadata": {
            "tags": []
          },
          "execution_count": 12
        }
      ]
    },
    {
      "cell_type": "code",
      "metadata": {
        "id": "RuHvvkFc0XDp"
      },
      "source": [
        "wind=pd.DataFrame(wind1,columns={\"time\",\"AT\"})"
      ],
      "execution_count": 13,
      "outputs": []
    },
    {
      "cell_type": "code",
      "metadata": {
        "colab": {
          "base_uri": "https://localhost:8080/",
          "height": 197
        },
        "id": "XKO_ERgr0bJR",
        "outputId": "0f9c2749-33e2-4591-cecf-0d41c2e57beb"
      },
      "source": [
        "wind.head()"
      ],
      "execution_count": 14,
      "outputs": [
        {
          "output_type": "execute_result",
          "data": {
            "text/html": [
              "<div>\n",
              "<style scoped>\n",
              "    .dataframe tbody tr th:only-of-type {\n",
              "        vertical-align: middle;\n",
              "    }\n",
              "\n",
              "    .dataframe tbody tr th {\n",
              "        vertical-align: top;\n",
              "    }\n",
              "\n",
              "    .dataframe thead th {\n",
              "        text-align: right;\n",
              "    }\n",
              "</style>\n",
              "<table border=\"1\" class=\"dataframe\">\n",
              "  <thead>\n",
              "    <tr style=\"text-align: right;\">\n",
              "      <th></th>\n",
              "      <th>AT</th>\n",
              "      <th>time</th>\n",
              "    </tr>\n",
              "  </thead>\n",
              "  <tbody>\n",
              "    <tr>\n",
              "      <th>0</th>\n",
              "      <td>0.047786</td>\n",
              "      <td>1986-01-01 00:00:00</td>\n",
              "    </tr>\n",
              "    <tr>\n",
              "      <th>1</th>\n",
              "      <td>0.045921</td>\n",
              "      <td>1986-01-02 00:00:00</td>\n",
              "    </tr>\n",
              "    <tr>\n",
              "      <th>2</th>\n",
              "      <td>0.067308</td>\n",
              "      <td>1986-01-03 00:00:00</td>\n",
              "    </tr>\n",
              "    <tr>\n",
              "      <th>3</th>\n",
              "      <td>0.043833</td>\n",
              "      <td>1986-01-04 00:00:00</td>\n",
              "    </tr>\n",
              "    <tr>\n",
              "      <th>4</th>\n",
              "      <td>0.082394</td>\n",
              "      <td>1986-01-05 00:00:00</td>\n",
              "    </tr>\n",
              "  </tbody>\n",
              "</table>\n",
              "</div>"
            ],
            "text/plain": [
              "         AT                 time\n",
              "0  0.047786  1986-01-01 00:00:00\n",
              "1  0.045921  1986-01-02 00:00:00\n",
              "2  0.067308  1986-01-03 00:00:00\n",
              "3  0.043833  1986-01-04 00:00:00\n",
              "4  0.082394  1986-01-05 00:00:00"
            ]
          },
          "metadata": {
            "tags": []
          },
          "execution_count": 14
        }
      ]
    },
    {
      "cell_type": "code",
      "metadata": {
        "colab": {
          "base_uri": "https://localhost:8080/",
          "height": 197
        },
        "id": "BQuL1RI30ehK",
        "outputId": "56f63565-9191-4c23-9a49-4a6a28ac68a9"
      },
      "source": [
        "wind['datetime'] = pd.to_datetime(wind['time']).dt.date\n",
        "wind.set_index('datetime', drop=False)\n",
        "wind.head()"
      ],
      "execution_count": 15,
      "outputs": [
        {
          "output_type": "execute_result",
          "data": {
            "text/html": [
              "<div>\n",
              "<style scoped>\n",
              "    .dataframe tbody tr th:only-of-type {\n",
              "        vertical-align: middle;\n",
              "    }\n",
              "\n",
              "    .dataframe tbody tr th {\n",
              "        vertical-align: top;\n",
              "    }\n",
              "\n",
              "    .dataframe thead th {\n",
              "        text-align: right;\n",
              "    }\n",
              "</style>\n",
              "<table border=\"1\" class=\"dataframe\">\n",
              "  <thead>\n",
              "    <tr style=\"text-align: right;\">\n",
              "      <th></th>\n",
              "      <th>AT</th>\n",
              "      <th>time</th>\n",
              "      <th>datetime</th>\n",
              "    </tr>\n",
              "  </thead>\n",
              "  <tbody>\n",
              "    <tr>\n",
              "      <th>0</th>\n",
              "      <td>0.047786</td>\n",
              "      <td>1986-01-01 00:00:00</td>\n",
              "      <td>1986-01-01</td>\n",
              "    </tr>\n",
              "    <tr>\n",
              "      <th>1</th>\n",
              "      <td>0.045921</td>\n",
              "      <td>1986-01-02 00:00:00</td>\n",
              "      <td>1986-01-02</td>\n",
              "    </tr>\n",
              "    <tr>\n",
              "      <th>2</th>\n",
              "      <td>0.067308</td>\n",
              "      <td>1986-01-03 00:00:00</td>\n",
              "      <td>1986-01-03</td>\n",
              "    </tr>\n",
              "    <tr>\n",
              "      <th>3</th>\n",
              "      <td>0.043833</td>\n",
              "      <td>1986-01-04 00:00:00</td>\n",
              "      <td>1986-01-04</td>\n",
              "    </tr>\n",
              "    <tr>\n",
              "      <th>4</th>\n",
              "      <td>0.082394</td>\n",
              "      <td>1986-01-05 00:00:00</td>\n",
              "      <td>1986-01-05</td>\n",
              "    </tr>\n",
              "  </tbody>\n",
              "</table>\n",
              "</div>"
            ],
            "text/plain": [
              "         AT                 time    datetime\n",
              "0  0.047786  1986-01-01 00:00:00  1986-01-01\n",
              "1  0.045921  1986-01-02 00:00:00  1986-01-02\n",
              "2  0.067308  1986-01-03 00:00:00  1986-01-03\n",
              "3  0.043833  1986-01-04 00:00:00  1986-01-04\n",
              "4  0.082394  1986-01-05 00:00:00  1986-01-05"
            ]
          },
          "metadata": {
            "tags": []
          },
          "execution_count": 15
        }
      ]
    },
    {
      "cell_type": "code",
      "metadata": {
        "id": "i9Q_OMz10ilN"
      },
      "source": [
        ""
      ],
      "execution_count": null,
      "outputs": []
    },
    {
      "cell_type": "markdown",
      "metadata": {
        "id": "4mMBOacY0ndt"
      },
      "source": [
        "**Pre training on Wind Data**"
      ]
    },
    {
      "cell_type": "code",
      "metadata": {
        "colab": {
          "base_uri": "https://localhost:8080/",
          "height": 197
        },
        "id": "HsAZiKBb0qnQ",
        "outputId": "3fed0044-783e-4c3a-b62a-030353631e6e"
      },
      "source": [
        "import pandas as pd\n",
        "\n",
        "wind['datetime'] = pd.to_datetime(wind['time']).dt.date\n",
        "wind.set_index('datetime', drop=False)\n",
        "wind.head()"
      ],
      "execution_count": 16,
      "outputs": [
        {
          "output_type": "execute_result",
          "data": {
            "text/html": [
              "<div>\n",
              "<style scoped>\n",
              "    .dataframe tbody tr th:only-of-type {\n",
              "        vertical-align: middle;\n",
              "    }\n",
              "\n",
              "    .dataframe tbody tr th {\n",
              "        vertical-align: top;\n",
              "    }\n",
              "\n",
              "    .dataframe thead th {\n",
              "        text-align: right;\n",
              "    }\n",
              "</style>\n",
              "<table border=\"1\" class=\"dataframe\">\n",
              "  <thead>\n",
              "    <tr style=\"text-align: right;\">\n",
              "      <th></th>\n",
              "      <th>AT</th>\n",
              "      <th>time</th>\n",
              "      <th>datetime</th>\n",
              "    </tr>\n",
              "  </thead>\n",
              "  <tbody>\n",
              "    <tr>\n",
              "      <th>0</th>\n",
              "      <td>0.047786</td>\n",
              "      <td>1986-01-01 00:00:00</td>\n",
              "      <td>1986-01-01</td>\n",
              "    </tr>\n",
              "    <tr>\n",
              "      <th>1</th>\n",
              "      <td>0.045921</td>\n",
              "      <td>1986-01-02 00:00:00</td>\n",
              "      <td>1986-01-02</td>\n",
              "    </tr>\n",
              "    <tr>\n",
              "      <th>2</th>\n",
              "      <td>0.067308</td>\n",
              "      <td>1986-01-03 00:00:00</td>\n",
              "      <td>1986-01-03</td>\n",
              "    </tr>\n",
              "    <tr>\n",
              "      <th>3</th>\n",
              "      <td>0.043833</td>\n",
              "      <td>1986-01-04 00:00:00</td>\n",
              "      <td>1986-01-04</td>\n",
              "    </tr>\n",
              "    <tr>\n",
              "      <th>4</th>\n",
              "      <td>0.082394</td>\n",
              "      <td>1986-01-05 00:00:00</td>\n",
              "      <td>1986-01-05</td>\n",
              "    </tr>\n",
              "  </tbody>\n",
              "</table>\n",
              "</div>"
            ],
            "text/plain": [
              "         AT                 time    datetime\n",
              "0  0.047786  1986-01-01 00:00:00  1986-01-01\n",
              "1  0.045921  1986-01-02 00:00:00  1986-01-02\n",
              "2  0.067308  1986-01-03 00:00:00  1986-01-03\n",
              "3  0.043833  1986-01-04 00:00:00  1986-01-04\n",
              "4  0.082394  1986-01-05 00:00:00  1986-01-05"
            ]
          },
          "metadata": {
            "tags": []
          },
          "execution_count": 16
        }
      ]
    },
    {
      "cell_type": "code",
      "metadata": {
        "colab": {
          "base_uri": "https://localhost:8080/"
        },
        "id": "_lhc8O6M0_e2",
        "outputId": "0b752d49-80f6-45ff-b83c-2a0ba0b0d151"
      },
      "source": [
        "!pip install pycountry"
      ],
      "execution_count": 17,
      "outputs": [
        {
          "output_type": "stream",
          "text": [
            "Requirement already satisfied: pycountry in /usr/local/lib/python3.7/dist-packages (20.7.3)\n"
          ],
          "name": "stdout"
        }
      ]
    },
    {
      "cell_type": "code",
      "metadata": {
        "colab": {
          "base_uri": "https://localhost:8080/"
        },
        "id": "jxFc11rm1DkY",
        "outputId": "4e665d73-6e78-43f7-a58d-defade0eb766"
      },
      "source": [
        "import pycountry\n",
        "names = {}\n",
        "for code in wind.columns:\n",
        "    try:\n",
        "        names[code] = pycountry.countries.get(alpha_2=code).name\n",
        "    except:\n",
        "        print(code)"
      ],
      "execution_count": 18,
      "outputs": [
        {
          "output_type": "stream",
          "text": [
            "time\n",
            "datetime\n"
          ],
          "name": "stdout"
        }
      ]
    },
    {
      "cell_type": "code",
      "metadata": {
        "id": "YYBNOQQJ1Hl2"
      },
      "source": [
        "wind.rename(columns = names, inplace=True)\n",
        "# wind['year'] = pd.to_datetime(wind['time']).map(lambda x: x.year)\n",
        "wind['month'] = pd.to_datetime(wind['time']).map(lambda x: x.month)\n",
        "wind['weekday'] = pd.to_datetime(wind['time']).map(lambda x: x.weekday())"
      ],
      "execution_count": 19,
      "outputs": []
    },
    {
      "cell_type": "code",
      "metadata": {
        "colab": {
          "base_uri": "https://localhost:8080/",
          "height": 197
        },
        "id": "PaYBuXus1ML7",
        "outputId": "65aad335-ec4e-4867-f377-14ed0784dbcf"
      },
      "source": [
        "wind.head()"
      ],
      "execution_count": 20,
      "outputs": [
        {
          "output_type": "execute_result",
          "data": {
            "text/html": [
              "<div>\n",
              "<style scoped>\n",
              "    .dataframe tbody tr th:only-of-type {\n",
              "        vertical-align: middle;\n",
              "    }\n",
              "\n",
              "    .dataframe tbody tr th {\n",
              "        vertical-align: top;\n",
              "    }\n",
              "\n",
              "    .dataframe thead th {\n",
              "        text-align: right;\n",
              "    }\n",
              "</style>\n",
              "<table border=\"1\" class=\"dataframe\">\n",
              "  <thead>\n",
              "    <tr style=\"text-align: right;\">\n",
              "      <th></th>\n",
              "      <th>Austria</th>\n",
              "      <th>time</th>\n",
              "      <th>datetime</th>\n",
              "      <th>month</th>\n",
              "      <th>weekday</th>\n",
              "    </tr>\n",
              "  </thead>\n",
              "  <tbody>\n",
              "    <tr>\n",
              "      <th>0</th>\n",
              "      <td>0.047786</td>\n",
              "      <td>1986-01-01 00:00:00</td>\n",
              "      <td>1986-01-01</td>\n",
              "      <td>1</td>\n",
              "      <td>2</td>\n",
              "    </tr>\n",
              "    <tr>\n",
              "      <th>1</th>\n",
              "      <td>0.045921</td>\n",
              "      <td>1986-01-02 00:00:00</td>\n",
              "      <td>1986-01-02</td>\n",
              "      <td>1</td>\n",
              "      <td>3</td>\n",
              "    </tr>\n",
              "    <tr>\n",
              "      <th>2</th>\n",
              "      <td>0.067308</td>\n",
              "      <td>1986-01-03 00:00:00</td>\n",
              "      <td>1986-01-03</td>\n",
              "      <td>1</td>\n",
              "      <td>4</td>\n",
              "    </tr>\n",
              "    <tr>\n",
              "      <th>3</th>\n",
              "      <td>0.043833</td>\n",
              "      <td>1986-01-04 00:00:00</td>\n",
              "      <td>1986-01-04</td>\n",
              "      <td>1</td>\n",
              "      <td>5</td>\n",
              "    </tr>\n",
              "    <tr>\n",
              "      <th>4</th>\n",
              "      <td>0.082394</td>\n",
              "      <td>1986-01-05 00:00:00</td>\n",
              "      <td>1986-01-05</td>\n",
              "      <td>1</td>\n",
              "      <td>6</td>\n",
              "    </tr>\n",
              "  </tbody>\n",
              "</table>\n",
              "</div>"
            ],
            "text/plain": [
              "    Austria                 time    datetime  month  weekday\n",
              "0  0.047786  1986-01-01 00:00:00  1986-01-01      1        2\n",
              "1  0.045921  1986-01-02 00:00:00  1986-01-02      1        3\n",
              "2  0.067308  1986-01-03 00:00:00  1986-01-03      1        4\n",
              "3  0.043833  1986-01-04 00:00:00  1986-01-04      1        5\n",
              "4  0.082394  1986-01-05 00:00:00  1986-01-05      1        6"
            ]
          },
          "metadata": {
            "tags": []
          },
          "execution_count": 20
        }
      ]
    },
    {
      "cell_type": "code",
      "metadata": {
        "colab": {
          "base_uri": "https://localhost:8080/",
          "height": 214
        },
        "id": "T6cV4Gkh1PkG",
        "outputId": "06dfdb08-0ca7-4f46-a816-f656237e073d"
      },
      "source": [
        "# Making seperate dataframes for each country's data and saving in seperate CSV files\n",
        "!mkdir wind\n",
        "country_wise = {}\n",
        "for country in names.values():\n",
        "    country_wise[country] = wind[['datetime', 'month', 'weekday', country]]\n",
        "    country_wise[country].to_csv('wind/'+country+'.csv')\n",
        "country_wise[list(country_wise.keys())[0]].head()"
      ],
      "execution_count": 21,
      "outputs": [
        {
          "output_type": "stream",
          "text": [
            "mkdir: cannot create directory ‘wind’: File exists\n"
          ],
          "name": "stdout"
        },
        {
          "output_type": "execute_result",
          "data": {
            "text/html": [
              "<div>\n",
              "<style scoped>\n",
              "    .dataframe tbody tr th:only-of-type {\n",
              "        vertical-align: middle;\n",
              "    }\n",
              "\n",
              "    .dataframe tbody tr th {\n",
              "        vertical-align: top;\n",
              "    }\n",
              "\n",
              "    .dataframe thead th {\n",
              "        text-align: right;\n",
              "    }\n",
              "</style>\n",
              "<table border=\"1\" class=\"dataframe\">\n",
              "  <thead>\n",
              "    <tr style=\"text-align: right;\">\n",
              "      <th></th>\n",
              "      <th>datetime</th>\n",
              "      <th>month</th>\n",
              "      <th>weekday</th>\n",
              "      <th>Austria</th>\n",
              "    </tr>\n",
              "  </thead>\n",
              "  <tbody>\n",
              "    <tr>\n",
              "      <th>0</th>\n",
              "      <td>1986-01-01</td>\n",
              "      <td>1</td>\n",
              "      <td>2</td>\n",
              "      <td>0.047786</td>\n",
              "    </tr>\n",
              "    <tr>\n",
              "      <th>1</th>\n",
              "      <td>1986-01-02</td>\n",
              "      <td>1</td>\n",
              "      <td>3</td>\n",
              "      <td>0.045921</td>\n",
              "    </tr>\n",
              "    <tr>\n",
              "      <th>2</th>\n",
              "      <td>1986-01-03</td>\n",
              "      <td>1</td>\n",
              "      <td>4</td>\n",
              "      <td>0.067308</td>\n",
              "    </tr>\n",
              "    <tr>\n",
              "      <th>3</th>\n",
              "      <td>1986-01-04</td>\n",
              "      <td>1</td>\n",
              "      <td>5</td>\n",
              "      <td>0.043833</td>\n",
              "    </tr>\n",
              "    <tr>\n",
              "      <th>4</th>\n",
              "      <td>1986-01-05</td>\n",
              "      <td>1</td>\n",
              "      <td>6</td>\n",
              "      <td>0.082394</td>\n",
              "    </tr>\n",
              "  </tbody>\n",
              "</table>\n",
              "</div>"
            ],
            "text/plain": [
              "     datetime  month  weekday   Austria\n",
              "0  1986-01-01      1        2  0.047786\n",
              "1  1986-01-02      1        3  0.045921\n",
              "2  1986-01-03      1        4  0.067308\n",
              "3  1986-01-04      1        5  0.043833\n",
              "4  1986-01-05      1        6  0.082394"
            ]
          },
          "metadata": {
            "tags": []
          },
          "execution_count": 21
        }
      ]
    },
    {
      "cell_type": "code",
      "metadata": {
        "colab": {
          "base_uri": "https://localhost:8080/",
          "height": 197
        },
        "id": "cqPwi-ft1aHN",
        "outputId": "84114fc7-0125-4d47-8d46-8f0382a1e5c6"
      },
      "source": [
        "wind.tail()"
      ],
      "execution_count": 22,
      "outputs": [
        {
          "output_type": "execute_result",
          "data": {
            "text/html": [
              "<div>\n",
              "<style scoped>\n",
              "    .dataframe tbody tr th:only-of-type {\n",
              "        vertical-align: middle;\n",
              "    }\n",
              "\n",
              "    .dataframe tbody tr th {\n",
              "        vertical-align: top;\n",
              "    }\n",
              "\n",
              "    .dataframe thead th {\n",
              "        text-align: right;\n",
              "    }\n",
              "</style>\n",
              "<table border=\"1\" class=\"dataframe\">\n",
              "  <thead>\n",
              "    <tr style=\"text-align: right;\">\n",
              "      <th></th>\n",
              "      <th>Austria</th>\n",
              "      <th>time</th>\n",
              "      <th>datetime</th>\n",
              "      <th>month</th>\n",
              "      <th>weekday</th>\n",
              "    </tr>\n",
              "  </thead>\n",
              "  <tbody>\n",
              "    <tr>\n",
              "      <th>10952</th>\n",
              "      <td>0.119231</td>\n",
              "      <td>2015-12-27 00:00:00</td>\n",
              "      <td>2015-12-27</td>\n",
              "      <td>12</td>\n",
              "      <td>6</td>\n",
              "    </tr>\n",
              "    <tr>\n",
              "      <th>10953</th>\n",
              "      <td>0.128963</td>\n",
              "      <td>2015-12-28 00:00:00</td>\n",
              "      <td>2015-12-28</td>\n",
              "      <td>12</td>\n",
              "      <td>0</td>\n",
              "    </tr>\n",
              "    <tr>\n",
              "      <th>10954</th>\n",
              "      <td>0.094872</td>\n",
              "      <td>2015-12-29 00:00:00</td>\n",
              "      <td>2015-12-29</td>\n",
              "      <td>12</td>\n",
              "      <td>1</td>\n",
              "    </tr>\n",
              "    <tr>\n",
              "      <th>10955</th>\n",
              "      <td>0.086713</td>\n",
              "      <td>2015-12-30 00:00:00</td>\n",
              "      <td>2015-12-30</td>\n",
              "      <td>12</td>\n",
              "      <td>2</td>\n",
              "    </tr>\n",
              "    <tr>\n",
              "      <th>10956</th>\n",
              "      <td>0.111772</td>\n",
              "      <td>2015-12-31 00:00:00</td>\n",
              "      <td>2015-12-31</td>\n",
              "      <td>12</td>\n",
              "      <td>3</td>\n",
              "    </tr>\n",
              "  </tbody>\n",
              "</table>\n",
              "</div>"
            ],
            "text/plain": [
              "        Austria                 time    datetime  month  weekday\n",
              "10952  0.119231  2015-12-27 00:00:00  2015-12-27     12        6\n",
              "10953  0.128963  2015-12-28 00:00:00  2015-12-28     12        0\n",
              "10954  0.094872  2015-12-29 00:00:00  2015-12-29     12        1\n",
              "10955  0.086713  2015-12-30 00:00:00  2015-12-30     12        2\n",
              "10956  0.111772  2015-12-31 00:00:00  2015-12-31     12        3"
            ]
          },
          "metadata": {
            "tags": []
          },
          "execution_count": 22
        }
      ]
    },
    {
      "cell_type": "code",
      "metadata": {
        "id": "oaS9WqhC1dsc"
      },
      "source": [
        "# Config file for WanDB sweeps\n",
        "\n",
        "def make_config_file1(file_path, df_len):\n",
        "  run = wandb.init(project=\"pretrained-wind-updatedfinal\")\n",
        "  wandb_config = wandb.config\n",
        "  train_number = df_len * .7\n",
        "  validation_number = df_len *.9\n",
        "  config_default={                 \n",
        "    \"model_name\": \"MultiAttnHeadSimple\",\n",
        "    \"model_type\": \"PyTorch\",\n",
        "    \"model_params\": {\n",
        "      \"number_time_series\": 3,\n",
        "      \"seq_len\":wandb_config[\"forecast_history\"], \n",
        "      \"output_seq_len\":wandb_config[\"out_seq_length\"],\n",
        "      \"forecast_length\":wandb_config[\"out_seq_length\"]\n",
        "     },\n",
        "    \"dataset_params\":\n",
        "    {  \"class\": \"default\",\n",
        "       \"training_path\": file_path,\n",
        "       \"validation_path\": file_path,\n",
        "       \"test_path\": file_path,\n",
        "       \"batch_size\":wandb_config[\"batch_size\"],\n",
        "       \"forecast_history\":wandb_config[\"forecast_history\"],\n",
        "       \"forecast_length\":wandb_config[\"out_seq_length\"],\n",
        "       \"train_end\": int(train_number),\n",
        "       \"valid_start\":int(train_number+1),\n",
        "       \"valid_end\": int(validation_number),\n",
        "       \"target_col\": [file_path.split('.')[0].split('/')[1]],\n",
        "       \"relevant_cols\": [file_path.split('.')[0].split('/')[1], \"month\", \"weekday\"],\n",
        "       \"scaler\": \"StandardScaler\", \n",
        "       \"interpolate\": False\n",
        "    },\n",
        "    \"training_params\":\n",
        "    {\n",
        "       \"criterion\":\"MSE\",\n",
        "       \"optimizer\": \"Adam\",\n",
        "       \"optim_params\":\n",
        "       {\n",
        "\n",
        "       },\n",
        "       \"lr\": wandb_config[\"lr\"],\n",
        "       \"epochs\": 10,\n",
        "       \"batch_size\":wandb_config[\"batch_size\"]\n",
        "    \n",
        "    },\n",
        "    \"GCS\": False,\n",
        "    \n",
        "    \"sweep\":True,\n",
        "    \"wandb\":False,\n",
        "    \"forward_params\":{},\n",
        "   \"metrics\":[\"MSE\"],\n",
        "   \"inference_params\":\n",
        "   {     \n",
        "         \"datetime_start\":\"2010-01-01\",\n",
        "          \"hours_to_forecast\": 50, \n",
        "          \"test_csv_path\":file_path,\n",
        "          \"decoder_params\":{\n",
        "              \"decoder_function\": \"simple_decode\", \n",
        "            \"unsqueeze_dim\": 1\n",
        "          },\n",
        "          \"dataset_params\":{\n",
        "             \"file_path\": file_path,\n",
        "             \"forecast_history\":wandb_config[\"forecast_history\"],\n",
        "             \"forecast_length\":wandb_config[\"out_seq_length\"],\n",
        "             \"relevant_cols\": [file_path.split('.')[0].split('/')[1], \"month\", \"weekday\"],\n",
        "             \"target_col\": [file_path.split('.')[0].split('/')[1]],\n",
        "             \"scaling\": \"StandardScaler\",\n",
        "             \"interpolate_param\": False\n",
        "          }\n",
        "      }\n",
        "  }\n",
        "  wandb.config.update(config_default)\n",
        "  return config_default\n",
        "\n",
        "sweep_config = {\n",
        "  \"name\": \"Default sweep\",\n",
        "  \"method\": \"grid\",\n",
        "  \"parameters\": {\n",
        "        \"batch_size\": {\n",
        "            \"values\": [2]\n",
        "        },\n",
        "        \"lr\":{\n",
        "            \"values\":[0.001]\n",
        "        },\n",
        "        \"forecast_history\":{\n",
        "            \"values\":[1, 2]\n",
        "        },\n",
        "        \"out_seq_length\":{\n",
        "            \"values\":[1, 2]\n",
        "        }\n",
        "    }\n",
        "}"
      ],
      "execution_count": 23,
      "outputs": []
    },
    {
      "cell_type": "code",
      "metadata": {
        "colab": {
          "base_uri": "https://localhost:8080/"
        },
        "id": "GcpyNnko1tiX",
        "outputId": "ca33b409-eb1b-416d-af87-42d4115f9946"
      },
      "source": [
        "import os\n",
        "import pandas as pd\n",
        "\n",
        "# The countries we will be pretraining our wind data on\n",
        "os.listdir('wind')"
      ],
      "execution_count": 24,
      "outputs": [
        {
          "output_type": "execute_result",
          "data": {
            "text/plain": [
              "['Austria.csv']"
            ]
          },
          "metadata": {
            "tags": []
          },
          "execution_count": 24
        }
      ]
    },
    {
      "cell_type": "code",
      "metadata": {
        "colab": {
          "base_uri": "https://localhost:8080/",
          "height": 1000,
          "referenced_widgets": [
            "f933a8043c97447f8419ce8d1f17eb32",
            "91c75795bf68457cba3e0a59e69b563b",
            "fbd4944cb3004d78a3904f41f058055d",
            "86d516a9c0fe41a9830eeb65e55ff8fd",
            "26d12e8845ef41638d1d94f7d6a37ca2",
            "88afae044714459bae287bd48d10f241",
            "485fdebea3b440c5a7bd79715fb65938",
            "6790232ef2694c50ba217ff541c38f1e",
            "0355f32459d64205b89750cd68e97db2",
            "d3895159bb0d4c949905398ef8fe5d7c",
            "7602bf172e88411aa91123c6f650ab28",
            "aa8d1722e2c54d46956908dfab3aefba",
            "bbd74f2eb1db48f1a86c13efa1d39570",
            "401585ea1f4a4f53afbac788a6a11fd8",
            "9f04db06470f48bf9036e175e0421730",
            "2da79cd63a7449c2acc4350bdb5ef6f7",
            "85e08d0fb7d94d5f9ae5177837d9b169",
            "7fbac16eb5df4483ade3aee7cf4d5571",
            "edd2c608fe6540f3b1602c8bc54b7337",
            "d16d2760f4fc4d3f8db8661e0fc38323",
            "d44975ee141e4c5fba830ae3600a51e4",
            "0f61f4e5120740fb82a8e93fa603d9ca",
            "03c8a5072aff4f3ba30579506dddf31f",
            "4ac523f06f534a64afdeacd56c613998",
            "45c20b7293324f29b9fa5b9a05e63f14",
            "3bd998849de34274a5f948921effa58e",
            "efdd14cb232144f496ca41e91866b994",
            "54f8c4220c2e4931b21c78800176c4f1",
            "cba648ac394a4e00bd9fc7261396cebb",
            "c9abfdc765224d919b2c3a318e28b7f9",
            "b7cec4fd3f084b2a8b7a1819cb5c0d92",
            "7c1a55079a794edaa8c68cb511cc5534"
          ]
        },
        "id": "WJ9H1In13dki",
        "outputId": "460641b3-b942-4465-dbfe-d67cfdf8d1fb"
      },
      "source": [
        "# This definitely works\n",
        "import wandb\n",
        "for country in os.listdir('wind'):\n",
        "    file_path = 'wind/'+country\n",
        "    full_len = len(pd.read_csv(file_path))\n",
        "    sweep_id = wandb.sweep(sweep_config, project=\"pretrained-wind-updatedfinal\")\n",
        "    wandb.agent(sweep_id, lambda:train_function(\"PyTorch\", make_config_file1(file_path, full_len)))\n",
        "    #!gsutil cp -n -r model_save gs://coronaviruspublicdata/pretrained"
      ],
      "execution_count": 25,
      "outputs": [
        {
          "output_type": "stream",
          "text": [
            "Create sweep with ID: xynsw8b3\n",
            "Sweep URL: https://wandb.ai/sakil786/pretrained-wind-updatedfinal/sweeps/xynsw8b3\n"
          ],
          "name": "stdout"
        },
        {
          "output_type": "stream",
          "text": [
            "\u001b[34m\u001b[1mwandb\u001b[0m: Agent Starting Run: htbbwtha with config:\n",
            "\u001b[34m\u001b[1mwandb\u001b[0m: \tbatch_size: 2\n",
            "\u001b[34m\u001b[1mwandb\u001b[0m: \tforecast_history: 1\n",
            "\u001b[34m\u001b[1mwandb\u001b[0m: \tlr: 0.001\n",
            "\u001b[34m\u001b[1mwandb\u001b[0m: \tout_seq_length: 1\n",
            "\u001b[34m\u001b[1mwandb\u001b[0m: Currently logged in as: \u001b[33msakil786\u001b[0m (use `wandb login --relogin` to force relogin)\n",
            "\u001b[34m\u001b[1mwandb\u001b[0m: \u001b[33mWARNING\u001b[0m Ignored wandb.init() arg project when running a sweep\n",
            "\u001b[34m\u001b[1mwandb\u001b[0m: wandb version 0.12.0 is available!  To upgrade, please run:\n",
            "\u001b[34m\u001b[1mwandb\u001b[0m:  $ pip install wandb --upgrade\n"
          ],
          "name": "stderr"
        },
        {
          "output_type": "display_data",
          "data": {
            "text/html": [
              "\n",
              "                Tracking run with wandb version 0.11.0<br/>\n",
              "                Syncing run <strong style=\"color:#cdcd00\">fragrant-sweep-1</strong> to <a href=\"https://wandb.ai\" target=\"_blank\">Weights & Biases</a> <a href=\"https://docs.wandb.com/integrations/jupyter.html\" target=\"_blank\">(Documentation)</a>.<br/>\n",
              "                Project page: <a href=\"https://wandb.ai/sakil786/pretrained-wind-updatedfinal\" target=\"_blank\">https://wandb.ai/sakil786/pretrained-wind-updatedfinal</a><br/>\n",
              "                Sweep page: <a href=\"https://wandb.ai/sakil786/pretrained-wind-updatedfinal/sweeps/xynsw8b3\" target=\"_blank\">https://wandb.ai/sakil786/pretrained-wind-updatedfinal/sweeps/xynsw8b3</a><br/>\n",
              "Run page: <a href=\"https://wandb.ai/sakil786/pretrained-wind-updatedfinal/runs/htbbwtha\" target=\"_blank\">https://wandb.ai/sakil786/pretrained-wind-updatedfinal/runs/htbbwtha</a><br/>\n",
              "                Run data is saved locally in <code>/content/github_aistream-peelout_flow-forecast/wandb/run-20210816_175406-htbbwtha</code><br/><br/>\n",
              "            "
            ],
            "text/plain": [
              "<IPython.core.display.HTML object>"
            ]
          },
          "metadata": {
            "tags": []
          }
        },
        {
          "output_type": "stream",
          "text": [
            "interpolate should be below\n",
            "[]\n",
            "Now loading wind/Austria.csv\n",
            "scaling now\n",
            "interpolate should be below\n",
            "[]\n",
            "Now loading wind/Austria.csv\n",
            "scaling now\n",
            "interpolate should be below\n",
            "[]\n",
            "Now loading wind/Austria.csv\n",
            "scaling now\n",
            "Using Wandb config:\n",
            "{'batch_size': 2, 'forecast_history': 1, 'lr': 0.001, 'out_seq_length': 1, 'model_name': 'MultiAttnHeadSimple', 'model_type': 'PyTorch', 'model_params': {'number_time_series': 3, 'seq_len': 1, 'output_seq_len': 1, 'forecast_length': 1}, 'dataset_params': {'class': 'default', 'training_path': 'wind/Austria.csv', 'validation_path': 'wind/Austria.csv', 'test_path': 'wind/Austria.csv', 'batch_size': 2, 'forecast_history': 1, 'forecast_length': 1, 'train_end': 7669, 'valid_start': 7670, 'valid_end': 9861, 'target_col': ['Austria'], 'relevant_cols': ['Austria', 'month', 'weekday'], 'scaler': 'StandardScaler', 'interpolate': False}, 'training_params': {'criterion': 'MSE', 'optimizer': 'Adam', 'optim_params': {}, 'lr': 0.001, 'epochs': 10, 'batch_size': 2}, 'GCS': False, 'sweep': True, 'wandb': False, 'forward_params': {}, 'metrics': ['MSE'], 'inference_params': {'datetime_start': '2010-01-01', 'hours_to_forecast': 50, 'test_csv_path': 'wind/Austria.csv', 'decoder_params': {'decoder_function': 'simple_decode', 'unsqueeze_dim': 1}, 'dataset_params': {'file_path': 'wind/Austria.csv', 'forecast_history': 1, 'forecast_length': 1, 'relevant_cols': ['Austria', 'month', 'weekday'], 'target_col': ['Austria'], 'scaling': 'StandardScaler', 'interpolate_param': False}}}\n",
            "Torch is using cuda\n",
            "running torch_single_train\n",
            "The running loss is: \n",
            "1987.087808022654\n",
            "The number of items in train is: 3833\n",
            "The loss for epoch 0\n",
            "0.5184158121634892\n",
            "Computing validation loss\n",
            "running torch_single_train\n",
            "The running loss is: \n",
            "1954.4735553626015\n",
            "The number of items in train is: 3833\n",
            "The loss for epoch 1\n",
            "0.5099070063560139\n",
            "Computing validation loss\n",
            "running torch_single_train\n",
            "The running loss is: \n",
            "1946.6280647093931\n",
            "The number of items in train is: 3833\n",
            "The loss for epoch 2\n",
            "0.5078601786353752\n",
            "Computing validation loss\n",
            "running torch_single_train\n",
            "The running loss is: \n",
            "1976.97406757492\n",
            "The number of items in train is: 3833\n",
            "The loss for epoch 3\n",
            "0.5157772156469919\n",
            "Computing validation loss\n",
            "running torch_single_train\n",
            "The running loss is: \n",
            "1982.817615889524\n",
            "The number of items in train is: 3833\n",
            "The loss for epoch 4\n",
            "0.5173017521235387\n",
            "Computing validation loss\n",
            "running torch_single_train\n",
            "The running loss is: \n",
            "1963.9638952080277\n",
            "The number of items in train is: 3833\n",
            "The loss for epoch 5\n",
            "0.5123829624857886\n",
            "Computing validation loss\n",
            "running torch_single_train\n",
            "The running loss is: \n",
            "1967.3338003430836\n",
            "The number of items in train is: 3833\n",
            "The loss for epoch 6\n",
            "0.5132621446238151\n",
            "Computing validation loss\n",
            "running torch_single_train\n",
            "The running loss is: \n",
            "1964.2475223114525\n",
            "The number of items in train is: 3833\n",
            "The loss for epoch 7\n",
            "0.5124569585993876\n",
            "Computing validation loss\n",
            "running torch_single_train\n",
            "The running loss is: \n",
            "1954.5829881108766\n",
            "The number of items in train is: 3833\n",
            "The loss for epoch 8\n",
            "0.5099355565120993\n",
            "Computing validation loss\n",
            "running torch_single_train\n",
            "The running loss is: \n",
            "1939.8005781940592\n",
            "The number of items in train is: 3833\n",
            "The loss for epoch 9\n",
            "0.506078940306303\n",
            "Computing validation loss\n",
            "Computing validation loss\n",
            "test loss: 5498.807844256572\n",
            "This model is currently forecasting for : 1 targets\n",
            "interpolate should be below\n",
            "[]\n",
            "Now loading wind/Austria.csv\n",
            "scaling now\n",
            "CSV Path below\n",
            "wind/Austria.csv\n",
            "Add debugging crap below\n",
            "transform end tens preform\n",
            "Un-transforming data\n",
            "Current historical dataframe \n",
            "      Unnamed: 0   datetime  month  ...  original_index     preds  pred_Austria\n",
            "8765        8765 2009-12-31     12  ...            8765  0.000000      0.000000\n",
            "8766        8766 2010-01-01      1  ...            8766  0.068364      0.068364\n",
            "8767        8767 2010-01-02      1  ...            8767  0.101466      0.101466\n",
            "8768        8768 2010-01-03      1  ...            8768  0.125147      0.125147\n",
            "8769        8769 2010-01-04      1  ...            8769  0.142064      0.142064\n",
            "8770        8770 2010-01-05      1  ...            8770  0.154741      0.154741\n",
            "8771        8771 2010-01-06      1  ...            8771  0.163756      0.163756\n",
            "8772        8772 2010-01-07      1  ...            8772  0.170141      0.170141\n",
            "8773        8773 2010-01-08      1  ...            8773  0.174637      0.174637\n",
            "8774        8774 2010-01-09      1  ...            8774  0.177778      0.177778\n",
            "8775        8775 2010-01-10      1  ...            8775  0.179944      0.179944\n",
            "8776        8776 2010-01-11      1  ...            8776  0.181411      0.181411\n",
            "8777        8777 2010-01-12      1  ...            8777  0.182995      0.182995\n",
            "8778        8778 2010-01-13      1  ...            8778  0.184044      0.184044\n",
            "8779        8779 2010-01-14      1  ...            8779  0.184709      0.184709\n",
            "8780        8780 2010-01-15      1  ...            8780  0.185098      0.185098\n",
            "8781        8781 2010-01-16      1  ...            8781  0.185289      0.185289\n",
            "8782        8782 2010-01-17      1  ...            8782  0.185338      0.185338\n",
            "8783        8783 2010-01-18      1  ...            8783  0.185284      0.185284\n",
            "8784        8784 2010-01-19      1  ...            8784  0.185776      0.185776\n",
            "8785        8785 2010-01-20      1  ...            8785  0.186041      0.186041\n",
            "8786        8786 2010-01-21      1  ...            8786  0.186143      0.186143\n",
            "8787        8787 2010-01-22      1  ...            8787  0.186128      0.186128\n",
            "8788        8788 2010-01-23      1  ...            8788  0.186029      0.186029\n",
            "8789        8789 2010-01-24      1  ...            8789  0.185869      0.185869\n",
            "8790        8790 2010-01-25      1  ...            8790  0.185666      0.185666\n",
            "8791        8791 2010-01-26      1  ...            8791  0.186050      0.186050\n",
            "8792        8792 2010-01-27      1  ...            8792  0.186238      0.186238\n",
            "8793        8793 2010-01-28      1  ...            8793  0.186284      0.186284\n",
            "8794        8794 2010-01-29      1  ...            8794  0.186229      0.186229\n",
            "8795        8795 2010-01-30      1  ...            8795  0.186101      0.186101\n",
            "8796        8796 2010-01-31      1  ...            8796  0.185921      0.185921\n",
            "8797        8797 2010-02-01      2  ...            8797  0.185703      0.185703\n",
            "8798        8798 2010-02-02      2  ...            8798  0.183897      0.183897\n",
            "8799        8799 2010-02-03      2  ...            8799  0.182512      0.182512\n",
            "8800        8800 2010-02-04      2  ...            8800  0.181429      0.181429\n",
            "8801        8801 2010-02-05      2  ...            8801  0.180563      0.180563\n",
            "8802        8802 2010-02-06      2  ...            8802  0.179852      0.179852\n",
            "8803        8803 2010-02-07      2  ...            8803  0.179254      0.179254\n",
            "8804        8804 2010-02-08      2  ...            8804  0.178736      0.178736\n",
            "8805        8805 2010-02-09      2  ...            8805  0.178894      0.178894\n",
            "8806        8806 2010-02-10      2  ...            8806  0.178919      0.178919\n",
            "8807        8807 2010-02-11      2  ...            8807  0.178849      0.178849\n",
            "8808        8808 2010-02-12      2  ...            8808  0.178710      0.178710\n",
            "8809        8809 2010-02-13      2  ...            8809  0.178522      0.178522\n",
            "8810        8810 2010-02-14      2  ...            8810  0.178299      0.178299\n",
            "8811        8811 2010-02-15      2  ...            8811  0.178050      0.178050\n",
            "8812        8812 2010-02-16      2  ...            8812  0.178402      0.178402\n",
            "8813        8813 2010-02-17      2  ...            8813  0.178566      0.178566\n",
            "8814        8814 2010-02-18      2  ...            8814  0.178595      0.178595\n",
            "8815        8815 2010-02-19      2  ...            8815  0.178528      0.178528\n",
            "\n",
            "[51 rows x 8 columns]\n"
          ],
          "name": "stdout"
        },
        {
          "output_type": "stream",
          "text": [
            "Using a non-full backward hook when the forward contains multiple autograd Nodes is deprecated and will be removed in future versions. This hook will be missing some grad_input. Please use register_full_backward_hook to get the documented behavior.\n",
            "Named tensors and all their associated APIs are an experimental feature and subject to change. Please do not use them for anything important until they are released as stable. (Triggered internally at  /pytorch/c10/core/TensorImpl.h:1156.)\n",
            "/usr/local/lib/python3.7/dist-packages/torch/nn/modules/module.py:974: UserWarning:\n",
            "\n",
            "Using a non-full backward hook when the forward contains multiple autograd Nodes is deprecated and will be removed in future versions. This hook will be missing some grad_input. Please use register_full_backward_hook to get the documented behavior.\n",
            "\n"
          ],
          "name": "stderr"
        },
        {
          "output_type": "stream",
          "text": [
            "Now plotting final plots\n"
          ],
          "name": "stdout"
        },
        {
          "output_type": "display_data",
          "data": {
            "text/html": [
              "<br/>Waiting for W&B process to finish, PID 3065<br/>Program ended successfully."
            ],
            "text/plain": [
              "<IPython.core.display.HTML object>"
            ]
          },
          "metadata": {
            "tags": []
          }
        },
        {
          "output_type": "display_data",
          "data": {
            "application/vnd.jupyter.widget-view+json": {
              "model_id": "f933a8043c97447f8419ce8d1f17eb32",
              "version_minor": 0,
              "version_major": 2
            },
            "text/plain": [
              "VBox(children=(Label(value=' 0.10MB of 0.10MB uploaded (0.00MB deduped)\\r'), FloatProgress(value=1.0, max=1.0)…"
            ]
          },
          "metadata": {
            "tags": []
          }
        },
        {
          "output_type": "display_data",
          "data": {
            "text/html": [
              "Find user logs for this run at: <code>/content/github_aistream-peelout_flow-forecast/wandb/run-20210816_175406-htbbwtha/logs/debug.log</code>"
            ],
            "text/plain": [
              "<IPython.core.display.HTML object>"
            ]
          },
          "metadata": {
            "tags": []
          }
        },
        {
          "output_type": "display_data",
          "data": {
            "text/html": [
              "Find internal logs for this run at: <code>/content/github_aistream-peelout_flow-forecast/wandb/run-20210816_175406-htbbwtha/logs/debug-internal.log</code>"
            ],
            "text/plain": [
              "<IPython.core.display.HTML object>"
            ]
          },
          "metadata": {
            "tags": []
          }
        },
        {
          "output_type": "display_data",
          "data": {
            "text/html": [
              "<h3>Run summary:</h3><br/><style>\n",
              "    table.wandb td:nth-child(1) { padding: 0 10px; text-align: right }\n",
              "    </style><table class=\"wandb\">\n",
              "<tr><td>epoch</td><td>9</td></tr><tr><td>_runtime</td><td>275</td></tr><tr><td>_timestamp</td><td>1629136721</td></tr><tr><td>_step</td><td>36</td></tr><tr><td>loss</td><td>0.50608</td></tr></table>"
            ],
            "text/plain": [
              "<IPython.core.display.HTML object>"
            ]
          },
          "metadata": {
            "tags": []
          }
        },
        {
          "output_type": "display_data",
          "data": {
            "text/html": [
              "<h3>Run history:</h3><br/><style>\n",
              "    table.wandb td:nth-child(1) { padding: 0 10px; text-align: right }\n",
              "    </style><table class=\"wandb\">\n",
              "<tr><td>epoch</td><td>▁▁▂▂▃▃▃▃▄▄▅▅▆▆▆▆▇▇███</td></tr><tr><td>_runtime</td><td>▁▁▂▂▂▂▃▃▄▄▄▄▅▅▆▆▆▆▇▇█████████████████</td></tr><tr><td>_timestamp</td><td>▁▁▂▂▂▂▃▃▄▄▄▄▅▅▆▆▆▆▇▇█████████████████</td></tr><tr><td>_step</td><td>▁▁▁▂▂▂▂▂▃▃▃▃▃▄▄▄▄▄▅▅▅▅▅▅▆▆▆▆▆▇▇▇▇▇███</td></tr><tr><td>loss</td><td>█▃▂▇▇▅▅▅▃▁</td></tr></table><br/>"
            ],
            "text/plain": [
              "<IPython.core.display.HTML object>"
            ]
          },
          "metadata": {
            "tags": []
          }
        },
        {
          "output_type": "display_data",
          "data": {
            "text/html": [
              "Synced 5 W&B file(s), 13 media file(s), 0 artifact file(s) and 0 other file(s)"
            ],
            "text/plain": [
              "<IPython.core.display.HTML object>"
            ]
          },
          "metadata": {
            "tags": []
          }
        },
        {
          "output_type": "display_data",
          "data": {
            "text/html": [
              "\n",
              "                    <br/>Synced <strong style=\"color:#cdcd00\">fragrant-sweep-1</strong>: <a href=\"https://wandb.ai/sakil786/pretrained-wind-updatedfinal/runs/htbbwtha\" target=\"_blank\">https://wandb.ai/sakil786/pretrained-wind-updatedfinal/runs/htbbwtha</a><br/>\n",
              "                "
            ],
            "text/plain": [
              "<IPython.core.display.HTML object>"
            ]
          },
          "metadata": {
            "tags": []
          }
        },
        {
          "output_type": "stream",
          "text": [
            "\u001b[34m\u001b[1mwandb\u001b[0m: Agent Starting Run: lyrj9jby with config:\n",
            "\u001b[34m\u001b[1mwandb\u001b[0m: \tbatch_size: 2\n",
            "\u001b[34m\u001b[1mwandb\u001b[0m: \tforecast_history: 1\n",
            "\u001b[34m\u001b[1mwandb\u001b[0m: \tlr: 0.001\n",
            "\u001b[34m\u001b[1mwandb\u001b[0m: \tout_seq_length: 2\n",
            "\u001b[34m\u001b[1mwandb\u001b[0m: \u001b[33mWARNING\u001b[0m Ignored wandb.init() arg project when running a sweep\n",
            "\u001b[34m\u001b[1mwandb\u001b[0m: wandb version 0.12.0 is available!  To upgrade, please run:\n",
            "\u001b[34m\u001b[1mwandb\u001b[0m:  $ pip install wandb --upgrade\n"
          ],
          "name": "stderr"
        },
        {
          "output_type": "display_data",
          "data": {
            "text/html": [
              "\n",
              "                Tracking run with wandb version 0.11.0<br/>\n",
              "                Syncing run <strong style=\"color:#cdcd00\">lemon-sweep-2</strong> to <a href=\"https://wandb.ai\" target=\"_blank\">Weights & Biases</a> <a href=\"https://docs.wandb.com/integrations/jupyter.html\" target=\"_blank\">(Documentation)</a>.<br/>\n",
              "                Project page: <a href=\"https://wandb.ai/sakil786/pretrained-wind-updatedfinal\" target=\"_blank\">https://wandb.ai/sakil786/pretrained-wind-updatedfinal</a><br/>\n",
              "                Sweep page: <a href=\"https://wandb.ai/sakil786/pretrained-wind-updatedfinal/sweeps/xynsw8b3\" target=\"_blank\">https://wandb.ai/sakil786/pretrained-wind-updatedfinal/sweeps/xynsw8b3</a><br/>\n",
              "Run page: <a href=\"https://wandb.ai/sakil786/pretrained-wind-updatedfinal/runs/lyrj9jby\" target=\"_blank\">https://wandb.ai/sakil786/pretrained-wind-updatedfinal/runs/lyrj9jby</a><br/>\n",
              "                Run data is saved locally in <code>/content/github_aistream-peelout_flow-forecast/wandb/run-20210816_175848-lyrj9jby</code><br/><br/>\n",
              "            "
            ],
            "text/plain": [
              "<IPython.core.display.HTML object>"
            ]
          },
          "metadata": {
            "tags": []
          }
        },
        {
          "output_type": "stream",
          "text": [
            "interpolate should be below\n",
            "[]\n",
            "Now loading wind/Austria.csv\n",
            "scaling now\n",
            "interpolate should be below\n",
            "[]\n",
            "Now loading wind/Austria.csv\n",
            "scaling now\n",
            "interpolate should be below\n",
            "[]\n",
            "Now loading wind/Austria.csv\n",
            "scaling now\n",
            "Using Wandb config:\n",
            "{'batch_size': 2, 'forecast_history': 1, 'lr': 0.001, 'out_seq_length': 2, 'model_name': 'MultiAttnHeadSimple', 'model_type': 'PyTorch', 'model_params': {'number_time_series': 3, 'seq_len': 1, 'output_seq_len': 2, 'forecast_length': 2}, 'dataset_params': {'class': 'default', 'training_path': 'wind/Austria.csv', 'validation_path': 'wind/Austria.csv', 'test_path': 'wind/Austria.csv', 'batch_size': 2, 'forecast_history': 1, 'forecast_length': 2, 'train_end': 7669, 'valid_start': 7670, 'valid_end': 9861, 'target_col': ['Austria'], 'relevant_cols': ['Austria', 'month', 'weekday'], 'scaler': 'StandardScaler', 'interpolate': False}, 'training_params': {'criterion': 'MSE', 'optimizer': 'Adam', 'optim_params': {}, 'lr': 0.001, 'epochs': 10, 'batch_size': 2}, 'GCS': False, 'sweep': True, 'wandb': False, 'forward_params': {}, 'metrics': ['MSE'], 'inference_params': {'datetime_start': '2010-01-01', 'hours_to_forecast': 50, 'test_csv_path': 'wind/Austria.csv', 'decoder_params': {'decoder_function': 'simple_decode', 'unsqueeze_dim': 1}, 'dataset_params': {'file_path': 'wind/Austria.csv', 'forecast_history': 1, 'forecast_length': 2, 'relevant_cols': ['Austria', 'month', 'weekday'], 'target_col': ['Austria'], 'scaling': 'StandardScaler', 'interpolate_param': False}}}\n",
            "Torch is using cuda\n",
            "running torch_single_train\n",
            "The running loss is: \n",
            "2731.7834366073366\n",
            "The number of items in train is: 3833\n",
            "The loss for epoch 0\n",
            "0.7127011313872519\n",
            "Computing validation loss\n",
            "running torch_single_train\n",
            "The running loss is: \n",
            "2185.4568162428914\n",
            "The number of items in train is: 3833\n",
            "The loss for epoch 1\n",
            "0.5701687493459148\n",
            "Computing validation loss\n",
            "running torch_single_train\n",
            "The running loss is: \n",
            "2231.162338185357\n",
            "The number of items in train is: 3833\n",
            "The loss for epoch 2\n",
            "0.5820929658714732\n",
            "Computing validation loss\n",
            "running torch_single_train\n",
            "The running loss is: \n",
            "2252.6766030443832\n",
            "The number of items in train is: 3833\n",
            "The loss for epoch 3\n",
            "0.5877058708699148\n",
            "Computing validation loss\n",
            "running torch_single_train\n",
            "The running loss is: \n",
            "2253.7439750230405\n",
            "The number of items in train is: 3833\n",
            "The loss for epoch 4\n",
            "0.5879843399486148\n",
            "Computing validation loss\n",
            "running torch_single_train\n",
            "The running loss is: \n",
            "2243.970909179421\n",
            "The number of items in train is: 3833\n",
            "The loss for epoch 5\n",
            "0.585434622796614\n",
            "Computing validation loss\n",
            "running torch_single_train\n",
            "The running loss is: \n",
            "2233.8262335992185\n",
            "The number of items in train is: 3833\n",
            "The loss for epoch 6\n",
            "0.5827879555437565\n",
            "Computing validation loss\n",
            "running torch_single_train\n",
            "The running loss is: \n",
            "2208.6732008417603\n",
            "The number of items in train is: 3833\n",
            "The loss for epoch 7\n",
            "0.5762257241956067\n",
            "Computing validation loss\n",
            "running torch_single_train\n",
            "The running loss is: \n",
            "2202.3081429674057\n",
            "The number of items in train is: 3833\n",
            "The loss for epoch 8\n",
            "0.5745651299158376\n",
            "Computing validation loss\n",
            "running torch_single_train\n",
            "The running loss is: \n",
            "2194.8005667850375\n",
            "The number of items in train is: 3833\n",
            "The loss for epoch 9\n",
            "0.5726064614623109\n",
            "Computing validation loss\n",
            "Computing validation loss\n",
            "test loss: 6395.409706255572\n",
            "This model is currently forecasting for : 1 targets\n",
            "interpolate should be below\n",
            "[]\n",
            "Now loading wind/Austria.csv\n",
            "scaling now\n",
            "CSV Path below\n",
            "wind/Austria.csv\n",
            "Add debugging crap below\n",
            "transform end tens preform\n",
            "Un-transforming data\n",
            "Current historical dataframe \n",
            "      Unnamed: 0   datetime  month  ...  original_index     preds  pred_Austria\n",
            "8765        8765 2009-12-31     12  ...            8765  0.000000      0.000000\n",
            "8766        8766 2010-01-01      1  ...            8766  0.060289      0.060289\n",
            "8767        8767 2010-01-02      1  ...            8767  0.067167      0.067167\n",
            "8768        8768 2010-01-03      1  ...            8768  0.098000      0.098000\n",
            "8769        8769 2010-01-04      1  ...            8769  0.100805      0.100805\n",
            "8770        8770 2010-01-05      1  ...            8770  0.124507      0.124507\n",
            "8771        8771 2010-01-06      1  ...            8771  0.124450      0.124450\n",
            "8772        8772 2010-01-07      1  ...            8772  0.143149      0.143149\n",
            "8773        8773 2010-01-08      1  ...            8773  0.141079      0.141079\n",
            "8774        8774 2010-01-09      1  ...            8774  0.156447      0.156447\n",
            "8775        8775 2010-01-10      1  ...            8775  0.152941      0.152941\n",
            "8776        8776 2010-01-11      1  ...            8776  0.165972      0.165972\n",
            "8777        8777 2010-01-12      1  ...            8777  0.161438      0.161438\n",
            "8778        8778 2010-01-13      1  ...            8778  0.172364      0.172364\n",
            "8779        8779 2010-01-14      1  ...            8779  0.167139      0.167139\n",
            "8780        8780 2010-01-15      1  ...            8780  0.177011      0.177011\n",
            "8781        8781 2010-01-16      1  ...            8781  0.171284      0.171284\n",
            "8782        8782 2010-01-17      1  ...            8782  0.180427      0.180427\n",
            "8783        8783 2010-01-18      1  ...            8783  0.174331      0.174331\n",
            "8784        8784 2010-01-19      1  ...            8784  0.182759      0.182759\n",
            "8785        8785 2010-01-20      1  ...            8785  0.176412      0.176412\n",
            "8786        8786 2010-01-21      1  ...            8786  0.184284      0.184284\n",
            "8787        8787 2010-01-22      1  ...            8787  0.177772      0.177772\n",
            "8788        8788 2010-01-23      1  ...            8788  0.185495      0.185495\n",
            "8789        8789 2010-01-24      1  ...            8789  0.178853      0.178853\n",
            "8790        8790 2010-01-25      1  ...            8790  0.186485      0.186485\n",
            "8791        8791 2010-01-26      1  ...            8791  0.179736      0.179736\n",
            "8792        8792 2010-01-27      1  ...            8792  0.186847      0.186847\n",
            "8793        8793 2010-01-28      1  ...            8793  0.180059      0.180059\n",
            "8794        8794 2010-01-29      1  ...            8794  0.187238      0.187238\n",
            "8795        8795 2010-01-30      1  ...            8795  0.180407      0.180407\n",
            "8796        8796 2010-01-31      1  ...            8796  0.187648      0.187648\n",
            "8797        8797 2010-02-01      2  ...            8797  0.180773      0.180773\n",
            "8798        8798 2010-02-02      2  ...            8798  0.186435      0.186435\n",
            "8799        8799 2010-02-03      2  ...            8799  0.179691      0.179691\n",
            "8800        8800 2010-02-04      2  ...            8800  0.184018      0.184018\n",
            "8801        8801 2010-02-05      2  ...            8801  0.177535      0.177535\n",
            "8802        8802 2010-02-06      2  ...            8802  0.182446      0.182446\n",
            "8803        8803 2010-02-07      2  ...            8803  0.176133      0.176133\n",
            "8804        8804 2010-02-08      2  ...            8804  0.181470      0.181470\n",
            "8805        8805 2010-02-09      2  ...            8805  0.175262      0.175262\n",
            "8806        8806 2010-02-10      2  ...            8806  0.180445      0.180445\n",
            "8807        8807 2010-02-11      2  ...            8807  0.174348      0.174348\n",
            "8808        8808 2010-02-12      2  ...            8808  0.179855      0.179855\n",
            "8809        8809 2010-02-13      2  ...            8809  0.173822      0.173822\n",
            "8810        8810 2010-02-14      2  ...            8810  0.179574      0.179574\n",
            "8811        8811 2010-02-15      2  ...            8811  0.173571      0.173571\n",
            "8812        8812 2010-02-16      2  ...            8812  0.179293      0.179293\n",
            "8813        8813 2010-02-17      2  ...            8813  0.173320      0.173320\n",
            "8814        8814 2010-02-18      2  ...            8814  0.178975      0.178975\n",
            "8815        8815 2010-02-19      2  ...            8815  0.173036      0.173036\n",
            "\n",
            "[51 rows x 8 columns]\n"
          ],
          "name": "stdout"
        },
        {
          "output_type": "stream",
          "text": [
            "/usr/local/lib/python3.7/dist-packages/torch/nn/modules/module.py:974: UserWarning:\n",
            "\n",
            "Using a non-full backward hook when the forward contains multiple autograd Nodes is deprecated and will be removed in future versions. This hook will be missing some grad_input. Please use register_full_backward_hook to get the documented behavior.\n",
            "\n"
          ],
          "name": "stderr"
        },
        {
          "output_type": "stream",
          "text": [
            "Now plotting final plots\n"
          ],
          "name": "stdout"
        },
        {
          "output_type": "display_data",
          "data": {
            "text/html": [
              "<br/>Waiting for W&B process to finish, PID 3276<br/>Program ended successfully."
            ],
            "text/plain": [
              "<IPython.core.display.HTML object>"
            ]
          },
          "metadata": {
            "tags": []
          }
        },
        {
          "output_type": "display_data",
          "data": {
            "application/vnd.jupyter.widget-view+json": {
              "model_id": "0355f32459d64205b89750cd68e97db2",
              "version_minor": 0,
              "version_major": 2
            },
            "text/plain": [
              "VBox(children=(Label(value=' 0.10MB of 0.10MB uploaded (0.00MB deduped)\\r'), FloatProgress(value=1.0, max=1.0)…"
            ]
          },
          "metadata": {
            "tags": []
          }
        },
        {
          "output_type": "display_data",
          "data": {
            "text/html": [
              "Find user logs for this run at: <code>/content/github_aistream-peelout_flow-forecast/wandb/run-20210816_175848-lyrj9jby/logs/debug.log</code>"
            ],
            "text/plain": [
              "<IPython.core.display.HTML object>"
            ]
          },
          "metadata": {
            "tags": []
          }
        },
        {
          "output_type": "display_data",
          "data": {
            "text/html": [
              "Find internal logs for this run at: <code>/content/github_aistream-peelout_flow-forecast/wandb/run-20210816_175848-lyrj9jby/logs/debug-internal.log</code>"
            ],
            "text/plain": [
              "<IPython.core.display.HTML object>"
            ]
          },
          "metadata": {
            "tags": []
          }
        },
        {
          "output_type": "display_data",
          "data": {
            "text/html": [
              "<h3>Run summary:</h3><br/><style>\n",
              "    table.wandb td:nth-child(1) { padding: 0 10px; text-align: right }\n",
              "    </style><table class=\"wandb\">\n",
              "<tr><td>epoch</td><td>9</td></tr><tr><td>_runtime</td><td>268</td></tr><tr><td>_timestamp</td><td>1629136996</td></tr><tr><td>_step</td><td>36</td></tr><tr><td>loss</td><td>0.57261</td></tr></table>"
            ],
            "text/plain": [
              "<IPython.core.display.HTML object>"
            ]
          },
          "metadata": {
            "tags": []
          }
        },
        {
          "output_type": "display_data",
          "data": {
            "text/html": [
              "<h3>Run history:</h3><br/><style>\n",
              "    table.wandb td:nth-child(1) { padding: 0 10px; text-align: right }\n",
              "    </style><table class=\"wandb\">\n",
              "<tr><td>epoch</td><td>▁▁▂▂▃▃▃▃▄▄▅▅▆▆▆▆▇▇███</td></tr><tr><td>_runtime</td><td>▁▁▂▂▂▂▃▃▄▄▄▄▅▅▆▆▆▆▇▇█████████████████</td></tr><tr><td>_timestamp</td><td>▁▁▂▂▂▂▃▃▄▄▄▄▅▅▆▆▆▆▇▇█████████████████</td></tr><tr><td>_step</td><td>▁▁▁▂▂▂▂▂▃▃▃▃▃▄▄▄▄▄▅▅▅▅▅▅▆▆▆▆▆▇▇▇▇▇███</td></tr><tr><td>loss</td><td>█▁▂▂▂▂▂▁▁▁</td></tr></table><br/>"
            ],
            "text/plain": [
              "<IPython.core.display.HTML object>"
            ]
          },
          "metadata": {
            "tags": []
          }
        },
        {
          "output_type": "display_data",
          "data": {
            "text/html": [
              "Synced 5 W&B file(s), 13 media file(s), 0 artifact file(s) and 0 other file(s)"
            ],
            "text/plain": [
              "<IPython.core.display.HTML object>"
            ]
          },
          "metadata": {
            "tags": []
          }
        },
        {
          "output_type": "display_data",
          "data": {
            "text/html": [
              "\n",
              "                    <br/>Synced <strong style=\"color:#cdcd00\">lemon-sweep-2</strong>: <a href=\"https://wandb.ai/sakil786/pretrained-wind-updatedfinal/runs/lyrj9jby\" target=\"_blank\">https://wandb.ai/sakil786/pretrained-wind-updatedfinal/runs/lyrj9jby</a><br/>\n",
              "                "
            ],
            "text/plain": [
              "<IPython.core.display.HTML object>"
            ]
          },
          "metadata": {
            "tags": []
          }
        },
        {
          "output_type": "stream",
          "text": [
            "\u001b[34m\u001b[1mwandb\u001b[0m: Agent Starting Run: 1p18bido with config:\n",
            "\u001b[34m\u001b[1mwandb\u001b[0m: \tbatch_size: 2\n",
            "\u001b[34m\u001b[1mwandb\u001b[0m: \tforecast_history: 2\n",
            "\u001b[34m\u001b[1mwandb\u001b[0m: \tlr: 0.001\n",
            "\u001b[34m\u001b[1mwandb\u001b[0m: \tout_seq_length: 1\n",
            "\u001b[34m\u001b[1mwandb\u001b[0m: \u001b[33mWARNING\u001b[0m Ignored wandb.init() arg project when running a sweep\n",
            "\u001b[34m\u001b[1mwandb\u001b[0m: wandb version 0.12.0 is available!  To upgrade, please run:\n",
            "\u001b[34m\u001b[1mwandb\u001b[0m:  $ pip install wandb --upgrade\n"
          ],
          "name": "stderr"
        },
        {
          "output_type": "display_data",
          "data": {
            "text/html": [
              "\n",
              "                Tracking run with wandb version 0.11.0<br/>\n",
              "                Syncing run <strong style=\"color:#cdcd00\">charmed-sweep-3</strong> to <a href=\"https://wandb.ai\" target=\"_blank\">Weights & Biases</a> <a href=\"https://docs.wandb.com/integrations/jupyter.html\" target=\"_blank\">(Documentation)</a>.<br/>\n",
              "                Project page: <a href=\"https://wandb.ai/sakil786/pretrained-wind-updatedfinal\" target=\"_blank\">https://wandb.ai/sakil786/pretrained-wind-updatedfinal</a><br/>\n",
              "                Sweep page: <a href=\"https://wandb.ai/sakil786/pretrained-wind-updatedfinal/sweeps/xynsw8b3\" target=\"_blank\">https://wandb.ai/sakil786/pretrained-wind-updatedfinal/sweeps/xynsw8b3</a><br/>\n",
              "Run page: <a href=\"https://wandb.ai/sakil786/pretrained-wind-updatedfinal/runs/1p18bido\" target=\"_blank\">https://wandb.ai/sakil786/pretrained-wind-updatedfinal/runs/1p18bido</a><br/>\n",
              "                Run data is saved locally in <code>/content/github_aistream-peelout_flow-forecast/wandb/run-20210816_180324-1p18bido</code><br/><br/>\n",
              "            "
            ],
            "text/plain": [
              "<IPython.core.display.HTML object>"
            ]
          },
          "metadata": {
            "tags": []
          }
        },
        {
          "output_type": "stream",
          "text": [
            "interpolate should be below\n",
            "[]\n",
            "Now loading wind/Austria.csv\n",
            "scaling now\n",
            "interpolate should be below\n",
            "[]\n",
            "Now loading wind/Austria.csv\n",
            "scaling now\n",
            "interpolate should be below\n",
            "[]\n",
            "Now loading wind/Austria.csv\n",
            "scaling now\n",
            "Using Wandb config:\n",
            "{'batch_size': 2, 'forecast_history': 2, 'lr': 0.001, 'out_seq_length': 1, 'model_name': 'MultiAttnHeadSimple', 'model_type': 'PyTorch', 'model_params': {'number_time_series': 3, 'seq_len': 2, 'output_seq_len': 1, 'forecast_length': 1}, 'dataset_params': {'class': 'default', 'training_path': 'wind/Austria.csv', 'validation_path': 'wind/Austria.csv', 'test_path': 'wind/Austria.csv', 'batch_size': 2, 'forecast_history': 2, 'forecast_length': 1, 'train_end': 7669, 'valid_start': 7670, 'valid_end': 9861, 'target_col': ['Austria'], 'relevant_cols': ['Austria', 'month', 'weekday'], 'scaler': 'StandardScaler', 'interpolate': False}, 'training_params': {'criterion': 'MSE', 'optimizer': 'Adam', 'optim_params': {}, 'lr': 0.001, 'epochs': 10, 'batch_size': 2}, 'GCS': False, 'sweep': True, 'wandb': False, 'forward_params': {}, 'metrics': ['MSE'], 'inference_params': {'datetime_start': '2010-01-01', 'hours_to_forecast': 50, 'test_csv_path': 'wind/Austria.csv', 'decoder_params': {'decoder_function': 'simple_decode', 'unsqueeze_dim': 1}, 'dataset_params': {'file_path': 'wind/Austria.csv', 'forecast_history': 2, 'forecast_length': 1, 'relevant_cols': ['Austria', 'month', 'weekday'], 'target_col': ['Austria'], 'scaling': 'StandardScaler', 'interpolate_param': False}}}\n",
            "Torch is using cuda\n",
            "running torch_single_train\n",
            "The running loss is: \n",
            "2015.6117129361082\n",
            "The number of items in train is: 3833\n",
            "The loss for epoch 0\n",
            "0.5258574779379359\n",
            "Computing validation loss\n",
            "running torch_single_train\n",
            "The running loss is: \n",
            "1921.0624997120112\n",
            "The number of items in train is: 3833\n",
            "The loss for epoch 1\n",
            "0.5011903208223353\n",
            "Computing validation loss\n",
            "running torch_single_train\n",
            "The running loss is: \n",
            "1889.6499871491105\n",
            "The number of items in train is: 3833\n",
            "The loss for epoch 2\n",
            "0.492995039694524\n",
            "Computing validation loss\n",
            "running torch_single_train\n",
            "The running loss is: \n",
            "1891.1344999274006\n",
            "The number of items in train is: 3833\n",
            "The loss for epoch 3\n",
            "0.4933823375756328\n",
            "Computing validation loss\n",
            "running torch_single_train\n",
            "The running loss is: \n",
            "1845.3544133873365\n",
            "The number of items in train is: 3833\n",
            "The loss for epoch 4\n",
            "0.4814386677243247\n",
            "Computing validation loss\n",
            "running torch_single_train\n",
            "The running loss is: \n",
            "1876.2259488096497\n",
            "The number of items in train is: 3833\n",
            "The loss for epoch 5\n",
            "0.489492812107918\n",
            "Computing validation loss\n",
            "running torch_single_train\n",
            "The running loss is: \n",
            "1844.3016339485184\n",
            "The number of items in train is: 3833\n",
            "The loss for epoch 6\n",
            "0.4811640057261984\n",
            "Computing validation loss\n",
            "running torch_single_train\n",
            "The running loss is: \n",
            "1852.348963683151\n",
            "The number of items in train is: 3833\n",
            "The loss for epoch 7\n",
            "0.4832634916992306\n",
            "Computing validation loss\n",
            "running torch_single_train\n",
            "The running loss is: \n",
            "1839.4925390381832\n",
            "The number of items in train is: 3833\n",
            "The loss for epoch 8\n",
            "0.4799093501273632\n",
            "Computing validation loss\n",
            "running torch_single_train\n",
            "The running loss is: \n",
            "1842.6871962508885\n",
            "The number of items in train is: 3833\n",
            "The loss for epoch 9\n",
            "0.480742811440357\n",
            "Computing validation loss\n",
            "Computing validation loss\n",
            "test loss: 5375.02263078752\n",
            "This model is currently forecasting for : 1 targets\n",
            "interpolate should be below\n",
            "[]\n",
            "Now loading wind/Austria.csv\n",
            "scaling now\n",
            "CSV Path below\n",
            "wind/Austria.csv\n",
            "Add debugging crap below\n",
            "transform end tens preform\n",
            "Un-transforming data\n",
            "Current historical dataframe \n",
            "      Unnamed: 0   datetime  month  ...  original_index     preds  pred_Austria\n",
            "8764        8764 2009-12-30     12  ...            8764  0.000000      0.000000\n",
            "8765        8765 2009-12-31     12  ...            8765  0.000000      0.000000\n",
            "8766        8766 2010-01-01      1  ...            8766  0.054279      0.054279\n",
            "8767        8767 2010-01-02      1  ...            8767  0.063502      0.063502\n",
            "8768        8768 2010-01-03      1  ...            8768  0.083073      0.083073\n",
            "8769        8769 2010-01-04      1  ...            8769  0.098359      0.098359\n",
            "8770        8770 2010-01-05      1  ...            8770  0.110346      0.110346\n",
            "8771        8771 2010-01-06      1  ...            8771  0.125264      0.125264\n",
            "8772        8772 2010-01-07      1  ...            8772  0.136605      0.136605\n",
            "8773        8773 2010-01-08      1  ...            8773  0.145668      0.145668\n",
            "8774        8774 2010-01-09      1  ...            8774  0.152201      0.152201\n",
            "8775        8775 2010-01-10      1  ...            8775  0.157484      0.157484\n",
            "8776        8776 2010-01-11      1  ...            8776  0.161522      0.161522\n",
            "8777        8777 2010-01-12      1  ...            8777  0.170593      0.170593\n",
            "8778        8778 2010-01-13      1  ...            8778  0.175501      0.175501\n",
            "8779        8779 2010-01-14      1  ...            8779  0.179595      0.179595\n",
            "8780        8780 2010-01-15      1  ...            8780  0.182467      0.182467\n",
            "8781        8781 2010-01-16      1  ...            8781  0.184363      0.184363\n",
            "8782        8782 2010-01-17      1  ...            8782  0.185296      0.185296\n",
            "8783        8783 2010-01-18      1  ...            8783  0.185777      0.185777\n",
            "8784        8784 2010-01-19      1  ...            8784  0.192262      0.192262\n",
            "8785        8785 2010-01-20      1  ...            8785  0.194726      0.194726\n",
            "8786        8786 2010-01-21      1  ...            8786  0.196526      0.196526\n",
            "8787        8787 2010-01-22      1  ...            8787  0.197228      0.197228\n",
            "8788        8788 2010-01-23      1  ...            8788  0.197228      0.197228\n",
            "8789        8789 2010-01-24      1  ...            8789  0.196438      0.196438\n",
            "8790        8790 2010-01-25      1  ...            8790  0.195465      0.195465\n",
            "8791        8791 2010-01-26      1  ...            8791  0.201175      0.201175\n",
            "8792        8792 2010-01-27      1  ...            8792  0.202555      0.202555\n",
            "8793        8793 2010-01-28      1  ...            8793  0.203722      0.203722\n",
            "8794        8794 2010-01-29      1  ...            8794  0.203440      0.203440\n",
            "8795        8795 2010-01-30      1  ...            8795  0.202663      0.202663\n",
            "8796        8796 2010-01-31      1  ...            8796  0.201152      0.201152\n",
            "8797        8797 2010-02-01      2  ...            8797  0.199583      0.199583\n",
            "8798        8798 2010-02-02      2  ...            8798  0.204244      0.204244\n",
            "8799        8799 2010-02-03      2  ...            8799  0.203101      0.203101\n",
            "8800        8800 2010-02-04      2  ...            8800  0.202851      0.202851\n",
            "8801        8801 2010-02-05      2  ...            8801  0.201260      0.201260\n",
            "8802        8802 2010-02-06      2  ...            8802  0.198799      0.198799\n",
            "8803        8803 2010-02-07      2  ...            8803  0.196142      0.196142\n",
            "8804        8804 2010-02-08      2  ...            8804  0.193661      0.193661\n",
            "8805        8805 2010-02-09      2  ...            8805  0.198276      0.198276\n",
            "8806        8806 2010-02-10      2  ...            8806  0.198146      0.198146\n",
            "8807        8807 2010-02-11      2  ...            8807  0.198361      0.198361\n",
            "8808        8808 2010-02-12      2  ...            8808  0.197209      0.197209\n",
            "8809        8809 2010-02-13      2  ...            8809  0.195294      0.195294\n",
            "8810        8810 2010-02-14      2  ...            8810  0.193057      0.193057\n",
            "8811        8811 2010-02-15      2  ...            8811  0.190931      0.190931\n",
            "8812        8812 2010-02-16      2  ...            8812  0.195797      0.195797\n",
            "8813        8813 2010-02-17      2  ...            8813  0.196019      0.196019\n",
            "8814        8814 2010-02-18      2  ...            8814  0.196420      0.196420\n",
            "8815        8815 2010-02-19      2  ...            8815  0.195405      0.195405\n",
            "\n",
            "[52 rows x 8 columns]\n"
          ],
          "name": "stdout"
        },
        {
          "output_type": "stream",
          "text": [
            "/usr/local/lib/python3.7/dist-packages/torch/nn/modules/module.py:974: UserWarning:\n",
            "\n",
            "Using a non-full backward hook when the forward contains multiple autograd Nodes is deprecated and will be removed in future versions. This hook will be missing some grad_input. Please use register_full_backward_hook to get the documented behavior.\n",
            "\n"
          ],
          "name": "stderr"
        },
        {
          "output_type": "stream",
          "text": [
            "Now plotting final plots\n"
          ],
          "name": "stdout"
        },
        {
          "output_type": "display_data",
          "data": {
            "text/html": [
              "<br/>Waiting for W&B process to finish, PID 3459<br/>Program ended successfully."
            ],
            "text/plain": [
              "<IPython.core.display.HTML object>"
            ]
          },
          "metadata": {
            "tags": []
          }
        },
        {
          "output_type": "display_data",
          "data": {
            "application/vnd.jupyter.widget-view+json": {
              "model_id": "85e08d0fb7d94d5f9ae5177837d9b169",
              "version_minor": 0,
              "version_major": 2
            },
            "text/plain": [
              "VBox(children=(Label(value=' 0.10MB of 0.10MB uploaded (0.00MB deduped)\\r'), FloatProgress(value=1.0, max=1.0)…"
            ]
          },
          "metadata": {
            "tags": []
          }
        },
        {
          "output_type": "display_data",
          "data": {
            "text/html": [
              "Find user logs for this run at: <code>/content/github_aistream-peelout_flow-forecast/wandb/run-20210816_180324-1p18bido/logs/debug.log</code>"
            ],
            "text/plain": [
              "<IPython.core.display.HTML object>"
            ]
          },
          "metadata": {
            "tags": []
          }
        },
        {
          "output_type": "display_data",
          "data": {
            "text/html": [
              "Find internal logs for this run at: <code>/content/github_aistream-peelout_flow-forecast/wandb/run-20210816_180324-1p18bido/logs/debug-internal.log</code>"
            ],
            "text/plain": [
              "<IPython.core.display.HTML object>"
            ]
          },
          "metadata": {
            "tags": []
          }
        },
        {
          "output_type": "display_data",
          "data": {
            "text/html": [
              "<h3>Run summary:</h3><br/><style>\n",
              "    table.wandb td:nth-child(1) { padding: 0 10px; text-align: right }\n",
              "    </style><table class=\"wandb\">\n",
              "<tr><td>epoch</td><td>9</td></tr><tr><td>_runtime</td><td>274</td></tr><tr><td>_timestamp</td><td>1629137278</td></tr><tr><td>_step</td><td>36</td></tr><tr><td>loss</td><td>0.48074</td></tr></table>"
            ],
            "text/plain": [
              "<IPython.core.display.HTML object>"
            ]
          },
          "metadata": {
            "tags": []
          }
        },
        {
          "output_type": "display_data",
          "data": {
            "text/html": [
              "<h3>Run history:</h3><br/><style>\n",
              "    table.wandb td:nth-child(1) { padding: 0 10px; text-align: right }\n",
              "    </style><table class=\"wandb\">\n",
              "<tr><td>epoch</td><td>▁▁▂▂▃▃▃▃▄▄▅▅▆▆▆▆▇▇███</td></tr><tr><td>_runtime</td><td>▁▁▂▂▂▂▃▃▄▄▄▄▅▅▆▆▆▆▇▇█████████████████</td></tr><tr><td>_timestamp</td><td>▁▁▂▂▂▂▃▃▄▄▄▄▅▅▆▆▆▆▇▇█████████████████</td></tr><tr><td>_step</td><td>▁▁▁▂▂▂▂▂▃▃▃▃▃▄▄▄▄▄▅▅▅▅▅▅▆▆▆▆▆▇▇▇▇▇███</td></tr><tr><td>loss</td><td>█▄▃▃▁▂▁▂▁▁</td></tr></table><br/>"
            ],
            "text/plain": [
              "<IPython.core.display.HTML object>"
            ]
          },
          "metadata": {
            "tags": []
          }
        },
        {
          "output_type": "display_data",
          "data": {
            "text/html": [
              "Synced 5 W&B file(s), 13 media file(s), 0 artifact file(s) and 0 other file(s)"
            ],
            "text/plain": [
              "<IPython.core.display.HTML object>"
            ]
          },
          "metadata": {
            "tags": []
          }
        },
        {
          "output_type": "display_data",
          "data": {
            "text/html": [
              "\n",
              "                    <br/>Synced <strong style=\"color:#cdcd00\">charmed-sweep-3</strong>: <a href=\"https://wandb.ai/sakil786/pretrained-wind-updatedfinal/runs/1p18bido\" target=\"_blank\">https://wandb.ai/sakil786/pretrained-wind-updatedfinal/runs/1p18bido</a><br/>\n",
              "                "
            ],
            "text/plain": [
              "<IPython.core.display.HTML object>"
            ]
          },
          "metadata": {
            "tags": []
          }
        },
        {
          "output_type": "stream",
          "text": [
            "\u001b[34m\u001b[1mwandb\u001b[0m: Agent Starting Run: m47zsvq1 with config:\n",
            "\u001b[34m\u001b[1mwandb\u001b[0m: \tbatch_size: 2\n",
            "\u001b[34m\u001b[1mwandb\u001b[0m: \tforecast_history: 2\n",
            "\u001b[34m\u001b[1mwandb\u001b[0m: \tlr: 0.001\n",
            "\u001b[34m\u001b[1mwandb\u001b[0m: \tout_seq_length: 2\n",
            "\u001b[34m\u001b[1mwandb\u001b[0m: \u001b[33mWARNING\u001b[0m Ignored wandb.init() arg project when running a sweep\n",
            "\u001b[34m\u001b[1mwandb\u001b[0m: wandb version 0.12.0 is available!  To upgrade, please run:\n",
            "\u001b[34m\u001b[1mwandb\u001b[0m:  $ pip install wandb --upgrade\n"
          ],
          "name": "stderr"
        },
        {
          "output_type": "display_data",
          "data": {
            "text/html": [
              "\n",
              "                Tracking run with wandb version 0.11.0<br/>\n",
              "                Syncing run <strong style=\"color:#cdcd00\">bumbling-sweep-4</strong> to <a href=\"https://wandb.ai\" target=\"_blank\">Weights & Biases</a> <a href=\"https://docs.wandb.com/integrations/jupyter.html\" target=\"_blank\">(Documentation)</a>.<br/>\n",
              "                Project page: <a href=\"https://wandb.ai/sakil786/pretrained-wind-updatedfinal\" target=\"_blank\">https://wandb.ai/sakil786/pretrained-wind-updatedfinal</a><br/>\n",
              "                Sweep page: <a href=\"https://wandb.ai/sakil786/pretrained-wind-updatedfinal/sweeps/xynsw8b3\" target=\"_blank\">https://wandb.ai/sakil786/pretrained-wind-updatedfinal/sweeps/xynsw8b3</a><br/>\n",
              "Run page: <a href=\"https://wandb.ai/sakil786/pretrained-wind-updatedfinal/runs/m47zsvq1\" target=\"_blank\">https://wandb.ai/sakil786/pretrained-wind-updatedfinal/runs/m47zsvq1</a><br/>\n",
              "                Run data is saved locally in <code>/content/github_aistream-peelout_flow-forecast/wandb/run-20210816_180805-m47zsvq1</code><br/><br/>\n",
              "            "
            ],
            "text/plain": [
              "<IPython.core.display.HTML object>"
            ]
          },
          "metadata": {
            "tags": []
          }
        },
        {
          "output_type": "stream",
          "text": [
            "interpolate should be below\n",
            "[]\n",
            "Now loading wind/Austria.csv\n",
            "scaling now\n",
            "interpolate should be below\n",
            "[]\n",
            "Now loading wind/Austria.csv\n",
            "scaling now\n",
            "interpolate should be below\n",
            "[]\n",
            "Now loading wind/Austria.csv\n",
            "scaling now\n",
            "Using Wandb config:\n",
            "{'batch_size': 2, 'forecast_history': 2, 'lr': 0.001, 'out_seq_length': 2, 'model_name': 'MultiAttnHeadSimple', 'model_type': 'PyTorch', 'model_params': {'number_time_series': 3, 'seq_len': 2, 'output_seq_len': 2, 'forecast_length': 2}, 'dataset_params': {'class': 'default', 'training_path': 'wind/Austria.csv', 'validation_path': 'wind/Austria.csv', 'test_path': 'wind/Austria.csv', 'batch_size': 2, 'forecast_history': 2, 'forecast_length': 2, 'train_end': 7669, 'valid_start': 7670, 'valid_end': 9861, 'target_col': ['Austria'], 'relevant_cols': ['Austria', 'month', 'weekday'], 'scaler': 'StandardScaler', 'interpolate': False}, 'training_params': {'criterion': 'MSE', 'optimizer': 'Adam', 'optim_params': {}, 'lr': 0.001, 'epochs': 10, 'batch_size': 2}, 'GCS': False, 'sweep': True, 'wandb': False, 'forward_params': {}, 'metrics': ['MSE'], 'inference_params': {'datetime_start': '2010-01-01', 'hours_to_forecast': 50, 'test_csv_path': 'wind/Austria.csv', 'decoder_params': {'decoder_function': 'simple_decode', 'unsqueeze_dim': 1}, 'dataset_params': {'file_path': 'wind/Austria.csv', 'forecast_history': 2, 'forecast_length': 2, 'relevant_cols': ['Austria', 'month', 'weekday'], 'target_col': ['Austria'], 'scaling': 'StandardScaler', 'interpolate_param': False}}}\n",
            "Torch is using cuda\n",
            "running torch_single_train\n",
            "The running loss is: \n",
            "2409.9735439587384\n",
            "The number of items in train is: 3832\n",
            "The loss for epoch 0\n",
            "0.6289075010330737\n",
            "Computing validation loss\n",
            "running torch_single_train\n",
            "The running loss is: \n",
            "2099.3643946025986\n",
            "The number of items in train is: 3832\n",
            "The loss for epoch 1\n",
            "0.5478508336645612\n",
            "Computing validation loss\n",
            "running torch_single_train\n",
            "The running loss is: \n",
            "2102.2627700835\n",
            "The number of items in train is: 3832\n",
            "The loss for epoch 2\n",
            "0.5486071946981994\n",
            "Computing validation loss\n",
            "running torch_single_train\n",
            "The running loss is: \n",
            "2121.053168926388\n",
            "The number of items in train is: 3832\n",
            "The loss for epoch 3\n",
            "0.5535107434567819\n",
            "Computing validation loss\n",
            "running torch_single_train\n",
            "The running loss is: \n",
            "2093.960035474738\n",
            "The number of items in train is: 3832\n",
            "The loss for epoch 4\n",
            "0.5464405103013409\n",
            "Computing validation loss\n",
            "running torch_single_train\n",
            "The running loss is: \n",
            "2101.4243251271546\n",
            "The number of items in train is: 3832\n",
            "The loss for epoch 5\n",
            "0.5483883938223264\n",
            "Computing validation loss\n",
            "running torch_single_train\n",
            "The running loss is: \n",
            "2089.7254114239477\n",
            "The number of items in train is: 3832\n",
            "The loss for epoch 6\n",
            "0.5453354413945584\n",
            "Computing validation loss\n",
            "running torch_single_train\n",
            "The running loss is: \n",
            "2078.262659371714\n",
            "The number of items in train is: 3832\n",
            "The loss for epoch 7\n",
            "0.5423441177901133\n",
            "Computing validation loss\n",
            "running torch_single_train\n",
            "The running loss is: \n",
            "2076.8768763635308\n",
            "The number of items in train is: 3832\n",
            "The loss for epoch 8\n",
            "0.5419824833934057\n",
            "Computing validation loss\n",
            "running torch_single_train\n",
            "The running loss is: \n",
            "2082.4253809844377\n",
            "The number of items in train is: 3832\n",
            "The loss for epoch 9\n",
            "0.5434304230126403\n",
            "Computing validation loss\n",
            "Computing validation loss\n",
            "test loss: 6172.7360372536\n",
            "This model is currently forecasting for : 1 targets\n",
            "interpolate should be below\n",
            "[]\n",
            "Now loading wind/Austria.csv\n",
            "scaling now\n",
            "CSV Path below\n",
            "wind/Austria.csv\n",
            "Add debugging crap below\n",
            "transform end tens preform\n",
            "Un-transforming data\n",
            "Current historical dataframe \n",
            "      Unnamed: 0   datetime  month  ...  original_index     preds  pred_Austria\n",
            "8764        8764 2009-12-30     12  ...            8764  0.000000      0.000000\n",
            "8765        8765 2009-12-31     12  ...            8765  0.000000      0.000000\n",
            "8766        8766 2010-01-01      1  ...            8766  0.059064      0.059064\n",
            "8767        8767 2010-01-02      1  ...            8767  0.063812      0.063812\n",
            "8768        8768 2010-01-03      1  ...            8768  0.085700      0.085700\n",
            "8769        8769 2010-01-04      1  ...            8769  0.088425      0.088425\n",
            "8770        8770 2010-01-05      1  ...            8770  0.116546      0.116546\n",
            "8771        8771 2010-01-06      1  ...            8771  0.117175      0.117175\n",
            "8772        8772 2010-01-07      1  ...            8772  0.132214      0.132214\n",
            "8773        8773 2010-01-08      1  ...            8773  0.131399      0.131399\n",
            "8774        8774 2010-01-09      1  ...            8774  0.142505      0.142505\n",
            "8775        8775 2010-01-10      1  ...            8775  0.140905      0.140905\n",
            "8776        8776 2010-01-11      1  ...            8776  0.149432      0.149432\n",
            "8777        8777 2010-01-12      1  ...            8777  0.147304      0.147304\n",
            "8778        8778 2010-01-13      1  ...            8778  0.158259      0.158259\n",
            "8779        8779 2010-01-14      1  ...            8779  0.155462      0.155462\n",
            "8780        8780 2010-01-15      1  ...            8780  0.163359      0.163359\n",
            "8781        8781 2010-01-16      1  ...            8781  0.160175      0.160175\n",
            "8782        8782 2010-01-17      1  ...            8782  0.165751      0.165751\n",
            "8783        8783 2010-01-18      1  ...            8783  0.162365      0.162365\n",
            "8784        8784 2010-01-19      1  ...            8784  0.176893      0.176893\n",
            "8785        8785 2010-01-20      1  ...            8785  0.172902      0.172902\n",
            "8786        8786 2010-01-21      1  ...            8786  0.178634      0.178634\n",
            "8787        8787 2010-01-22      1  ...            8787  0.174288      0.174288\n",
            "8788        8788 2010-01-23      1  ...            8788  0.178243      0.178243\n",
            "8789        8789 2010-01-24      1  ...            8789  0.173927      0.173927\n",
            "8790        8790 2010-01-25      1  ...            8790  0.176735      0.176735\n",
            "8791        8791 2010-01-26      1  ...            8791  0.172476      0.172476\n",
            "8792        8792 2010-01-27      1  ...            8792  0.179267      0.179267\n",
            "8793        8793 2010-01-28      1  ...            8793  0.174873      0.174873\n",
            "8794        8794 2010-01-29      1  ...            8794  0.179570      0.179570\n",
            "8795        8795 2010-01-30      1  ...            8795  0.175153      0.175153\n",
            "8796        8796 2010-01-31      1  ...            8796  0.178154      0.178154\n",
            "8797        8797 2010-02-01      2  ...            8797  0.173842      0.173842\n",
            "8798        8798 2010-02-02      2  ...            8798  0.185193      0.185193\n",
            "8799        8799 2010-02-03      2  ...            8799  0.180561      0.180561\n",
            "8800        8800 2010-02-04      2  ...            8800  0.183084      0.183084\n",
            "8801        8801 2010-02-05      2  ...            8801  0.178400      0.178400\n",
            "8802        8802 2010-02-06      2  ...            8802  0.179710      0.179710\n",
            "8803        8803 2010-02-07      2  ...            8803  0.175283      0.175283\n",
            "8804        8804 2010-02-08      2  ...            8804  0.175882      0.175882\n",
            "8805        8805 2010-02-09      2  ...            8805  0.171688      0.171688\n",
            "8806        8806 2010-02-10      2  ...            8806  0.176602      0.176602\n",
            "8807        8807 2010-02-11      2  ...            8807  0.172410      0.172410\n",
            "8808        8808 2010-02-12      2  ...            8808  0.175505      0.175505\n",
            "8809        8809 2010-02-13      2  ...            8809  0.171397      0.171397\n",
            "8810        8810 2010-02-14      2  ...            8810  0.173013      0.173013\n",
            "8811        8811 2010-02-15      2  ...            8811  0.169091      0.169091\n",
            "8812        8812 2010-02-16      2  ...            8812  0.180353      0.180353\n",
            "8813        8813 2010-02-17      2  ...            8813  0.176096      0.176096\n",
            "8814        8814 2010-02-18      2  ...            8814  0.179319      0.179319\n",
            "8815        8815 2010-02-19      2  ...            8815  0.174921      0.174921\n",
            "\n",
            "[52 rows x 8 columns]\n"
          ],
          "name": "stdout"
        },
        {
          "output_type": "stream",
          "text": [
            "/usr/local/lib/python3.7/dist-packages/torch/nn/modules/module.py:974: UserWarning:\n",
            "\n",
            "Using a non-full backward hook when the forward contains multiple autograd Nodes is deprecated and will be removed in future versions. This hook will be missing some grad_input. Please use register_full_backward_hook to get the documented behavior.\n",
            "\n"
          ],
          "name": "stderr"
        },
        {
          "output_type": "stream",
          "text": [
            "Now plotting final plots\n"
          ],
          "name": "stdout"
        },
        {
          "output_type": "display_data",
          "data": {
            "text/html": [
              "<br/>Waiting for W&B process to finish, PID 3614<br/>Program ended successfully."
            ],
            "text/plain": [
              "<IPython.core.display.HTML object>"
            ]
          },
          "metadata": {
            "tags": []
          }
        },
        {
          "output_type": "display_data",
          "data": {
            "application/vnd.jupyter.widget-view+json": {
              "model_id": "45c20b7293324f29b9fa5b9a05e63f14",
              "version_minor": 0,
              "version_major": 2
            },
            "text/plain": [
              "VBox(children=(Label(value=' 0.10MB of 0.10MB uploaded (0.00MB deduped)\\r'), FloatProgress(value=1.0, max=1.0)…"
            ]
          },
          "metadata": {
            "tags": []
          }
        },
        {
          "output_type": "display_data",
          "data": {
            "text/html": [
              "Find user logs for this run at: <code>/content/github_aistream-peelout_flow-forecast/wandb/run-20210816_180805-m47zsvq1/logs/debug.log</code>"
            ],
            "text/plain": [
              "<IPython.core.display.HTML object>"
            ]
          },
          "metadata": {
            "tags": []
          }
        },
        {
          "output_type": "display_data",
          "data": {
            "text/html": [
              "Find internal logs for this run at: <code>/content/github_aistream-peelout_flow-forecast/wandb/run-20210816_180805-m47zsvq1/logs/debug-internal.log</code>"
            ],
            "text/plain": [
              "<IPython.core.display.HTML object>"
            ]
          },
          "metadata": {
            "tags": []
          }
        },
        {
          "output_type": "display_data",
          "data": {
            "text/html": [
              "<h3>Run summary:</h3><br/><style>\n",
              "    table.wandb td:nth-child(1) { padding: 0 10px; text-align: right }\n",
              "    </style><table class=\"wandb\">\n",
              "<tr><td>epoch</td><td>9</td></tr><tr><td>_runtime</td><td>273</td></tr><tr><td>_timestamp</td><td>1629137558</td></tr><tr><td>_step</td><td>36</td></tr><tr><td>loss</td><td>0.54343</td></tr></table>"
            ],
            "text/plain": [
              "<IPython.core.display.HTML object>"
            ]
          },
          "metadata": {
            "tags": []
          }
        },
        {
          "output_type": "display_data",
          "data": {
            "text/html": [
              "<h3>Run history:</h3><br/><style>\n",
              "    table.wandb td:nth-child(1) { padding: 0 10px; text-align: right }\n",
              "    </style><table class=\"wandb\">\n",
              "<tr><td>epoch</td><td>▁▁▂▂▃▃▃▃▄▄▅▅▆▆▆▆▇▇███</td></tr><tr><td>_runtime</td><td>▁▁▂▂▂▂▃▃▄▄▄▄▅▅▆▆▆▆▇▇█████████████████</td></tr><tr><td>_timestamp</td><td>▁▁▂▂▂▂▃▃▄▄▄▄▅▅▆▆▆▆▇▇█████████████████</td></tr><tr><td>_step</td><td>▁▁▁▂▂▂▂▂▃▃▃▃▃▄▄▄▄▄▅▅▅▅▅▅▆▆▆▆▆▇▇▇▇▇███</td></tr><tr><td>loss</td><td>█▁▂▂▁▂▁▁▁▁</td></tr></table><br/>"
            ],
            "text/plain": [
              "<IPython.core.display.HTML object>"
            ]
          },
          "metadata": {
            "tags": []
          }
        },
        {
          "output_type": "display_data",
          "data": {
            "text/html": [
              "Synced 5 W&B file(s), 13 media file(s), 0 artifact file(s) and 0 other file(s)"
            ],
            "text/plain": [
              "<IPython.core.display.HTML object>"
            ]
          },
          "metadata": {
            "tags": []
          }
        },
        {
          "output_type": "display_data",
          "data": {
            "text/html": [
              "\n",
              "                    <br/>Synced <strong style=\"color:#cdcd00\">bumbling-sweep-4</strong>: <a href=\"https://wandb.ai/sakil786/pretrained-wind-updatedfinal/runs/m47zsvq1\" target=\"_blank\">https://wandb.ai/sakil786/pretrained-wind-updatedfinal/runs/m47zsvq1</a><br/>\n",
              "                "
            ],
            "text/plain": [
              "<IPython.core.display.HTML object>"
            ]
          },
          "metadata": {
            "tags": []
          }
        },
        {
          "output_type": "stream",
          "text": [
            "\u001b[34m\u001b[1mwandb\u001b[0m: Sweep Agent: Waiting for job.\n",
            "\u001b[34m\u001b[1mwandb\u001b[0m: Sweep Agent: Exiting.\n"
          ],
          "name": "stderr"
        }
      ]
    },
    {
      "cell_type": "code",
      "metadata": {
        "id": "KkpX-83hFEzG"
      },
      "source": [
        "# #saving model\n",
        "# torch.save(model.state_dict(), 'checkpoint.pth')"
      ],
      "execution_count": null,
      "outputs": []
    },
    {
      "cell_type": "code",
      "metadata": {
        "colab": {
          "base_uri": "https://localhost:8080/",
          "height": 1000,
          "referenced_widgets": [
            "35381cd28be54193887ea7ed3ca012ee",
            "01e32187df1347f1b20ca65c48f681f9",
            "22426bff4a2244788c0d2550d254fb20",
            "59405ac5adf64bfea9d453187c9a6fcd",
            "2cbb457c810b49188e1799fe421e07e5",
            "51756477d8944981bb88ec8a6e11d131",
            "df9da782abaa471490eab26a6891ded7",
            "767ca05ab2df436ca9141533464654ac",
            "9177fa8e865345fabfe61260582ded47",
            "829f19ee47844a9c88f58448d1600545",
            "cde3917a2de14e0bb0b8ca644e70839a",
            "6b07732284d64ae983c6d698547b92e7",
            "582b76d1348748f6b8e87eeffb86f2b8",
            "9c45dd19197b4324941e6c260ffedc74",
            "98361db6855d42b0975af41f0fb0fb9d",
            "3cd8eb2bfa26444f9416e5e576279514",
            "ac281ff3fec743768aeeabaade415ab8",
            "3ca09bbee2d7485d8d939647af6213ba",
            "fa8c01d11e054f1a9796b8736bdb4fdf",
            "0a7058f141dc49e3822de78ad5ad0af9",
            "f969ebb178cd4ca783aad39484cf7c47",
            "8cf18973a1974e6c940ecd2b78dd0cc9",
            "5c5dc3ab8baa4f8eb4074c735cfc5b74",
            "6f0c32d912914175853357e13a2c6644"
          ]
        },
        "id": "FpXvReEO2FFg",
        "outputId": "fc73dc36-4c42-457b-f55f-1304f46c1ff2"
      },
      "source": [
        "# # It gave some errors, maybe some encoding ones.\n",
        "# import wandb\n",
        "# !mkdir model_save\n",
        "# for country in os.listdir('wind'):\n",
        "#     file_path = 'wind/'+country\n",
        "#     full_len = len(pd.read_csv(file_path))\n",
        "#     sweep_id = wandb.sweep(sweep_config, project=\"pretrained-wind-updatedfinal\")\n",
        "#     paths = []\n",
        "#     if len(os.listdir(\"model_save\"))>1:\n",
        "#         print(\"will use transfer\")\n",
        "#         weight_files = filter(lambda x: x.endswith(\".pth\"), os.listdir(\"model_save\")) \n",
        "#         for weight_file in weight_files:\n",
        "#           paths.append(os.path.join(\"model_save\", weight_file)) \n",
        "#         correct_file = max(paths, key = os.path.getctime)\n",
        "#         print(correct_file) \n",
        "#         wandb.agent(sweep_id, lambda:train_function(\"PyTorch\", make_config_file1(correct_file, full_len)))\n",
        "#     else:\n",
        "#         wandb.agent(sweep_id, lambda:train_function(\"PyTorch\", make_config_file1(file_path, full_len)))\n",
        "#     print(\"sucessfully completed sweep for: \" + file_path)\n",
        "#    # !gsutil cp -n -r model_save gs://coronaviruspublicdata/pretrained"
      ],
      "execution_count": 39,
      "outputs": [
        {
          "output_type": "stream",
          "text": [
            "mkdir: cannot create directory ‘model_save’: File exists\n",
            "Create sweep with ID: obx2fbxx\n",
            "Sweep URL: https://wandb.ai/sakil786/pretrained-wind-updatedfinal/sweeps/obx2fbxx\n",
            "will use transfer\n",
            "model_save/16_August_202106_44PM_model.pth\n"
          ],
          "name": "stdout"
        },
        {
          "output_type": "stream",
          "text": [
            "\u001b[34m\u001b[1mwandb\u001b[0m: Agent Starting Run: se1ls2bg with config:\n",
            "\u001b[34m\u001b[1mwandb\u001b[0m: \tbatch_size: 2\n",
            "\u001b[34m\u001b[1mwandb\u001b[0m: \tforecast_history: 1\n",
            "\u001b[34m\u001b[1mwandb\u001b[0m: \tlr: 0.001\n",
            "\u001b[34m\u001b[1mwandb\u001b[0m: \tout_seq_length: 1\n",
            "\u001b[34m\u001b[1mwandb\u001b[0m: \u001b[33mWARNING\u001b[0m Ignored wandb.init() arg project when running a sweep\n",
            "\u001b[34m\u001b[1mwandb\u001b[0m: wandb version 0.12.0 is available!  To upgrade, please run:\n",
            "\u001b[34m\u001b[1mwandb\u001b[0m:  $ pip install wandb --upgrade\n"
          ],
          "name": "stderr"
        },
        {
          "output_type": "display_data",
          "data": {
            "text/html": [
              "\n",
              "                Tracking run with wandb version 0.11.0<br/>\n",
              "                Syncing run <strong style=\"color:#cdcd00\">peachy-sweep-1</strong> to <a href=\"https://wandb.ai\" target=\"_blank\">Weights & Biases</a> <a href=\"https://docs.wandb.com/integrations/jupyter.html\" target=\"_blank\">(Documentation)</a>.<br/>\n",
              "                Project page: <a href=\"https://wandb.ai/sakil786/pretrained-wind-updatedfinal\" target=\"_blank\">https://wandb.ai/sakil786/pretrained-wind-updatedfinal</a><br/>\n",
              "                Sweep page: <a href=\"https://wandb.ai/sakil786/pretrained-wind-updatedfinal/sweeps/obx2fbxx\" target=\"_blank\">https://wandb.ai/sakil786/pretrained-wind-updatedfinal/sweeps/obx2fbxx</a><br/>\n",
              "Run page: <a href=\"https://wandb.ai/sakil786/pretrained-wind-updatedfinal/runs/se1ls2bg\" target=\"_blank\">https://wandb.ai/sakil786/pretrained-wind-updatedfinal/runs/se1ls2bg</a><br/>\n",
              "                Run data is saved locally in <code>/content/github_aistream-peelout_flow-forecast/wandb/run-20210816_185036-se1ls2bg</code><br/><br/>\n",
              "            "
            ],
            "text/plain": [
              "<IPython.core.display.HTML object>"
            ]
          },
          "metadata": {
            "tags": []
          }
        },
        {
          "output_type": "stream",
          "text": [
            "interpolate should be below\n"
          ],
          "name": "stdout"
        },
        {
          "output_type": "display_data",
          "data": {
            "text/html": [
              "<br/>Waiting for W&B process to finish, PID 5765<br/>Program failed with code 1.  Press ctrl-c to abort syncing."
            ],
            "text/plain": [
              "<IPython.core.display.HTML object>"
            ]
          },
          "metadata": {
            "tags": []
          }
        },
        {
          "output_type": "display_data",
          "data": {
            "application/vnd.jupyter.widget-view+json": {
              "model_id": "35381cd28be54193887ea7ed3ca012ee",
              "version_minor": 0,
              "version_major": 2
            },
            "text/plain": [
              "VBox(children=(Label(value=' 0.00MB of 0.00MB uploaded (0.00MB deduped)\\r'), FloatProgress(value=1.0, max=1.0)…"
            ]
          },
          "metadata": {
            "tags": []
          }
        },
        {
          "output_type": "display_data",
          "data": {
            "text/html": [
              "Find user logs for this run at: <code>/content/github_aistream-peelout_flow-forecast/wandb/run-20210816_185036-se1ls2bg/logs/debug.log</code>"
            ],
            "text/plain": [
              "<IPython.core.display.HTML object>"
            ]
          },
          "metadata": {
            "tags": []
          }
        },
        {
          "output_type": "display_data",
          "data": {
            "text/html": [
              "Find internal logs for this run at: <code>/content/github_aistream-peelout_flow-forecast/wandb/run-20210816_185036-se1ls2bg/logs/debug-internal.log</code>"
            ],
            "text/plain": [
              "<IPython.core.display.HTML object>"
            ]
          },
          "metadata": {
            "tags": []
          }
        },
        {
          "output_type": "display_data",
          "data": {
            "text/html": [
              "Synced 5 W&B file(s), 0 media file(s), 0 artifact file(s) and 0 other file(s)"
            ],
            "text/plain": [
              "<IPython.core.display.HTML object>"
            ]
          },
          "metadata": {
            "tags": []
          }
        },
        {
          "output_type": "display_data",
          "data": {
            "text/html": [
              "\n",
              "                    <br/>Synced <strong style=\"color:#cdcd00\">peachy-sweep-1</strong>: <a href=\"https://wandb.ai/sakil786/pretrained-wind-updatedfinal/runs/se1ls2bg\" target=\"_blank\">https://wandb.ai/sakil786/pretrained-wind-updatedfinal/runs/se1ls2bg</a><br/>\n",
              "                "
            ],
            "text/plain": [
              "<IPython.core.display.HTML object>"
            ]
          },
          "metadata": {
            "tags": []
          }
        },
        {
          "output_type": "stream",
          "text": [
            "Run se1ls2bg errored: ParserError('Error tokenizing data. C error: Expected 1 fields in line 9, saw 2\\n')\n",
            "\u001b[34m\u001b[1mwandb\u001b[0m: \u001b[32m\u001b[41mERROR\u001b[0m Run se1ls2bg errored: ParserError('Error tokenizing data. C error: Expected 1 fields in line 9, saw 2\\n')\n",
            "\u001b[34m\u001b[1mwandb\u001b[0m: Agent Starting Run: xh9hgimn with config:\n",
            "\u001b[34m\u001b[1mwandb\u001b[0m: \tbatch_size: 2\n",
            "\u001b[34m\u001b[1mwandb\u001b[0m: \tforecast_history: 1\n",
            "\u001b[34m\u001b[1mwandb\u001b[0m: \tlr: 0.001\n",
            "\u001b[34m\u001b[1mwandb\u001b[0m: \tout_seq_length: 2\n",
            "\u001b[34m\u001b[1mwandb\u001b[0m: \u001b[33mWARNING\u001b[0m Ignored wandb.init() arg project when running a sweep\n",
            "\u001b[34m\u001b[1mwandb\u001b[0m: wandb version 0.12.0 is available!  To upgrade, please run:\n",
            "\u001b[34m\u001b[1mwandb\u001b[0m:  $ pip install wandb --upgrade\n"
          ],
          "name": "stderr"
        },
        {
          "output_type": "display_data",
          "data": {
            "text/html": [
              "\n",
              "                Tracking run with wandb version 0.11.0<br/>\n",
              "                Syncing run <strong style=\"color:#cdcd00\">fresh-sweep-2</strong> to <a href=\"https://wandb.ai\" target=\"_blank\">Weights & Biases</a> <a href=\"https://docs.wandb.com/integrations/jupyter.html\" target=\"_blank\">(Documentation)</a>.<br/>\n",
              "                Project page: <a href=\"https://wandb.ai/sakil786/pretrained-wind-updatedfinal\" target=\"_blank\">https://wandb.ai/sakil786/pretrained-wind-updatedfinal</a><br/>\n",
              "                Sweep page: <a href=\"https://wandb.ai/sakil786/pretrained-wind-updatedfinal/sweeps/obx2fbxx\" target=\"_blank\">https://wandb.ai/sakil786/pretrained-wind-updatedfinal/sweeps/obx2fbxx</a><br/>\n",
              "Run page: <a href=\"https://wandb.ai/sakil786/pretrained-wind-updatedfinal/runs/xh9hgimn\" target=\"_blank\">https://wandb.ai/sakil786/pretrained-wind-updatedfinal/runs/xh9hgimn</a><br/>\n",
              "                Run data is saved locally in <code>/content/github_aistream-peelout_flow-forecast/wandb/run-20210816_185049-xh9hgimn</code><br/><br/>\n",
              "            "
            ],
            "text/plain": [
              "<IPython.core.display.HTML object>"
            ]
          },
          "metadata": {
            "tags": []
          }
        },
        {
          "output_type": "stream",
          "text": [
            "interpolate should be below\n"
          ],
          "name": "stdout"
        },
        {
          "output_type": "display_data",
          "data": {
            "text/html": [
              "<br/>Waiting for W&B process to finish, PID 5802<br/>Program failed with code 1.  Press ctrl-c to abort syncing."
            ],
            "text/plain": [
              "<IPython.core.display.HTML object>"
            ]
          },
          "metadata": {
            "tags": []
          }
        },
        {
          "output_type": "display_data",
          "data": {
            "application/vnd.jupyter.widget-view+json": {
              "model_id": "9177fa8e865345fabfe61260582ded47",
              "version_minor": 0,
              "version_major": 2
            },
            "text/plain": [
              "VBox(children=(Label(value=' 0.00MB of 0.00MB uploaded (0.00MB deduped)\\r'), FloatProgress(value=1.0, max=1.0)…"
            ]
          },
          "metadata": {
            "tags": []
          }
        },
        {
          "output_type": "display_data",
          "data": {
            "text/html": [
              "Find user logs for this run at: <code>/content/github_aistream-peelout_flow-forecast/wandb/run-20210816_185049-xh9hgimn/logs/debug.log</code>"
            ],
            "text/plain": [
              "<IPython.core.display.HTML object>"
            ]
          },
          "metadata": {
            "tags": []
          }
        },
        {
          "output_type": "display_data",
          "data": {
            "text/html": [
              "Find internal logs for this run at: <code>/content/github_aistream-peelout_flow-forecast/wandb/run-20210816_185049-xh9hgimn/logs/debug-internal.log</code>"
            ],
            "text/plain": [
              "<IPython.core.display.HTML object>"
            ]
          },
          "metadata": {
            "tags": []
          }
        },
        {
          "output_type": "display_data",
          "data": {
            "text/html": [
              "Synced 5 W&B file(s), 0 media file(s), 0 artifact file(s) and 0 other file(s)"
            ],
            "text/plain": [
              "<IPython.core.display.HTML object>"
            ]
          },
          "metadata": {
            "tags": []
          }
        },
        {
          "output_type": "display_data",
          "data": {
            "text/html": [
              "\n",
              "                    <br/>Synced <strong style=\"color:#cdcd00\">fresh-sweep-2</strong>: <a href=\"https://wandb.ai/sakil786/pretrained-wind-updatedfinal/runs/xh9hgimn\" target=\"_blank\">https://wandb.ai/sakil786/pretrained-wind-updatedfinal/runs/xh9hgimn</a><br/>\n",
              "                "
            ],
            "text/plain": [
              "<IPython.core.display.HTML object>"
            ]
          },
          "metadata": {
            "tags": []
          }
        },
        {
          "output_type": "stream",
          "text": [
            "Run xh9hgimn errored: ParserError('Error tokenizing data. C error: Expected 1 fields in line 9, saw 2\\n')\n",
            "\u001b[34m\u001b[1mwandb\u001b[0m: \u001b[32m\u001b[41mERROR\u001b[0m Run xh9hgimn errored: ParserError('Error tokenizing data. C error: Expected 1 fields in line 9, saw 2\\n')\n",
            "\u001b[34m\u001b[1mwandb\u001b[0m: Agent Starting Run: omy255l9 with config:\n",
            "\u001b[34m\u001b[1mwandb\u001b[0m: \tbatch_size: 2\n",
            "\u001b[34m\u001b[1mwandb\u001b[0m: \tforecast_history: 1\n",
            "\u001b[34m\u001b[1mwandb\u001b[0m: \tlr: 0.001\n",
            "\u001b[34m\u001b[1mwandb\u001b[0m: \tout_seq_length: 3\n",
            "\u001b[34m\u001b[1mwandb\u001b[0m: \u001b[33mWARNING\u001b[0m Ignored wandb.init() arg project when running a sweep\n",
            "\u001b[34m\u001b[1mwandb\u001b[0m: wandb version 0.12.0 is available!  To upgrade, please run:\n",
            "\u001b[34m\u001b[1mwandb\u001b[0m:  $ pip install wandb --upgrade\n"
          ],
          "name": "stderr"
        },
        {
          "output_type": "display_data",
          "data": {
            "text/html": [
              "\n",
              "                Tracking run with wandb version 0.11.0<br/>\n",
              "                Syncing run <strong style=\"color:#cdcd00\">super-sweep-3</strong> to <a href=\"https://wandb.ai\" target=\"_blank\">Weights & Biases</a> <a href=\"https://docs.wandb.com/integrations/jupyter.html\" target=\"_blank\">(Documentation)</a>.<br/>\n",
              "                Project page: <a href=\"https://wandb.ai/sakil786/pretrained-wind-updatedfinal\" target=\"_blank\">https://wandb.ai/sakil786/pretrained-wind-updatedfinal</a><br/>\n",
              "                Sweep page: <a href=\"https://wandb.ai/sakil786/pretrained-wind-updatedfinal/sweeps/obx2fbxx\" target=\"_blank\">https://wandb.ai/sakil786/pretrained-wind-updatedfinal/sweeps/obx2fbxx</a><br/>\n",
              "Run page: <a href=\"https://wandb.ai/sakil786/pretrained-wind-updatedfinal/runs/omy255l9\" target=\"_blank\">https://wandb.ai/sakil786/pretrained-wind-updatedfinal/runs/omy255l9</a><br/>\n",
              "                Run data is saved locally in <code>/content/github_aistream-peelout_flow-forecast/wandb/run-20210816_185102-omy255l9</code><br/><br/>\n",
              "            "
            ],
            "text/plain": [
              "<IPython.core.display.HTML object>"
            ]
          },
          "metadata": {
            "tags": []
          }
        },
        {
          "output_type": "stream",
          "text": [
            "interpolate should be below\n"
          ],
          "name": "stdout"
        },
        {
          "output_type": "display_data",
          "data": {
            "text/html": [
              "<br/>Waiting for W&B process to finish, PID 5839<br/>Program failed with code 1.  Press ctrl-c to abort syncing."
            ],
            "text/plain": [
              "<IPython.core.display.HTML object>"
            ]
          },
          "metadata": {
            "tags": []
          }
        },
        {
          "output_type": "display_data",
          "data": {
            "application/vnd.jupyter.widget-view+json": {
              "model_id": "ac281ff3fec743768aeeabaade415ab8",
              "version_minor": 0,
              "version_major": 2
            },
            "text/plain": [
              "VBox(children=(Label(value=' 0.00MB of 0.00MB uploaded (0.00MB deduped)\\r'), FloatProgress(value=1.0, max=1.0)…"
            ]
          },
          "metadata": {
            "tags": []
          }
        },
        {
          "output_type": "display_data",
          "data": {
            "text/html": [
              "Find user logs for this run at: <code>/content/github_aistream-peelout_flow-forecast/wandb/run-20210816_185102-omy255l9/logs/debug.log</code>"
            ],
            "text/plain": [
              "<IPython.core.display.HTML object>"
            ]
          },
          "metadata": {
            "tags": []
          }
        },
        {
          "output_type": "display_data",
          "data": {
            "text/html": [
              "Find internal logs for this run at: <code>/content/github_aistream-peelout_flow-forecast/wandb/run-20210816_185102-omy255l9/logs/debug-internal.log</code>"
            ],
            "text/plain": [
              "<IPython.core.display.HTML object>"
            ]
          },
          "metadata": {
            "tags": []
          }
        },
        {
          "output_type": "display_data",
          "data": {
            "text/html": [
              "Synced 5 W&B file(s), 0 media file(s), 0 artifact file(s) and 0 other file(s)"
            ],
            "text/plain": [
              "<IPython.core.display.HTML object>"
            ]
          },
          "metadata": {
            "tags": []
          }
        },
        {
          "output_type": "display_data",
          "data": {
            "text/html": [
              "\n",
              "                    <br/>Synced <strong style=\"color:#cdcd00\">super-sweep-3</strong>: <a href=\"https://wandb.ai/sakil786/pretrained-wind-updatedfinal/runs/omy255l9\" target=\"_blank\">https://wandb.ai/sakil786/pretrained-wind-updatedfinal/runs/omy255l9</a><br/>\n",
              "                "
            ],
            "text/plain": [
              "<IPython.core.display.HTML object>"
            ]
          },
          "metadata": {
            "tags": []
          }
        },
        {
          "output_type": "stream",
          "text": [
            "Run omy255l9 errored: ParserError('Error tokenizing data. C error: Expected 1 fields in line 9, saw 2\\n')\n",
            "\u001b[34m\u001b[1mwandb\u001b[0m: \u001b[32m\u001b[41mERROR\u001b[0m Run omy255l9 errored: ParserError('Error tokenizing data. C error: Expected 1 fields in line 9, saw 2\\n')\n",
            "Detected 3 failed runs in the first 60 seconds, killing sweep.\n",
            "\u001b[34m\u001b[1mwandb\u001b[0m: \u001b[32m\u001b[41mERROR\u001b[0m Detected 3 failed runs in the first 60 seconds, killing sweep.\n",
            "\u001b[34m\u001b[1mwandb\u001b[0m: To disable this check set WANDB_AGENT_DISABLE_FLAPPING=true\n"
          ],
          "name": "stderr"
        },
        {
          "output_type": "stream",
          "text": [
            "sucessfully completed sweep for: wind/Austria.csv\n"
          ],
          "name": "stdout"
        }
      ]
    },
    {
      "cell_type": "markdown",
      "metadata": {
        "id": "WD5LRCAM2e9Z"
      },
      "source": [
        "# **Transfer Learning**"
      ]
    },
    {
      "cell_type": "code",
      "metadata": {
        "id": "lEEsq2V82m0G"
      },
      "source": [
        ""
      ],
      "execution_count": null,
      "outputs": []
    },
    {
      "cell_type": "markdown",
      "metadata": {
        "id": "vNIK0Sgx8O3R"
      },
      "source": [
        "# **Tranasfer learning on Solar Data**"
      ]
    },
    {
      "cell_type": "code",
      "metadata": {
        "id": "a5esLfgk8VGh"
      },
      "source": [
        "import pandas as pd\n",
        "solar = pd.read_csv('solar.csv')"
      ],
      "execution_count": 26,
      "outputs": []
    },
    {
      "cell_type": "code",
      "metadata": {
        "colab": {
          "base_uri": "https://localhost:8080/",
          "height": 330
        },
        "id": "ua8Hg_718Yv-",
        "outputId": "50f9c663-d2e9-4f53-8311-fa7493157461"
      },
      "source": [
        "solar.head()"
      ],
      "execution_count": 27,
      "outputs": [
        {
          "output_type": "execute_result",
          "data": {
            "text/html": [
              "<div>\n",
              "<style scoped>\n",
              "    .dataframe tbody tr th:only-of-type {\n",
              "        vertical-align: middle;\n",
              "    }\n",
              "\n",
              "    .dataframe tbody tr th {\n",
              "        vertical-align: top;\n",
              "    }\n",
              "\n",
              "    .dataframe thead th {\n",
              "        text-align: right;\n",
              "    }\n",
              "</style>\n",
              "<table border=\"1\" class=\"dataframe\">\n",
              "  <thead>\n",
              "    <tr style=\"text-align: right;\">\n",
              "      <th></th>\n",
              "      <th>LocalTime</th>\n",
              "      <th>Power(MW)</th>\n",
              "      <th>Power(MW).1</th>\n",
              "      <th>Power(MW).2</th>\n",
              "      <th>Power(MW).3</th>\n",
              "      <th>Power(MW).4</th>\n",
              "      <th>Power(MW).5</th>\n",
              "      <th>Power(MW).6</th>\n",
              "      <th>Power(MW).7</th>\n",
              "      <th>Power(MW).8</th>\n",
              "      <th>Power(MW).9</th>\n",
              "      <th>Power(MW).10</th>\n",
              "      <th>Power(MW).11</th>\n",
              "      <th>Power(MW).12</th>\n",
              "      <th>Power(MW).13</th>\n",
              "      <th>Power(MW).14</th>\n",
              "      <th>Power(MW).15</th>\n",
              "      <th>Power(MW).16</th>\n",
              "      <th>Power(MW).17</th>\n",
              "      <th>Power(MW).18</th>\n",
              "      <th>Power(MW).19</th>\n",
              "      <th>Power(MW).20</th>\n",
              "      <th>Power(MW).21</th>\n",
              "      <th>Power(MW).22</th>\n",
              "      <th>Power(MW).23</th>\n",
              "      <th>Power(MW).24</th>\n",
              "      <th>Power(MW).25</th>\n",
              "      <th>Power(MW).26</th>\n",
              "      <th>Power(MW).27</th>\n",
              "      <th>Power(MW).28</th>\n",
              "      <th>Power(MW).29</th>\n",
              "      <th>Power(MW).30</th>\n",
              "      <th>Power(MW).31</th>\n",
              "      <th>Power(MW).32</th>\n",
              "      <th>Power(MW).33</th>\n",
              "      <th>Power(MW).34</th>\n",
              "      <th>Power(MW).35</th>\n",
              "      <th>Power(MW).36</th>\n",
              "      <th>Power(MW).37</th>\n",
              "      <th>Power(MW).38</th>\n",
              "      <th>...</th>\n",
              "      <th>Power(MW).97</th>\n",
              "      <th>Power(MW).98</th>\n",
              "      <th>Power(MW).99</th>\n",
              "      <th>Power(MW).100</th>\n",
              "      <th>Power(MW).101</th>\n",
              "      <th>Power(MW).102</th>\n",
              "      <th>Power(MW).103</th>\n",
              "      <th>Power(MW).104</th>\n",
              "      <th>Power(MW).105</th>\n",
              "      <th>Power(MW).106</th>\n",
              "      <th>Power(MW).107</th>\n",
              "      <th>Power(MW).108</th>\n",
              "      <th>Power(MW).109</th>\n",
              "      <th>Power(MW).110</th>\n",
              "      <th>Power(MW).111</th>\n",
              "      <th>Power(MW).112</th>\n",
              "      <th>Power(MW).113</th>\n",
              "      <th>Power(MW).114</th>\n",
              "      <th>Power(MW).115</th>\n",
              "      <th>Power(MW).116</th>\n",
              "      <th>Power(MW).117</th>\n",
              "      <th>Power(MW).118</th>\n",
              "      <th>Power(MW).119</th>\n",
              "      <th>Power(MW).120</th>\n",
              "      <th>Power(MW).121</th>\n",
              "      <th>Power(MW).122</th>\n",
              "      <th>Power(MW).123</th>\n",
              "      <th>Power(MW).124</th>\n",
              "      <th>Power(MW).125</th>\n",
              "      <th>Power(MW).126</th>\n",
              "      <th>Power(MW).127</th>\n",
              "      <th>Power(MW).128</th>\n",
              "      <th>Power(MW).129</th>\n",
              "      <th>Power(MW).130</th>\n",
              "      <th>Power(MW).131</th>\n",
              "      <th>Power(MW).132</th>\n",
              "      <th>Power(MW).133</th>\n",
              "      <th>Power(MW).134</th>\n",
              "      <th>Power(MW).135</th>\n",
              "      <th>Power(MW).136</th>\n",
              "    </tr>\n",
              "  </thead>\n",
              "  <tbody>\n",
              "    <tr>\n",
              "      <th>0</th>\n",
              "      <td>2006-01-01 00:00:00</td>\n",
              "      <td>0.0</td>\n",
              "      <td>0.0</td>\n",
              "      <td>0.0</td>\n",
              "      <td>0.0</td>\n",
              "      <td>0.0</td>\n",
              "      <td>0.0</td>\n",
              "      <td>0.0</td>\n",
              "      <td>0.0</td>\n",
              "      <td>0.0</td>\n",
              "      <td>0.0</td>\n",
              "      <td>0.0</td>\n",
              "      <td>0.0</td>\n",
              "      <td>0.0</td>\n",
              "      <td>0.0</td>\n",
              "      <td>0.0</td>\n",
              "      <td>0.0</td>\n",
              "      <td>0.0</td>\n",
              "      <td>0.0</td>\n",
              "      <td>0.0</td>\n",
              "      <td>0.0</td>\n",
              "      <td>0.0</td>\n",
              "      <td>0.0</td>\n",
              "      <td>0.0</td>\n",
              "      <td>0.0</td>\n",
              "      <td>0.0</td>\n",
              "      <td>0.0</td>\n",
              "      <td>0.0</td>\n",
              "      <td>0.0</td>\n",
              "      <td>0.0</td>\n",
              "      <td>0.0</td>\n",
              "      <td>0.0</td>\n",
              "      <td>0.0</td>\n",
              "      <td>0.0</td>\n",
              "      <td>0.0</td>\n",
              "      <td>0.0</td>\n",
              "      <td>0.0</td>\n",
              "      <td>0.0</td>\n",
              "      <td>0.0</td>\n",
              "      <td>0.0</td>\n",
              "      <td>...</td>\n",
              "      <td>0.0</td>\n",
              "      <td>0.0</td>\n",
              "      <td>0.0</td>\n",
              "      <td>0.0</td>\n",
              "      <td>0.0</td>\n",
              "      <td>0.0</td>\n",
              "      <td>0.0</td>\n",
              "      <td>0.0</td>\n",
              "      <td>0.0</td>\n",
              "      <td>0.0</td>\n",
              "      <td>0.0</td>\n",
              "      <td>0.0</td>\n",
              "      <td>0.0</td>\n",
              "      <td>0.0</td>\n",
              "      <td>0.0</td>\n",
              "      <td>0.0</td>\n",
              "      <td>0.0</td>\n",
              "      <td>0.0</td>\n",
              "      <td>0.0</td>\n",
              "      <td>0.0</td>\n",
              "      <td>0.0</td>\n",
              "      <td>0.0</td>\n",
              "      <td>0.0</td>\n",
              "      <td>0.0</td>\n",
              "      <td>0.0</td>\n",
              "      <td>0.0</td>\n",
              "      <td>0.0</td>\n",
              "      <td>0.0</td>\n",
              "      <td>0.0</td>\n",
              "      <td>0.0</td>\n",
              "      <td>0.0</td>\n",
              "      <td>0.0</td>\n",
              "      <td>0.0</td>\n",
              "      <td>0.0</td>\n",
              "      <td>0.0</td>\n",
              "      <td>0.0</td>\n",
              "      <td>0.0</td>\n",
              "      <td>0.0</td>\n",
              "      <td>0.0</td>\n",
              "      <td>0.0</td>\n",
              "    </tr>\n",
              "    <tr>\n",
              "      <th>1</th>\n",
              "      <td>2006-01-01 01:00:00</td>\n",
              "      <td>0.0</td>\n",
              "      <td>0.0</td>\n",
              "      <td>0.0</td>\n",
              "      <td>0.0</td>\n",
              "      <td>0.0</td>\n",
              "      <td>0.0</td>\n",
              "      <td>0.0</td>\n",
              "      <td>0.0</td>\n",
              "      <td>0.0</td>\n",
              "      <td>0.0</td>\n",
              "      <td>0.0</td>\n",
              "      <td>0.0</td>\n",
              "      <td>0.0</td>\n",
              "      <td>0.0</td>\n",
              "      <td>0.0</td>\n",
              "      <td>0.0</td>\n",
              "      <td>0.0</td>\n",
              "      <td>0.0</td>\n",
              "      <td>0.0</td>\n",
              "      <td>0.0</td>\n",
              "      <td>0.0</td>\n",
              "      <td>0.0</td>\n",
              "      <td>0.0</td>\n",
              "      <td>0.0</td>\n",
              "      <td>0.0</td>\n",
              "      <td>0.0</td>\n",
              "      <td>0.0</td>\n",
              "      <td>0.0</td>\n",
              "      <td>0.0</td>\n",
              "      <td>0.0</td>\n",
              "      <td>0.0</td>\n",
              "      <td>0.0</td>\n",
              "      <td>0.0</td>\n",
              "      <td>0.0</td>\n",
              "      <td>0.0</td>\n",
              "      <td>0.0</td>\n",
              "      <td>0.0</td>\n",
              "      <td>0.0</td>\n",
              "      <td>0.0</td>\n",
              "      <td>...</td>\n",
              "      <td>0.0</td>\n",
              "      <td>0.0</td>\n",
              "      <td>0.0</td>\n",
              "      <td>0.0</td>\n",
              "      <td>0.0</td>\n",
              "      <td>0.0</td>\n",
              "      <td>0.0</td>\n",
              "      <td>0.0</td>\n",
              "      <td>0.0</td>\n",
              "      <td>0.0</td>\n",
              "      <td>0.0</td>\n",
              "      <td>0.0</td>\n",
              "      <td>0.0</td>\n",
              "      <td>0.0</td>\n",
              "      <td>0.0</td>\n",
              "      <td>0.0</td>\n",
              "      <td>0.0</td>\n",
              "      <td>0.0</td>\n",
              "      <td>0.0</td>\n",
              "      <td>0.0</td>\n",
              "      <td>0.0</td>\n",
              "      <td>0.0</td>\n",
              "      <td>0.0</td>\n",
              "      <td>0.0</td>\n",
              "      <td>0.0</td>\n",
              "      <td>0.0</td>\n",
              "      <td>0.0</td>\n",
              "      <td>0.0</td>\n",
              "      <td>0.0</td>\n",
              "      <td>0.0</td>\n",
              "      <td>0.0</td>\n",
              "      <td>0.0</td>\n",
              "      <td>0.0</td>\n",
              "      <td>0.0</td>\n",
              "      <td>0.0</td>\n",
              "      <td>0.0</td>\n",
              "      <td>0.0</td>\n",
              "      <td>0.0</td>\n",
              "      <td>0.0</td>\n",
              "      <td>0.0</td>\n",
              "    </tr>\n",
              "    <tr>\n",
              "      <th>2</th>\n",
              "      <td>2006-01-01 02:00:00</td>\n",
              "      <td>0.0</td>\n",
              "      <td>0.0</td>\n",
              "      <td>0.0</td>\n",
              "      <td>0.0</td>\n",
              "      <td>0.0</td>\n",
              "      <td>0.0</td>\n",
              "      <td>0.0</td>\n",
              "      <td>0.0</td>\n",
              "      <td>0.0</td>\n",
              "      <td>0.0</td>\n",
              "      <td>0.0</td>\n",
              "      <td>0.0</td>\n",
              "      <td>0.0</td>\n",
              "      <td>0.0</td>\n",
              "      <td>0.0</td>\n",
              "      <td>0.0</td>\n",
              "      <td>0.0</td>\n",
              "      <td>0.0</td>\n",
              "      <td>0.0</td>\n",
              "      <td>0.0</td>\n",
              "      <td>0.0</td>\n",
              "      <td>0.0</td>\n",
              "      <td>0.0</td>\n",
              "      <td>0.0</td>\n",
              "      <td>0.0</td>\n",
              "      <td>0.0</td>\n",
              "      <td>0.0</td>\n",
              "      <td>0.0</td>\n",
              "      <td>0.0</td>\n",
              "      <td>0.0</td>\n",
              "      <td>0.0</td>\n",
              "      <td>0.0</td>\n",
              "      <td>0.0</td>\n",
              "      <td>0.0</td>\n",
              "      <td>0.0</td>\n",
              "      <td>0.0</td>\n",
              "      <td>0.0</td>\n",
              "      <td>0.0</td>\n",
              "      <td>0.0</td>\n",
              "      <td>...</td>\n",
              "      <td>0.0</td>\n",
              "      <td>0.0</td>\n",
              "      <td>0.0</td>\n",
              "      <td>0.0</td>\n",
              "      <td>0.0</td>\n",
              "      <td>0.0</td>\n",
              "      <td>0.0</td>\n",
              "      <td>0.0</td>\n",
              "      <td>0.0</td>\n",
              "      <td>0.0</td>\n",
              "      <td>0.0</td>\n",
              "      <td>0.0</td>\n",
              "      <td>0.0</td>\n",
              "      <td>0.0</td>\n",
              "      <td>0.0</td>\n",
              "      <td>0.0</td>\n",
              "      <td>0.0</td>\n",
              "      <td>0.0</td>\n",
              "      <td>0.0</td>\n",
              "      <td>0.0</td>\n",
              "      <td>0.0</td>\n",
              "      <td>0.0</td>\n",
              "      <td>0.0</td>\n",
              "      <td>0.0</td>\n",
              "      <td>0.0</td>\n",
              "      <td>0.0</td>\n",
              "      <td>0.0</td>\n",
              "      <td>0.0</td>\n",
              "      <td>0.0</td>\n",
              "      <td>0.0</td>\n",
              "      <td>0.0</td>\n",
              "      <td>0.0</td>\n",
              "      <td>0.0</td>\n",
              "      <td>0.0</td>\n",
              "      <td>0.0</td>\n",
              "      <td>0.0</td>\n",
              "      <td>0.0</td>\n",
              "      <td>0.0</td>\n",
              "      <td>0.0</td>\n",
              "      <td>0.0</td>\n",
              "    </tr>\n",
              "    <tr>\n",
              "      <th>3</th>\n",
              "      <td>2006-01-01 03:00:00</td>\n",
              "      <td>0.0</td>\n",
              "      <td>0.0</td>\n",
              "      <td>0.0</td>\n",
              "      <td>0.0</td>\n",
              "      <td>0.0</td>\n",
              "      <td>0.0</td>\n",
              "      <td>0.0</td>\n",
              "      <td>0.0</td>\n",
              "      <td>0.0</td>\n",
              "      <td>0.0</td>\n",
              "      <td>0.0</td>\n",
              "      <td>0.0</td>\n",
              "      <td>0.0</td>\n",
              "      <td>0.0</td>\n",
              "      <td>0.0</td>\n",
              "      <td>0.0</td>\n",
              "      <td>0.0</td>\n",
              "      <td>0.0</td>\n",
              "      <td>0.0</td>\n",
              "      <td>0.0</td>\n",
              "      <td>0.0</td>\n",
              "      <td>0.0</td>\n",
              "      <td>0.0</td>\n",
              "      <td>0.0</td>\n",
              "      <td>0.0</td>\n",
              "      <td>0.0</td>\n",
              "      <td>0.0</td>\n",
              "      <td>0.0</td>\n",
              "      <td>0.0</td>\n",
              "      <td>0.0</td>\n",
              "      <td>0.0</td>\n",
              "      <td>0.0</td>\n",
              "      <td>0.0</td>\n",
              "      <td>0.0</td>\n",
              "      <td>0.0</td>\n",
              "      <td>0.0</td>\n",
              "      <td>0.0</td>\n",
              "      <td>0.0</td>\n",
              "      <td>0.0</td>\n",
              "      <td>...</td>\n",
              "      <td>0.0</td>\n",
              "      <td>0.0</td>\n",
              "      <td>0.0</td>\n",
              "      <td>0.0</td>\n",
              "      <td>0.0</td>\n",
              "      <td>0.0</td>\n",
              "      <td>0.0</td>\n",
              "      <td>0.0</td>\n",
              "      <td>0.0</td>\n",
              "      <td>0.0</td>\n",
              "      <td>0.0</td>\n",
              "      <td>0.0</td>\n",
              "      <td>0.0</td>\n",
              "      <td>0.0</td>\n",
              "      <td>0.0</td>\n",
              "      <td>0.0</td>\n",
              "      <td>0.0</td>\n",
              "      <td>0.0</td>\n",
              "      <td>0.0</td>\n",
              "      <td>0.0</td>\n",
              "      <td>0.0</td>\n",
              "      <td>0.0</td>\n",
              "      <td>0.0</td>\n",
              "      <td>0.0</td>\n",
              "      <td>0.0</td>\n",
              "      <td>0.0</td>\n",
              "      <td>0.0</td>\n",
              "      <td>0.0</td>\n",
              "      <td>0.0</td>\n",
              "      <td>0.0</td>\n",
              "      <td>0.0</td>\n",
              "      <td>0.0</td>\n",
              "      <td>0.0</td>\n",
              "      <td>0.0</td>\n",
              "      <td>0.0</td>\n",
              "      <td>0.0</td>\n",
              "      <td>0.0</td>\n",
              "      <td>0.0</td>\n",
              "      <td>0.0</td>\n",
              "      <td>0.0</td>\n",
              "    </tr>\n",
              "    <tr>\n",
              "      <th>4</th>\n",
              "      <td>2006-01-01 04:00:00</td>\n",
              "      <td>0.0</td>\n",
              "      <td>0.0</td>\n",
              "      <td>0.0</td>\n",
              "      <td>0.0</td>\n",
              "      <td>0.0</td>\n",
              "      <td>0.0</td>\n",
              "      <td>0.0</td>\n",
              "      <td>0.0</td>\n",
              "      <td>0.0</td>\n",
              "      <td>0.0</td>\n",
              "      <td>0.0</td>\n",
              "      <td>0.0</td>\n",
              "      <td>0.0</td>\n",
              "      <td>0.0</td>\n",
              "      <td>0.0</td>\n",
              "      <td>0.0</td>\n",
              "      <td>0.0</td>\n",
              "      <td>0.0</td>\n",
              "      <td>0.0</td>\n",
              "      <td>0.0</td>\n",
              "      <td>0.0</td>\n",
              "      <td>0.0</td>\n",
              "      <td>0.0</td>\n",
              "      <td>0.0</td>\n",
              "      <td>0.0</td>\n",
              "      <td>0.0</td>\n",
              "      <td>0.0</td>\n",
              "      <td>0.0</td>\n",
              "      <td>0.0</td>\n",
              "      <td>0.0</td>\n",
              "      <td>0.0</td>\n",
              "      <td>0.0</td>\n",
              "      <td>0.0</td>\n",
              "      <td>0.0</td>\n",
              "      <td>0.0</td>\n",
              "      <td>0.0</td>\n",
              "      <td>0.0</td>\n",
              "      <td>0.0</td>\n",
              "      <td>0.0</td>\n",
              "      <td>...</td>\n",
              "      <td>0.0</td>\n",
              "      <td>0.0</td>\n",
              "      <td>0.0</td>\n",
              "      <td>0.0</td>\n",
              "      <td>0.0</td>\n",
              "      <td>0.0</td>\n",
              "      <td>0.0</td>\n",
              "      <td>0.0</td>\n",
              "      <td>0.0</td>\n",
              "      <td>0.0</td>\n",
              "      <td>0.0</td>\n",
              "      <td>0.0</td>\n",
              "      <td>0.0</td>\n",
              "      <td>0.0</td>\n",
              "      <td>0.0</td>\n",
              "      <td>0.0</td>\n",
              "      <td>0.0</td>\n",
              "      <td>0.0</td>\n",
              "      <td>0.0</td>\n",
              "      <td>0.0</td>\n",
              "      <td>0.0</td>\n",
              "      <td>0.0</td>\n",
              "      <td>0.0</td>\n",
              "      <td>0.0</td>\n",
              "      <td>0.0</td>\n",
              "      <td>0.0</td>\n",
              "      <td>0.0</td>\n",
              "      <td>0.0</td>\n",
              "      <td>0.0</td>\n",
              "      <td>0.0</td>\n",
              "      <td>0.0</td>\n",
              "      <td>0.0</td>\n",
              "      <td>0.0</td>\n",
              "      <td>0.0</td>\n",
              "      <td>0.0</td>\n",
              "      <td>0.0</td>\n",
              "      <td>0.0</td>\n",
              "      <td>0.0</td>\n",
              "      <td>0.0</td>\n",
              "      <td>0.0</td>\n",
              "    </tr>\n",
              "  </tbody>\n",
              "</table>\n",
              "<p>5 rows × 138 columns</p>\n",
              "</div>"
            ],
            "text/plain": [
              "             LocalTime  Power(MW)  ...  Power(MW).135  Power(MW).136\n",
              "0  2006-01-01 00:00:00        0.0  ...            0.0            0.0\n",
              "1  2006-01-01 01:00:00        0.0  ...            0.0            0.0\n",
              "2  2006-01-01 02:00:00        0.0  ...            0.0            0.0\n",
              "3  2006-01-01 03:00:00        0.0  ...            0.0            0.0\n",
              "4  2006-01-01 04:00:00        0.0  ...            0.0            0.0\n",
              "\n",
              "[5 rows x 138 columns]"
            ]
          },
          "metadata": {
            "tags": []
          },
          "execution_count": 27
        }
      ]
    },
    {
      "cell_type": "code",
      "metadata": {
        "colab": {
          "base_uri": "https://localhost:8080/",
          "height": 336
        },
        "id": "RxSUbtIC8btR",
        "outputId": "a8c81b92-541a-4207-93cb-49b05e4f929c"
      },
      "source": [
        "solar.describe()"
      ],
      "execution_count": 28,
      "outputs": [
        {
          "output_type": "execute_result",
          "data": {
            "text/html": [
              "<div>\n",
              "<style scoped>\n",
              "    .dataframe tbody tr th:only-of-type {\n",
              "        vertical-align: middle;\n",
              "    }\n",
              "\n",
              "    .dataframe tbody tr th {\n",
              "        vertical-align: top;\n",
              "    }\n",
              "\n",
              "    .dataframe thead th {\n",
              "        text-align: right;\n",
              "    }\n",
              "</style>\n",
              "<table border=\"1\" class=\"dataframe\">\n",
              "  <thead>\n",
              "    <tr style=\"text-align: right;\">\n",
              "      <th></th>\n",
              "      <th>Power(MW)</th>\n",
              "      <th>Power(MW).1</th>\n",
              "      <th>Power(MW).2</th>\n",
              "      <th>Power(MW).3</th>\n",
              "      <th>Power(MW).4</th>\n",
              "      <th>Power(MW).5</th>\n",
              "      <th>Power(MW).6</th>\n",
              "      <th>Power(MW).7</th>\n",
              "      <th>Power(MW).8</th>\n",
              "      <th>Power(MW).9</th>\n",
              "      <th>Power(MW).10</th>\n",
              "      <th>Power(MW).11</th>\n",
              "      <th>Power(MW).12</th>\n",
              "      <th>Power(MW).13</th>\n",
              "      <th>Power(MW).14</th>\n",
              "      <th>Power(MW).15</th>\n",
              "      <th>Power(MW).16</th>\n",
              "      <th>Power(MW).17</th>\n",
              "      <th>Power(MW).18</th>\n",
              "      <th>Power(MW).19</th>\n",
              "      <th>Power(MW).20</th>\n",
              "      <th>Power(MW).21</th>\n",
              "      <th>Power(MW).22</th>\n",
              "      <th>Power(MW).23</th>\n",
              "      <th>Power(MW).24</th>\n",
              "      <th>Power(MW).25</th>\n",
              "      <th>Power(MW).26</th>\n",
              "      <th>Power(MW).27</th>\n",
              "      <th>Power(MW).28</th>\n",
              "      <th>Power(MW).29</th>\n",
              "      <th>Power(MW).30</th>\n",
              "      <th>Power(MW).31</th>\n",
              "      <th>Power(MW).32</th>\n",
              "      <th>Power(MW).33</th>\n",
              "      <th>Power(MW).34</th>\n",
              "      <th>Power(MW).35</th>\n",
              "      <th>Power(MW).36</th>\n",
              "      <th>Power(MW).37</th>\n",
              "      <th>Power(MW).38</th>\n",
              "      <th>Power(MW).39</th>\n",
              "      <th>...</th>\n",
              "      <th>Power(MW).97</th>\n",
              "      <th>Power(MW).98</th>\n",
              "      <th>Power(MW).99</th>\n",
              "      <th>Power(MW).100</th>\n",
              "      <th>Power(MW).101</th>\n",
              "      <th>Power(MW).102</th>\n",
              "      <th>Power(MW).103</th>\n",
              "      <th>Power(MW).104</th>\n",
              "      <th>Power(MW).105</th>\n",
              "      <th>Power(MW).106</th>\n",
              "      <th>Power(MW).107</th>\n",
              "      <th>Power(MW).108</th>\n",
              "      <th>Power(MW).109</th>\n",
              "      <th>Power(MW).110</th>\n",
              "      <th>Power(MW).111</th>\n",
              "      <th>Power(MW).112</th>\n",
              "      <th>Power(MW).113</th>\n",
              "      <th>Power(MW).114</th>\n",
              "      <th>Power(MW).115</th>\n",
              "      <th>Power(MW).116</th>\n",
              "      <th>Power(MW).117</th>\n",
              "      <th>Power(MW).118</th>\n",
              "      <th>Power(MW).119</th>\n",
              "      <th>Power(MW).120</th>\n",
              "      <th>Power(MW).121</th>\n",
              "      <th>Power(MW).122</th>\n",
              "      <th>Power(MW).123</th>\n",
              "      <th>Power(MW).124</th>\n",
              "      <th>Power(MW).125</th>\n",
              "      <th>Power(MW).126</th>\n",
              "      <th>Power(MW).127</th>\n",
              "      <th>Power(MW).128</th>\n",
              "      <th>Power(MW).129</th>\n",
              "      <th>Power(MW).130</th>\n",
              "      <th>Power(MW).131</th>\n",
              "      <th>Power(MW).132</th>\n",
              "      <th>Power(MW).133</th>\n",
              "      <th>Power(MW).134</th>\n",
              "      <th>Power(MW).135</th>\n",
              "      <th>Power(MW).136</th>\n",
              "    </tr>\n",
              "  </thead>\n",
              "  <tbody>\n",
              "    <tr>\n",
              "      <th>count</th>\n",
              "      <td>5832.000000</td>\n",
              "      <td>5832.000000</td>\n",
              "      <td>5832.000000</td>\n",
              "      <td>5832.000000</td>\n",
              "      <td>5832.000000</td>\n",
              "      <td>5832.000000</td>\n",
              "      <td>5832.000000</td>\n",
              "      <td>5832.000000</td>\n",
              "      <td>5832.000000</td>\n",
              "      <td>5832.000000</td>\n",
              "      <td>5832.000000</td>\n",
              "      <td>5832.000000</td>\n",
              "      <td>5832.000000</td>\n",
              "      <td>5832.000000</td>\n",
              "      <td>5832.000000</td>\n",
              "      <td>5832.000000</td>\n",
              "      <td>5832.000000</td>\n",
              "      <td>5832.000000</td>\n",
              "      <td>5832.000000</td>\n",
              "      <td>5832.000000</td>\n",
              "      <td>5832.000000</td>\n",
              "      <td>5832.000000</td>\n",
              "      <td>5832.000000</td>\n",
              "      <td>5832.000000</td>\n",
              "      <td>5832.000000</td>\n",
              "      <td>5832.000000</td>\n",
              "      <td>5832.000000</td>\n",
              "      <td>5832.000000</td>\n",
              "      <td>5832.000000</td>\n",
              "      <td>5832.000000</td>\n",
              "      <td>5832.000000</td>\n",
              "      <td>5832.000000</td>\n",
              "      <td>5832.000000</td>\n",
              "      <td>5832.000000</td>\n",
              "      <td>5832.000000</td>\n",
              "      <td>5832.000000</td>\n",
              "      <td>5832.000000</td>\n",
              "      <td>5832.000000</td>\n",
              "      <td>5832.000000</td>\n",
              "      <td>5832.000000</td>\n",
              "      <td>...</td>\n",
              "      <td>5832.000000</td>\n",
              "      <td>5832.000000</td>\n",
              "      <td>5832.000000</td>\n",
              "      <td>5832.000000</td>\n",
              "      <td>5832.000000</td>\n",
              "      <td>5832.000000</td>\n",
              "      <td>5832.000000</td>\n",
              "      <td>5832.000000</td>\n",
              "      <td>5832.000000</td>\n",
              "      <td>5832.00000</td>\n",
              "      <td>5832.000000</td>\n",
              "      <td>5832.000000</td>\n",
              "      <td>5832.000000</td>\n",
              "      <td>5832.000000</td>\n",
              "      <td>5832.000000</td>\n",
              "      <td>5832.000000</td>\n",
              "      <td>5832.000000</td>\n",
              "      <td>5832.000000</td>\n",
              "      <td>5832.000000</td>\n",
              "      <td>5832.000000</td>\n",
              "      <td>5832.000000</td>\n",
              "      <td>5832.000000</td>\n",
              "      <td>5832.000000</td>\n",
              "      <td>5832.000000</td>\n",
              "      <td>5832.000000</td>\n",
              "      <td>5832.000000</td>\n",
              "      <td>5832.000000</td>\n",
              "      <td>5832.000000</td>\n",
              "      <td>5832.000000</td>\n",
              "      <td>5832.000000</td>\n",
              "      <td>5832.000000</td>\n",
              "      <td>5832.000000</td>\n",
              "      <td>5832.000000</td>\n",
              "      <td>5832.000000</td>\n",
              "      <td>5832.000000</td>\n",
              "      <td>5832.000000</td>\n",
              "      <td>5832.000000</td>\n",
              "      <td>5832.000000</td>\n",
              "      <td>5832.000000</td>\n",
              "      <td>5832.000000</td>\n",
              "    </tr>\n",
              "    <tr>\n",
              "      <th>mean</th>\n",
              "      <td>97.990021</td>\n",
              "      <td>72.601543</td>\n",
              "      <td>72.617678</td>\n",
              "      <td>181.308368</td>\n",
              "      <td>163.551646</td>\n",
              "      <td>64.378909</td>\n",
              "      <td>68.242027</td>\n",
              "      <td>118.852452</td>\n",
              "      <td>79.612140</td>\n",
              "      <td>101.382236</td>\n",
              "      <td>75.003927</td>\n",
              "      <td>77.286043</td>\n",
              "      <td>69.262551</td>\n",
              "      <td>78.501012</td>\n",
              "      <td>73.466770</td>\n",
              "      <td>79.956670</td>\n",
              "      <td>78.386968</td>\n",
              "      <td>73.687637</td>\n",
              "      <td>72.940055</td>\n",
              "      <td>73.225892</td>\n",
              "      <td>77.151800</td>\n",
              "      <td>77.681207</td>\n",
              "      <td>77.547582</td>\n",
              "      <td>77.543021</td>\n",
              "      <td>76.565895</td>\n",
              "      <td>76.831962</td>\n",
              "      <td>76.478326</td>\n",
              "      <td>78.114215</td>\n",
              "      <td>77.010734</td>\n",
              "      <td>70.163134</td>\n",
              "      <td>77.808933</td>\n",
              "      <td>70.796005</td>\n",
              "      <td>70.287329</td>\n",
              "      <td>77.684585</td>\n",
              "      <td>76.008676</td>\n",
              "      <td>76.927332</td>\n",
              "      <td>77.182888</td>\n",
              "      <td>72.178669</td>\n",
              "      <td>77.444770</td>\n",
              "      <td>77.269050</td>\n",
              "      <td>...</td>\n",
              "      <td>73.652795</td>\n",
              "      <td>69.244050</td>\n",
              "      <td>72.905161</td>\n",
              "      <td>177.831687</td>\n",
              "      <td>64.941169</td>\n",
              "      <td>73.224571</td>\n",
              "      <td>54.165501</td>\n",
              "      <td>143.012654</td>\n",
              "      <td>78.924091</td>\n",
              "      <td>69.42296</td>\n",
              "      <td>68.952023</td>\n",
              "      <td>54.896039</td>\n",
              "      <td>75.234688</td>\n",
              "      <td>53.857613</td>\n",
              "      <td>64.792473</td>\n",
              "      <td>61.921416</td>\n",
              "      <td>72.592370</td>\n",
              "      <td>54.449314</td>\n",
              "      <td>72.350617</td>\n",
              "      <td>77.925634</td>\n",
              "      <td>72.908951</td>\n",
              "      <td>151.620405</td>\n",
              "      <td>41.334774</td>\n",
              "      <td>77.789300</td>\n",
              "      <td>70.294016</td>\n",
              "      <td>75.423577</td>\n",
              "      <td>41.880676</td>\n",
              "      <td>76.978515</td>\n",
              "      <td>163.736540</td>\n",
              "      <td>76.747531</td>\n",
              "      <td>77.040929</td>\n",
              "      <td>76.639506</td>\n",
              "      <td>123.436848</td>\n",
              "      <td>77.488529</td>\n",
              "      <td>76.994170</td>\n",
              "      <td>123.925892</td>\n",
              "      <td>75.624348</td>\n",
              "      <td>72.612363</td>\n",
              "      <td>61.697565</td>\n",
              "      <td>74.114180</td>\n",
              "    </tr>\n",
              "    <tr>\n",
              "      <th>std</th>\n",
              "      <td>121.215824</td>\n",
              "      <td>100.775117</td>\n",
              "      <td>102.617019</td>\n",
              "      <td>255.577980</td>\n",
              "      <td>227.711359</td>\n",
              "      <td>91.088087</td>\n",
              "      <td>96.013131</td>\n",
              "      <td>167.768777</td>\n",
              "      <td>109.091165</td>\n",
              "      <td>142.448961</td>\n",
              "      <td>105.413903</td>\n",
              "      <td>106.748239</td>\n",
              "      <td>96.573719</td>\n",
              "      <td>108.095548</td>\n",
              "      <td>103.759917</td>\n",
              "      <td>109.660217</td>\n",
              "      <td>111.123343</td>\n",
              "      <td>104.098793</td>\n",
              "      <td>103.392740</td>\n",
              "      <td>103.677634</td>\n",
              "      <td>108.577382</td>\n",
              "      <td>108.463883</td>\n",
              "      <td>108.651308</td>\n",
              "      <td>106.827237</td>\n",
              "      <td>105.974013</td>\n",
              "      <td>107.632612</td>\n",
              "      <td>105.833609</td>\n",
              "      <td>110.312326</td>\n",
              "      <td>107.852568</td>\n",
              "      <td>98.031765</td>\n",
              "      <td>109.073624</td>\n",
              "      <td>96.789302</td>\n",
              "      <td>97.835354</td>\n",
              "      <td>108.632086</td>\n",
              "      <td>106.472926</td>\n",
              "      <td>107.922032</td>\n",
              "      <td>106.690069</td>\n",
              "      <td>102.596689</td>\n",
              "      <td>107.988948</td>\n",
              "      <td>107.989447</td>\n",
              "      <td>...</td>\n",
              "      <td>92.000652</td>\n",
              "      <td>97.306594</td>\n",
              "      <td>100.894989</td>\n",
              "      <td>216.932139</td>\n",
              "      <td>91.735845</td>\n",
              "      <td>103.566030</td>\n",
              "      <td>75.384950</td>\n",
              "      <td>198.830916</td>\n",
              "      <td>108.327914</td>\n",
              "      <td>96.93925</td>\n",
              "      <td>96.811196</td>\n",
              "      <td>76.699214</td>\n",
              "      <td>105.744341</td>\n",
              "      <td>74.698423</td>\n",
              "      <td>91.477063</td>\n",
              "      <td>85.882681</td>\n",
              "      <td>100.702548</td>\n",
              "      <td>76.392924</td>\n",
              "      <td>101.918631</td>\n",
              "      <td>109.124838</td>\n",
              "      <td>103.196428</td>\n",
              "      <td>186.609687</td>\n",
              "      <td>57.095260</td>\n",
              "      <td>109.048518</td>\n",
              "      <td>96.184135</td>\n",
              "      <td>106.200268</td>\n",
              "      <td>57.693641</td>\n",
              "      <td>108.015106</td>\n",
              "      <td>228.709291</td>\n",
              "      <td>106.271689</td>\n",
              "      <td>107.825797</td>\n",
              "      <td>105.532143</td>\n",
              "      <td>170.698819</td>\n",
              "      <td>109.003895</td>\n",
              "      <td>107.316424</td>\n",
              "      <td>170.578983</td>\n",
              "      <td>93.098493</td>\n",
              "      <td>103.116330</td>\n",
              "      <td>86.162491</td>\n",
              "      <td>104.574143</td>\n",
              "    </tr>\n",
              "    <tr>\n",
              "      <th>min</th>\n",
              "      <td>0.000000</td>\n",
              "      <td>0.000000</td>\n",
              "      <td>0.000000</td>\n",
              "      <td>0.000000</td>\n",
              "      <td>0.000000</td>\n",
              "      <td>0.000000</td>\n",
              "      <td>0.000000</td>\n",
              "      <td>0.000000</td>\n",
              "      <td>0.000000</td>\n",
              "      <td>0.000000</td>\n",
              "      <td>0.000000</td>\n",
              "      <td>0.000000</td>\n",
              "      <td>0.000000</td>\n",
              "      <td>0.000000</td>\n",
              "      <td>0.000000</td>\n",
              "      <td>0.000000</td>\n",
              "      <td>0.000000</td>\n",
              "      <td>0.000000</td>\n",
              "      <td>0.000000</td>\n",
              "      <td>0.000000</td>\n",
              "      <td>0.000000</td>\n",
              "      <td>0.000000</td>\n",
              "      <td>0.000000</td>\n",
              "      <td>0.000000</td>\n",
              "      <td>0.000000</td>\n",
              "      <td>0.000000</td>\n",
              "      <td>0.000000</td>\n",
              "      <td>0.000000</td>\n",
              "      <td>0.000000</td>\n",
              "      <td>0.000000</td>\n",
              "      <td>0.000000</td>\n",
              "      <td>0.000000</td>\n",
              "      <td>0.000000</td>\n",
              "      <td>0.000000</td>\n",
              "      <td>0.000000</td>\n",
              "      <td>0.000000</td>\n",
              "      <td>0.000000</td>\n",
              "      <td>0.000000</td>\n",
              "      <td>0.000000</td>\n",
              "      <td>0.000000</td>\n",
              "      <td>...</td>\n",
              "      <td>0.000000</td>\n",
              "      <td>0.000000</td>\n",
              "      <td>0.000000</td>\n",
              "      <td>0.000000</td>\n",
              "      <td>0.000000</td>\n",
              "      <td>0.000000</td>\n",
              "      <td>0.000000</td>\n",
              "      <td>0.000000</td>\n",
              "      <td>0.000000</td>\n",
              "      <td>0.00000</td>\n",
              "      <td>0.000000</td>\n",
              "      <td>0.000000</td>\n",
              "      <td>0.000000</td>\n",
              "      <td>0.000000</td>\n",
              "      <td>0.000000</td>\n",
              "      <td>0.000000</td>\n",
              "      <td>0.000000</td>\n",
              "      <td>0.000000</td>\n",
              "      <td>0.000000</td>\n",
              "      <td>0.000000</td>\n",
              "      <td>0.000000</td>\n",
              "      <td>0.000000</td>\n",
              "      <td>0.000000</td>\n",
              "      <td>0.000000</td>\n",
              "      <td>0.000000</td>\n",
              "      <td>0.000000</td>\n",
              "      <td>0.000000</td>\n",
              "      <td>0.000000</td>\n",
              "      <td>0.000000</td>\n",
              "      <td>0.000000</td>\n",
              "      <td>0.000000</td>\n",
              "      <td>0.000000</td>\n",
              "      <td>0.000000</td>\n",
              "      <td>0.000000</td>\n",
              "      <td>0.000000</td>\n",
              "      <td>0.000000</td>\n",
              "      <td>0.000000</td>\n",
              "      <td>0.000000</td>\n",
              "      <td>0.000000</td>\n",
              "      <td>0.000000</td>\n",
              "    </tr>\n",
              "    <tr>\n",
              "      <th>25%</th>\n",
              "      <td>0.000000</td>\n",
              "      <td>0.000000</td>\n",
              "      <td>0.000000</td>\n",
              "      <td>0.000000</td>\n",
              "      <td>0.000000</td>\n",
              "      <td>0.000000</td>\n",
              "      <td>0.000000</td>\n",
              "      <td>0.000000</td>\n",
              "      <td>0.000000</td>\n",
              "      <td>0.000000</td>\n",
              "      <td>0.000000</td>\n",
              "      <td>0.000000</td>\n",
              "      <td>0.000000</td>\n",
              "      <td>0.000000</td>\n",
              "      <td>0.000000</td>\n",
              "      <td>0.000000</td>\n",
              "      <td>0.000000</td>\n",
              "      <td>0.000000</td>\n",
              "      <td>0.000000</td>\n",
              "      <td>0.000000</td>\n",
              "      <td>0.000000</td>\n",
              "      <td>0.000000</td>\n",
              "      <td>0.000000</td>\n",
              "      <td>0.000000</td>\n",
              "      <td>0.000000</td>\n",
              "      <td>0.000000</td>\n",
              "      <td>0.000000</td>\n",
              "      <td>0.000000</td>\n",
              "      <td>0.000000</td>\n",
              "      <td>0.000000</td>\n",
              "      <td>0.000000</td>\n",
              "      <td>0.000000</td>\n",
              "      <td>0.000000</td>\n",
              "      <td>0.000000</td>\n",
              "      <td>0.000000</td>\n",
              "      <td>0.000000</td>\n",
              "      <td>0.000000</td>\n",
              "      <td>0.000000</td>\n",
              "      <td>0.000000</td>\n",
              "      <td>0.000000</td>\n",
              "      <td>...</td>\n",
              "      <td>0.000000</td>\n",
              "      <td>0.000000</td>\n",
              "      <td>0.000000</td>\n",
              "      <td>0.000000</td>\n",
              "      <td>0.000000</td>\n",
              "      <td>0.000000</td>\n",
              "      <td>0.000000</td>\n",
              "      <td>0.000000</td>\n",
              "      <td>0.000000</td>\n",
              "      <td>0.00000</td>\n",
              "      <td>0.000000</td>\n",
              "      <td>0.000000</td>\n",
              "      <td>0.000000</td>\n",
              "      <td>0.000000</td>\n",
              "      <td>0.000000</td>\n",
              "      <td>0.000000</td>\n",
              "      <td>0.000000</td>\n",
              "      <td>0.000000</td>\n",
              "      <td>0.000000</td>\n",
              "      <td>0.000000</td>\n",
              "      <td>0.000000</td>\n",
              "      <td>0.000000</td>\n",
              "      <td>0.000000</td>\n",
              "      <td>0.000000</td>\n",
              "      <td>0.000000</td>\n",
              "      <td>0.000000</td>\n",
              "      <td>0.000000</td>\n",
              "      <td>0.000000</td>\n",
              "      <td>0.000000</td>\n",
              "      <td>0.000000</td>\n",
              "      <td>0.000000</td>\n",
              "      <td>0.000000</td>\n",
              "      <td>0.000000</td>\n",
              "      <td>0.000000</td>\n",
              "      <td>0.000000</td>\n",
              "      <td>0.000000</td>\n",
              "      <td>0.000000</td>\n",
              "      <td>0.000000</td>\n",
              "      <td>0.000000</td>\n",
              "      <td>0.000000</td>\n",
              "    </tr>\n",
              "    <tr>\n",
              "      <th>50%</th>\n",
              "      <td>5.650000</td>\n",
              "      <td>0.100000</td>\n",
              "      <td>0.100000</td>\n",
              "      <td>0.200000</td>\n",
              "      <td>0.200000</td>\n",
              "      <td>0.100000</td>\n",
              "      <td>0.100000</td>\n",
              "      <td>0.200000</td>\n",
              "      <td>0.100000</td>\n",
              "      <td>0.100000</td>\n",
              "      <td>0.200000</td>\n",
              "      <td>0.100000</td>\n",
              "      <td>0.100000</td>\n",
              "      <td>0.100000</td>\n",
              "      <td>0.100000</td>\n",
              "      <td>0.100000</td>\n",
              "      <td>0.100000</td>\n",
              "      <td>0.100000</td>\n",
              "      <td>0.200000</td>\n",
              "      <td>0.100000</td>\n",
              "      <td>0.100000</td>\n",
              "      <td>0.100000</td>\n",
              "      <td>0.100000</td>\n",
              "      <td>0.100000</td>\n",
              "      <td>0.100000</td>\n",
              "      <td>0.100000</td>\n",
              "      <td>0.000000</td>\n",
              "      <td>0.100000</td>\n",
              "      <td>0.100000</td>\n",
              "      <td>0.000000</td>\n",
              "      <td>0.100000</td>\n",
              "      <td>0.000000</td>\n",
              "      <td>0.100000</td>\n",
              "      <td>0.100000</td>\n",
              "      <td>0.100000</td>\n",
              "      <td>0.100000</td>\n",
              "      <td>0.100000</td>\n",
              "      <td>0.100000</td>\n",
              "      <td>0.100000</td>\n",
              "      <td>0.100000</td>\n",
              "      <td>...</td>\n",
              "      <td>3.700000</td>\n",
              "      <td>0.100000</td>\n",
              "      <td>0.100000</td>\n",
              "      <td>8.200000</td>\n",
              "      <td>0.100000</td>\n",
              "      <td>0.100000</td>\n",
              "      <td>0.000000</td>\n",
              "      <td>0.100000</td>\n",
              "      <td>0.100000</td>\n",
              "      <td>0.10000</td>\n",
              "      <td>0.100000</td>\n",
              "      <td>0.100000</td>\n",
              "      <td>0.100000</td>\n",
              "      <td>0.000000</td>\n",
              "      <td>0.100000</td>\n",
              "      <td>0.000000</td>\n",
              "      <td>0.000000</td>\n",
              "      <td>0.000000</td>\n",
              "      <td>0.100000</td>\n",
              "      <td>0.100000</td>\n",
              "      <td>0.100000</td>\n",
              "      <td>6.750000</td>\n",
              "      <td>0.000000</td>\n",
              "      <td>0.100000</td>\n",
              "      <td>0.000000</td>\n",
              "      <td>0.100000</td>\n",
              "      <td>0.000000</td>\n",
              "      <td>0.100000</td>\n",
              "      <td>0.200000</td>\n",
              "      <td>0.100000</td>\n",
              "      <td>0.100000</td>\n",
              "      <td>0.100000</td>\n",
              "      <td>0.200000</td>\n",
              "      <td>0.100000</td>\n",
              "      <td>0.100000</td>\n",
              "      <td>0.100000</td>\n",
              "      <td>4.500000</td>\n",
              "      <td>0.100000</td>\n",
              "      <td>0.100000</td>\n",
              "      <td>0.100000</td>\n",
              "    </tr>\n",
              "    <tr>\n",
              "      <th>75%</th>\n",
              "      <td>215.800000</td>\n",
              "      <td>140.900000</td>\n",
              "      <td>138.150000</td>\n",
              "      <td>353.325000</td>\n",
              "      <td>325.225000</td>\n",
              "      <td>121.050000</td>\n",
              "      <td>132.225000</td>\n",
              "      <td>228.175000</td>\n",
              "      <td>161.750000</td>\n",
              "      <td>200.150000</td>\n",
              "      <td>143.350000</td>\n",
              "      <td>152.850000</td>\n",
              "      <td>135.575000</td>\n",
              "      <td>156.225000</td>\n",
              "      <td>140.550000</td>\n",
              "      <td>160.825000</td>\n",
              "      <td>151.225000</td>\n",
              "      <td>140.525000</td>\n",
              "      <td>136.100000</td>\n",
              "      <td>138.575000</td>\n",
              "      <td>148.400000</td>\n",
              "      <td>152.925000</td>\n",
              "      <td>152.600000</td>\n",
              "      <td>154.750000</td>\n",
              "      <td>151.450000</td>\n",
              "      <td>150.125000</td>\n",
              "      <td>154.325000</td>\n",
              "      <td>149.025000</td>\n",
              "      <td>150.050000</td>\n",
              "      <td>139.025000</td>\n",
              "      <td>151.150000</td>\n",
              "      <td>144.900000</td>\n",
              "      <td>137.725000</td>\n",
              "      <td>150.500000</td>\n",
              "      <td>148.325000</td>\n",
              "      <td>148.900000</td>\n",
              "      <td>151.925000</td>\n",
              "      <td>132.725000</td>\n",
              "      <td>152.850000</td>\n",
              "      <td>152.625000</td>\n",
              "      <td>...</td>\n",
              "      <td>163.325000</td>\n",
              "      <td>134.450000</td>\n",
              "      <td>142.325000</td>\n",
              "      <td>401.125000</td>\n",
              "      <td>124.750000</td>\n",
              "      <td>138.500000</td>\n",
              "      <td>106.200000</td>\n",
              "      <td>290.425000</td>\n",
              "      <td>156.825000</td>\n",
              "      <td>138.25000</td>\n",
              "      <td>131.425000</td>\n",
              "      <td>105.625000</td>\n",
              "      <td>145.925000</td>\n",
              "      <td>105.825000</td>\n",
              "      <td>123.225000</td>\n",
              "      <td>124.125000</td>\n",
              "      <td>141.825000</td>\n",
              "      <td>104.825000</td>\n",
              "      <td>137.325000</td>\n",
              "      <td>154.100000</td>\n",
              "      <td>137.550000</td>\n",
              "      <td>338.775000</td>\n",
              "      <td>84.200000</td>\n",
              "      <td>150.725000</td>\n",
              "      <td>142.300000</td>\n",
              "      <td>142.625000</td>\n",
              "      <td>84.750000</td>\n",
              "      <td>148.525000</td>\n",
              "      <td>327.000000</td>\n",
              "      <td>150.425000</td>\n",
              "      <td>150.000000</td>\n",
              "      <td>152.225000</td>\n",
              "      <td>248.400000</td>\n",
              "      <td>148.200000</td>\n",
              "      <td>152.200000</td>\n",
              "      <td>253.475000</td>\n",
              "      <td>170.125000</td>\n",
              "      <td>136.425000</td>\n",
              "      <td>125.025000</td>\n",
              "      <td>139.800000</td>\n",
              "    </tr>\n",
              "    <tr>\n",
              "      <th>max</th>\n",
              "      <td>371.100000</td>\n",
              "      <td>349.000000</td>\n",
              "      <td>354.800000</td>\n",
              "      <td>949.000000</td>\n",
              "      <td>801.000000</td>\n",
              "      <td>321.800000</td>\n",
              "      <td>330.300000</td>\n",
              "      <td>608.900000</td>\n",
              "      <td>379.600000</td>\n",
              "      <td>499.700000</td>\n",
              "      <td>371.300000</td>\n",
              "      <td>368.800000</td>\n",
              "      <td>354.900000</td>\n",
              "      <td>381.700000</td>\n",
              "      <td>361.200000</td>\n",
              "      <td>383.200000</td>\n",
              "      <td>403.600000</td>\n",
              "      <td>369.800000</td>\n",
              "      <td>378.500000</td>\n",
              "      <td>378.900000</td>\n",
              "      <td>380.800000</td>\n",
              "      <td>375.000000</td>\n",
              "      <td>392.200000</td>\n",
              "      <td>370.100000</td>\n",
              "      <td>365.800000</td>\n",
              "      <td>371.300000</td>\n",
              "      <td>365.300000</td>\n",
              "      <td>400.400000</td>\n",
              "      <td>388.000000</td>\n",
              "      <td>345.700000</td>\n",
              "      <td>367.900000</td>\n",
              "      <td>341.100000</td>\n",
              "      <td>354.700000</td>\n",
              "      <td>374.700000</td>\n",
              "      <td>378.600000</td>\n",
              "      <td>374.600000</td>\n",
              "      <td>373.100000</td>\n",
              "      <td>356.600000</td>\n",
              "      <td>382.300000</td>\n",
              "      <td>378.000000</td>\n",
              "      <td>...</td>\n",
              "      <td>280.800000</td>\n",
              "      <td>341.400000</td>\n",
              "      <td>345.600000</td>\n",
              "      <td>648.800000</td>\n",
              "      <td>323.200000</td>\n",
              "      <td>373.000000</td>\n",
              "      <td>274.300000</td>\n",
              "      <td>713.200000</td>\n",
              "      <td>383.200000</td>\n",
              "      <td>345.30000</td>\n",
              "      <td>340.400000</td>\n",
              "      <td>273.100000</td>\n",
              "      <td>369.700000</td>\n",
              "      <td>258.000000</td>\n",
              "      <td>326.400000</td>\n",
              "      <td>302.000000</td>\n",
              "      <td>346.600000</td>\n",
              "      <td>279.100000</td>\n",
              "      <td>352.200000</td>\n",
              "      <td>371.900000</td>\n",
              "      <td>356.400000</td>\n",
              "      <td>560.200000</td>\n",
              "      <td>197.900000</td>\n",
              "      <td>376.500000</td>\n",
              "      <td>334.400000</td>\n",
              "      <td>376.300000</td>\n",
              "      <td>202.600000</td>\n",
              "      <td>372.600000</td>\n",
              "      <td>814.400000</td>\n",
              "      <td>365.800000</td>\n",
              "      <td>370.200000</td>\n",
              "      <td>369.400000</td>\n",
              "      <td>615.100000</td>\n",
              "      <td>387.100000</td>\n",
              "      <td>391.400000</td>\n",
              "      <td>592.200000</td>\n",
              "      <td>283.800000</td>\n",
              "      <td>366.800000</td>\n",
              "      <td>299.700000</td>\n",
              "      <td>376.100000</td>\n",
              "    </tr>\n",
              "  </tbody>\n",
              "</table>\n",
              "<p>8 rows × 137 columns</p>\n",
              "</div>"
            ],
            "text/plain": [
              "         Power(MW)  Power(MW).1  ...  Power(MW).135  Power(MW).136\n",
              "count  5832.000000  5832.000000  ...    5832.000000    5832.000000\n",
              "mean     97.990021    72.601543  ...      61.697565      74.114180\n",
              "std     121.215824   100.775117  ...      86.162491     104.574143\n",
              "min       0.000000     0.000000  ...       0.000000       0.000000\n",
              "25%       0.000000     0.000000  ...       0.000000       0.000000\n",
              "50%       5.650000     0.100000  ...       0.100000       0.100000\n",
              "75%     215.800000   140.900000  ...     125.025000     139.800000\n",
              "max     371.100000   349.000000  ...     299.700000     376.100000\n",
              "\n",
              "[8 rows x 137 columns]"
            ]
          },
          "metadata": {
            "tags": []
          },
          "execution_count": 28
        }
      ]
    },
    {
      "cell_type": "code",
      "metadata": {
        "colab": {
          "base_uri": "https://localhost:8080/",
          "height": 330
        },
        "id": "7FP_lQ__8fN9",
        "outputId": "ab37b5ad-743c-458c-b65f-275d6ed6a507"
      },
      "source": [
        "solar.tail()"
      ],
      "execution_count": 29,
      "outputs": [
        {
          "output_type": "execute_result",
          "data": {
            "text/html": [
              "<div>\n",
              "<style scoped>\n",
              "    .dataframe tbody tr th:only-of-type {\n",
              "        vertical-align: middle;\n",
              "    }\n",
              "\n",
              "    .dataframe tbody tr th {\n",
              "        vertical-align: top;\n",
              "    }\n",
              "\n",
              "    .dataframe thead th {\n",
              "        text-align: right;\n",
              "    }\n",
              "</style>\n",
              "<table border=\"1\" class=\"dataframe\">\n",
              "  <thead>\n",
              "    <tr style=\"text-align: right;\">\n",
              "      <th></th>\n",
              "      <th>LocalTime</th>\n",
              "      <th>Power(MW)</th>\n",
              "      <th>Power(MW).1</th>\n",
              "      <th>Power(MW).2</th>\n",
              "      <th>Power(MW).3</th>\n",
              "      <th>Power(MW).4</th>\n",
              "      <th>Power(MW).5</th>\n",
              "      <th>Power(MW).6</th>\n",
              "      <th>Power(MW).7</th>\n",
              "      <th>Power(MW).8</th>\n",
              "      <th>Power(MW).9</th>\n",
              "      <th>Power(MW).10</th>\n",
              "      <th>Power(MW).11</th>\n",
              "      <th>Power(MW).12</th>\n",
              "      <th>Power(MW).13</th>\n",
              "      <th>Power(MW).14</th>\n",
              "      <th>Power(MW).15</th>\n",
              "      <th>Power(MW).16</th>\n",
              "      <th>Power(MW).17</th>\n",
              "      <th>Power(MW).18</th>\n",
              "      <th>Power(MW).19</th>\n",
              "      <th>Power(MW).20</th>\n",
              "      <th>Power(MW).21</th>\n",
              "      <th>Power(MW).22</th>\n",
              "      <th>Power(MW).23</th>\n",
              "      <th>Power(MW).24</th>\n",
              "      <th>Power(MW).25</th>\n",
              "      <th>Power(MW).26</th>\n",
              "      <th>Power(MW).27</th>\n",
              "      <th>Power(MW).28</th>\n",
              "      <th>Power(MW).29</th>\n",
              "      <th>Power(MW).30</th>\n",
              "      <th>Power(MW).31</th>\n",
              "      <th>Power(MW).32</th>\n",
              "      <th>Power(MW).33</th>\n",
              "      <th>Power(MW).34</th>\n",
              "      <th>Power(MW).35</th>\n",
              "      <th>Power(MW).36</th>\n",
              "      <th>Power(MW).37</th>\n",
              "      <th>Power(MW).38</th>\n",
              "      <th>...</th>\n",
              "      <th>Power(MW).97</th>\n",
              "      <th>Power(MW).98</th>\n",
              "      <th>Power(MW).99</th>\n",
              "      <th>Power(MW).100</th>\n",
              "      <th>Power(MW).101</th>\n",
              "      <th>Power(MW).102</th>\n",
              "      <th>Power(MW).103</th>\n",
              "      <th>Power(MW).104</th>\n",
              "      <th>Power(MW).105</th>\n",
              "      <th>Power(MW).106</th>\n",
              "      <th>Power(MW).107</th>\n",
              "      <th>Power(MW).108</th>\n",
              "      <th>Power(MW).109</th>\n",
              "      <th>Power(MW).110</th>\n",
              "      <th>Power(MW).111</th>\n",
              "      <th>Power(MW).112</th>\n",
              "      <th>Power(MW).113</th>\n",
              "      <th>Power(MW).114</th>\n",
              "      <th>Power(MW).115</th>\n",
              "      <th>Power(MW).116</th>\n",
              "      <th>Power(MW).117</th>\n",
              "      <th>Power(MW).118</th>\n",
              "      <th>Power(MW).119</th>\n",
              "      <th>Power(MW).120</th>\n",
              "      <th>Power(MW).121</th>\n",
              "      <th>Power(MW).122</th>\n",
              "      <th>Power(MW).123</th>\n",
              "      <th>Power(MW).124</th>\n",
              "      <th>Power(MW).125</th>\n",
              "      <th>Power(MW).126</th>\n",
              "      <th>Power(MW).127</th>\n",
              "      <th>Power(MW).128</th>\n",
              "      <th>Power(MW).129</th>\n",
              "      <th>Power(MW).130</th>\n",
              "      <th>Power(MW).131</th>\n",
              "      <th>Power(MW).132</th>\n",
              "      <th>Power(MW).133</th>\n",
              "      <th>Power(MW).134</th>\n",
              "      <th>Power(MW).135</th>\n",
              "      <th>Power(MW).136</th>\n",
              "    </tr>\n",
              "  </thead>\n",
              "  <tbody>\n",
              "    <tr>\n",
              "      <th>5827</th>\n",
              "      <td>2006-08-31 19:00:00</td>\n",
              "      <td>0.0</td>\n",
              "      <td>0.0</td>\n",
              "      <td>0.0</td>\n",
              "      <td>0.0</td>\n",
              "      <td>0.0</td>\n",
              "      <td>0.0</td>\n",
              "      <td>0.0</td>\n",
              "      <td>0.0</td>\n",
              "      <td>0.0</td>\n",
              "      <td>0.0</td>\n",
              "      <td>0.0</td>\n",
              "      <td>0.0</td>\n",
              "      <td>0.0</td>\n",
              "      <td>0.0</td>\n",
              "      <td>0.0</td>\n",
              "      <td>0.0</td>\n",
              "      <td>0.0</td>\n",
              "      <td>0.0</td>\n",
              "      <td>0.0</td>\n",
              "      <td>0.0</td>\n",
              "      <td>0.0</td>\n",
              "      <td>0.0</td>\n",
              "      <td>0.0</td>\n",
              "      <td>0.0</td>\n",
              "      <td>0.0</td>\n",
              "      <td>0.0</td>\n",
              "      <td>0.0</td>\n",
              "      <td>0.0</td>\n",
              "      <td>0.0</td>\n",
              "      <td>0.0</td>\n",
              "      <td>0.0</td>\n",
              "      <td>0.0</td>\n",
              "      <td>0.0</td>\n",
              "      <td>0.0</td>\n",
              "      <td>0.0</td>\n",
              "      <td>0.0</td>\n",
              "      <td>0.0</td>\n",
              "      <td>0.0</td>\n",
              "      <td>0.0</td>\n",
              "      <td>...</td>\n",
              "      <td>0.0</td>\n",
              "      <td>0.0</td>\n",
              "      <td>0.0</td>\n",
              "      <td>0.0</td>\n",
              "      <td>0.0</td>\n",
              "      <td>0.0</td>\n",
              "      <td>0.0</td>\n",
              "      <td>0.0</td>\n",
              "      <td>0.0</td>\n",
              "      <td>0.0</td>\n",
              "      <td>0.0</td>\n",
              "      <td>0.0</td>\n",
              "      <td>0.0</td>\n",
              "      <td>0.0</td>\n",
              "      <td>0.0</td>\n",
              "      <td>0.0</td>\n",
              "      <td>0.0</td>\n",
              "      <td>0.0</td>\n",
              "      <td>0.0</td>\n",
              "      <td>0.0</td>\n",
              "      <td>0.0</td>\n",
              "      <td>0.0</td>\n",
              "      <td>0.0</td>\n",
              "      <td>0.0</td>\n",
              "      <td>0.0</td>\n",
              "      <td>0.0</td>\n",
              "      <td>0.0</td>\n",
              "      <td>0.0</td>\n",
              "      <td>0.0</td>\n",
              "      <td>0.0</td>\n",
              "      <td>0.0</td>\n",
              "      <td>0.0</td>\n",
              "      <td>0.0</td>\n",
              "      <td>0.0</td>\n",
              "      <td>0.0</td>\n",
              "      <td>0.0</td>\n",
              "      <td>0.0</td>\n",
              "      <td>0.0</td>\n",
              "      <td>0.0</td>\n",
              "      <td>0.0</td>\n",
              "    </tr>\n",
              "    <tr>\n",
              "      <th>5828</th>\n",
              "      <td>2006-08-31 20:00:00</td>\n",
              "      <td>0.0</td>\n",
              "      <td>0.0</td>\n",
              "      <td>0.0</td>\n",
              "      <td>0.0</td>\n",
              "      <td>0.0</td>\n",
              "      <td>0.0</td>\n",
              "      <td>0.0</td>\n",
              "      <td>0.0</td>\n",
              "      <td>0.0</td>\n",
              "      <td>0.0</td>\n",
              "      <td>0.0</td>\n",
              "      <td>0.0</td>\n",
              "      <td>0.0</td>\n",
              "      <td>0.0</td>\n",
              "      <td>0.0</td>\n",
              "      <td>0.0</td>\n",
              "      <td>0.0</td>\n",
              "      <td>0.0</td>\n",
              "      <td>0.0</td>\n",
              "      <td>0.0</td>\n",
              "      <td>0.0</td>\n",
              "      <td>0.0</td>\n",
              "      <td>0.0</td>\n",
              "      <td>0.0</td>\n",
              "      <td>0.0</td>\n",
              "      <td>0.0</td>\n",
              "      <td>0.0</td>\n",
              "      <td>0.0</td>\n",
              "      <td>0.0</td>\n",
              "      <td>0.0</td>\n",
              "      <td>0.0</td>\n",
              "      <td>0.0</td>\n",
              "      <td>0.0</td>\n",
              "      <td>0.0</td>\n",
              "      <td>0.0</td>\n",
              "      <td>0.0</td>\n",
              "      <td>0.0</td>\n",
              "      <td>0.0</td>\n",
              "      <td>0.0</td>\n",
              "      <td>...</td>\n",
              "      <td>0.0</td>\n",
              "      <td>0.0</td>\n",
              "      <td>0.0</td>\n",
              "      <td>0.0</td>\n",
              "      <td>0.0</td>\n",
              "      <td>0.0</td>\n",
              "      <td>0.0</td>\n",
              "      <td>0.0</td>\n",
              "      <td>0.0</td>\n",
              "      <td>0.0</td>\n",
              "      <td>0.0</td>\n",
              "      <td>0.0</td>\n",
              "      <td>0.0</td>\n",
              "      <td>0.0</td>\n",
              "      <td>0.0</td>\n",
              "      <td>0.0</td>\n",
              "      <td>0.0</td>\n",
              "      <td>0.0</td>\n",
              "      <td>0.0</td>\n",
              "      <td>0.0</td>\n",
              "      <td>0.0</td>\n",
              "      <td>0.0</td>\n",
              "      <td>0.0</td>\n",
              "      <td>0.0</td>\n",
              "      <td>0.0</td>\n",
              "      <td>0.0</td>\n",
              "      <td>0.0</td>\n",
              "      <td>0.0</td>\n",
              "      <td>0.0</td>\n",
              "      <td>0.0</td>\n",
              "      <td>0.0</td>\n",
              "      <td>0.0</td>\n",
              "      <td>0.0</td>\n",
              "      <td>0.0</td>\n",
              "      <td>0.0</td>\n",
              "      <td>0.0</td>\n",
              "      <td>0.0</td>\n",
              "      <td>0.0</td>\n",
              "      <td>0.0</td>\n",
              "      <td>0.0</td>\n",
              "    </tr>\n",
              "    <tr>\n",
              "      <th>5829</th>\n",
              "      <td>2006-08-31 21:00:00</td>\n",
              "      <td>0.0</td>\n",
              "      <td>0.0</td>\n",
              "      <td>0.0</td>\n",
              "      <td>0.0</td>\n",
              "      <td>0.0</td>\n",
              "      <td>0.0</td>\n",
              "      <td>0.0</td>\n",
              "      <td>0.0</td>\n",
              "      <td>0.0</td>\n",
              "      <td>0.0</td>\n",
              "      <td>0.0</td>\n",
              "      <td>0.0</td>\n",
              "      <td>0.0</td>\n",
              "      <td>0.0</td>\n",
              "      <td>0.0</td>\n",
              "      <td>0.0</td>\n",
              "      <td>0.0</td>\n",
              "      <td>0.0</td>\n",
              "      <td>0.0</td>\n",
              "      <td>0.0</td>\n",
              "      <td>0.0</td>\n",
              "      <td>0.0</td>\n",
              "      <td>0.0</td>\n",
              "      <td>0.0</td>\n",
              "      <td>0.0</td>\n",
              "      <td>0.0</td>\n",
              "      <td>0.0</td>\n",
              "      <td>0.0</td>\n",
              "      <td>0.0</td>\n",
              "      <td>0.0</td>\n",
              "      <td>0.0</td>\n",
              "      <td>0.0</td>\n",
              "      <td>0.0</td>\n",
              "      <td>0.0</td>\n",
              "      <td>0.0</td>\n",
              "      <td>0.0</td>\n",
              "      <td>0.0</td>\n",
              "      <td>0.0</td>\n",
              "      <td>0.0</td>\n",
              "      <td>...</td>\n",
              "      <td>0.0</td>\n",
              "      <td>0.0</td>\n",
              "      <td>0.0</td>\n",
              "      <td>0.0</td>\n",
              "      <td>0.0</td>\n",
              "      <td>0.0</td>\n",
              "      <td>0.0</td>\n",
              "      <td>0.0</td>\n",
              "      <td>0.0</td>\n",
              "      <td>0.0</td>\n",
              "      <td>0.0</td>\n",
              "      <td>0.0</td>\n",
              "      <td>0.0</td>\n",
              "      <td>0.0</td>\n",
              "      <td>0.0</td>\n",
              "      <td>0.0</td>\n",
              "      <td>0.0</td>\n",
              "      <td>0.0</td>\n",
              "      <td>0.0</td>\n",
              "      <td>0.0</td>\n",
              "      <td>0.0</td>\n",
              "      <td>0.0</td>\n",
              "      <td>0.0</td>\n",
              "      <td>0.0</td>\n",
              "      <td>0.0</td>\n",
              "      <td>0.0</td>\n",
              "      <td>0.0</td>\n",
              "      <td>0.0</td>\n",
              "      <td>0.0</td>\n",
              "      <td>0.0</td>\n",
              "      <td>0.0</td>\n",
              "      <td>0.0</td>\n",
              "      <td>0.0</td>\n",
              "      <td>0.0</td>\n",
              "      <td>0.0</td>\n",
              "      <td>0.0</td>\n",
              "      <td>0.0</td>\n",
              "      <td>0.0</td>\n",
              "      <td>0.0</td>\n",
              "      <td>0.0</td>\n",
              "    </tr>\n",
              "    <tr>\n",
              "      <th>5830</th>\n",
              "      <td>2006-08-31 22:00:00</td>\n",
              "      <td>0.0</td>\n",
              "      <td>0.0</td>\n",
              "      <td>0.0</td>\n",
              "      <td>0.0</td>\n",
              "      <td>0.0</td>\n",
              "      <td>0.0</td>\n",
              "      <td>0.0</td>\n",
              "      <td>0.0</td>\n",
              "      <td>0.0</td>\n",
              "      <td>0.0</td>\n",
              "      <td>0.0</td>\n",
              "      <td>0.0</td>\n",
              "      <td>0.0</td>\n",
              "      <td>0.0</td>\n",
              "      <td>0.0</td>\n",
              "      <td>0.0</td>\n",
              "      <td>0.0</td>\n",
              "      <td>0.0</td>\n",
              "      <td>0.0</td>\n",
              "      <td>0.0</td>\n",
              "      <td>0.0</td>\n",
              "      <td>0.0</td>\n",
              "      <td>0.0</td>\n",
              "      <td>0.0</td>\n",
              "      <td>0.0</td>\n",
              "      <td>0.0</td>\n",
              "      <td>0.0</td>\n",
              "      <td>0.0</td>\n",
              "      <td>0.0</td>\n",
              "      <td>0.0</td>\n",
              "      <td>0.0</td>\n",
              "      <td>0.0</td>\n",
              "      <td>0.0</td>\n",
              "      <td>0.0</td>\n",
              "      <td>0.0</td>\n",
              "      <td>0.0</td>\n",
              "      <td>0.0</td>\n",
              "      <td>0.0</td>\n",
              "      <td>0.0</td>\n",
              "      <td>...</td>\n",
              "      <td>0.0</td>\n",
              "      <td>0.0</td>\n",
              "      <td>0.0</td>\n",
              "      <td>0.0</td>\n",
              "      <td>0.0</td>\n",
              "      <td>0.0</td>\n",
              "      <td>0.0</td>\n",
              "      <td>0.0</td>\n",
              "      <td>0.0</td>\n",
              "      <td>0.0</td>\n",
              "      <td>0.0</td>\n",
              "      <td>0.0</td>\n",
              "      <td>0.0</td>\n",
              "      <td>0.0</td>\n",
              "      <td>0.0</td>\n",
              "      <td>0.0</td>\n",
              "      <td>0.0</td>\n",
              "      <td>0.0</td>\n",
              "      <td>0.0</td>\n",
              "      <td>0.0</td>\n",
              "      <td>0.0</td>\n",
              "      <td>0.0</td>\n",
              "      <td>0.0</td>\n",
              "      <td>0.0</td>\n",
              "      <td>0.0</td>\n",
              "      <td>0.0</td>\n",
              "      <td>0.0</td>\n",
              "      <td>0.0</td>\n",
              "      <td>0.0</td>\n",
              "      <td>0.0</td>\n",
              "      <td>0.0</td>\n",
              "      <td>0.0</td>\n",
              "      <td>0.0</td>\n",
              "      <td>0.0</td>\n",
              "      <td>0.0</td>\n",
              "      <td>0.0</td>\n",
              "      <td>0.0</td>\n",
              "      <td>0.0</td>\n",
              "      <td>0.0</td>\n",
              "      <td>0.0</td>\n",
              "    </tr>\n",
              "    <tr>\n",
              "      <th>5831</th>\n",
              "      <td>2006-08-31 23:00:00</td>\n",
              "      <td>0.0</td>\n",
              "      <td>0.0</td>\n",
              "      <td>0.0</td>\n",
              "      <td>0.0</td>\n",
              "      <td>0.0</td>\n",
              "      <td>0.0</td>\n",
              "      <td>0.0</td>\n",
              "      <td>0.0</td>\n",
              "      <td>0.0</td>\n",
              "      <td>0.0</td>\n",
              "      <td>0.0</td>\n",
              "      <td>0.0</td>\n",
              "      <td>0.0</td>\n",
              "      <td>0.0</td>\n",
              "      <td>0.0</td>\n",
              "      <td>0.0</td>\n",
              "      <td>0.0</td>\n",
              "      <td>0.0</td>\n",
              "      <td>0.0</td>\n",
              "      <td>0.0</td>\n",
              "      <td>0.0</td>\n",
              "      <td>0.0</td>\n",
              "      <td>0.0</td>\n",
              "      <td>0.0</td>\n",
              "      <td>0.0</td>\n",
              "      <td>0.0</td>\n",
              "      <td>0.0</td>\n",
              "      <td>0.0</td>\n",
              "      <td>0.0</td>\n",
              "      <td>0.0</td>\n",
              "      <td>0.0</td>\n",
              "      <td>0.0</td>\n",
              "      <td>0.0</td>\n",
              "      <td>0.0</td>\n",
              "      <td>0.0</td>\n",
              "      <td>0.0</td>\n",
              "      <td>0.0</td>\n",
              "      <td>0.0</td>\n",
              "      <td>0.0</td>\n",
              "      <td>...</td>\n",
              "      <td>0.0</td>\n",
              "      <td>0.0</td>\n",
              "      <td>0.0</td>\n",
              "      <td>0.0</td>\n",
              "      <td>0.0</td>\n",
              "      <td>0.0</td>\n",
              "      <td>0.0</td>\n",
              "      <td>0.0</td>\n",
              "      <td>0.0</td>\n",
              "      <td>0.0</td>\n",
              "      <td>0.0</td>\n",
              "      <td>0.0</td>\n",
              "      <td>0.0</td>\n",
              "      <td>0.0</td>\n",
              "      <td>0.0</td>\n",
              "      <td>0.0</td>\n",
              "      <td>0.0</td>\n",
              "      <td>0.0</td>\n",
              "      <td>0.0</td>\n",
              "      <td>0.0</td>\n",
              "      <td>0.0</td>\n",
              "      <td>0.0</td>\n",
              "      <td>0.0</td>\n",
              "      <td>0.0</td>\n",
              "      <td>0.0</td>\n",
              "      <td>0.0</td>\n",
              "      <td>0.0</td>\n",
              "      <td>0.0</td>\n",
              "      <td>0.0</td>\n",
              "      <td>0.0</td>\n",
              "      <td>0.0</td>\n",
              "      <td>0.0</td>\n",
              "      <td>0.0</td>\n",
              "      <td>0.0</td>\n",
              "      <td>0.0</td>\n",
              "      <td>0.0</td>\n",
              "      <td>0.0</td>\n",
              "      <td>0.0</td>\n",
              "      <td>0.0</td>\n",
              "      <td>0.0</td>\n",
              "    </tr>\n",
              "  </tbody>\n",
              "</table>\n",
              "<p>5 rows × 138 columns</p>\n",
              "</div>"
            ],
            "text/plain": [
              "                LocalTime  Power(MW)  ...  Power(MW).135  Power(MW).136\n",
              "5827  2006-08-31 19:00:00        0.0  ...            0.0            0.0\n",
              "5828  2006-08-31 20:00:00        0.0  ...            0.0            0.0\n",
              "5829  2006-08-31 21:00:00        0.0  ...            0.0            0.0\n",
              "5830  2006-08-31 22:00:00        0.0  ...            0.0            0.0\n",
              "5831  2006-08-31 23:00:00        0.0  ...            0.0            0.0\n",
              "\n",
              "[5 rows x 138 columns]"
            ]
          },
          "metadata": {
            "tags": []
          },
          "execution_count": 29
        }
      ]
    },
    {
      "cell_type": "code",
      "metadata": {
        "colab": {
          "base_uri": "https://localhost:8080/",
          "height": 436
        },
        "id": "IDEFi3ZZ8imx",
        "outputId": "a3c723a1-72a0-430f-d9ea-c3303b88b2d2"
      },
      "source": [
        "solar.rename(columns={'LocalTime':'datetime'}, inplace=True)\n",
        "solar = solar[['datetime', 'Power(MW)']]\n",
        "solar.set_index('datetime', drop=False)"
      ],
      "execution_count": 30,
      "outputs": [
        {
          "output_type": "execute_result",
          "data": {
            "text/html": [
              "<div>\n",
              "<style scoped>\n",
              "    .dataframe tbody tr th:only-of-type {\n",
              "        vertical-align: middle;\n",
              "    }\n",
              "\n",
              "    .dataframe tbody tr th {\n",
              "        vertical-align: top;\n",
              "    }\n",
              "\n",
              "    .dataframe thead th {\n",
              "        text-align: right;\n",
              "    }\n",
              "</style>\n",
              "<table border=\"1\" class=\"dataframe\">\n",
              "  <thead>\n",
              "    <tr style=\"text-align: right;\">\n",
              "      <th></th>\n",
              "      <th>datetime</th>\n",
              "      <th>Power(MW)</th>\n",
              "    </tr>\n",
              "    <tr>\n",
              "      <th>datetime</th>\n",
              "      <th></th>\n",
              "      <th></th>\n",
              "    </tr>\n",
              "  </thead>\n",
              "  <tbody>\n",
              "    <tr>\n",
              "      <th>2006-01-01 00:00:00</th>\n",
              "      <td>2006-01-01 00:00:00</td>\n",
              "      <td>0.0</td>\n",
              "    </tr>\n",
              "    <tr>\n",
              "      <th>2006-01-01 01:00:00</th>\n",
              "      <td>2006-01-01 01:00:00</td>\n",
              "      <td>0.0</td>\n",
              "    </tr>\n",
              "    <tr>\n",
              "      <th>2006-01-01 02:00:00</th>\n",
              "      <td>2006-01-01 02:00:00</td>\n",
              "      <td>0.0</td>\n",
              "    </tr>\n",
              "    <tr>\n",
              "      <th>2006-01-01 03:00:00</th>\n",
              "      <td>2006-01-01 03:00:00</td>\n",
              "      <td>0.0</td>\n",
              "    </tr>\n",
              "    <tr>\n",
              "      <th>2006-01-01 04:00:00</th>\n",
              "      <td>2006-01-01 04:00:00</td>\n",
              "      <td>0.0</td>\n",
              "    </tr>\n",
              "    <tr>\n",
              "      <th>...</th>\n",
              "      <td>...</td>\n",
              "      <td>...</td>\n",
              "    </tr>\n",
              "    <tr>\n",
              "      <th>2006-08-31 19:00:00</th>\n",
              "      <td>2006-08-31 19:00:00</td>\n",
              "      <td>0.0</td>\n",
              "    </tr>\n",
              "    <tr>\n",
              "      <th>2006-08-31 20:00:00</th>\n",
              "      <td>2006-08-31 20:00:00</td>\n",
              "      <td>0.0</td>\n",
              "    </tr>\n",
              "    <tr>\n",
              "      <th>2006-08-31 21:00:00</th>\n",
              "      <td>2006-08-31 21:00:00</td>\n",
              "      <td>0.0</td>\n",
              "    </tr>\n",
              "    <tr>\n",
              "      <th>2006-08-31 22:00:00</th>\n",
              "      <td>2006-08-31 22:00:00</td>\n",
              "      <td>0.0</td>\n",
              "    </tr>\n",
              "    <tr>\n",
              "      <th>2006-08-31 23:00:00</th>\n",
              "      <td>2006-08-31 23:00:00</td>\n",
              "      <td>0.0</td>\n",
              "    </tr>\n",
              "  </tbody>\n",
              "</table>\n",
              "<p>5832 rows × 2 columns</p>\n",
              "</div>"
            ],
            "text/plain": [
              "                                datetime  Power(MW)\n",
              "datetime                                           \n",
              "2006-01-01 00:00:00  2006-01-01 00:00:00        0.0\n",
              "2006-01-01 01:00:00  2006-01-01 01:00:00        0.0\n",
              "2006-01-01 02:00:00  2006-01-01 02:00:00        0.0\n",
              "2006-01-01 03:00:00  2006-01-01 03:00:00        0.0\n",
              "2006-01-01 04:00:00  2006-01-01 04:00:00        0.0\n",
              "...                                  ...        ...\n",
              "2006-08-31 19:00:00  2006-08-31 19:00:00        0.0\n",
              "2006-08-31 20:00:00  2006-08-31 20:00:00        0.0\n",
              "2006-08-31 21:00:00  2006-08-31 21:00:00        0.0\n",
              "2006-08-31 22:00:00  2006-08-31 22:00:00        0.0\n",
              "2006-08-31 23:00:00  2006-08-31 23:00:00        0.0\n",
              "\n",
              "[5832 rows x 2 columns]"
            ]
          },
          "metadata": {
            "tags": []
          },
          "execution_count": 30
        }
      ]
    },
    {
      "cell_type": "code",
      "metadata": {
        "colab": {
          "base_uri": "https://localhost:8080/",
          "height": 287
        },
        "id": "alAbcVe58m95",
        "outputId": "de0d2b87-d8de-4d2d-f8db-024a1459485d"
      },
      "source": [
        "solar = solar.iloc[1470:5826]\n",
        "solar.describe()"
      ],
      "execution_count": 31,
      "outputs": [
        {
          "output_type": "execute_result",
          "data": {
            "text/html": [
              "<div>\n",
              "<style scoped>\n",
              "    .dataframe tbody tr th:only-of-type {\n",
              "        vertical-align: middle;\n",
              "    }\n",
              "\n",
              "    .dataframe tbody tr th {\n",
              "        vertical-align: top;\n",
              "    }\n",
              "\n",
              "    .dataframe thead th {\n",
              "        text-align: right;\n",
              "    }\n",
              "</style>\n",
              "<table border=\"1\" class=\"dataframe\">\n",
              "  <thead>\n",
              "    <tr style=\"text-align: right;\">\n",
              "      <th></th>\n",
              "      <th>Power(MW)</th>\n",
              "    </tr>\n",
              "  </thead>\n",
              "  <tbody>\n",
              "    <tr>\n",
              "      <th>count</th>\n",
              "      <td>4356.000000</td>\n",
              "    </tr>\n",
              "    <tr>\n",
              "      <th>mean</th>\n",
              "      <td>108.773531</td>\n",
              "    </tr>\n",
              "    <tr>\n",
              "      <th>std</th>\n",
              "      <td>125.396285</td>\n",
              "    </tr>\n",
              "    <tr>\n",
              "      <th>min</th>\n",
              "      <td>0.000000</td>\n",
              "    </tr>\n",
              "    <tr>\n",
              "      <th>25%</th>\n",
              "      <td>0.000000</td>\n",
              "    </tr>\n",
              "    <tr>\n",
              "      <th>50%</th>\n",
              "      <td>29.450000</td>\n",
              "    </tr>\n",
              "    <tr>\n",
              "      <th>75%</th>\n",
              "      <td>231.725000</td>\n",
              "    </tr>\n",
              "    <tr>\n",
              "      <th>max</th>\n",
              "      <td>371.100000</td>\n",
              "    </tr>\n",
              "  </tbody>\n",
              "</table>\n",
              "</div>"
            ],
            "text/plain": [
              "         Power(MW)\n",
              "count  4356.000000\n",
              "mean    108.773531\n",
              "std     125.396285\n",
              "min       0.000000\n",
              "25%       0.000000\n",
              "50%      29.450000\n",
              "75%     231.725000\n",
              "max     371.100000"
            ]
          },
          "metadata": {
            "tags": []
          },
          "execution_count": 31
        }
      ]
    },
    {
      "cell_type": "code",
      "metadata": {
        "id": "DN3s7EMw8rY0"
      },
      "source": [
        "# Extracting the timeseries relevant columns\n",
        "# solar['day'] = pd.to_datetime(solar['datetime']).map(lambda x: x.day)\n",
        "solar['month'] = pd.to_datetime(solar['datetime']).map(lambda x: x.month)\n",
        "solar['weekday'] = pd.to_datetime(solar['datetime']).map(lambda x: x.weekday())\n",
        "# solar['hour'] = pd.to_datetime(solar['datetime']).map(lambda x: x.hour)"
      ],
      "execution_count": 32,
      "outputs": []
    },
    {
      "cell_type": "code",
      "metadata": {
        "colab": {
          "base_uri": "https://localhost:8080/",
          "height": 197
        },
        "id": "v_1t6zLp8wjz",
        "outputId": "5e0fd25c-eba9-457b-fade-6f9d53f35ada"
      },
      "source": [
        "solar.to_csv('selected_solar.csv')\n",
        "solar.tail()"
      ],
      "execution_count": 33,
      "outputs": [
        {
          "output_type": "execute_result",
          "data": {
            "text/html": [
              "<div>\n",
              "<style scoped>\n",
              "    .dataframe tbody tr th:only-of-type {\n",
              "        vertical-align: middle;\n",
              "    }\n",
              "\n",
              "    .dataframe tbody tr th {\n",
              "        vertical-align: top;\n",
              "    }\n",
              "\n",
              "    .dataframe thead th {\n",
              "        text-align: right;\n",
              "    }\n",
              "</style>\n",
              "<table border=\"1\" class=\"dataframe\">\n",
              "  <thead>\n",
              "    <tr style=\"text-align: right;\">\n",
              "      <th></th>\n",
              "      <th>datetime</th>\n",
              "      <th>Power(MW)</th>\n",
              "      <th>month</th>\n",
              "      <th>weekday</th>\n",
              "    </tr>\n",
              "  </thead>\n",
              "  <tbody>\n",
              "    <tr>\n",
              "      <th>5821</th>\n",
              "      <td>2006-08-31 13:00:00</td>\n",
              "      <td>111.3</td>\n",
              "      <td>8</td>\n",
              "      <td>3</td>\n",
              "    </tr>\n",
              "    <tr>\n",
              "      <th>5822</th>\n",
              "      <td>2006-08-31 14:00:00</td>\n",
              "      <td>201.1</td>\n",
              "      <td>8</td>\n",
              "      <td>3</td>\n",
              "    </tr>\n",
              "    <tr>\n",
              "      <th>5823</th>\n",
              "      <td>2006-08-31 15:00:00</td>\n",
              "      <td>203.8</td>\n",
              "      <td>8</td>\n",
              "      <td>3</td>\n",
              "    </tr>\n",
              "    <tr>\n",
              "      <th>5824</th>\n",
              "      <td>2006-08-31 16:00:00</td>\n",
              "      <td>135.5</td>\n",
              "      <td>8</td>\n",
              "      <td>3</td>\n",
              "    </tr>\n",
              "    <tr>\n",
              "      <th>5825</th>\n",
              "      <td>2006-08-31 17:00:00</td>\n",
              "      <td>52.9</td>\n",
              "      <td>8</td>\n",
              "      <td>3</td>\n",
              "    </tr>\n",
              "  </tbody>\n",
              "</table>\n",
              "</div>"
            ],
            "text/plain": [
              "                 datetime  Power(MW)  month  weekday\n",
              "5821  2006-08-31 13:00:00      111.3      8        3\n",
              "5822  2006-08-31 14:00:00      201.1      8        3\n",
              "5823  2006-08-31 15:00:00      203.8      8        3\n",
              "5824  2006-08-31 16:00:00      135.5      8        3\n",
              "5825  2006-08-31 17:00:00       52.9      8        3"
            ]
          },
          "metadata": {
            "tags": []
          },
          "execution_count": 33
        }
      ]
    },
    {
      "cell_type": "code",
      "metadata": {
        "id": "XMXlIFX982qf"
      },
      "source": [
        "# # Config file for WanDB sweeps\n",
        "\n",
        "# def make_config_file(file_path, df_len,weight_path=None):\n",
        "#   run = wandb.init(project=\"pretrained-solar-updated\")\n",
        "#   wandb_config = wandb.config\n",
        "#   train_number = df_len * .7\n",
        "#   validation_number = df_len *.9\n",
        "#   config_default={                 \n",
        "#     \"model_name\": \"MultiAttnHeadSimple\",\n",
        "#     \"model_type\": \"PyTorch\",\n",
        "#     \"model_params\": {\n",
        "#       \"number_time_series\":3,\n",
        "#       \"seq_len\":wandb_config[\"forecast_history\"], \n",
        "#       \"output_seq_len\":wandb_config[\"out_seq_length\"],\n",
        "#       \"forecast_length\":wandb_config[\"out_seq_length\"]\n",
        "#      },\n",
        "#     \"dataset_params\":\n",
        "#     {  \"class\": \"default\",\n",
        "#        \"training_path\": file_path,\n",
        "#        \"validation_path\": file_path,\n",
        "#        \"test_path\": file_path,\n",
        "#        \"batch_size\":wandb_config[\"batch_size\"],\n",
        "#        \"forecast_history\":wandb_config[\"forecast_history\"],\n",
        "#        \"forecast_length\":wandb_config[\"out_seq_length\"],\n",
        "#        \"train_end\": int(train_number),\n",
        "#        \"valid_start\":int(train_number+1),\n",
        "#        \"valid_end\": int(validation_number),\n",
        "#        \"target_col\": [\"Power(MW)\"],\n",
        "#        \"relevant_cols\": [\"Power(MW)\", \"month\", \"weekday\"],\n",
        "#        \"scaler\": \"StandardScaler\", \n",
        "#        \"interpolate\": False\n",
        "#     },\n",
        "#     \"training_params\":\n",
        "#     {\n",
        "#        \"criterion\":\"MSE\",\n",
        "#        \"optimizer\": \"Adam\",\n",
        "#        \"optim_params\":\n",
        "#        {\n",
        "\n",
        "#        },\n",
        "#        \"lr\": wandb_config[\"lr\"],\n",
        "#        \"epochs\": 10,\n",
        "#        \"batch_size\":wandb_config[\"batch_size\"]\n",
        "    \n",
        "#     },\n",
        "#     \"GCS\": False,\n",
        "    \n",
        "#     \"sweep\":True,\n",
        "#     \"wandb\":False,\n",
        "#     \"forward_params\":{},\n",
        "#    \"metrics\":[\"MSE\"],\n",
        "#    \"inference_params\":\n",
        "#    {     \n",
        "#          \"datetime_start\":\"2006-08-22\",\n",
        "#           \"hours_to_forecast\":150, \n",
        "#           \"test_csv_path\":file_path,\n",
        "#           \"decoder_params\":{\n",
        "#               \"decoder_function\": \"simple_decode\", \n",
        "#             \"unsqueeze_dim\": 1\n",
        "#           },\n",
        "#           \"dataset_params\":{\n",
        "#              \"file_path\": file_path,\n",
        "#              \"forecast_history\":wandb_config[\"forecast_history\"],\n",
        "#              \"forecast_length\":wandb_config[\"out_seq_length\"],\n",
        "#              \"relevant_cols\": [\"Power(MW)\", \"month\", \"weekday\"],\n",
        "#              \"target_col\": [\"Power(MW)\"],\n",
        "#              \"scaling\": \"StandardScaler\",\n",
        "#              \"interpolate_param\": False\n",
        "#           }\n",
        "#       }\n",
        "#   }\n",
        "#   if weight_path: \n",
        "#     config_default[\"weight_path\"] = weight_path\n",
        "#   wandb.config.update(config_default)\n",
        "#   return config_default\n",
        "#   # wandb.config.update(config_default)\n",
        "#   # return config_default\n",
        "\n",
        "# sweep_config = {\n",
        "#   \"name\": \"Default sweep\",\n",
        "#   \"method\": \"grid\",\n",
        "#   \"parameters\": {\n",
        "#         \"batch_size\": {\n",
        "#             \"values\": [2]\n",
        "#         },\n",
        "#         \"lr\":{\n",
        "#             \"values\":[0.001]\n",
        "#         },\n",
        "#         \"forecast_history\":{\n",
        "#             \"values\":[1, 2]\n",
        "#         },\n",
        "#         \"out_seq_length\":{\n",
        "#             \"values\":[1, 2]\n",
        "#         }\n",
        "#     }\n",
        "# }"
      ],
      "execution_count": 51,
      "outputs": []
    },
    {
      "cell_type": "code",
      "metadata": {
        "id": "_PP6KCmv-R6J"
      },
      "source": [
        ""
      ],
      "execution_count": null,
      "outputs": []
    },
    {
      "cell_type": "code",
      "metadata": {
        "id": "ZtTfYaFELNdd"
      },
      "source": [
        "def make_config_file(file_path, df_len, weight_path=None):\n",
        "  run = wandb.init(project=\"pretrain-counties\")\n",
        "  wandb_config = wandb.config\n",
        "  train_number = df_len * .7\n",
        "  validation_number = df_len *.9\n",
        "  config_default={                 \n",
        "    \"model_name\": \"MultiAttnHeadSimple\",\n",
        "    \"model_type\": \"PyTorch\",\n",
        "    \"model_params\": {\n",
        "      \"number_time_series\":3,\n",
        "      \"seq_len\":wandb_config[\"forecast_history\"], \n",
        "      \"output_seq_len\":wandb_config[\"out_seq_length\"],\n",
        "      \"forecast_length\":wandb_config[\"out_seq_length\"]\n",
        "     },\n",
        "     \"weight_path_add\":{\n",
        "         \"excluded_layers\":[\"last_layer.weight\", \"last_layer.bias\"]\n",
        "     },\n",
        "    \"dataset_params\":\n",
        "    {  \"class\": \"default\",\n",
        "       \"training_path\": file_path,\n",
        "       \"validation_path\": file_path,\n",
        "       \"test_path\": file_path,\n",
        "       \"batch_size\":wandb_config[\"batch_size\"],\n",
        "       \"forecast_history\":wandb_config[\"forecast_history\"],\n",
        "       \"forecast_length\":wandb_config[\"out_seq_length\"],\n",
        "       \"train_end\": int(train_number),\n",
        "       \"valid_start\":int(train_number+1),\n",
        "       \"valid_end\": int(validation_number),\n",
        "       \"target_col\": [\"Power(MW)\"],\n",
        "       \"relevant_cols\": [\"Power(MW)\", \"month\", \"weekday\"],\n",
        "       \"scaler\": \"StandardScaler\", \n",
        "       \"interpolate\": False\n",
        "    },\n",
        "    \"training_params\":\n",
        "    {\n",
        "       \"criterion\":\"MSE\",\n",
        "       \"optimizer\": \"Adam\",\n",
        "       \"optim_params\":\n",
        "       {\n",
        "\n",
        "       },\n",
        "       \"lr\": wandb_config[\"lr\"],\n",
        "       \"epochs\": 10,\n",
        "       \"batch_size\":wandb_config[\"batch_size\"]\n",
        "    \n",
        "    },\n",
        "    \"GCS\": False,\n",
        "    \n",
        "    \"sweep\":True,\n",
        "    \"wandb\":False,\n",
        "    \"forward_params\":{},\n",
        "   \"metrics\":[\"MSE\"],\n",
        "   \"inference_params\":\n",
        "   {     \n",
        "         \"datetime_start\":\"2020-04-21\",\n",
        "          \"hours_to_forecast\":10, \n",
        "          \"test_csv_path\":file_path,\n",
        "          \"decoder_params\":{\n",
        "              \"decoder_function\": \"simple_decode\", \n",
        "            \"unsqueeze_dim\": 1\n",
        "          },\n",
        "          \"dataset_params\":{\n",
        "             \"file_path\": file_path,\n",
        "             \"forecast_history\":wandb_config[\"forecast_history\"],\n",
        "             \"forecast_length\":wandb_config[\"out_seq_length\"],\n",
        "             \"relevant_cols\": [\"Power(MW)\", \"month\", \"weekday\"],\n",
        "             \"target_col\": [\"Power(MW)\"],\n",
        "             \"scaling\": \"StandardScaler\",\n",
        "             \"interpolate_param\": False\n",
        "          }\n",
        "      }\n",
        "  }\n",
        "  if weight_path: \n",
        "    config_default[\"weight_path\"] = weight_path\n",
        "  wandb.config.update(config_default)\n",
        "  return config_default\n",
        "\n",
        "sweep_config = {\n",
        "  \"name\": \"Default sweep\",\n",
        "  \"method\": \"grid\",\n",
        "  \"parameters\": {\n",
        "        \"batch_size\": {\n",
        "            \"values\": [2, 3]\n",
        "        },\n",
        "        \"lr\":{\n",
        "            \"values\":[0.001, 0.01]\n",
        "        },\n",
        "        \"forecast_history\":{\n",
        "            \"values\":[1, 2, 3]\n",
        "        },\n",
        "        \"out_seq_length\":{\n",
        "            \"values\":[1, 2, 3]\n",
        "        }\n",
        "    }\n",
        "}"
      ],
      "execution_count": 37,
      "outputs": []
    },
    {
      "cell_type": "code",
      "metadata": {
        "colab": {
          "base_uri": "https://localhost:8080/",
          "height": 1000,
          "referenced_widgets": [
            "9ed8d920ed75415cb879596d137197ae",
            "19ac6e4954744645b71baa873a14375e",
            "3d5eb7e197bc472e8da6cb8bf4d77a3c",
            "e9f0cef6296c48809df9050f8faa2fdf",
            "f06e7cb235ca49ef91c9c5fbc3c92d8e",
            "f09a9790f9244c138656948e5c72b01a",
            "cac6a12319ee4404988d0cf2089c3c1a",
            "89d6e4266bf44d36a456bc3a55d4f786",
            "bc2190a188a84979992251c7db72780d",
            "faecfa97d55c43599dcd79d163224583",
            "1b5fba855a174ce88a8ab4bb8fbb8e74",
            "e6fa2fbb32204d70957f746c372c9660",
            "dd8fc2d042c143ffa0e4a470640813be",
            "26a9ca0efc414f4c8169510af59671dc",
            "143324d88a3f4fbb9cf821f997d3555a",
            "61a57078fa6d4b8a8ec7a150c9749e72",
            "41c85d7275fd4d3eb72859ea7e28fa91",
            "c0261c3648484e89b7201e756745b1a9",
            "c3db4ced8211465983ecf261142e9335",
            "f6b8247b4f354732a10112333d3af5a7",
            "b037ff517d954540849eed6e5dcbda8c",
            "f5ffb65f95dd4195bbd82a7b4069b55e",
            "f33cedbb14694670b7f94d54f5b435ef",
            "89b23f276b11412fa18c9ea1fd1822a9",
            "08adc3695ebd4c5f8c88b5eaab02d80e",
            "49da82f32f6340e1b123db823ddaa738",
            "6e79671bec7c4315805459af3828636f",
            "6bb37057e5644b32a9b8e2e9a9648bc6",
            "339756a1374843eab9616c204dc08aee",
            "f59074385f944a8ea434b192a7ce2f47",
            "7206a4d2e6eb4032924eff6b294ac494",
            "49ec8cdc621240018c8aab6ab86221dc",
            "f191e1bc34c746d1aa8b97ce721a2b92",
            "46415462166e4cd1af3ae1850ec5e822",
            "c4660e4dfbb84ca4b3139e7dd4b11da1",
            "e0cc6e20dcfb48e7b8ae0dbb31cb70ef",
            "6f8c0b4c0d5b4afca611af59152d7c33",
            "3baea8e6352245be856ad5a4b31048cd",
            "3962561cb8a44070889ce49240f7f4a8",
            "ca7e7020e1434f65905490cbcfcd55f3",
            "f66c7f5147834176a5f92aa69e5dee07",
            "9b378d18b5464b6f8201831c2321a19f",
            "7ae0daf23b0142528ff1d3c13daa1253",
            "ff612819007e467995a3fada915ca7dd",
            "84d18bd409ef46809107845672b75cdb",
            "586cf9c340314961a5cd37b07ec8076d",
            "2f90e8f793b6404f9d7b48349f492c6a",
            "6370d503130b4fa7b08ad99350f3d740"
          ]
        },
        "id": "UyZA7-_r9sVE",
        "outputId": "cf9e7ef9-c1be-4d68-a751-39b5742ff2a2"
      },
      "source": [
        "# Running the sweep\n",
        "import wandb\n",
        "file_path = 'selected_solar.csv'\n",
        "full_len = len(pd.read_csv(file_path))\n",
        "sweep_id = wandb.sweep(sweep_config, project=\"pretrain-counties\")\n",
        "wandb.agent(sweep_id, lambda:train_function(\"PyTorch\", make_config_file(file_path, full_len,weight_path=\"/content/github_aistream-peelout_flow-forecast/model_save/16_August_202106_12PM_model.pth\")))"
      ],
      "execution_count": 38,
      "outputs": [
        {
          "output_type": "stream",
          "text": [
            "Create sweep with ID: 8ctw1vwh\n",
            "Sweep URL: https://wandb.ai/sakil786/pretrain-counties/sweeps/8ctw1vwh\n"
          ],
          "name": "stdout"
        },
        {
          "output_type": "stream",
          "text": [
            "\u001b[34m\u001b[1mwandb\u001b[0m: Agent Starting Run: 03hm68iz with config:\n",
            "\u001b[34m\u001b[1mwandb\u001b[0m: \tbatch_size: 2\n",
            "\u001b[34m\u001b[1mwandb\u001b[0m: \tforecast_history: 1\n",
            "\u001b[34m\u001b[1mwandb\u001b[0m: \tlr: 0.001\n",
            "\u001b[34m\u001b[1mwandb\u001b[0m: \tout_seq_length: 1\n",
            "\u001b[34m\u001b[1mwandb\u001b[0m: \u001b[33mWARNING\u001b[0m Ignored wandb.init() arg project when running a sweep\n",
            "\u001b[34m\u001b[1mwandb\u001b[0m: wandb version 0.12.0 is available!  To upgrade, please run:\n",
            "\u001b[34m\u001b[1mwandb\u001b[0m:  $ pip install wandb --upgrade\n"
          ],
          "name": "stderr"
        },
        {
          "output_type": "display_data",
          "data": {
            "text/html": [
              "\n",
              "                Tracking run with wandb version 0.11.0<br/>\n",
              "                Syncing run <strong style=\"color:#cdcd00\">likely-sweep-1</strong> to <a href=\"https://wandb.ai\" target=\"_blank\">Weights & Biases</a> <a href=\"https://docs.wandb.com/integrations/jupyter.html\" target=\"_blank\">(Documentation)</a>.<br/>\n",
              "                Project page: <a href=\"https://wandb.ai/sakil786/pretrain-counties\" target=\"_blank\">https://wandb.ai/sakil786/pretrain-counties</a><br/>\n",
              "                Sweep page: <a href=\"https://wandb.ai/sakil786/pretrain-counties/sweeps/8ctw1vwh\" target=\"_blank\">https://wandb.ai/sakil786/pretrain-counties/sweeps/8ctw1vwh</a><br/>\n",
              "Run page: <a href=\"https://wandb.ai/sakil786/pretrain-counties/runs/03hm68iz\" target=\"_blank\">https://wandb.ai/sakil786/pretrain-counties/runs/03hm68iz</a><br/>\n",
              "                Run data is saved locally in <code>/content/github_aistream-peelout_flow-forecast/wandb/run-20210816_183237-03hm68iz</code><br/><br/>\n",
              "            "
            ],
            "text/plain": [
              "<IPython.core.display.HTML object>"
            ]
          },
          "metadata": {
            "tags": []
          }
        },
        {
          "output_type": "stream",
          "text": [
            "sucessfully deleted layers\n",
            "Weights sucessfully loaded\n",
            "interpolate should be below\n",
            "[]\n",
            "Now loading selected_solar.csv\n",
            "scaling now\n",
            "interpolate should be below\n",
            "[]\n",
            "Now loading selected_solar.csv\n",
            "scaling now\n",
            "interpolate should be below\n",
            "[]\n",
            "Now loading selected_solar.csv\n",
            "scaling now\n",
            "Using Wandb config:\n",
            "{'batch_size': 2, 'forecast_history': 1, 'lr': 0.001, 'out_seq_length': 1, 'model_name': 'MultiAttnHeadSimple', 'model_type': 'PyTorch', 'model_params': {'number_time_series': 3, 'seq_len': 1, 'output_seq_len': 1, 'forecast_length': 1}, 'weight_path_add': {'excluded_layers': ['last_layer.weight', 'last_layer.bias']}, 'dataset_params': {'class': 'default', 'training_path': 'selected_solar.csv', 'validation_path': 'selected_solar.csv', 'test_path': 'selected_solar.csv', 'batch_size': 2, 'forecast_history': 1, 'forecast_length': 1, 'train_end': 3049, 'valid_start': 3050, 'valid_end': 3920, 'target_col': ['Power(MW)'], 'relevant_cols': ['Power(MW)', 'month', 'weekday'], 'scaler': 'StandardScaler', 'interpolate': False}, 'training_params': {'criterion': 'MSE', 'optimizer': 'Adam', 'optim_params': {}, 'lr': 0.001, 'epochs': 10, 'batch_size': 2}, 'GCS': False, 'sweep': True, 'wandb': False, 'forward_params': {}, 'metrics': ['MSE'], 'inference_params': {'datetime_start': '2020-04-21', 'hours_to_forecast': 10, 'test_csv_path': 'selected_solar.csv', 'decoder_params': {'decoder_function': 'simple_decode', 'unsqueeze_dim': 1}, 'dataset_params': {'file_path': 'selected_solar.csv', 'forecast_history': 1, 'forecast_length': 1, 'relevant_cols': ['Power(MW)', 'month', 'weekday'], 'target_col': ['Power(MW)'], 'scaling': 'StandardScaler', 'interpolate_param': False}}, 'weight_path': '/content/github_aistream-peelout_flow-forecast/model_save/16_August_202106_12PM_model.pth'}\n",
            "Torch is using cuda\n",
            "running torch_single_train\n",
            "The running loss is: \n",
            "344.80280134749773\n",
            "The number of items in train is: 1523\n",
            "The loss for epoch 0\n",
            "0.2263971118499657\n",
            "Computing validation loss\n",
            "running torch_single_train\n",
            "The running loss is: \n",
            "275.1805102323556\n",
            "The number of items in train is: 1523\n",
            "The loss for epoch 1\n",
            "0.18068319778880865\n",
            "Computing validation loss\n",
            "running torch_single_train\n",
            "The running loss is: \n",
            "267.53038188710934\n",
            "The number of items in train is: 1523\n",
            "The loss for epoch 2\n",
            "0.1756601325588374\n",
            "Computing validation loss\n",
            "running torch_single_train\n",
            "The running loss is: \n",
            "264.613878422826\n",
            "The number of items in train is: 1523\n",
            "The loss for epoch 3\n",
            "0.17374515983113986\n",
            "Computing validation loss\n",
            "running torch_single_train\n",
            "The running loss is: \n",
            "269.5001528048888\n",
            "The number of items in train is: 1523\n",
            "The loss for epoch 4\n",
            "0.1769534818154227\n",
            "Computing validation loss\n",
            "running torch_single_train\n",
            "The running loss is: \n",
            "263.5633359209305\n",
            "The number of items in train is: 1523\n",
            "The loss for epoch 5\n",
            "0.17305537486600822\n",
            "Computing validation loss\n",
            "running torch_single_train\n",
            "The running loss is: \n",
            "262.9070881518892\n",
            "The number of items in train is: 1523\n",
            "The loss for epoch 6\n",
            "0.17262448335646038\n",
            "Computing validation loss\n",
            "running torch_single_train\n",
            "The running loss is: \n",
            "263.6404207641299\n",
            "The number of items in train is: 1523\n",
            "The loss for epoch 7\n",
            "0.17310598868294805\n",
            "Computing validation loss\n",
            "running torch_single_train\n",
            "The running loss is: \n",
            "263.1640726698024\n",
            "The number of items in train is: 1523\n",
            "The loss for epoch 8\n",
            "0.1727932190871979\n",
            "Computing validation loss\n",
            "running torch_single_train\n",
            "The running loss is: \n",
            "260.38310819930666\n",
            "The number of items in train is: 1523\n",
            "The loss for epoch 9\n",
            "0.17096724110263076\n",
            "Computing validation loss\n",
            "Computing validation loss\n",
            "test loss: 664.708560700729\n",
            "This model is currently forecasting for : 1 targets\n",
            "interpolate should be below\n",
            "[]\n",
            "Now loading selected_solar.csv\n",
            "scaling now\n",
            "CSV Path below\n",
            "selected_solar.csv\n"
          ],
          "name": "stdout"
        },
        {
          "output_type": "display_data",
          "data": {
            "text/html": [
              "<br/>Waiting for W&B process to finish, PID 4843<br/>Program failed with code 1.  Press ctrl-c to abort syncing."
            ],
            "text/plain": [
              "<IPython.core.display.HTML object>"
            ]
          },
          "metadata": {
            "tags": []
          }
        },
        {
          "output_type": "display_data",
          "data": {
            "application/vnd.jupyter.widget-view+json": {
              "model_id": "9ed8d920ed75415cb879596d137197ae",
              "version_minor": 0,
              "version_major": 2
            },
            "text/plain": [
              "VBox(children=(Label(value=' 0.00MB of 0.00MB uploaded (0.00MB deduped)\\r'), FloatProgress(value=1.0, max=1.0)…"
            ]
          },
          "metadata": {
            "tags": []
          }
        },
        {
          "output_type": "display_data",
          "data": {
            "text/html": [
              "Find user logs for this run at: <code>/content/github_aistream-peelout_flow-forecast/wandb/run-20210816_183237-03hm68iz/logs/debug.log</code>"
            ],
            "text/plain": [
              "<IPython.core.display.HTML object>"
            ]
          },
          "metadata": {
            "tags": []
          }
        },
        {
          "output_type": "display_data",
          "data": {
            "text/html": [
              "Find internal logs for this run at: <code>/content/github_aistream-peelout_flow-forecast/wandb/run-20210816_183237-03hm68iz/logs/debug-internal.log</code>"
            ],
            "text/plain": [
              "<IPython.core.display.HTML object>"
            ]
          },
          "metadata": {
            "tags": []
          }
        },
        {
          "output_type": "display_data",
          "data": {
            "text/html": [
              "<h3>Run summary:</h3><br/><style>\n",
              "    table.wandb td:nth-child(1) { padding: 0 10px; text-align: right }\n",
              "    </style><table class=\"wandb\">\n",
              "<tr><td>epoch</td><td>9</td></tr><tr><td>_runtime</td><td>110</td></tr><tr><td>_timestamp</td><td>1629138867</td></tr><tr><td>_step</td><td>20</td></tr><tr><td>loss</td><td>0.17097</td></tr></table>"
            ],
            "text/plain": [
              "<IPython.core.display.HTML object>"
            ]
          },
          "metadata": {
            "tags": []
          }
        },
        {
          "output_type": "display_data",
          "data": {
            "text/html": [
              "<h3>Run history:</h3><br/><style>\n",
              "    table.wandb td:nth-child(1) { padding: 0 10px; text-align: right }\n",
              "    </style><table class=\"wandb\">\n",
              "<tr><td>epoch</td><td>▁▁▂▂▃▃▃▃▄▄▅▅▆▆▆▆▇▇███</td></tr><tr><td>_runtime</td><td>▁▁▂▂▂▂▃▃▄▄▄▄▅▅▆▆▆▆▇▇█</td></tr><tr><td>_timestamp</td><td>▁▁▂▂▂▂▃▃▄▄▄▄▅▅▆▆▆▆▇▇█</td></tr><tr><td>_step</td><td>▁▁▂▂▂▃▃▃▄▄▅▅▅▆▆▆▇▇▇██</td></tr><tr><td>loss</td><td>█▂▂▁▂▁▁▁▁▁</td></tr></table><br/>"
            ],
            "text/plain": [
              "<IPython.core.display.HTML object>"
            ]
          },
          "metadata": {
            "tags": []
          }
        },
        {
          "output_type": "display_data",
          "data": {
            "text/html": [
              "Synced 5 W&B file(s), 0 media file(s), 0 artifact file(s) and 0 other file(s)"
            ],
            "text/plain": [
              "<IPython.core.display.HTML object>"
            ]
          },
          "metadata": {
            "tags": []
          }
        },
        {
          "output_type": "display_data",
          "data": {
            "text/html": [
              "\n",
              "                    <br/>Synced <strong style=\"color:#cdcd00\">likely-sweep-1</strong>: <a href=\"https://wandb.ai/sakil786/pretrain-counties/runs/03hm68iz\" target=\"_blank\">https://wandb.ai/sakil786/pretrain-counties/runs/03hm68iz</a><br/>\n",
              "                "
            ],
            "text/plain": [
              "<IPython.core.display.HTML object>"
            ]
          },
          "metadata": {
            "tags": []
          }
        },
        {
          "output_type": "stream",
          "text": [
            "Run 03hm68iz errored: IndexError('index 0 is out of bounds for axis 0 with size 0')\n",
            "\u001b[34m\u001b[1mwandb\u001b[0m: \u001b[32m\u001b[41mERROR\u001b[0m Run 03hm68iz errored: IndexError('index 0 is out of bounds for axis 0 with size 0')\n",
            "\u001b[34m\u001b[1mwandb\u001b[0m: Agent Starting Run: z0dw2xqi with config:\n",
            "\u001b[34m\u001b[1mwandb\u001b[0m: \tbatch_size: 2\n",
            "\u001b[34m\u001b[1mwandb\u001b[0m: \tforecast_history: 1\n",
            "\u001b[34m\u001b[1mwandb\u001b[0m: \tlr: 0.001\n",
            "\u001b[34m\u001b[1mwandb\u001b[0m: \tout_seq_length: 2\n",
            "\u001b[34m\u001b[1mwandb\u001b[0m: \u001b[33mWARNING\u001b[0m Ignored wandb.init() arg project when running a sweep\n",
            "\u001b[34m\u001b[1mwandb\u001b[0m: wandb version 0.12.0 is available!  To upgrade, please run:\n",
            "\u001b[34m\u001b[1mwandb\u001b[0m:  $ pip install wandb --upgrade\n"
          ],
          "name": "stderr"
        },
        {
          "output_type": "display_data",
          "data": {
            "text/html": [
              "\n",
              "                Tracking run with wandb version 0.11.0<br/>\n",
              "                Syncing run <strong style=\"color:#cdcd00\">winter-sweep-2</strong> to <a href=\"https://wandb.ai\" target=\"_blank\">Weights & Biases</a> <a href=\"https://docs.wandb.com/integrations/jupyter.html\" target=\"_blank\">(Documentation)</a>.<br/>\n",
              "                Project page: <a href=\"https://wandb.ai/sakil786/pretrain-counties\" target=\"_blank\">https://wandb.ai/sakil786/pretrain-counties</a><br/>\n",
              "                Sweep page: <a href=\"https://wandb.ai/sakil786/pretrain-counties/sweeps/8ctw1vwh\" target=\"_blank\">https://wandb.ai/sakil786/pretrain-counties/sweeps/8ctw1vwh</a><br/>\n",
              "Run page: <a href=\"https://wandb.ai/sakil786/pretrain-counties/runs/z0dw2xqi\" target=\"_blank\">https://wandb.ai/sakil786/pretrain-counties/runs/z0dw2xqi</a><br/>\n",
              "                Run data is saved locally in <code>/content/github_aistream-peelout_flow-forecast/wandb/run-20210816_183435-z0dw2xqi</code><br/><br/>\n",
              "            "
            ],
            "text/plain": [
              "<IPython.core.display.HTML object>"
            ]
          },
          "metadata": {
            "tags": []
          }
        },
        {
          "output_type": "stream",
          "text": [
            "sucessfully deleted layers\n",
            "Weights sucessfully loaded\n",
            "interpolate should be below\n",
            "[]\n",
            "Now loading selected_solar.csv\n",
            "scaling now\n",
            "interpolate should be below\n",
            "[]\n",
            "Now loading selected_solar.csv\n",
            "scaling now\n",
            "interpolate should be below\n",
            "[]\n",
            "Now loading selected_solar.csv\n",
            "scaling now\n",
            "Using Wandb config:\n",
            "{'batch_size': 2, 'forecast_history': 1, 'lr': 0.001, 'out_seq_length': 2, 'model_name': 'MultiAttnHeadSimple', 'model_type': 'PyTorch', 'model_params': {'number_time_series': 3, 'seq_len': 1, 'output_seq_len': 2, 'forecast_length': 2}, 'weight_path_add': {'excluded_layers': ['last_layer.weight', 'last_layer.bias']}, 'dataset_params': {'class': 'default', 'training_path': 'selected_solar.csv', 'validation_path': 'selected_solar.csv', 'test_path': 'selected_solar.csv', 'batch_size': 2, 'forecast_history': 1, 'forecast_length': 2, 'train_end': 3049, 'valid_start': 3050, 'valid_end': 3920, 'target_col': ['Power(MW)'], 'relevant_cols': ['Power(MW)', 'month', 'weekday'], 'scaler': 'StandardScaler', 'interpolate': False}, 'training_params': {'criterion': 'MSE', 'optimizer': 'Adam', 'optim_params': {}, 'lr': 0.001, 'epochs': 10, 'batch_size': 2}, 'GCS': False, 'sweep': True, 'wandb': False, 'forward_params': {}, 'metrics': ['MSE'], 'inference_params': {'datetime_start': '2020-04-21', 'hours_to_forecast': 10, 'test_csv_path': 'selected_solar.csv', 'decoder_params': {'decoder_function': 'simple_decode', 'unsqueeze_dim': 1}, 'dataset_params': {'file_path': 'selected_solar.csv', 'forecast_history': 1, 'forecast_length': 2, 'relevant_cols': ['Power(MW)', 'month', 'weekday'], 'target_col': ['Power(MW)'], 'scaling': 'StandardScaler', 'interpolate_param': False}}, 'weight_path': '/content/github_aistream-peelout_flow-forecast/model_save/16_August_202106_12PM_model.pth'}\n",
            "Torch is using cuda\n",
            "running torch_single_train\n",
            "The running loss is: \n",
            "1836.0140678007156\n",
            "The number of items in train is: 1523\n",
            "The loss for epoch 0\n",
            "1.2055246669735493\n",
            "Computing validation loss\n",
            "running torch_single_train\n",
            "The running loss is: \n",
            "975.0554369671736\n",
            "The number of items in train is: 1523\n",
            "The loss for epoch 1\n",
            "0.6402202475162007\n",
            "Computing validation loss\n",
            "running torch_single_train\n",
            "The running loss is: \n",
            "487.9927593336906\n",
            "The number of items in train is: 1523\n",
            "The loss for epoch 2\n",
            "0.320415469030657\n",
            "Computing validation loss\n",
            "running torch_single_train\n",
            "The running loss is: \n",
            "469.5911847569514\n",
            "The number of items in train is: 1523\n",
            "The loss for epoch 3\n",
            "0.30833301691198384\n",
            "Computing validation loss\n",
            "running torch_single_train\n",
            "The running loss is: \n",
            "462.838728975039\n",
            "The number of items in train is: 1523\n",
            "The loss for epoch 4\n",
            "0.3038993624261582\n",
            "Computing validation loss\n",
            "running torch_single_train\n",
            "The running loss is: \n",
            "466.64375256118365\n",
            "The number of items in train is: 1523\n",
            "The loss for epoch 5\n",
            "0.30639773641574763\n",
            "Computing validation loss\n",
            "running torch_single_train\n",
            "The running loss is: \n",
            "463.0910326440353\n",
            "The number of items in train is: 1523\n",
            "The loss for epoch 6\n",
            "0.30406502471702906\n",
            "Computing validation loss\n",
            "running torch_single_train\n",
            "The running loss is: \n",
            "458.4716733864043\n",
            "The number of items in train is: 1523\n",
            "The loss for epoch 7\n",
            "0.30103195888798706\n",
            "Computing validation loss\n",
            "running torch_single_train\n",
            "The running loss is: \n",
            "457.6569375330582\n",
            "The number of items in train is: 1523\n",
            "The loss for epoch 8\n",
            "0.3004970042895983\n",
            "Computing validation loss\n",
            "running torch_single_train\n",
            "The running loss is: \n",
            "454.5812946300721\n",
            "The number of items in train is: 1523\n",
            "The loss for epoch 9\n",
            "0.29847754079453187\n",
            "Computing validation loss\n",
            "Computing validation loss\n",
            "test loss: 1236.719582622929\n",
            "This model is currently forecasting for : 1 targets\n",
            "interpolate should be below\n",
            "[]\n",
            "Now loading selected_solar.csv\n",
            "scaling now\n",
            "CSV Path below\n",
            "selected_solar.csv\n"
          ],
          "name": "stdout"
        },
        {
          "output_type": "display_data",
          "data": {
            "text/html": [
              "<br/>Waiting for W&B process to finish, PID 5001<br/>Program failed with code 1.  Press ctrl-c to abort syncing."
            ],
            "text/plain": [
              "<IPython.core.display.HTML object>"
            ]
          },
          "metadata": {
            "tags": []
          }
        },
        {
          "output_type": "display_data",
          "data": {
            "application/vnd.jupyter.widget-view+json": {
              "model_id": "bc2190a188a84979992251c7db72780d",
              "version_minor": 0,
              "version_major": 2
            },
            "text/plain": [
              "VBox(children=(Label(value=' 0.00MB of 0.00MB uploaded (0.00MB deduped)\\r'), FloatProgress(value=1.0, max=1.0)…"
            ]
          },
          "metadata": {
            "tags": []
          }
        },
        {
          "output_type": "display_data",
          "data": {
            "text/html": [
              "Find user logs for this run at: <code>/content/github_aistream-peelout_flow-forecast/wandb/run-20210816_183435-z0dw2xqi/logs/debug.log</code>"
            ],
            "text/plain": [
              "<IPython.core.display.HTML object>"
            ]
          },
          "metadata": {
            "tags": []
          }
        },
        {
          "output_type": "display_data",
          "data": {
            "text/html": [
              "Find internal logs for this run at: <code>/content/github_aistream-peelout_flow-forecast/wandb/run-20210816_183435-z0dw2xqi/logs/debug-internal.log</code>"
            ],
            "text/plain": [
              "<IPython.core.display.HTML object>"
            ]
          },
          "metadata": {
            "tags": []
          }
        },
        {
          "output_type": "display_data",
          "data": {
            "text/html": [
              "<h3>Run summary:</h3><br/><style>\n",
              "    table.wandb td:nth-child(1) { padding: 0 10px; text-align: right }\n",
              "    </style><table class=\"wandb\">\n",
              "<tr><td>epoch</td><td>9</td></tr><tr><td>_runtime</td><td>111</td></tr><tr><td>_timestamp</td><td>1629138986</td></tr><tr><td>_step</td><td>20</td></tr><tr><td>loss</td><td>0.29848</td></tr></table>"
            ],
            "text/plain": [
              "<IPython.core.display.HTML object>"
            ]
          },
          "metadata": {
            "tags": []
          }
        },
        {
          "output_type": "display_data",
          "data": {
            "text/html": [
              "<h3>Run history:</h3><br/><style>\n",
              "    table.wandb td:nth-child(1) { padding: 0 10px; text-align: right }\n",
              "    </style><table class=\"wandb\">\n",
              "<tr><td>epoch</td><td>▁▁▂▂▃▃▃▃▄▄▅▅▆▆▆▆▇▇███</td></tr><tr><td>_runtime</td><td>▁▁▂▂▂▂▃▃▄▄▄▄▅▅▆▆▆▆▇▇█</td></tr><tr><td>_timestamp</td><td>▁▁▂▂▂▂▃▃▄▄▄▄▅▅▆▆▆▆▇▇█</td></tr><tr><td>_step</td><td>▁▁▂▂▂▃▃▃▄▄▅▅▅▆▆▆▇▇▇██</td></tr><tr><td>loss</td><td>█▄▁▁▁▁▁▁▁▁</td></tr></table><br/>"
            ],
            "text/plain": [
              "<IPython.core.display.HTML object>"
            ]
          },
          "metadata": {
            "tags": []
          }
        },
        {
          "output_type": "display_data",
          "data": {
            "text/html": [
              "Synced 5 W&B file(s), 0 media file(s), 0 artifact file(s) and 0 other file(s)"
            ],
            "text/plain": [
              "<IPython.core.display.HTML object>"
            ]
          },
          "metadata": {
            "tags": []
          }
        },
        {
          "output_type": "display_data",
          "data": {
            "text/html": [
              "\n",
              "                    <br/>Synced <strong style=\"color:#cdcd00\">winter-sweep-2</strong>: <a href=\"https://wandb.ai/sakil786/pretrain-counties/runs/z0dw2xqi\" target=\"_blank\">https://wandb.ai/sakil786/pretrain-counties/runs/z0dw2xqi</a><br/>\n",
              "                "
            ],
            "text/plain": [
              "<IPython.core.display.HTML object>"
            ]
          },
          "metadata": {
            "tags": []
          }
        },
        {
          "output_type": "stream",
          "text": [
            "Run z0dw2xqi errored: IndexError('index 0 is out of bounds for axis 0 with size 0')\n",
            "\u001b[34m\u001b[1mwandb\u001b[0m: \u001b[32m\u001b[41mERROR\u001b[0m Run z0dw2xqi errored: IndexError('index 0 is out of bounds for axis 0 with size 0')\n",
            "\u001b[34m\u001b[1mwandb\u001b[0m: Agent Starting Run: wo9ufg83 with config:\n",
            "\u001b[34m\u001b[1mwandb\u001b[0m: \tbatch_size: 2\n",
            "\u001b[34m\u001b[1mwandb\u001b[0m: \tforecast_history: 1\n",
            "\u001b[34m\u001b[1mwandb\u001b[0m: \tlr: 0.001\n",
            "\u001b[34m\u001b[1mwandb\u001b[0m: \tout_seq_length: 3\n",
            "\u001b[34m\u001b[1mwandb\u001b[0m: \u001b[33mWARNING\u001b[0m Ignored wandb.init() arg project when running a sweep\n",
            "\u001b[34m\u001b[1mwandb\u001b[0m: wandb version 0.12.0 is available!  To upgrade, please run:\n",
            "\u001b[34m\u001b[1mwandb\u001b[0m:  $ pip install wandb --upgrade\n"
          ],
          "name": "stderr"
        },
        {
          "output_type": "display_data",
          "data": {
            "text/html": [
              "\n",
              "                Tracking run with wandb version 0.11.0<br/>\n",
              "                Syncing run <strong style=\"color:#cdcd00\">stoic-sweep-3</strong> to <a href=\"https://wandb.ai\" target=\"_blank\">Weights & Biases</a> <a href=\"https://docs.wandb.com/integrations/jupyter.html\" target=\"_blank\">(Documentation)</a>.<br/>\n",
              "                Project page: <a href=\"https://wandb.ai/sakil786/pretrain-counties\" target=\"_blank\">https://wandb.ai/sakil786/pretrain-counties</a><br/>\n",
              "                Sweep page: <a href=\"https://wandb.ai/sakil786/pretrain-counties/sweeps/8ctw1vwh\" target=\"_blank\">https://wandb.ai/sakil786/pretrain-counties/sweeps/8ctw1vwh</a><br/>\n",
              "Run page: <a href=\"https://wandb.ai/sakil786/pretrain-counties/runs/wo9ufg83\" target=\"_blank\">https://wandb.ai/sakil786/pretrain-counties/runs/wo9ufg83</a><br/>\n",
              "                Run data is saved locally in <code>/content/github_aistream-peelout_flow-forecast/wandb/run-20210816_183633-wo9ufg83</code><br/><br/>\n",
              "            "
            ],
            "text/plain": [
              "<IPython.core.display.HTML object>"
            ]
          },
          "metadata": {
            "tags": []
          }
        },
        {
          "output_type": "stream",
          "text": [
            "sucessfully deleted layers\n",
            "Weights sucessfully loaded\n",
            "interpolate should be below\n",
            "[]\n",
            "Now loading selected_solar.csv\n",
            "scaling now\n",
            "interpolate should be below\n",
            "[]\n",
            "Now loading selected_solar.csv\n",
            "scaling now\n",
            "interpolate should be below\n",
            "[]\n",
            "Now loading selected_solar.csv\n",
            "scaling now\n",
            "Using Wandb config:\n",
            "{'batch_size': 2, 'forecast_history': 1, 'lr': 0.001, 'out_seq_length': 3, 'model_name': 'MultiAttnHeadSimple', 'model_type': 'PyTorch', 'model_params': {'number_time_series': 3, 'seq_len': 1, 'output_seq_len': 3, 'forecast_length': 3}, 'weight_path_add': {'excluded_layers': ['last_layer.weight', 'last_layer.bias']}, 'dataset_params': {'class': 'default', 'training_path': 'selected_solar.csv', 'validation_path': 'selected_solar.csv', 'test_path': 'selected_solar.csv', 'batch_size': 2, 'forecast_history': 1, 'forecast_length': 3, 'train_end': 3049, 'valid_start': 3050, 'valid_end': 3920, 'target_col': ['Power(MW)'], 'relevant_cols': ['Power(MW)', 'month', 'weekday'], 'scaler': 'StandardScaler', 'interpolate': False}, 'training_params': {'criterion': 'MSE', 'optimizer': 'Adam', 'optim_params': {}, 'lr': 0.001, 'epochs': 10, 'batch_size': 2}, 'GCS': False, 'sweep': True, 'wandb': False, 'forward_params': {}, 'metrics': ['MSE'], 'inference_params': {'datetime_start': '2020-04-21', 'hours_to_forecast': 10, 'test_csv_path': 'selected_solar.csv', 'decoder_params': {'decoder_function': 'simple_decode', 'unsqueeze_dim': 1}, 'dataset_params': {'file_path': 'selected_solar.csv', 'forecast_history': 1, 'forecast_length': 3, 'relevant_cols': ['Power(MW)', 'month', 'weekday'], 'target_col': ['Power(MW)'], 'scaling': 'StandardScaler', 'interpolate_param': False}}, 'weight_path': '/content/github_aistream-peelout_flow-forecast/model_save/16_August_202106_12PM_model.pth'}\n",
            "Torch is using cuda\n",
            "running torch_single_train\n",
            "The running loss is: \n",
            "917.933924857527\n",
            "The number of items in train is: 1522\n",
            "The loss for epoch 0\n",
            "0.6031103317066537\n",
            "Computing validation loss\n",
            "running torch_single_train\n",
            "The running loss is: \n",
            "670.8714317800477\n",
            "The number of items in train is: 1522\n",
            "The loss for epoch 1\n",
            "0.44078280668859904\n",
            "Computing validation loss\n",
            "running torch_single_train\n",
            "The running loss is: \n",
            "657.769516129978\n",
            "The number of items in train is: 1522\n",
            "The loss for epoch 2\n",
            "0.4321744521221932\n",
            "Computing validation loss\n",
            "running torch_single_train\n",
            "The running loss is: \n",
            "661.6526564066298\n",
            "The number of items in train is: 1522\n",
            "The loss for epoch 3\n",
            "0.4347257926456175\n",
            "Computing validation loss\n",
            "running torch_single_train\n",
            "The running loss is: \n",
            "651.3863856587559\n",
            "The number of items in train is: 1522\n",
            "The loss for epoch 4\n",
            "0.42798054248275685\n",
            "Computing validation loss\n",
            "running torch_single_train\n",
            "The running loss is: \n",
            "649.7087815529667\n",
            "The number of items in train is: 1522\n",
            "The loss for epoch 5\n",
            "0.4268783058823697\n",
            "Computing validation loss\n",
            "running torch_single_train\n",
            "The running loss is: \n",
            "656.1316475579515\n",
            "The number of items in train is: 1522\n",
            "The loss for epoch 6\n",
            "0.4310983229684307\n",
            "Computing validation loss\n",
            "running torch_single_train\n",
            "The running loss is: \n",
            "647.0947021035245\n",
            "The number of items in train is: 1522\n",
            "The loss for epoch 7\n",
            "0.42516077667774277\n",
            "Computing validation loss\n",
            "running torch_single_train\n",
            "The running loss is: \n",
            "648.6329599907622\n",
            "The number of items in train is: 1522\n",
            "The loss for epoch 8\n",
            "0.4261714586010264\n",
            "Computing validation loss\n",
            "running torch_single_train\n",
            "The running loss is: \n",
            "649.4133703443222\n",
            "The number of items in train is: 1522\n",
            "The loss for epoch 9\n",
            "0.426684211789962\n",
            "Computing validation loss\n",
            "Computing validation loss\n",
            "test loss: 1786.8636291546864\n",
            "This model is currently forecasting for : 1 targets\n",
            "interpolate should be below\n",
            "[]\n",
            "Now loading selected_solar.csv\n",
            "scaling now\n",
            "CSV Path below\n",
            "selected_solar.csv\n"
          ],
          "name": "stdout"
        },
        {
          "output_type": "display_data",
          "data": {
            "text/html": [
              "<br/>Waiting for W&B process to finish, PID 5161<br/>Program failed with code 1.  Press ctrl-c to abort syncing."
            ],
            "text/plain": [
              "<IPython.core.display.HTML object>"
            ]
          },
          "metadata": {
            "tags": []
          }
        },
        {
          "output_type": "display_data",
          "data": {
            "application/vnd.jupyter.widget-view+json": {
              "model_id": "41c85d7275fd4d3eb72859ea7e28fa91",
              "version_minor": 0,
              "version_major": 2
            },
            "text/plain": [
              "VBox(children=(Label(value=' 0.00MB of 0.00MB uploaded (0.00MB deduped)\\r'), FloatProgress(value=1.0, max=1.0)…"
            ]
          },
          "metadata": {
            "tags": []
          }
        },
        {
          "output_type": "display_data",
          "data": {
            "text/html": [
              "Find user logs for this run at: <code>/content/github_aistream-peelout_flow-forecast/wandb/run-20210816_183633-wo9ufg83/logs/debug.log</code>"
            ],
            "text/plain": [
              "<IPython.core.display.HTML object>"
            ]
          },
          "metadata": {
            "tags": []
          }
        },
        {
          "output_type": "display_data",
          "data": {
            "text/html": [
              "Find internal logs for this run at: <code>/content/github_aistream-peelout_flow-forecast/wandb/run-20210816_183633-wo9ufg83/logs/debug-internal.log</code>"
            ],
            "text/plain": [
              "<IPython.core.display.HTML object>"
            ]
          },
          "metadata": {
            "tags": []
          }
        },
        {
          "output_type": "display_data",
          "data": {
            "text/html": [
              "<h3>Run summary:</h3><br/><style>\n",
              "    table.wandb td:nth-child(1) { padding: 0 10px; text-align: right }\n",
              "    </style><table class=\"wandb\">\n",
              "<tr><td>epoch</td><td>9</td></tr><tr><td>_runtime</td><td>110</td></tr><tr><td>_timestamp</td><td>1629139103</td></tr><tr><td>_step</td><td>20</td></tr><tr><td>loss</td><td>0.42668</td></tr></table>"
            ],
            "text/plain": [
              "<IPython.core.display.HTML object>"
            ]
          },
          "metadata": {
            "tags": []
          }
        },
        {
          "output_type": "display_data",
          "data": {
            "text/html": [
              "<h3>Run history:</h3><br/><style>\n",
              "    table.wandb td:nth-child(1) { padding: 0 10px; text-align: right }\n",
              "    </style><table class=\"wandb\">\n",
              "<tr><td>epoch</td><td>▁▁▂▂▃▃▃▃▄▄▅▅▆▆▆▆▇▇███</td></tr><tr><td>_runtime</td><td>▁▁▂▂▂▂▃▃▄▄▄▄▅▅▆▆▆▆▇▇█</td></tr><tr><td>_timestamp</td><td>▁▁▂▂▂▂▃▃▄▄▄▄▅▅▆▆▆▆▇▇█</td></tr><tr><td>_step</td><td>▁▁▂▂▂▃▃▃▄▄▅▅▅▆▆▆▇▇▇██</td></tr><tr><td>loss</td><td>█▂▁▁▁▁▁▁▁▁</td></tr></table><br/>"
            ],
            "text/plain": [
              "<IPython.core.display.HTML object>"
            ]
          },
          "metadata": {
            "tags": []
          }
        },
        {
          "output_type": "display_data",
          "data": {
            "text/html": [
              "Synced 5 W&B file(s), 0 media file(s), 0 artifact file(s) and 0 other file(s)"
            ],
            "text/plain": [
              "<IPython.core.display.HTML object>"
            ]
          },
          "metadata": {
            "tags": []
          }
        },
        {
          "output_type": "display_data",
          "data": {
            "text/html": [
              "\n",
              "                    <br/>Synced <strong style=\"color:#cdcd00\">stoic-sweep-3</strong>: <a href=\"https://wandb.ai/sakil786/pretrain-counties/runs/wo9ufg83\" target=\"_blank\">https://wandb.ai/sakil786/pretrain-counties/runs/wo9ufg83</a><br/>\n",
              "                "
            ],
            "text/plain": [
              "<IPython.core.display.HTML object>"
            ]
          },
          "metadata": {
            "tags": []
          }
        },
        {
          "output_type": "stream",
          "text": [
            "Run wo9ufg83 errored: IndexError('index 0 is out of bounds for axis 0 with size 0')\n",
            "\u001b[34m\u001b[1mwandb\u001b[0m: \u001b[32m\u001b[41mERROR\u001b[0m Run wo9ufg83 errored: IndexError('index 0 is out of bounds for axis 0 with size 0')\n",
            "\u001b[34m\u001b[1mwandb\u001b[0m: Agent Starting Run: hupg7evu with config:\n",
            "\u001b[34m\u001b[1mwandb\u001b[0m: \tbatch_size: 2\n",
            "\u001b[34m\u001b[1mwandb\u001b[0m: \tforecast_history: 1\n",
            "\u001b[34m\u001b[1mwandb\u001b[0m: \tlr: 0.01\n",
            "\u001b[34m\u001b[1mwandb\u001b[0m: \tout_seq_length: 1\n",
            "\u001b[34m\u001b[1mwandb\u001b[0m: \u001b[33mWARNING\u001b[0m Ignored wandb.init() arg project when running a sweep\n",
            "\u001b[34m\u001b[1mwandb\u001b[0m: wandb version 0.12.0 is available!  To upgrade, please run:\n",
            "\u001b[34m\u001b[1mwandb\u001b[0m:  $ pip install wandb --upgrade\n"
          ],
          "name": "stderr"
        },
        {
          "output_type": "display_data",
          "data": {
            "text/html": [
              "\n",
              "                Tracking run with wandb version 0.11.0<br/>\n",
              "                Syncing run <strong style=\"color:#cdcd00\">crisp-sweep-4</strong> to <a href=\"https://wandb.ai\" target=\"_blank\">Weights & Biases</a> <a href=\"https://docs.wandb.com/integrations/jupyter.html\" target=\"_blank\">(Documentation)</a>.<br/>\n",
              "                Project page: <a href=\"https://wandb.ai/sakil786/pretrain-counties\" target=\"_blank\">https://wandb.ai/sakil786/pretrain-counties</a><br/>\n",
              "                Sweep page: <a href=\"https://wandb.ai/sakil786/pretrain-counties/sweeps/8ctw1vwh\" target=\"_blank\">https://wandb.ai/sakil786/pretrain-counties/sweeps/8ctw1vwh</a><br/>\n",
              "Run page: <a href=\"https://wandb.ai/sakil786/pretrain-counties/runs/hupg7evu\" target=\"_blank\">https://wandb.ai/sakil786/pretrain-counties/runs/hupg7evu</a><br/>\n",
              "                Run data is saved locally in <code>/content/github_aistream-peelout_flow-forecast/wandb/run-20210816_183830-hupg7evu</code><br/><br/>\n",
              "            "
            ],
            "text/plain": [
              "<IPython.core.display.HTML object>"
            ]
          },
          "metadata": {
            "tags": []
          }
        },
        {
          "output_type": "stream",
          "text": [
            "sucessfully deleted layers\n",
            "Weights sucessfully loaded\n",
            "interpolate should be below\n",
            "[]\n",
            "Now loading selected_solar.csv\n",
            "scaling now\n",
            "interpolate should be below\n",
            "[]\n",
            "Now loading selected_solar.csv\n",
            "scaling now\n",
            "interpolate should be below\n",
            "[]\n",
            "Now loading selected_solar.csv\n",
            "scaling now\n",
            "Using Wandb config:\n",
            "{'batch_size': 2, 'forecast_history': 1, 'lr': 0.01, 'out_seq_length': 1, 'model_name': 'MultiAttnHeadSimple', 'model_type': 'PyTorch', 'model_params': {'number_time_series': 3, 'seq_len': 1, 'output_seq_len': 1, 'forecast_length': 1}, 'weight_path_add': {'excluded_layers': ['last_layer.weight', 'last_layer.bias']}, 'dataset_params': {'class': 'default', 'training_path': 'selected_solar.csv', 'validation_path': 'selected_solar.csv', 'test_path': 'selected_solar.csv', 'batch_size': 2, 'forecast_history': 1, 'forecast_length': 1, 'train_end': 3049, 'valid_start': 3050, 'valid_end': 3920, 'target_col': ['Power(MW)'], 'relevant_cols': ['Power(MW)', 'month', 'weekday'], 'scaler': 'StandardScaler', 'interpolate': False}, 'training_params': {'criterion': 'MSE', 'optimizer': 'Adam', 'optim_params': {}, 'lr': 0.01, 'epochs': 10, 'batch_size': 2}, 'GCS': False, 'sweep': True, 'wandb': False, 'forward_params': {}, 'metrics': ['MSE'], 'inference_params': {'datetime_start': '2020-04-21', 'hours_to_forecast': 10, 'test_csv_path': 'selected_solar.csv', 'decoder_params': {'decoder_function': 'simple_decode', 'unsqueeze_dim': 1}, 'dataset_params': {'file_path': 'selected_solar.csv', 'forecast_history': 1, 'forecast_length': 1, 'relevant_cols': ['Power(MW)', 'month', 'weekday'], 'target_col': ['Power(MW)'], 'scaling': 'StandardScaler', 'interpolate_param': False}}, 'weight_path': '/content/github_aistream-peelout_flow-forecast/model_save/16_August_202106_12PM_model.pth'}\n",
            "Torch is using cuda\n",
            "running torch_single_train\n",
            "The running loss is: \n",
            "538.8041403188363\n",
            "The number of items in train is: 1523\n",
            "The loss for epoch 0\n",
            "0.3537781617326568\n",
            "Computing validation loss\n",
            "running torch_single_train\n",
            "The running loss is: \n",
            "281.1270267979635\n",
            "The number of items in train is: 1523\n",
            "The loss for epoch 1\n",
            "0.18458767353773045\n",
            "Computing validation loss\n",
            "running torch_single_train\n",
            "The running loss is: \n",
            "274.21973935968526\n",
            "The number of items in train is: 1523\n",
            "The loss for epoch 2\n",
            "0.18005235676932715\n",
            "Computing validation loss\n",
            "running torch_single_train\n",
            "The running loss is: \n",
            "268.4459301715251\n",
            "The number of items in train is: 1523\n",
            "The loss for epoch 3\n",
            "0.17626128048031853\n",
            "Computing validation loss\n",
            "running torch_single_train\n",
            "The running loss is: \n",
            "267.29521154230497\n",
            "The number of items in train is: 1523\n",
            "The loss for epoch 4\n",
            "0.17550571998838146\n",
            "Computing validation loss\n",
            "running torch_single_train\n",
            "The running loss is: \n",
            "269.4357860095952\n",
            "The number of items in train is: 1523\n",
            "The loss for epoch 5\n",
            "0.17691121865370663\n",
            "Computing validation loss\n",
            "running torch_single_train\n",
            "The running loss is: \n",
            "267.210614028676\n",
            "The number of items in train is: 1523\n",
            "The loss for epoch 6\n",
            "0.17545017336091662\n",
            "Computing validation loss\n",
            "running torch_single_train\n",
            "The running loss is: \n",
            "264.0624208351394\n",
            "The number of items in train is: 1523\n",
            "The loss for epoch 7\n",
            "0.17338307343082035\n",
            "Computing validation loss\n",
            "running torch_single_train\n",
            "The running loss is: \n",
            "266.2768120545734\n",
            "The number of items in train is: 1523\n",
            "The loss for epoch 8\n",
            "0.17483704008836073\n",
            "Computing validation loss\n",
            "running torch_single_train\n",
            "The running loss is: \n",
            "262.95768550011917\n",
            "The number of items in train is: 1523\n",
            "The loss for epoch 9\n",
            "0.17265770551550833\n",
            "Computing validation loss\n",
            "Computing validation loss\n",
            "test loss: 665.3165220583069\n",
            "This model is currently forecasting for : 1 targets\n",
            "interpolate should be below\n",
            "[]\n",
            "Now loading selected_solar.csv\n",
            "scaling now\n",
            "CSV Path below\n",
            "selected_solar.csv\n"
          ],
          "name": "stdout"
        },
        {
          "output_type": "display_data",
          "data": {
            "text/html": [
              "<br/>Waiting for W&B process to finish, PID 5301<br/>Program failed with code 1.  Press ctrl-c to abort syncing."
            ],
            "text/plain": [
              "<IPython.core.display.HTML object>"
            ]
          },
          "metadata": {
            "tags": []
          }
        },
        {
          "output_type": "display_data",
          "data": {
            "application/vnd.jupyter.widget-view+json": {
              "model_id": "08adc3695ebd4c5f8c88b5eaab02d80e",
              "version_minor": 0,
              "version_major": 2
            },
            "text/plain": [
              "VBox(children=(Label(value=' 0.00MB of 0.00MB uploaded (0.00MB deduped)\\r'), FloatProgress(value=1.0, max=1.0)…"
            ]
          },
          "metadata": {
            "tags": []
          }
        },
        {
          "output_type": "display_data",
          "data": {
            "text/html": [
              "Find user logs for this run at: <code>/content/github_aistream-peelout_flow-forecast/wandb/run-20210816_183830-hupg7evu/logs/debug.log</code>"
            ],
            "text/plain": [
              "<IPython.core.display.HTML object>"
            ]
          },
          "metadata": {
            "tags": []
          }
        },
        {
          "output_type": "display_data",
          "data": {
            "text/html": [
              "Find internal logs for this run at: <code>/content/github_aistream-peelout_flow-forecast/wandb/run-20210816_183830-hupg7evu/logs/debug-internal.log</code>"
            ],
            "text/plain": [
              "<IPython.core.display.HTML object>"
            ]
          },
          "metadata": {
            "tags": []
          }
        },
        {
          "output_type": "display_data",
          "data": {
            "text/html": [
              "<h3>Run summary:</h3><br/><style>\n",
              "    table.wandb td:nth-child(1) { padding: 0 10px; text-align: right }\n",
              "    </style><table class=\"wandb\">\n",
              "<tr><td>epoch</td><td>9</td></tr><tr><td>_runtime</td><td>110</td></tr><tr><td>_timestamp</td><td>1629139220</td></tr><tr><td>_step</td><td>20</td></tr><tr><td>loss</td><td>0.17266</td></tr></table>"
            ],
            "text/plain": [
              "<IPython.core.display.HTML object>"
            ]
          },
          "metadata": {
            "tags": []
          }
        },
        {
          "output_type": "display_data",
          "data": {
            "text/html": [
              "<h3>Run history:</h3><br/><style>\n",
              "    table.wandb td:nth-child(1) { padding: 0 10px; text-align: right }\n",
              "    </style><table class=\"wandb\">\n",
              "<tr><td>epoch</td><td>▁▁▂▂▃▃▃▃▄▄▅▅▆▆▆▆▇▇███</td></tr><tr><td>_runtime</td><td>▁▁▂▂▂▂▃▃▄▄▄▄▅▅▆▆▆▆▇▇█</td></tr><tr><td>_timestamp</td><td>▁▁▂▂▂▂▃▃▄▄▄▄▅▅▆▆▆▆▇▇█</td></tr><tr><td>_step</td><td>▁▁▂▂▂▃▃▃▄▄▅▅▅▆▆▆▇▇▇██</td></tr><tr><td>loss</td><td>█▁▁▁▁▁▁▁▁▁</td></tr></table><br/>"
            ],
            "text/plain": [
              "<IPython.core.display.HTML object>"
            ]
          },
          "metadata": {
            "tags": []
          }
        },
        {
          "output_type": "display_data",
          "data": {
            "text/html": [
              "Synced 5 W&B file(s), 0 media file(s), 0 artifact file(s) and 0 other file(s)"
            ],
            "text/plain": [
              "<IPython.core.display.HTML object>"
            ]
          },
          "metadata": {
            "tags": []
          }
        },
        {
          "output_type": "display_data",
          "data": {
            "text/html": [
              "\n",
              "                    <br/>Synced <strong style=\"color:#cdcd00\">crisp-sweep-4</strong>: <a href=\"https://wandb.ai/sakil786/pretrain-counties/runs/hupg7evu\" target=\"_blank\">https://wandb.ai/sakil786/pretrain-counties/runs/hupg7evu</a><br/>\n",
              "                "
            ],
            "text/plain": [
              "<IPython.core.display.HTML object>"
            ]
          },
          "metadata": {
            "tags": []
          }
        },
        {
          "output_type": "stream",
          "text": [
            "Run hupg7evu errored: IndexError('index 0 is out of bounds for axis 0 with size 0')\n",
            "\u001b[34m\u001b[1mwandb\u001b[0m: \u001b[32m\u001b[41mERROR\u001b[0m Run hupg7evu errored: IndexError('index 0 is out of bounds for axis 0 with size 0')\n",
            "\u001b[34m\u001b[1mwandb\u001b[0m: Agent Starting Run: 1392uszc with config:\n",
            "\u001b[34m\u001b[1mwandb\u001b[0m: \tbatch_size: 2\n",
            "\u001b[34m\u001b[1mwandb\u001b[0m: \tforecast_history: 1\n",
            "\u001b[34m\u001b[1mwandb\u001b[0m: \tlr: 0.01\n",
            "\u001b[34m\u001b[1mwandb\u001b[0m: \tout_seq_length: 2\n",
            "\u001b[34m\u001b[1mwandb\u001b[0m: \u001b[33mWARNING\u001b[0m Ignored wandb.init() arg project when running a sweep\n",
            "\u001b[34m\u001b[1mwandb\u001b[0m: wandb version 0.12.0 is available!  To upgrade, please run:\n",
            "\u001b[34m\u001b[1mwandb\u001b[0m:  $ pip install wandb --upgrade\n"
          ],
          "name": "stderr"
        },
        {
          "output_type": "display_data",
          "data": {
            "text/html": [
              "\n",
              "                Tracking run with wandb version 0.11.0<br/>\n",
              "                Syncing run <strong style=\"color:#cdcd00\">desert-sweep-5</strong> to <a href=\"https://wandb.ai\" target=\"_blank\">Weights & Biases</a> <a href=\"https://docs.wandb.com/integrations/jupyter.html\" target=\"_blank\">(Documentation)</a>.<br/>\n",
              "                Project page: <a href=\"https://wandb.ai/sakil786/pretrain-counties\" target=\"_blank\">https://wandb.ai/sakil786/pretrain-counties</a><br/>\n",
              "                Sweep page: <a href=\"https://wandb.ai/sakil786/pretrain-counties/sweeps/8ctw1vwh\" target=\"_blank\">https://wandb.ai/sakil786/pretrain-counties/sweeps/8ctw1vwh</a><br/>\n",
              "Run page: <a href=\"https://wandb.ai/sakil786/pretrain-counties/runs/1392uszc\" target=\"_blank\">https://wandb.ai/sakil786/pretrain-counties/runs/1392uszc</a><br/>\n",
              "                Run data is saved locally in <code>/content/github_aistream-peelout_flow-forecast/wandb/run-20210816_184028-1392uszc</code><br/><br/>\n",
              "            "
            ],
            "text/plain": [
              "<IPython.core.display.HTML object>"
            ]
          },
          "metadata": {
            "tags": []
          }
        },
        {
          "output_type": "stream",
          "text": [
            "sucessfully deleted layers\n",
            "Weights sucessfully loaded\n",
            "interpolate should be below\n",
            "[]\n",
            "Now loading selected_solar.csv\n",
            "scaling now\n",
            "interpolate should be below\n",
            "[]\n",
            "Now loading selected_solar.csv\n",
            "scaling now\n",
            "interpolate should be below\n",
            "[]\n",
            "Now loading selected_solar.csv\n",
            "scaling now\n",
            "Using Wandb config:\n",
            "{'batch_size': 2, 'forecast_history': 1, 'lr': 0.01, 'out_seq_length': 2, 'model_name': 'MultiAttnHeadSimple', 'model_type': 'PyTorch', 'model_params': {'number_time_series': 3, 'seq_len': 1, 'output_seq_len': 2, 'forecast_length': 2}, 'weight_path_add': {'excluded_layers': ['last_layer.weight', 'last_layer.bias']}, 'dataset_params': {'class': 'default', 'training_path': 'selected_solar.csv', 'validation_path': 'selected_solar.csv', 'test_path': 'selected_solar.csv', 'batch_size': 2, 'forecast_history': 1, 'forecast_length': 2, 'train_end': 3049, 'valid_start': 3050, 'valid_end': 3920, 'target_col': ['Power(MW)'], 'relevant_cols': ['Power(MW)', 'month', 'weekday'], 'scaler': 'StandardScaler', 'interpolate': False}, 'training_params': {'criterion': 'MSE', 'optimizer': 'Adam', 'optim_params': {}, 'lr': 0.01, 'epochs': 10, 'batch_size': 2}, 'GCS': False, 'sweep': True, 'wandb': False, 'forward_params': {}, 'metrics': ['MSE'], 'inference_params': {'datetime_start': '2020-04-21', 'hours_to_forecast': 10, 'test_csv_path': 'selected_solar.csv', 'decoder_params': {'decoder_function': 'simple_decode', 'unsqueeze_dim': 1}, 'dataset_params': {'file_path': 'selected_solar.csv', 'forecast_history': 1, 'forecast_length': 2, 'relevant_cols': ['Power(MW)', 'month', 'weekday'], 'target_col': ['Power(MW)'], 'scaling': 'StandardScaler', 'interpolate_param': False}}, 'weight_path': '/content/github_aistream-peelout_flow-forecast/model_save/16_August_202106_12PM_model.pth'}\n",
            "Torch is using cuda\n",
            "running torch_single_train\n",
            "The running loss is: \n",
            "1161.0119607492816\n",
            "The number of items in train is: 1523\n",
            "The loss for epoch 0\n",
            "0.762319081253632\n",
            "Computing validation loss\n",
            "running torch_single_train\n",
            "The running loss is: \n",
            "503.9863309157081\n",
            "The number of items in train is: 1523\n",
            "The loss for epoch 1\n",
            "0.3309168292289613\n",
            "Computing validation loss\n",
            "running torch_single_train\n",
            "The running loss is: \n",
            "498.7691448885016\n",
            "The number of items in train is: 1523\n",
            "The loss for epoch 2\n",
            "0.3274912310495743\n",
            "Computing validation loss\n",
            "running torch_single_train\n",
            "The running loss is: \n",
            "491.16817487892695\n",
            "The number of items in train is: 1523\n",
            "The loss for epoch 3\n",
            "0.3225004431247058\n",
            "Computing validation loss\n",
            "running torch_single_train\n",
            "The running loss is: \n",
            "480.6139677494066\n",
            "The number of items in train is: 1523\n",
            "The loss for epoch 4\n",
            "0.31557056319724663\n",
            "Computing validation loss\n",
            "running torch_single_train\n",
            "The running loss is: \n",
            "478.8914684141055\n",
            "The number of items in train is: 1523\n",
            "The loss for epoch 5\n",
            "0.31443957216947177\n",
            "Computing validation loss\n",
            "running torch_single_train\n",
            "The running loss is: \n",
            "469.4337874368066\n",
            "The number of items in train is: 1523\n",
            "The loss for epoch 6\n",
            "0.30822967001760115\n",
            "Computing validation loss\n",
            "running torch_single_train\n",
            "The running loss is: \n",
            "465.5400501706172\n",
            "The number of items in train is: 1523\n",
            "The loss for epoch 7\n",
            "0.30567304673054313\n",
            "Computing validation loss\n",
            "running torch_single_train\n",
            "The running loss is: \n",
            "473.9406695724465\n",
            "The number of items in train is: 1523\n",
            "The loss for epoch 8\n",
            "0.31118888350127805\n",
            "Computing validation loss\n",
            "running torch_single_train\n",
            "The running loss is: \n",
            "466.82351092947647\n",
            "The number of items in train is: 1523\n",
            "The loss for epoch 9\n",
            "0.30651576554791626\n",
            "Computing validation loss\n",
            "Computing validation loss\n",
            "test loss: 1241.2631274606829\n",
            "This model is currently forecasting for : 1 targets\n",
            "interpolate should be below\n",
            "[]\n",
            "Now loading selected_solar.csv\n",
            "scaling now\n",
            "CSV Path below\n",
            "selected_solar.csv\n"
          ],
          "name": "stdout"
        },
        {
          "output_type": "display_data",
          "data": {
            "text/html": [
              "<br/>Waiting for W&B process to finish, PID 5441<br/>Program failed with code 1.  Press ctrl-c to abort syncing."
            ],
            "text/plain": [
              "<IPython.core.display.HTML object>"
            ]
          },
          "metadata": {
            "tags": []
          }
        },
        {
          "output_type": "display_data",
          "data": {
            "application/vnd.jupyter.widget-view+json": {
              "model_id": "f191e1bc34c746d1aa8b97ce721a2b92",
              "version_minor": 0,
              "version_major": 2
            },
            "text/plain": [
              "VBox(children=(Label(value=' 0.00MB of 0.00MB uploaded (0.00MB deduped)\\r'), FloatProgress(value=1.0, max=1.0)…"
            ]
          },
          "metadata": {
            "tags": []
          }
        },
        {
          "output_type": "display_data",
          "data": {
            "text/html": [
              "Find user logs for this run at: <code>/content/github_aistream-peelout_flow-forecast/wandb/run-20210816_184028-1392uszc/logs/debug.log</code>"
            ],
            "text/plain": [
              "<IPython.core.display.HTML object>"
            ]
          },
          "metadata": {
            "tags": []
          }
        },
        {
          "output_type": "display_data",
          "data": {
            "text/html": [
              "Find internal logs for this run at: <code>/content/github_aistream-peelout_flow-forecast/wandb/run-20210816_184028-1392uszc/logs/debug-internal.log</code>"
            ],
            "text/plain": [
              "<IPython.core.display.HTML object>"
            ]
          },
          "metadata": {
            "tags": []
          }
        },
        {
          "output_type": "display_data",
          "data": {
            "text/html": [
              "<h3>Run summary:</h3><br/><style>\n",
              "    table.wandb td:nth-child(1) { padding: 0 10px; text-align: right }\n",
              "    </style><table class=\"wandb\">\n",
              "<tr><td>epoch</td><td>9</td></tr><tr><td>_runtime</td><td>111</td></tr><tr><td>_timestamp</td><td>1629139339</td></tr><tr><td>_step</td><td>20</td></tr><tr><td>loss</td><td>0.30652</td></tr></table>"
            ],
            "text/plain": [
              "<IPython.core.display.HTML object>"
            ]
          },
          "metadata": {
            "tags": []
          }
        },
        {
          "output_type": "display_data",
          "data": {
            "text/html": [
              "<h3>Run history:</h3><br/><style>\n",
              "    table.wandb td:nth-child(1) { padding: 0 10px; text-align: right }\n",
              "    </style><table class=\"wandb\">\n",
              "<tr><td>epoch</td><td>▁▁▂▂▃▃▃▃▄▄▅▅▆▆▆▆▇▇███</td></tr><tr><td>_runtime</td><td>▁▁▂▂▂▂▃▃▄▄▄▄▅▅▆▆▆▆▇▇█</td></tr><tr><td>_timestamp</td><td>▁▁▂▂▂▂▃▃▄▄▄▄▅▅▆▆▆▆▇▇█</td></tr><tr><td>_step</td><td>▁▁▂▂▂▃▃▃▄▄▅▅▅▆▆▆▇▇▇██</td></tr><tr><td>loss</td><td>█▁▁▁▁▁▁▁▁▁</td></tr></table><br/>"
            ],
            "text/plain": [
              "<IPython.core.display.HTML object>"
            ]
          },
          "metadata": {
            "tags": []
          }
        },
        {
          "output_type": "display_data",
          "data": {
            "text/html": [
              "Synced 5 W&B file(s), 0 media file(s), 0 artifact file(s) and 0 other file(s)"
            ],
            "text/plain": [
              "<IPython.core.display.HTML object>"
            ]
          },
          "metadata": {
            "tags": []
          }
        },
        {
          "output_type": "display_data",
          "data": {
            "text/html": [
              "\n",
              "                    <br/>Synced <strong style=\"color:#cdcd00\">desert-sweep-5</strong>: <a href=\"https://wandb.ai/sakil786/pretrain-counties/runs/1392uszc\" target=\"_blank\">https://wandb.ai/sakil786/pretrain-counties/runs/1392uszc</a><br/>\n",
              "                "
            ],
            "text/plain": [
              "<IPython.core.display.HTML object>"
            ]
          },
          "metadata": {
            "tags": []
          }
        },
        {
          "output_type": "stream",
          "text": [
            "Run 1392uszc errored: IndexError('index 0 is out of bounds for axis 0 with size 0')\n",
            "\u001b[34m\u001b[1mwandb\u001b[0m: \u001b[32m\u001b[41mERROR\u001b[0m Run 1392uszc errored: IndexError('index 0 is out of bounds for axis 0 with size 0')\n",
            "\u001b[34m\u001b[1mwandb\u001b[0m: Agent Starting Run: jelyasez with config:\n",
            "\u001b[34m\u001b[1mwandb\u001b[0m: \tbatch_size: 2\n",
            "\u001b[34m\u001b[1mwandb\u001b[0m: \tforecast_history: 1\n",
            "\u001b[34m\u001b[1mwandb\u001b[0m: \tlr: 0.01\n",
            "\u001b[34m\u001b[1mwandb\u001b[0m: \tout_seq_length: 3\n",
            "\u001b[34m\u001b[1mwandb\u001b[0m: \u001b[33mWARNING\u001b[0m Ignored wandb.init() arg project when running a sweep\n",
            "\u001b[34m\u001b[1mwandb\u001b[0m: wandb version 0.12.0 is available!  To upgrade, please run:\n",
            "\u001b[34m\u001b[1mwandb\u001b[0m:  $ pip install wandb --upgrade\n"
          ],
          "name": "stderr"
        },
        {
          "output_type": "display_data",
          "data": {
            "text/html": [
              "\n",
              "                Tracking run with wandb version 0.11.0<br/>\n",
              "                Syncing run <strong style=\"color:#cdcd00\">cool-sweep-6</strong> to <a href=\"https://wandb.ai\" target=\"_blank\">Weights & Biases</a> <a href=\"https://docs.wandb.com/integrations/jupyter.html\" target=\"_blank\">(Documentation)</a>.<br/>\n",
              "                Project page: <a href=\"https://wandb.ai/sakil786/pretrain-counties\" target=\"_blank\">https://wandb.ai/sakil786/pretrain-counties</a><br/>\n",
              "                Sweep page: <a href=\"https://wandb.ai/sakil786/pretrain-counties/sweeps/8ctw1vwh\" target=\"_blank\">https://wandb.ai/sakil786/pretrain-counties/sweeps/8ctw1vwh</a><br/>\n",
              "Run page: <a href=\"https://wandb.ai/sakil786/pretrain-counties/runs/jelyasez\" target=\"_blank\">https://wandb.ai/sakil786/pretrain-counties/runs/jelyasez</a><br/>\n",
              "                Run data is saved locally in <code>/content/github_aistream-peelout_flow-forecast/wandb/run-20210816_184226-jelyasez</code><br/><br/>\n",
              "            "
            ],
            "text/plain": [
              "<IPython.core.display.HTML object>"
            ]
          },
          "metadata": {
            "tags": []
          }
        },
        {
          "output_type": "stream",
          "text": [
            "sucessfully deleted layers\n",
            "Weights sucessfully loaded\n",
            "interpolate should be below\n",
            "[]\n",
            "Now loading selected_solar.csv\n",
            "scaling now\n",
            "interpolate should be below\n",
            "[]\n",
            "Now loading selected_solar.csv\n",
            "scaling now\n",
            "interpolate should be below\n",
            "[]\n",
            "Now loading selected_solar.csv\n",
            "scaling now\n",
            "Using Wandb config:\n",
            "{'batch_size': 2, 'forecast_history': 1, 'lr': 0.01, 'out_seq_length': 3, 'model_name': 'MultiAttnHeadSimple', 'model_type': 'PyTorch', 'model_params': {'number_time_series': 3, 'seq_len': 1, 'output_seq_len': 3, 'forecast_length': 3}, 'weight_path_add': {'excluded_layers': ['last_layer.weight', 'last_layer.bias']}, 'dataset_params': {'class': 'default', 'training_path': 'selected_solar.csv', 'validation_path': 'selected_solar.csv', 'test_path': 'selected_solar.csv', 'batch_size': 2, 'forecast_history': 1, 'forecast_length': 3, 'train_end': 3049, 'valid_start': 3050, 'valid_end': 3920, 'target_col': ['Power(MW)'], 'relevant_cols': ['Power(MW)', 'month', 'weekday'], 'scaler': 'StandardScaler', 'interpolate': False}, 'training_params': {'criterion': 'MSE', 'optimizer': 'Adam', 'optim_params': {}, 'lr': 0.01, 'epochs': 10, 'batch_size': 2}, 'GCS': False, 'sweep': True, 'wandb': False, 'forward_params': {}, 'metrics': ['MSE'], 'inference_params': {'datetime_start': '2020-04-21', 'hours_to_forecast': 10, 'test_csv_path': 'selected_solar.csv', 'decoder_params': {'decoder_function': 'simple_decode', 'unsqueeze_dim': 1}, 'dataset_params': {'file_path': 'selected_solar.csv', 'forecast_history': 1, 'forecast_length': 3, 'relevant_cols': ['Power(MW)', 'month', 'weekday'], 'target_col': ['Power(MW)'], 'scaling': 'StandardScaler', 'interpolate_param': False}}, 'weight_path': '/content/github_aistream-peelout_flow-forecast/model_save/16_August_202106_12PM_model.pth'}\n",
            "Torch is using cuda\n",
            "running torch_single_train\n",
            "The running loss is: \n",
            "2305.887809028849\n",
            "The number of items in train is: 1522\n",
            "The loss for epoch 0\n",
            "1.5150379822791387\n",
            "Computing validation loss\n",
            "running torch_single_train\n",
            "The running loss is: \n",
            "1476.8285630913451\n",
            "The number of items in train is: 1522\n",
            "The loss for epoch 1\n",
            "0.9703210007170467\n",
            "Computing validation loss\n",
            "running torch_single_train\n",
            "The running loss is: \n",
            "1108.1958360318094\n",
            "The number of items in train is: 1522\n",
            "The loss for epoch 2\n",
            "0.7281181577081534\n",
            "Computing validation loss\n",
            "running torch_single_train\n",
            "The running loss is: \n",
            "724.0522090615705\n",
            "The number of items in train is: 1522\n",
            "The loss for epoch 3\n",
            "0.4757241846659464\n",
            "Computing validation loss\n",
            "running torch_single_train\n",
            "The running loss is: \n",
            "657.4078458372969\n",
            "The number of items in train is: 1522\n",
            "The loss for epoch 4\n",
            "0.4319368238089993\n",
            "Computing validation loss\n",
            "running torch_single_train\n",
            "The running loss is: \n",
            "658.4846285129897\n",
            "The number of items in train is: 1522\n",
            "The loss for epoch 5\n",
            "0.43264430257095254\n",
            "Computing validation loss\n",
            "running torch_single_train\n",
            "The running loss is: \n",
            "658.0666553517804\n",
            "The number of items in train is: 1522\n",
            "The loss for epoch 6\n",
            "0.432369681571472\n",
            "Computing validation loss\n",
            "running torch_single_train\n",
            "The running loss is: \n",
            "654.0058429664932\n",
            "The number of items in train is: 1522\n",
            "The loss for epoch 7\n",
            "0.4297016051028208\n",
            "Computing validation loss\n",
            "running torch_single_train\n",
            "The running loss is: \n",
            "652.726253236644\n",
            "The number of items in train is: 1522\n",
            "The loss for epoch 8\n",
            "0.42886087597677003\n",
            "Computing validation loss\n",
            "running torch_single_train\n",
            "The running loss is: \n",
            "647.9317283667624\n",
            "The number of items in train is: 1522\n",
            "The loss for epoch 9\n",
            "0.4257107282304615\n",
            "Computing validation loss\n",
            "Computing validation loss\n",
            "test loss: 1790.0241857010988\n",
            "This model is currently forecasting for : 1 targets\n",
            "interpolate should be below\n",
            "[]\n",
            "Now loading selected_solar.csv\n",
            "scaling now\n",
            "CSV Path below\n",
            "selected_solar.csv\n"
          ],
          "name": "stdout"
        },
        {
          "output_type": "display_data",
          "data": {
            "text/html": [
              "<br/>Waiting for W&B process to finish, PID 5585<br/>Program failed with code 1.  Press ctrl-c to abort syncing."
            ],
            "text/plain": [
              "<IPython.core.display.HTML object>"
            ]
          },
          "metadata": {
            "tags": []
          }
        },
        {
          "output_type": "display_data",
          "data": {
            "application/vnd.jupyter.widget-view+json": {
              "model_id": "f66c7f5147834176a5f92aa69e5dee07",
              "version_minor": 0,
              "version_major": 2
            },
            "text/plain": [
              "VBox(children=(Label(value=' 0.00MB of 0.00MB uploaded (0.00MB deduped)\\r'), FloatProgress(value=1.0, max=1.0)…"
            ]
          },
          "metadata": {
            "tags": []
          }
        },
        {
          "output_type": "display_data",
          "data": {
            "text/html": [
              "Find user logs for this run at: <code>/content/github_aistream-peelout_flow-forecast/wandb/run-20210816_184226-jelyasez/logs/debug.log</code>"
            ],
            "text/plain": [
              "<IPython.core.display.HTML object>"
            ]
          },
          "metadata": {
            "tags": []
          }
        },
        {
          "output_type": "display_data",
          "data": {
            "text/html": [
              "Find internal logs for this run at: <code>/content/github_aistream-peelout_flow-forecast/wandb/run-20210816_184226-jelyasez/logs/debug-internal.log</code>"
            ],
            "text/plain": [
              "<IPython.core.display.HTML object>"
            ]
          },
          "metadata": {
            "tags": []
          }
        },
        {
          "output_type": "display_data",
          "data": {
            "text/html": [
              "<h3>Run summary:</h3><br/><style>\n",
              "    table.wandb td:nth-child(1) { padding: 0 10px; text-align: right }\n",
              "    </style><table class=\"wandb\">\n",
              "<tr><td>epoch</td><td>9</td></tr><tr><td>_runtime</td><td>111</td></tr><tr><td>_timestamp</td><td>1629139457</td></tr><tr><td>_step</td><td>20</td></tr><tr><td>loss</td><td>0.42571</td></tr></table>"
            ],
            "text/plain": [
              "<IPython.core.display.HTML object>"
            ]
          },
          "metadata": {
            "tags": []
          }
        },
        {
          "output_type": "display_data",
          "data": {
            "text/html": [
              "<h3>Run history:</h3><br/><style>\n",
              "    table.wandb td:nth-child(1) { padding: 0 10px; text-align: right }\n",
              "    </style><table class=\"wandb\">\n",
              "<tr><td>epoch</td><td>▁▁▂▂▃▃▃▃▄▄▅▅▆▆▆▆▇▇███</td></tr><tr><td>_runtime</td><td>▁▁▂▂▂▂▃▃▄▄▄▄▅▅▆▆▆▆▇▇█</td></tr><tr><td>_timestamp</td><td>▁▁▂▂▂▂▃▃▄▄▄▄▅▅▆▆▆▆▇▇█</td></tr><tr><td>_step</td><td>▁▁▂▂▂▃▃▃▄▄▅▅▅▆▆▆▇▇▇██</td></tr><tr><td>loss</td><td>█▄▃▁▁▁▁▁▁▁</td></tr></table><br/>"
            ],
            "text/plain": [
              "<IPython.core.display.HTML object>"
            ]
          },
          "metadata": {
            "tags": []
          }
        },
        {
          "output_type": "display_data",
          "data": {
            "text/html": [
              "Synced 5 W&B file(s), 0 media file(s), 0 artifact file(s) and 0 other file(s)"
            ],
            "text/plain": [
              "<IPython.core.display.HTML object>"
            ]
          },
          "metadata": {
            "tags": []
          }
        },
        {
          "output_type": "display_data",
          "data": {
            "text/html": [
              "\n",
              "                    <br/>Synced <strong style=\"color:#cdcd00\">cool-sweep-6</strong>: <a href=\"https://wandb.ai/sakil786/pretrain-counties/runs/jelyasez\" target=\"_blank\">https://wandb.ai/sakil786/pretrain-counties/runs/jelyasez</a><br/>\n",
              "                "
            ],
            "text/plain": [
              "<IPython.core.display.HTML object>"
            ]
          },
          "metadata": {
            "tags": []
          }
        },
        {
          "output_type": "stream",
          "text": [
            "Run jelyasez errored: IndexError('index 0 is out of bounds for axis 0 with size 0')\n",
            "\u001b[34m\u001b[1mwandb\u001b[0m: \u001b[32m\u001b[41mERROR\u001b[0m Run jelyasez errored: IndexError('index 0 is out of bounds for axis 0 with size 0')\n",
            "Detected 5 failed runs in a row at start, killing sweep.\n",
            "\u001b[34m\u001b[1mwandb\u001b[0m: \u001b[32m\u001b[41mERROR\u001b[0m Detected 5 failed runs in a row at start, killing sweep.\n",
            "\u001b[34m\u001b[1mwandb\u001b[0m: To change this value set WANDB_AGENT_MAX_INITIAL_FAILURES=val\n"
          ],
          "name": "stderr"
        }
      ]
    }
  ]
}